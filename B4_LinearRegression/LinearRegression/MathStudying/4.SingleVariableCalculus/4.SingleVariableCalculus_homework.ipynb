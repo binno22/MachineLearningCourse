{
  "nbformat": 4,
  "nbformat_minor": 0,
  "metadata": {
    "colab": {
      "provenance": [],
      "toc_visible": true
    },
    "kernelspec": {
      "name": "python3",
      "display_name": "Python 3"
    },
    "language_info": {
      "name": "python"
    }
  },
  "cells": [
    {
      "cell_type": "markdown",
      "source": [
        "# I. Lý thuyết:"
      ],
      "metadata": {
        "id": "DQmK3z3oFF7K"
      }
    },
    {
      "cell_type": "markdown",
      "source": [
        "1. Tính $h'(x)$ của hàm số sau \n",
        "$$h(x) = \n",
        "\\begin{cases}\n",
        "    x \\text{ nếu } x > 0 \\\\\n",
        "    0 \\text { nếu } x \\leq 0\n",
        "\\end{cases}\n",
        "$$"
      ],
      "metadata": {
        "id": "8uta_AucqttU"
      }
    },
    {
      "cell_type": "code",
      "source": [],
      "metadata": {
        "id": "iFI6mwQoFKAe"
      },
      "execution_count": null,
      "outputs": []
    },
    {
      "cell_type": "markdown",
      "source": [
        "2. Cho hàm số \n",
        "\n",
        "$$h(x) = \\frac{1}{1 + e^{-w_1 x - w_0}}$$\n",
        "a. Tính $h'(x)$\n",
        "\n",
        "b. Chứng minh \n",
        "$$h'(x) = w_1 h(x)(1 - h(x))$$\n",
        "\n"
      ],
      "metadata": {
        "id": "UauK847I9Eyx"
      }
    },
    {
      "cell_type": "code",
      "source": [],
      "metadata": {
        "id": "h3SD3Wxs_Aij"
      },
      "execution_count": null,
      "outputs": []
    },
    {
      "cell_type": "markdown",
      "source": [
        "3. Tính đạo hàm của hàm số sau \n",
        "$$g(x) = -[p \\log(h(x)) + (1-p) \\log(1 - h(x))]$$\n",
        "Trong đó:\n",
        "\n",
        "$$h(x) = \\frac{1}{1 + e^{-x}}$$\n",
        "và $0 \\leq p \\leq 1$\n",
        "\n",
        "_Bạn có biết_: hàm $g(x)$ còn được gọi là hàm CrossEntropy và thường được sử dụng làm loss function trong các bài toán phân loại của học có giám sát. Hàm số này có ý nghĩa như một độ đo khoảng cách giữa hai phân phối xác suất dự báo $h(x)$ và xác suất thực tế $p$.\n",
        "\n",
        "Nếu coi $p$ là hằng số. Hàm số đạt cực tiểu tại giá trị nào ?"
      ],
      "metadata": {
        "id": "QZitkSPn_NVi"
      }
    },
    {
      "cell_type": "code",
      "source": [],
      "metadata": {
        "id": "QevCkjHzALf4"
      },
      "execution_count": null,
      "outputs": []
    },
    {
      "cell_type": "markdown",
      "source": [
        "4. Tìm khai triển Taylor tại $x=0$ của hàm số: $f(x) = \\ln(1+x)$"
      ],
      "metadata": {
        "id": "9YA9gEEC0mCX"
      }
    },
    {
      "cell_type": "markdown",
      "source": [
        "5. Tìm các khai triển Taylor tại $x=0$ của các hàm số: $f(x) = \\cos(x)$"
      ],
      "metadata": {
        "id": "uzUtkO88AjNr"
      }
    },
    {
      "cell_type": "code",
      "source": [],
      "metadata": {
        "id": "RVq1sXMSCep7"
      },
      "execution_count": null,
      "outputs": []
    },
    {
      "cell_type": "markdown",
      "source": [
        "6. Chứng minh rằng:\n",
        "\n",
        "$$f(-h) + f(h) = 2f(0) + \\frac{2f^{(2)}(0)}{2!} h^2 + \\frac{2f^{(4)}(0)}{4!} h^4 + \\dots + \\frac{2f^{(2k)}(0)}{(2k)!} h^{2k} + O(h^{2k+1})$$\n",
        "\n",
        "7. Giả sử $f(x)$ là một hàm số thỏa mãn $f^{(n)}(x) = 0, \\forall n \\geq 4$ . Chứng minh rằng:\n",
        "\n",
        "$$f(h) + f(-h) = 2 f(0) + f^{(2)}(0)h^2$$\n",
        "\n",
        "8. Giả sử $f(x)$ là một hàm liên tục khả vi bậc 2 (có đạo hàm tới 2 lần liếp tiếp) sao cho $f^{(2)}(x) \\leq 1, \\forall x$. Chứng minh rằng:\n",
        "\n",
        "$$f(-1) + f(1) - 2 f(0) \\leq 1$$\n",
        "\n",
        "9. Cho $f(x): [0, 1] \\rightarrow \\mathbb{R}$ là hàm số khả vi cấp 2. Thỏa mãn $f(0) = f(1) = a$ và $ \\min f(x) = b$ đạt được tại $x = \\frac{1}{2}$. Chứng minh rằng:\n",
        "$$\\max_{x \\in [0, 1]} f^{(2)}(x) \\geq 8(a-b)$$\n",
        "\n",
        "10. Cho hàm số $f(x)$ là hàm khả vi cấp 2 trên đoạn [0, 1] thỏa mãn $f(0) = f(1)$ và $|f^{(2)}(x)| \\leq C, \\forall x \\in [0, 1]$. Chứng minh rằng:\n",
        "\n",
        "$$\\max_{x \\in [0, 1]} f'(x) \\leq \\frac{C}{2}$$"
      ],
      "metadata": {
        "id": "LvpJZZBUENg_"
      }
    },
    {
      "cell_type": "markdown",
      "source": [
        "# II. Thực hành"
      ],
      "metadata": {
        "id": "kgdomNYKqxkM"
      }
    },
    {
      "cell_type": "markdown",
      "source": [
        "11. Vẽ đồ thị hàm số $f(x) = x^3-3x+2$ trên python.\n",
        "12. Viết một hàm số tính đạo hàm của $f(x)$ theo công thức xấp xỉ đạo hàm:\n",
        "\n",
        "$$f'(x) = \\lim_{\\epsilon \\rightarrow 0} \\frac{f(x + \\epsilon) - f(x-\\epsilon)}{2\\epsilon}$$\n",
        "\n",
        "13. Sử dụng định lý newton, hãy viết một chương trình xác định nghiệm của hàm $f(x)$ với số vòng lặp tối đa là 100.\n",
        "\n",
        "14. Viết chương trình tính hàm $e^x$ dựa trên khai triển Taylor tới mũ 20.\n",
        "\n",
        "15. Viết chương trình tính toán hàm loss function Cross entropy cho đầu vào là hai véc tơ phân phối xác suất dự báo và phân phối xác suất của nhãn ground truth. "
      ],
      "metadata": {
        "id": "CYUpwl7Oq0Qa"
      }
    }
  ]
}