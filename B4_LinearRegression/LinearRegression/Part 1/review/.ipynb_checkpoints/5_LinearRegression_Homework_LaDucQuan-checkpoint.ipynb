{
 "cells": [
  {
   "cell_type": "markdown",
   "metadata": {
    "id": "QUXeB_LbobGO"
   },
   "source": [
    "# I. Trắc nghiệm (10 câu, mỗi câu 0.5 điểm)\n",
    "\n",
    "Câu được lựa chọn sẽ tô đậm"
   ]
  },
  {
   "cell_type": "markdown",
   "metadata": {
    "id": "RzmGDTkwoiBi"
   },
   "source": [
    "1) Mô hình hồi qui tuyến tính (_Linear Regression_) nhằm giải quyết lớp bài toán nào ?\n",
    "\n",
    "A. Phân loại các quan sát theo nhãn.\n",
    "\n",
    "**B. Hồi qui trên các biến mục tiêu là biến liên tục.**\n",
    "\n",
    "C. Dự báo khoảng biến thiên của các biến mục tiêu.\n",
    "\n",
    "D. Giảm chiều dữ liệu của các biến đầu vào."
   ]
  },
  {
   "cell_type": "markdown",
   "metadata": {
    "id": "lswEoAbCpQB1"
   },
   "source": [
    "2) Đâu là công thức chuẩn xác để ước lượng biến mục tiêu của mô hình hồi qui đơn biến.\n",
    "\n",
    "A. $y = w_1 x$\n",
    "\n",
    "**B. $y = w_0 + w_1 x$**\n",
    "\n",
    "C. $y = w_0 + w_1 \\log x$\n",
    "\n",
    "D. $y = w_0 + w_1 x_1 + w_2 x_2$"
   ]
  },
  {
   "cell_type": "markdown",
   "metadata": {
    "id": "oT7H2wLdqrCZ"
   },
   "source": [
    "3) Ý nghĩa của hệ số ước lượng $w_1$ trong bài toán hồi qui tuyến tính đơn biến có phương trình hồi qui $\\hat{y} = w_0 + w_1 x$ là:\n",
    "\n",
    "A. Tác động biên của biến đầu vào lên biến mục tiêu. Tức là khi biến đầu vào $x$ tăng 1 đơn vị thì giá trị ước lượng biến mục tiêu tăng lên $w_1$ đơn vị.\n",
    "\n",
    "B. Hệ số góc của phương trình hồi qui tuyến tính $w_0 + w_1 x$. Khi giá trị độ lớn tuyệt đối của $w_1$ càng lớn thì đồ thị đường hồi qui càng dốc và ngược lại.\n",
    "\n",
    "C. Giá trị giao cắt của đường hồi qui với trục $y$.\n",
    "\n",
    "**D. Cả A và B**"
   ]
  },
  {
   "cell_type": "markdown",
   "metadata": {
    "id": "Dk2mdHZCspUL"
   },
   "source": [
    "4) Bài toán hồi qui tuyến tính (_Linear Regression_) dựa trên `hàm chi phí` (_cost function_) hoặc tên gọi khác là `hàm mất mát` (_loss function_) có công thức như thế nào ?\n",
    "\n",
    "A. $\\mathcal{L}(\\mathbf{w}) = \\frac{1}{2n} \\sum_{i=1}^n (y_i-w_0-w_1 x)^2$\n",
    "\n",
    "B. $\\mathcal{L}(\\mathbf{w}) = \\frac{1}{2n} \\sum_{i=1}^n (y_i-w_0+w_1 x)^2$\n",
    "\n",
    "C. $\\mathcal{L}(\\mathbf{w}) = \\frac{1}{2n} \\sum_{i=1}^n |y_i-\\hat{y}_i|$\n",
    "\n",
    "**D. $\\mathcal{L}(\\mathbf{w}) = \\frac{1}{2n} \\sum_{i=1}^n (y_i-\\hat{y}_i)^2$**"
   ]
  },
  {
   "cell_type": "markdown",
   "metadata": {
    "id": "p4mDv6y5yhWx"
   },
   "source": [
    "5) Để tìm nghiệm tối ưu của hàm mất mát trong bài toán hồi qui tuyến tính chúng ta có thể sử dụng phương pháp nào?\n",
    "\n",
    "A. Thử nghiệm các bộ trọng số khác nhau một cách ngẫu nhiên và tìm ra bộ trọng số có giá trị hàm mất mát là nhỏ nhất.\n",
    "\n",
    "B. Tính đạo hàm bậc nhất của hàm mất mát theo các trọng số $w_i$.\n",
    "\n",
    "C. Lấy cực trị địa phương của hàm mất mát.\n",
    "\n",
    "**D. Cả ba đáp án trên.**"
   ]
  },
  {
   "cell_type": "markdown",
   "metadata": {
    "id": "vnRWgebVuBl5"
   },
   "source": [
    "6) Đâu là những metrics thường được sử dụng trong bài toán hồi qui tuyến tính\n",
    "\n",
    "A. MSE, RMSE, MAP, precision\n",
    "\n",
    "**B. MSE, RMSE, MAP, MAPE, R-squared**\n",
    "\n",
    "C. MSE, RMSE, MAP, MAPE, R-squared, accuracy\n",
    "\n",
    "D. MAP, MAPE, R-squared, accuracy, precision, recall"
   ]
  },
  {
   "cell_type": "markdown",
   "metadata": {
    "id": "8Ii-hm51uslZ"
   },
   "source": [
    "Giả sử mô hình hồi qui tuyến tính đa biến có ma trận đầu vào là $\\mathbf{X} \\in \\mathbb{R}^{n \\times p}$ và biến mục tiêu $\\mathbf{y} \\in \\mathbb{R}^{n}$. Trong đó $n$ là số quan sát và $p$ là số biến đầu vào. Khi chúng ta thêm vào ma trận $\\mathbf{X}$ một cột có toàn bộ các giá trị bằng 1 vào bên trái thì thu được ma trận mở rộng $\\bar{\\mathbf{X}}$. Một mô hình hồi qui tuyến tính có véc tơ trọng số chuyển vị $\\mathbf{w}^{\\intercal} = [w_0, w_1, \\dots, w_d]$, $\\mathbf{w} \\in \\mathbb{R}^{d+1}$. Trong đó trọng số $w_0$ tương ứng với hệ số tự do (không phụ thuộc vào biến đầu vào) và $w_i$ là trọng số tương ứng với biến $\\mathbf{x}_i$. Cụ thể các ma trận và véc tơ đã mô tả ở trên như sau:\n",
    "\n",
    "![](https://imgur.com/4crDLxT.png)"
   ]
  },
  {
   "cell_type": "markdown",
   "metadata": {
    "id": "We3cu6EX2I2Z"
   },
   "source": [
    "\n",
    "7) Gía trị ước lượng của mô hình hồi qui tuyến tính:\n",
    "\n",
    "A. $\\hat{\\mathbf{y}} = \\bar{\\mathbf{X}}\\mathbf{w}$\n",
    "\n",
    "B. $\\hat{\\mathbf{y}} = \\mathbf{X}\\mathbf{w}$\n",
    "\n",
    "**C. $\\hat{\\mathbf{y}} = \\mathbf{X}\\mathbf{w}^{\\intercal}$** **Sai**\n",
    "\n",
    "D. $\\hat{\\mathbf{y}} = \\bar{\\mathbf{X}}\\mathbf{w}^{\\intercal}$"
   ]
  },
  {
   "cell_type": "markdown",
   "metadata": {
    "id": "_8nMfsB-yZP8"
   },
   "source": [
    "8) Hàm mất mát của mô hình hồi qui tuyến tính theo biểu diễn của phép nhân ma trận, véc tơ\n",
    "\n",
    "**A. $||\\mathbf{y} - \\hat{\\mathbf{y}}||_2^2$ hoặc $||\\mathbf{y} - \\bar{\\mathbf{X}} \\mathbf{w}||_2^2$**\n",
    "\n",
    "B. $||\\mathbf{y} - \\hat{\\mathbf{y}}||_2^2$ hoặc $||\\mathbf{y} - \\mathbf{X} \\mathbf{w}||_2^2$\n",
    "\n",
    "C. $||\\mathbf{y} - \\hat{\\mathbf{y}}||_2^2$ hoặc $||\\mathbf{y} - \\bar{\\mathbf{X}} \\mathbf{w}^{\\intercal}||_2^2$\n",
    "\n",
    "D. $||\\mathbf{y} - \\hat{\\mathbf{y}}||_2^2$ hoặc $||\\mathbf{y} - \\mathbf{X} \\mathbf{w}^{\\intercal}||_2^2$"
   ]
  },
  {
   "cell_type": "markdown",
   "metadata": {
    "id": "Dljv1EKMymL4"
   },
   "source": [
    "9) Đạo hàm của hàm mát mát của mô hình hồi qui tuyến tính theo biểu diễn của ma trận, véc tơ:\n",
    "\n",
    "A. $\\mathbf{X}^{\\intercal} (\\mathbf{X} \\mathbf{w} - \\mathbf{y})$\n",
    "\n",
    "**B. $\\bar{\\mathbf{X}}^{\\intercal} (\\bar{\\mathbf{X}} \\mathbf{w} - \\mathbf{y})$**\n",
    "\n",
    "C. $\\mathbf{X}^{\\intercal} (\\bar{\\mathbf{X}} \\mathbf{w} - \\mathbf{y})$\n",
    "\n",
    "D. $\\bar{\\mathbf{X}}^{\\intercal} (\\mathbf{X} \\mathbf{w} - \\mathbf{y})$"
   ]
  },
  {
   "cell_type": "markdown",
   "metadata": {
    "id": "xPXVtx2VynWn"
   },
   "source": [
    "10) Nghiệm $\\mathbf{w}$ của hàm mất mát của mô hình hồi qui tuyến tính:\n",
    "\n",
    "**A. $\\mathbf{w} = (\\bar{\\mathbf{X}}^{\\intercal} \\bar{\\mathbf{X}})^{-1} \\bar{\\mathbf{X}}^{\\intercal} \\mathbf{y}$**\n",
    "\n",
    "B. $\\mathbf{w} = (\\mathbf{X}^{\\intercal} \\mathbf{X})^{-1} \\bar{\\mathbf{X}}^{\\intercal} \\mathbf{y}$\n",
    "\n",
    "C. $\\mathbf{w} = (\\mathbf{X}^{\\intercal} \\mathbf{X})^{-1} \\mathbf{X}^{\\intercal} \\mathbf{y}$\n",
    "\n",
    "D. $\\mathbf{w} = (\\bar{\\mathbf{X}}^{\\intercal} \\bar{\\mathbf{X}})^{-1} \\mathbf{X}^{\\intercal} \\mathbf{y}$"
   ]
  },
  {
   "cell_type": "markdown",
   "metadata": {
    "id": "DeRIHIxpogL9"
   },
   "source": [
    "# II. Thực hành"
   ]
  },
  {
   "cell_type": "markdown",
   "metadata": {
    "id": "4LqUV1Wq5lQz"
   },
   "source": [
    "1) Từ bộ dữ liệu về [international airline passengers](https://raw.githubusercontent.com/phamdinhkhanh/LSTM/master/international-airline-passengers.csv) có đường dẫn: `https://raw.githubusercontent.com/phamdinhkhanh/LSTM/master/international-airline-passengers.csv` .  Hãy đọc dữ liệu và lưu thành pandas.DataFrame với hai trường dữ liệu tương ứng là:\n",
    "\n",
    "- `Month`: Thời gian với định dạng `YYYY-MM`.\n",
    "- `Y`: Biến mục tiêu $y$ thể hiện số lượng hành khách ở mỗi tháng. "
   ]
  },
  {
   "cell_type": "code",
   "execution_count": null,
   "metadata": {
    "id": "6QPRGtiQofeu"
   },
   "outputs": [],
   "source": [
    "import pandas as pd\n",
    "import numpy as np\n",
    "import matplotlib.pyplot as plt\n",
    "from sklearn.linear_model import LinearRegression\n",
    "from sklearn.preprocessing import MinMaxScaler\n",
    "from sklearn.metrics import mean_squared_error\n",
    "from sklearn.preprocessing import scale \n",
    "from sklearn.linear_model import Ridge, RidgeCV, Lasso, LassoCV\n",
    "from datetime import datetime\n",
    "import numpy as np"
   ]
  },
  {
   "cell_type": "code",
   "execution_count": null,
   "metadata": {
    "colab": {
     "base_uri": "https://localhost:8080/",
     "height": 206
    },
    "id": "ALQLY8a34b7s",
    "outputId": "4daefd7c-d8af-4b36-874e-fe83ac0cc400"
   },
   "outputs": [
    {
     "data": {
      "text/html": [
       "\n",
       "  <div id=\"df-ac9ca607-b68d-4001-9731-6e73d7b2872f\">\n",
       "    <div class=\"colab-df-container\">\n",
       "      <div>\n",
       "<style scoped>\n",
       "    .dataframe tbody tr th:only-of-type {\n",
       "        vertical-align: middle;\n",
       "    }\n",
       "\n",
       "    .dataframe tbody tr th {\n",
       "        vertical-align: top;\n",
       "    }\n",
       "\n",
       "    .dataframe thead th {\n",
       "        text-align: right;\n",
       "    }\n",
       "</style>\n",
       "<table border=\"1\" class=\"dataframe\">\n",
       "  <thead>\n",
       "    <tr style=\"text-align: right;\">\n",
       "      <th></th>\n",
       "      <th>Month</th>\n",
       "      <th>Y</th>\n",
       "    </tr>\n",
       "  </thead>\n",
       "  <tbody>\n",
       "    <tr>\n",
       "      <th>0</th>\n",
       "      <td>1949-01</td>\n",
       "      <td>112</td>\n",
       "    </tr>\n",
       "    <tr>\n",
       "      <th>1</th>\n",
       "      <td>1949-02</td>\n",
       "      <td>118</td>\n",
       "    </tr>\n",
       "    <tr>\n",
       "      <th>2</th>\n",
       "      <td>1949-03</td>\n",
       "      <td>132</td>\n",
       "    </tr>\n",
       "    <tr>\n",
       "      <th>3</th>\n",
       "      <td>1949-04</td>\n",
       "      <td>129</td>\n",
       "    </tr>\n",
       "    <tr>\n",
       "      <th>4</th>\n",
       "      <td>1949-05</td>\n",
       "      <td>121</td>\n",
       "    </tr>\n",
       "  </tbody>\n",
       "</table>\n",
       "</div>\n",
       "      <button class=\"colab-df-convert\" onclick=\"convertToInteractive('df-ac9ca607-b68d-4001-9731-6e73d7b2872f')\"\n",
       "              title=\"Convert this dataframe to an interactive table.\"\n",
       "              style=\"display:none;\">\n",
       "        \n",
       "  <svg xmlns=\"http://www.w3.org/2000/svg\" height=\"24px\"viewBox=\"0 0 24 24\"\n",
       "       width=\"24px\">\n",
       "    <path d=\"M0 0h24v24H0V0z\" fill=\"none\"/>\n",
       "    <path d=\"M18.56 5.44l.94 2.06.94-2.06 2.06-.94-2.06-.94-.94-2.06-.94 2.06-2.06.94zm-11 1L8.5 8.5l.94-2.06 2.06-.94-2.06-.94L8.5 2.5l-.94 2.06-2.06.94zm10 10l.94 2.06.94-2.06 2.06-.94-2.06-.94-.94-2.06-.94 2.06-2.06.94z\"/><path d=\"M17.41 7.96l-1.37-1.37c-.4-.4-.92-.59-1.43-.59-.52 0-1.04.2-1.43.59L10.3 9.45l-7.72 7.72c-.78.78-.78 2.05 0 2.83L4 21.41c.39.39.9.59 1.41.59.51 0 1.02-.2 1.41-.59l7.78-7.78 2.81-2.81c.8-.78.8-2.07 0-2.86zM5.41 20L4 18.59l7.72-7.72 1.47 1.35L5.41 20z\"/>\n",
       "  </svg>\n",
       "      </button>\n",
       "      \n",
       "  <style>\n",
       "    .colab-df-container {\n",
       "      display:flex;\n",
       "      flex-wrap:wrap;\n",
       "      gap: 12px;\n",
       "    }\n",
       "\n",
       "    .colab-df-convert {\n",
       "      background-color: #E8F0FE;\n",
       "      border: none;\n",
       "      border-radius: 50%;\n",
       "      cursor: pointer;\n",
       "      display: none;\n",
       "      fill: #1967D2;\n",
       "      height: 32px;\n",
       "      padding: 0 0 0 0;\n",
       "      width: 32px;\n",
       "    }\n",
       "\n",
       "    .colab-df-convert:hover {\n",
       "      background-color: #E2EBFA;\n",
       "      box-shadow: 0px 1px 2px rgba(60, 64, 67, 0.3), 0px 1px 3px 1px rgba(60, 64, 67, 0.15);\n",
       "      fill: #174EA6;\n",
       "    }\n",
       "\n",
       "    [theme=dark] .colab-df-convert {\n",
       "      background-color: #3B4455;\n",
       "      fill: #D2E3FC;\n",
       "    }\n",
       "\n",
       "    [theme=dark] .colab-df-convert:hover {\n",
       "      background-color: #434B5C;\n",
       "      box-shadow: 0px 1px 3px 1px rgba(0, 0, 0, 0.15);\n",
       "      filter: drop-shadow(0px 1px 2px rgba(0, 0, 0, 0.3));\n",
       "      fill: #FFFFFF;\n",
       "    }\n",
       "  </style>\n",
       "\n",
       "      <script>\n",
       "        const buttonEl =\n",
       "          document.querySelector('#df-ac9ca607-b68d-4001-9731-6e73d7b2872f button.colab-df-convert');\n",
       "        buttonEl.style.display =\n",
       "          google.colab.kernel.accessAllowed ? 'block' : 'none';\n",
       "\n",
       "        async function convertToInteractive(key) {\n",
       "          const element = document.querySelector('#df-ac9ca607-b68d-4001-9731-6e73d7b2872f');\n",
       "          const dataTable =\n",
       "            await google.colab.kernel.invokeFunction('convertToInteractive',\n",
       "                                                     [key], {});\n",
       "          if (!dataTable) return;\n",
       "\n",
       "          const docLinkHtml = 'Like what you see? Visit the ' +\n",
       "            '<a target=\"_blank\" href=https://colab.research.google.com/notebooks/data_table.ipynb>data table notebook</a>'\n",
       "            + ' to learn more about interactive tables.';\n",
       "          element.innerHTML = '';\n",
       "          dataTable['output_type'] = 'display_data';\n",
       "          await google.colab.output.renderOutput(dataTable, element);\n",
       "          const docLink = document.createElement('div');\n",
       "          docLink.innerHTML = docLinkHtml;\n",
       "          element.appendChild(docLink);\n",
       "        }\n",
       "      </script>\n",
       "    </div>\n",
       "  </div>\n",
       "  "
      ],
      "text/plain": [
       "     Month    Y\n",
       "0  1949-01  112\n",
       "1  1949-02  118\n",
       "2  1949-03  132\n",
       "3  1949-04  129\n",
       "4  1949-05  121"
      ]
     },
     "execution_count": 3,
     "metadata": {},
     "output_type": "execute_result"
    }
   ],
   "source": [
    "url = 'https://raw.githubusercontent.com/phamdinhkhanh/LSTM/master/international-airline-passengers.csv'\n",
    "\n",
    "df = pd.read_csv(url, names = ['Month', 'Y'], skiprows = 1) \n",
    "df.head()"
   ]
  },
  {
   "cell_type": "markdown",
   "metadata": {
    "id": "cjdckTGBI3J2"
   },
   "source": [
    "2) Vẽ biểu đồ đường thể hiện số lượng hành khách theo thời gian."
   ]
  },
  {
   "cell_type": "code",
   "execution_count": null,
   "metadata": {
    "id": "etMBt4Jz5LfA"
   },
   "outputs": [],
   "source": [
    "df['Month'] = pd.to_datetime(df['Month'], format = '%Y-%m')"
   ]
  },
  {
   "cell_type": "code",
   "execution_count": null,
   "metadata": {
    "colab": {
     "base_uri": "https://localhost:8080/",
     "height": 513
    },
    "id": "HmCel_iW6_s0",
    "outputId": "eefde665-2a36-4022-e473-69a7c6dc6903"
   },
   "outputs": [
    {
     "data": {
      "image/png": "[encoded data removed]",
      "text/plain": [
       "<Figure size 1080x576 with 1 Axes>"
      ]
     },
     "metadata": {
      "needs_background": "light"
     },
     "output_type": "display_data"
    }
   ],
   "source": [
    "fig = plt.figure(figsize = (15, 8))\n",
    "plt.plot(df['Month'], df['Y'])\n",
    "\n",
    "plt.xlabel('Time')\n",
    "#xdates = pd.date_range(start = '1949-01-01', end = '1960-01-01', freq = 'Y') #tạo list chứa các ngày tháng cách nhau 5 năm cho phù hợp với ticks của đề bài\n",
    "#print(xdates)\n",
    "\n",
    "plt.ylabel('Amount of Customers')\n",
    "\n",
    "plt.title('Amount of Customers by Time')\n",
    "plt.grid(visible = True)"
   ]
  },
  {
   "cell_type": "markdown",
   "metadata": {
    "id": "K1XRhYOeJTO5"
   },
   "source": [
    "3) Khởi tạo một cột dữ liệu mới là `lag1` có giá trị chính là giá trị tháng liền trước của `Y`.\n",
    "\n",
    "_gợi ý_: Sử dụng hàm _df.shift()_ của dataframe df."
   ]
  },
  {
   "cell_type": "code",
   "execution_count": null,
   "metadata": {
    "colab": {
     "base_uri": "https://localhost:8080/"
    },
    "id": "piT2L4dwtZrQ",
    "outputId": "b2b1d264-7cbc-4ff6-e6f2-d60c86c2525d"
   },
   "outputs": [
    {
     "data": {
      "text/plain": [
       "0        NaN\n",
       "1      112.0\n",
       "2      118.0\n",
       "3      132.0\n",
       "4      129.0\n",
       "       ...  \n",
       "139    622.0\n",
       "140    606.0\n",
       "141    508.0\n",
       "142    461.0\n",
       "143    390.0\n",
       "Name: lag1, Length: 144, dtype: float64"
      ]
     },
     "execution_count": 6,
     "metadata": {},
     "output_type": "execute_result"
    }
   ],
   "source": [
    "df['lag1'] = df['Y'].shift(periods = 1)\n",
    "df['lag1']"
   ]
  },
  {
   "cell_type": "markdown",
   "metadata": {
    "id": "bF-aJ7u4sHuZ"
   },
   "source": [
    "4) Phân chia tập train/test sao cho tập test bao gồm 12 tháng cuối cùng và tập train gồm các tháng trước đó.\n",
    "\n",
    "_gợi ý_: Sử dụng _df.iloc[]_ để truy cập theo indices dòng và cột của dataframe df."
   ]
  },
  {
   "cell_type": "code",
   "execution_count": 2,
   "metadata": {
    "id": "FODIXHBRt9t5"
   },
   "outputs": [],
   "source": [
    "# NÊN CÓ 1 CÁCH LÀM KHÁC, ĐOẠN CODE DƯỚI ĐANG MẮC LỖI MAGIC NUMBER\n",
    "\n",
    "x_train = df.iloc[1:132,2] #first row has nan value\n",
    "y_train = df.iloc[1:132,1]\n",
    "\n",
    "x_test =  df.iloc[132:,2]\n",
    "y_test = df.iloc[132:,1]"
   ]
  },
  {
   "cell_type": "markdown",
   "metadata": {
    "id": "6noCT7pUvyat"
   },
   "source": [
    "5) Xây dựng mô hình dự báo lưu lượng hành khách của từng tháng theo phương trình hồi qui tuyến tính đơn biến trên tập `train` theo hai cách:\n",
    "\n",
    "- Cách 1: Sử dụng công thức nghiệm được tính ra từ đạo hàm bậc nhất của hàm mất mát.\n",
    "- Cách 2: Dùng mô hình LinearRegression của package scikit learn.\n",
    "\n",
    "Sau đó đo lường độ chính xác trên tập `test` bằng metric `RMSE`"
   ]
  },
  {
   "cell_type": "code",
   "execution_count": null,
   "metadata": {
    "id": "FoMszjSB-Naq"
   },
   "outputs": [],
   "source": [
    "from sklearn.metrics import mean_squared_error\n",
    "from math import sqrt"
   ]
  },
  {
   "cell_type": "code",
   "execution_count": null,
   "metadata": {
    "colab": {
     "base_uri": "https://localhost:8080/"
    },
    "id": "F6gxA8KTvsdk",
    "outputId": "7817e952-c1f8-42eb-f593-67dd2bbf728d"
   },
   "outputs": [
    {
     "name": "stdout",
     "output_type": "stream",
     "text": [
      "52.76507538224093\n"
     ]
    }
   ],
   "source": [
    "#Cách 1: Sử dụng công thức nghiệm được tính ra từ đạo hàm bậc nhất của Loss Function\n",
    "\n",
    "#y = w0 + w1*x\n",
    "#w1 = ((x ngang) * (y ngang) - (x*y ngang)) / ((x ngang)^2 - (x^2 ngang))\n",
    "#w0 = (y ngang) - (x ngang) * w1\n",
    "\n",
    "w1 = (x_train.mean() * y_train.mean() - (x_train * y_train).mean()) / ((x_train.mean()) * (x_train.mean()) - (x_train * x_train).mean())\n",
    "w0 = y_train.mean() - x_train.mean() * w1\n",
    "\n",
    "y_hat = w0 + w1 * x_test\n",
    "print(sqrt(mean_squared_error(y_hat, y_test)))\n"
   ]
  },
  {
   "cell_type": "code",
   "execution_count": null,
   "metadata": {
    "colab": {
     "base_uri": "https://localhost:8080/"
    },
    "id": "p5upwEmI7TCA",
    "outputId": "c0911d2f-9e26-46a8-9206-287bb08e9e6e"
   },
   "outputs": [
    {
     "name": "stdout",
     "output_type": "stream",
     "text": [
      "52.76507538224093\n"
     ]
    }
   ],
   "source": [
    "#Cách 2: Dùng sklearn.LinearRegression\n",
    "\n",
    "from sklearn.linear_model import LinearRegression\n",
    "\n",
    "lr = LinearRegression()\n",
    "lr.fit(pd.DataFrame(x_train), y_train)\n",
    "\n",
    "y_hat = lr.predict(pd.DataFrame(x_test))\n",
    "print(sqrt(mean_squared_error(y_hat, y_test)))"
   ]
  },
  {
   "cell_type": "markdown",
   "metadata": {
    "id": "T8M4YWRbBa_I"
   },
   "source": [
    "Cả hai cách làm đều cho ra cùng một kết quả so sánh rmse ngang nhau"
   ]
  },
  {
   "cell_type": "code",
   "execution_count": null,
   "metadata": {
    "id": "A6nIiSeV9DJI"
   },
   "outputs": [],
   "source": []
  }
 ],
 "metadata": {
  "colab": {
   "provenance": []
  },
  "kernelspec": {
   "display_name": "Python 3",
   "language": "python",
   "name": "python3"
  },
  "language_info": {
   "codemirror_mode": {
    "name": "ipython",
    "version": 3
   },
   "file_extension": ".py",
   "mimetype": "text/x-python",
   "name": "python",
   "nbconvert_exporter": "python",
   "pygments_lexer": "ipython3",
   "version": "3.8.10"
  },
  "latex_envs": {
   "LaTeX_envs_menu_present": true,
   "autoclose": false,
   "autocomplete": true,
   "bibliofile": "biblio.bib",
   "cite_by": "apalike",
   "current_citInitial": 1,
   "eqLabelWithNumbers": true,
   "eqNumInitial": 1,
   "hotkeys": {
    "equation": "Ctrl-E",
    "itemize": "Ctrl-I"
   },
   "labels_anchors": false,
   "latex_user_defs": false,
   "report_style_numbering": false,
   "user_envs_cfg": false
  }
 },
 "nbformat": 4,
 "nbformat_minor": 1
}
