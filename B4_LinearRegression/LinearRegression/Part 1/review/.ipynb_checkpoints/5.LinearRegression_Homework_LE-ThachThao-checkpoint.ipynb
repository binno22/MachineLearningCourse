{
 "cells": [
  {
   "cell_type": "markdown",
   "metadata": {
    "id": "QUXeB_LbobGO"
   },
   "source": [
    "# I. Trắc nghiệm (10 câu, mỗi câu 0.5 điểm)"
   ]
  },
  {
   "cell_type": "markdown",
   "metadata": {
    "id": "RzmGDTkwoiBi"
   },
   "source": [
    "1) Mô hình hồi qui tuyến tính (_Linear Regression_) nhằm giải quyết lớp bài toán nào ?\n",
    "\n",
    "A. Phân loại các quan sát theo nhãn.\n",
    "\n",
    "**B. Hồi qui trên các biến mục tiêu là biến liên tục.**\n",
    "\n",
    "C. Dự báo khoảng biến thiên của các biến mục tiêu.\n",
    "\n",
    "D. Giảm chiều dữ liệu của các biến đầu vào.\n",
    "\n",
    "**Trả lời B**"
   ]
  },
  {
   "cell_type": "markdown",
   "metadata": {
    "id": "lswEoAbCpQB1"
   },
   "source": [
    "2) Đâu là công thức chuẩn xác để ước lượng biến mục tiêu của mô hình hồi qui đơn biến.\n",
    "\n",
    "A. $y = w_1 x$\n",
    "\n",
    "**B. $y = w_0 + w_1 x$**\n",
    "\n",
    "C. $y = w_0 + w_1 \\log x$\n",
    "\n",
    "D. $y = w_0 + w_1 x_1 + w_2 x_2$\n",
    "\n",
    "**Trả lời B**"
   ]
  },
  {
   "cell_type": "markdown",
   "metadata": {
    "id": "oT7H2wLdqrCZ"
   },
   "source": [
    "3) Ý nghĩa của hệ số ước lượng $w_1$ trong bài toán hồi qui tuyến tính đơn biến có phương trình hồi qui $\\hat{y} = w_0 + w_1 x$ là:\n",
    "\n",
    "A. Tác động biên của biến đầu vào lên biến mục tiêu. Tức là khi biến đầu vào $x$ tăng 1 đơn vị thì giá trị ước lượng biến mục tiêu tăng lên $w_1$ đơn vị.\n",
    "\n",
    "B. Hệ số góc của phương trình hồi qui tuyến tính $w_0 + w_1 x$. Khi giá trị độ lớn tuyệt đối của $w_1$ càng lớn thì đồ thị đường hồi qui càng dốc và ngược lại.\n",
    "\n",
    "C. Giá trị giao cắt của đường hồi qui với trục $y$.\n",
    "\n",
    "**D. Cả A và B**\n",
    "\n",
    "**Trả lời D**"
   ]
  },
  {
   "cell_type": "markdown",
   "metadata": {
    "id": "Dk2mdHZCspUL"
   },
   "source": [
    "4) Bài toán hồi qui tuyến tính (_Linear Regression_) dựa trên `hàm chi phí` (_cost function_) hoặc tên gọi khác là `hàm mất mát` (_loss function_) có công thức như thế nào ?\n",
    "\n",
    "A. $\\mathcal{L}(\\mathbf{w}) = \\frac{1}{2n} \\sum_{i=1}^n (y_i-w_0-w_1 x)^2$\n",
    "\n",
    "B. $\\mathcal{L}(\\mathbf{w}) = \\frac{1}{2n} \\sum_{i=1}^n (y_i-w_0+w_1 x)^2$\n",
    "\n",
    "C. $\\mathcal{L}(\\mathbf{w}) = \\frac{1}{2n} \\sum_{i=1}^n |y_i-\\hat{y}_i|$\n",
    "\n",
    "**D. $\\mathcal{L}(\\mathbf{w}) = \\frac{1}{2n} \\sum_{i=1}^n (y_i-\\hat{y}_i)^2$**\n",
    "\n",
    "**Trả lời D**"
   ]
  },
  {
   "cell_type": "markdown",
   "metadata": {
    "id": "p4mDv6y5yhWx"
   },
   "source": [
    "5) Để tìm nghiệm tối ưu của hàm mất mát trong bài toán hồi qui tuyến tính chúng ta có thể sử dụng phương pháp nào?\n",
    "\n",
    "A. Thử nghiệm các bộ trọng số khác nhau một cách ngẫu nhiên và tìm ra bộ trọng số có giá trị hàm mất mát là nhỏ nhất.\n",
    "\n",
    "B. Tính đạo hàm bậc nhất của hàm mất mát theo các trọng số $w_i$.\n",
    "\n",
    "C. Lấy cực trị địa phương của hàm mất mát.\n",
    "\n",
    "**D. Cả ba đáp án trên.**\n",
    "\n",
    "**Trả lời D**"
   ]
  },
  {
   "cell_type": "markdown",
   "metadata": {
    "id": "vnRWgebVuBl5"
   },
   "source": [
    "6) Đâu là những metrics thường được sử dụng trong bài toán hồi qui tuyến tính\n",
    "\n",
    "A. MSE, RMSE, MAP, precision\n",
    "\n",
    "**B. MSE, RMSE, MAP, MAPE, R-squared** \n",
    "\n",
    "C. MSE, RMSE, MAP, MAPE, R-squared, accuracy\n",
    "\n",
    "D. MAP, MAPE, R-squared, accuracy, precision, recall\n",
    "\n",
    "**Trả lời B**"
   ]
  },
  {
   "cell_type": "markdown",
   "metadata": {
    "id": "8Ii-hm51uslZ"
   },
   "source": [
    "Giả sử mô hình hồi qui tuyến tính đa biến có ma trận đầu vào là $\\mathbf{X} \\in \\mathbb{R}^{n \\times p}$ và biến mục tiêu $\\mathbf{y} \\in \\mathbb{R}^{n}$. Trong đó $n$ là số quan sát và $p$ là số biến đầu vào. Khi chúng ta thêm vào ma trận $\\mathbf{X}$ một cột có toàn bộ các giá trị bằng 1 vào bên trái thì thu được ma trận mở rộng $\\bar{\\mathbf{X}}$. Một mô hình hồi qui tuyến tính có véc tơ trọng số chuyển vị $\\mathbf{w}^{\\intercal} = [w_0, w_1, \\dots, w_d]$, $\\mathbf{w} \\in \\mathbb{R}^{d+1}$. Trong đó trọng số $w_0$ tương ứng với hệ số tự do (không phụ thuộc vào biến đầu vào) và $w_i$ là trọng số tương ứng với biến $\\mathbf{x}_i$. Cụ thể các ma trận và véc tơ đã mô tả ở trên như sau:\n",
    "\n",
    "![](https://imgur.com/4crDLxT.png)"
   ]
  },
  {
   "cell_type": "markdown",
   "metadata": {
    "id": "We3cu6EX2I2Z"
   },
   "source": [
    "\n",
    "7) Gía trị ước lượng của mô hình hồi qui tuyến tính:\n",
    "\n",
    "**A. $\\hat{\\mathbf{y}} = \\bar{\\mathbf{X}}\\mathbf{w}$**\n",
    "\n",
    "B. $\\hat{\\mathbf{y}} = \\mathbf{X}\\mathbf{w}$\n",
    "\n",
    "C. $\\hat{\\mathbf{y}} = \\mathbf{X}\\mathbf{w}^{\\intercal}$\n",
    "\n",
    "D. $\\hat{\\mathbf{y}} = \\bar{\\mathbf{X}}\\mathbf{w}^{\\intercal}$\n",
    "\n",
    "**Trả lời A**"
   ]
  },
  {
   "cell_type": "markdown",
   "metadata": {
    "id": "_8nMfsB-yZP8"
   },
   "source": [
    "8) Hàm mất mát của mô hình hồi qui tuyến tính theo biểu diễn của phép nhân ma trận, véc tơ\n",
    "\n",
    "A. $||\\mathbf{y} - \\hat{\\mathbf{y}}||_2^2$ hoặc $||\\mathbf{y} - \\bar{\\mathbf{X}} \\mathbf{w}||_2^2$\n",
    "\n",
    "B. $||\\mathbf{y} - \\hat{\\mathbf{y}}||_2^2$ hoặc $||\\mathbf{y} - \\mathbf{X} \\mathbf{w}||_2^2$\n",
    "\n",
    "C. $||\\mathbf{y} - \\hat{\\mathbf{y}}||_2^2$ hoặc $||\\mathbf{y} - \\bar{\\mathbf{X}} \\mathbf{w}^{\\intercal}||_2^2$\n",
    "\n",
    "D. $||\\mathbf{y} - \\hat{\\mathbf{y}}||_2^2$ hoặc $||\\mathbf{y} - \\mathbf{X} \\mathbf{w}^{\\intercal}||_2^2$\n",
    "\n",
    "**Trả lời A**"
   ]
  },
  {
   "cell_type": "markdown",
   "metadata": {
    "id": "Dljv1EKMymL4"
   },
   "source": [
    "9) Đạo hàm của hàm mát mát của mô hình hồi qui tuyến tính theo biểu diễn của ma trận, véc tơ:\n",
    "\n",
    "A. $\\mathbf{X}^{\\intercal} (\\mathbf{X} \\mathbf{w} - \\mathbf{y})$\n",
    "\n",
    "B. $\\bar{\\mathbf{X}}^{\\intercal} (\\bar{\\mathbf{X}} \\mathbf{w} - \\mathbf{y})$\n",
    "\n",
    "C. $\\mathbf{X}^{\\intercal} (\\bar{\\mathbf{X}} \\mathbf{w} - \\mathbf{y})$\n",
    "\n",
    "D. $\\bar{\\mathbf{X}}^{\\intercal} (\\mathbf{X} \\mathbf{w} - \\mathbf{y})$\n",
    "\n",
    "**Trả lời B**"
   ]
  },
  {
   "cell_type": "markdown",
   "metadata": {
    "id": "xPXVtx2VynWn"
   },
   "source": [
    "10) Nghiệm $\\mathbf{w}$ của hàm mất mát của mô hình hồi qui tuyến tính:\n",
    "\n",
    "A. $\\mathbf{w} = (\\bar{\\mathbf{X}}^{\\intercal} \\bar{\\mathbf{X}})^{-1} \\bar{\\mathbf{X}}^{\\intercal} \\mathbf{y}$\n",
    "\n",
    "B. $\\mathbf{w} = (\\mathbf{X}^{\\intercal} \\mathbf{X})^{-1} \\bar{\\mathbf{X}}^{\\intercal} \\mathbf{y}$\n",
    "\n",
    "C. $\\mathbf{w} = (\\mathbf{X}^{\\intercal} \\mathbf{X})^{-1} \\mathbf{X}^{\\intercal} \\mathbf{y}$\n",
    "\n",
    "D. $\\mathbf{w} = (\\bar{\\mathbf{X}}^{\\intercal} \\bar{\\mathbf{X}})^{-1} \\mathbf{X}^{\\intercal} \\mathbf{y}$\n",
    "\n",
    "**Trả lời A**"
   ]
  },
  {
   "cell_type": "markdown",
   "metadata": {
    "id": "DeRIHIxpogL9"
   },
   "source": [
    "# II. Thực hành"
   ]
  },
  {
   "cell_type": "markdown",
   "metadata": {
    "id": "4LqUV1Wq5lQz"
   },
   "source": [
    "1) Từ bộ dữ liệu về [international airline passengers](https://raw.githubusercontent.com/phamdinhkhanh/LSTM/master/international-airline-passengers.csv) có đường dẫn: `https://raw.githubusercontent.com/phamdinhkhanh/LSTM/master/international-airline-passengers.csv` .  Hãy đọc dữ liệu và lưu thành pandas.DataFrame với hai trường dữ liệu tương ứng là:\n",
    "\n",
    "- `Month`: Thời gian với định dạng `YYYY-MM`.\n",
    "- `Y`: Biến mục tiêu $y$ thể hiện số lượng hành khách ở mỗi tháng. "
   ]
  },
  {
   "cell_type": "code",
   "execution_count": 51,
   "metadata": {
    "executionInfo": {
     "elapsed": 207,
     "status": "ok",
     "timestamp": 1672245661969,
     "user": {
      "displayName": "thao le",
      "userId": "16090104078780276766"
     },
     "user_tz": -60
    },
    "id": "6QPRGtiQofeu"
   },
   "outputs": [],
   "source": [
    "import pandas as pd\n",
    "import numpy as np\n",
    "import math\n",
    "import matplotlib.pyplot as plt\n",
    "from sklearn.linear_model import LinearRegression\n",
    "from sklearn.preprocessing import MinMaxScaler\n",
    "from sklearn.metrics import mean_squared_error\n",
    "from sklearn.preprocessing import scale \n",
    "from sklearn.linear_model import Ridge, RidgeCV, Lasso, LassoCV\n",
    "from datetime import datetime\n",
    "import numpy as np"
   ]
  },
  {
   "cell_type": "code",
   "execution_count": 13,
   "metadata": {
    "colab": {
     "base_uri": "https://localhost:8080/",
     "height": 223
    },
    "executionInfo": {
     "elapsed": 313,
     "status": "ok",
     "timestamp": 1672232404636,
     "user": {
      "displayName": "thao le",
      "userId": "16090104078780276766"
     },
     "user_tz": -60
    },
    "id": "ocbEZTTpaum9",
    "outputId": "0d25a333-1b34-4b67-e53e-9157b50c0a20"
   },
   "outputs": [
    {
     "name": "stdout",
     "output_type": "stream",
     "text": [
      "datetime64[ns]\n"
     ]
    },
    {
     "data": {
      "text/html": [
       "\n",
       "  <div id=\"df-f2d7d5c0-9316-456a-8f92-8937e313fdd7\">\n",
       "    <div class=\"colab-df-container\">\n",
       "      <div>\n",
       "<style scoped>\n",
       "    .dataframe tbody tr th:only-of-type {\n",
       "        vertical-align: middle;\n",
       "    }\n",
       "\n",
       "    .dataframe tbody tr th {\n",
       "        vertical-align: top;\n",
       "    }\n",
       "\n",
       "    .dataframe thead th {\n",
       "        text-align: right;\n",
       "    }\n",
       "</style>\n",
       "<table border=\"1\" class=\"dataframe\">\n",
       "  <thead>\n",
       "    <tr style=\"text-align: right;\">\n",
       "      <th></th>\n",
       "      <th>Month</th>\n",
       "      <th>Y</th>\n",
       "    </tr>\n",
       "  </thead>\n",
       "  <tbody>\n",
       "    <tr>\n",
       "      <th>0</th>\n",
       "      <td>1949-01-01</td>\n",
       "      <td>112</td>\n",
       "    </tr>\n",
       "    <tr>\n",
       "      <th>1</th>\n",
       "      <td>1949-02-01</td>\n",
       "      <td>118</td>\n",
       "    </tr>\n",
       "    <tr>\n",
       "      <th>2</th>\n",
       "      <td>1949-03-01</td>\n",
       "      <td>132</td>\n",
       "    </tr>\n",
       "    <tr>\n",
       "      <th>3</th>\n",
       "      <td>1949-04-01</td>\n",
       "      <td>129</td>\n",
       "    </tr>\n",
       "    <tr>\n",
       "      <th>4</th>\n",
       "      <td>1949-05-01</td>\n",
       "      <td>121</td>\n",
       "    </tr>\n",
       "  </tbody>\n",
       "</table>\n",
       "</div>\n",
       "      <button class=\"colab-df-convert\" onclick=\"convertToInteractive('df-f2d7d5c0-9316-456a-8f92-8937e313fdd7')\"\n",
       "              title=\"Convert this dataframe to an interactive table.\"\n",
       "              style=\"display:none;\">\n",
       "        \n",
       "  <svg xmlns=\"http://www.w3.org/2000/svg\" height=\"24px\"viewBox=\"0 0 24 24\"\n",
       "       width=\"24px\">\n",
       "    <path d=\"M0 0h24v24H0V0z\" fill=\"none\"/>\n",
       "    <path d=\"M18.56 5.44l.94 2.06.94-2.06 2.06-.94-2.06-.94-.94-2.06-.94 2.06-2.06.94zm-11 1L8.5 8.5l.94-2.06 2.06-.94-2.06-.94L8.5 2.5l-.94 2.06-2.06.94zm10 10l.94 2.06.94-2.06 2.06-.94-2.06-.94-.94-2.06-.94 2.06-2.06.94z\"/><path d=\"M17.41 7.96l-1.37-1.37c-.4-.4-.92-.59-1.43-.59-.52 0-1.04.2-1.43.59L10.3 9.45l-7.72 7.72c-.78.78-.78 2.05 0 2.83L4 21.41c.39.39.9.59 1.41.59.51 0 1.02-.2 1.41-.59l7.78-7.78 2.81-2.81c.8-.78.8-2.07 0-2.86zM5.41 20L4 18.59l7.72-7.72 1.47 1.35L5.41 20z\"/>\n",
       "  </svg>\n",
       "      </button>\n",
       "      \n",
       "  <style>\n",
       "    .colab-df-container {\n",
       "      display:flex;\n",
       "      flex-wrap:wrap;\n",
       "      gap: 12px;\n",
       "    }\n",
       "\n",
       "    .colab-df-convert {\n",
       "      background-color: #E8F0FE;\n",
       "      border: none;\n",
       "      border-radius: 50%;\n",
       "      cursor: pointer;\n",
       "      display: none;\n",
       "      fill: #1967D2;\n",
       "      height: 32px;\n",
       "      padding: 0 0 0 0;\n",
       "      width: 32px;\n",
       "    }\n",
       "\n",
       "    .colab-df-convert:hover {\n",
       "      background-color: #E2EBFA;\n",
       "      box-shadow: 0px 1px 2px rgba(60, 64, 67, 0.3), 0px 1px 3px 1px rgba(60, 64, 67, 0.15);\n",
       "      fill: #174EA6;\n",
       "    }\n",
       "\n",
       "    [theme=dark] .colab-df-convert {\n",
       "      background-color: #3B4455;\n",
       "      fill: #D2E3FC;\n",
       "    }\n",
       "\n",
       "    [theme=dark] .colab-df-convert:hover {\n",
       "      background-color: #434B5C;\n",
       "      box-shadow: 0px 1px 3px 1px rgba(0, 0, 0, 0.15);\n",
       "      filter: drop-shadow(0px 1px 2px rgba(0, 0, 0, 0.3));\n",
       "      fill: #FFFFFF;\n",
       "    }\n",
       "  </style>\n",
       "\n",
       "      <script>\n",
       "        const buttonEl =\n",
       "          document.querySelector('#df-f2d7d5c0-9316-456a-8f92-8937e313fdd7 button.colab-df-convert');\n",
       "        buttonEl.style.display =\n",
       "          google.colab.kernel.accessAllowed ? 'block' : 'none';\n",
       "\n",
       "        async function convertToInteractive(key) {\n",
       "          const element = document.querySelector('#df-f2d7d5c0-9316-456a-8f92-8937e313fdd7');\n",
       "          const dataTable =\n",
       "            await google.colab.kernel.invokeFunction('convertToInteractive',\n",
       "                                                     [key], {});\n",
       "          if (!dataTable) return;\n",
       "\n",
       "          const docLinkHtml = 'Like what you see? Visit the ' +\n",
       "            '<a target=\"_blank\" href=https://colab.research.google.com/notebooks/data_table.ipynb>data table notebook</a>'\n",
       "            + ' to learn more about interactive tables.';\n",
       "          element.innerHTML = '';\n",
       "          dataTable['output_type'] = 'display_data';\n",
       "          await google.colab.output.renderOutput(dataTable, element);\n",
       "          const docLink = document.createElement('div');\n",
       "          docLink.innerHTML = docLinkHtml;\n",
       "          element.appendChild(docLink);\n",
       "        }\n",
       "      </script>\n",
       "    </div>\n",
       "  </div>\n",
       "  "
      ],
      "text/plain": [
       "       Month    Y\n",
       "0 1949-01-01  112\n",
       "1 1949-02-01  118\n",
       "2 1949-03-01  132\n",
       "3 1949-04-01  129\n",
       "4 1949-05-01  121"
      ]
     },
     "execution_count": 13,
     "metadata": {},
     "output_type": "execute_result"
    }
   ],
   "source": [
    "data = pd.read_csv(\"https://raw.githubusercontent.com/phamdinhkhanh/LSTM/master/international-airline-passengers.csv\",\n",
    "                   sep = \",\", header = 0, names = [\"Month\", \"Y\"], parse_dates = ['Month'])\n",
    "\n",
    "#data['Month'] = pd.to_datetime(data['Month'], format='%Y-%m')\n",
    "\n",
    "#def parser(x):\n",
    "    # Để biết được định dạng strftime của một chuỗi kí tự ta phải tra trong bàng string format time\n",
    "    #return datetime.strptime(x, '%Y-%m')\n",
    "#data['Month'] = data['Month'].map(lambda x: parser(x))\n",
    "\n",
    "print(data['Month'].dtypes)\n",
    "\n",
    "data.head()"
   ]
  },
  {
   "cell_type": "markdown",
   "metadata": {
    "id": "cjdckTGBI3J2"
   },
   "source": [
    "2) Vẽ biểu đồ đường thể hiện số lượng hành khách theo thời gian."
   ]
  },
  {
   "cell_type": "code",
   "execution_count": 48,
   "metadata": {
    "colab": {
     "base_uri": "https://localhost:8080/",
     "height": 458
    },
    "executionInfo": {
     "elapsed": 928,
     "status": "ok",
     "timestamp": 1672245145808,
     "user": {
      "displayName": "thao le",
      "userId": "16090104078780276766"
     },
     "user_tz": -60
    },
    "id": "0j5MS30xihKs",
    "outputId": "a8ce70ab-a10f-46b8-e912-2dc750f6c8bf"
   },
   "outputs": [
    {
     "data": {
      "image/png": "[encoded data removed]",
      "text/plain": [
       "<Figure size 1000x500 with 1 Axes>"
      ]
     },
     "metadata": {
      "needs_background": "light"
     },
     "output_type": "display_data"
    }
   ],
   "source": [
    "# Draw Plot\n",
    "def plot_time_df(df, x, y, title=\"\", xlabel='Date', ylabel='Value', dpi=100):\n",
    "    plt.figure(figsize=(10,5), dpi=dpi)\n",
    "    plt.plot(x, y, color='tab:red')\n",
    "    plt.gca().set(title=title, xlabel=xlabel, ylabel=ylabel)\n",
    "    plt.show()\n",
    "\n",
    "plot_time_df(data, x=data.Month, y=data.Y, title='Monthly International airline passengers Totals in thousands')    "
   ]
  },
  {
   "cell_type": "markdown",
   "metadata": {
    "id": "1mQyS3Vp6aVo"
   },
   "source": [
    "**Lượng hành khách có tính chu kì và tăng dần qua từng năm**"
   ]
  },
  {
   "cell_type": "markdown",
   "metadata": {
    "id": "K1XRhYOeJTO5"
   },
   "source": [
    "3) Khởi tạo một cột dữ liệu mới là `lag1` có giá trị chính là giá trị tháng liền trước của `Y`.\n",
    "\n",
    "_gợi ý_: Sử dụng hàm _df.shift()_ của dataframe df."
   ]
  },
  {
   "cell_type": "code",
   "execution_count": 17,
   "metadata": {
    "colab": {
     "base_uri": "https://localhost:8080/",
     "height": 206
    },
    "executionInfo": {
     "elapsed": 236,
     "status": "ok",
     "timestamp": 1672233706716,
     "user": {
      "displayName": "thao le",
      "userId": "16090104078780276766"
     },
     "user_tz": -60
    },
    "id": "Jd5hTBlj0dzB",
    "outputId": "3a73b391-88da-44b1-c901-7a8fbbd4957c"
   },
   "outputs": [
    {
     "data": {
      "text/html": [
       "\n",
       "  <div id=\"df-e7f8b0e6-ed18-4e4f-9e06-b468112062d5\">\n",
       "    <div class=\"colab-df-container\">\n",
       "      <div>\n",
       "<style scoped>\n",
       "    .dataframe tbody tr th:only-of-type {\n",
       "        vertical-align: middle;\n",
       "    }\n",
       "\n",
       "    .dataframe tbody tr th {\n",
       "        vertical-align: top;\n",
       "    }\n",
       "\n",
       "    .dataframe thead th {\n",
       "        text-align: right;\n",
       "    }\n",
       "</style>\n",
       "<table border=\"1\" class=\"dataframe\">\n",
       "  <thead>\n",
       "    <tr style=\"text-align: right;\">\n",
       "      <th></th>\n",
       "      <th>Month</th>\n",
       "      <th>Y</th>\n",
       "      <th>lag1</th>\n",
       "    </tr>\n",
       "  </thead>\n",
       "  <tbody>\n",
       "    <tr>\n",
       "      <th>0</th>\n",
       "      <td>1949-01-01</td>\n",
       "      <td>112</td>\n",
       "      <td>0</td>\n",
       "    </tr>\n",
       "    <tr>\n",
       "      <th>1</th>\n",
       "      <td>1949-02-01</td>\n",
       "      <td>118</td>\n",
       "      <td>112</td>\n",
       "    </tr>\n",
       "    <tr>\n",
       "      <th>2</th>\n",
       "      <td>1949-03-01</td>\n",
       "      <td>132</td>\n",
       "      <td>118</td>\n",
       "    </tr>\n",
       "    <tr>\n",
       "      <th>3</th>\n",
       "      <td>1949-04-01</td>\n",
       "      <td>129</td>\n",
       "      <td>132</td>\n",
       "    </tr>\n",
       "    <tr>\n",
       "      <th>4</th>\n",
       "      <td>1949-05-01</td>\n",
       "      <td>121</td>\n",
       "      <td>129</td>\n",
       "    </tr>\n",
       "  </tbody>\n",
       "</table>\n",
       "</div>\n",
       "      <button class=\"colab-df-convert\" onclick=\"convertToInteractive('df-e7f8b0e6-ed18-4e4f-9e06-b468112062d5')\"\n",
       "              title=\"Convert this dataframe to an interactive table.\"\n",
       "              style=\"display:none;\">\n",
       "        \n",
       "  <svg xmlns=\"http://www.w3.org/2000/svg\" height=\"24px\"viewBox=\"0 0 24 24\"\n",
       "       width=\"24px\">\n",
       "    <path d=\"M0 0h24v24H0V0z\" fill=\"none\"/>\n",
       "    <path d=\"M18.56 5.44l.94 2.06.94-2.06 2.06-.94-2.06-.94-.94-2.06-.94 2.06-2.06.94zm-11 1L8.5 8.5l.94-2.06 2.06-.94-2.06-.94L8.5 2.5l-.94 2.06-2.06.94zm10 10l.94 2.06.94-2.06 2.06-.94-2.06-.94-.94-2.06-.94 2.06-2.06.94z\"/><path d=\"M17.41 7.96l-1.37-1.37c-.4-.4-.92-.59-1.43-.59-.52 0-1.04.2-1.43.59L10.3 9.45l-7.72 7.72c-.78.78-.78 2.05 0 2.83L4 21.41c.39.39.9.59 1.41.59.51 0 1.02-.2 1.41-.59l7.78-7.78 2.81-2.81c.8-.78.8-2.07 0-2.86zM5.41 20L4 18.59l7.72-7.72 1.47 1.35L5.41 20z\"/>\n",
       "  </svg>\n",
       "      </button>\n",
       "      \n",
       "  <style>\n",
       "    .colab-df-container {\n",
       "      display:flex;\n",
       "      flex-wrap:wrap;\n",
       "      gap: 12px;\n",
       "    }\n",
       "\n",
       "    .colab-df-convert {\n",
       "      background-color: #E8F0FE;\n",
       "      border: none;\n",
       "      border-radius: 50%;\n",
       "      cursor: pointer;\n",
       "      display: none;\n",
       "      fill: #1967D2;\n",
       "      height: 32px;\n",
       "      padding: 0 0 0 0;\n",
       "      width: 32px;\n",
       "    }\n",
       "\n",
       "    .colab-df-convert:hover {\n",
       "      background-color: #E2EBFA;\n",
       "      box-shadow: 0px 1px 2px rgba(60, 64, 67, 0.3), 0px 1px 3px 1px rgba(60, 64, 67, 0.15);\n",
       "      fill: #174EA6;\n",
       "    }\n",
       "\n",
       "    [theme=dark] .colab-df-convert {\n",
       "      background-color: #3B4455;\n",
       "      fill: #D2E3FC;\n",
       "    }\n",
       "\n",
       "    [theme=dark] .colab-df-convert:hover {\n",
       "      background-color: #434B5C;\n",
       "      box-shadow: 0px 1px 3px 1px rgba(0, 0, 0, 0.15);\n",
       "      filter: drop-shadow(0px 1px 2px rgba(0, 0, 0, 0.3));\n",
       "      fill: #FFFFFF;\n",
       "    }\n",
       "  </style>\n",
       "\n",
       "      <script>\n",
       "        const buttonEl =\n",
       "          document.querySelector('#df-e7f8b0e6-ed18-4e4f-9e06-b468112062d5 button.colab-df-convert');\n",
       "        buttonEl.style.display =\n",
       "          google.colab.kernel.accessAllowed ? 'block' : 'none';\n",
       "\n",
       "        async function convertToInteractive(key) {\n",
       "          const element = document.querySelector('#df-e7f8b0e6-ed18-4e4f-9e06-b468112062d5');\n",
       "          const dataTable =\n",
       "            await google.colab.kernel.invokeFunction('convertToInteractive',\n",
       "                                                     [key], {});\n",
       "          if (!dataTable) return;\n",
       "\n",
       "          const docLinkHtml = 'Like what you see? Visit the ' +\n",
       "            '<a target=\"_blank\" href=https://colab.research.google.com/notebooks/data_table.ipynb>data table notebook</a>'\n",
       "            + ' to learn more about interactive tables.';\n",
       "          element.innerHTML = '';\n",
       "          dataTable['output_type'] = 'display_data';\n",
       "          await google.colab.output.renderOutput(dataTable, element);\n",
       "          const docLink = document.createElement('div');\n",
       "          docLink.innerHTML = docLinkHtml;\n",
       "          element.appendChild(docLink);\n",
       "        }\n",
       "      </script>\n",
       "    </div>\n",
       "  </div>\n",
       "  "
      ],
      "text/plain": [
       "       Month    Y  lag1\n",
       "0 1949-01-01  112     0\n",
       "1 1949-02-01  118   112\n",
       "2 1949-03-01  132   118\n",
       "3 1949-04-01  129   132\n",
       "4 1949-05-01  121   129"
      ]
     },
     "execution_count": 17,
     "metadata": {},
     "output_type": "execute_result"
    }
   ],
   "source": [
    "data['lag1']=data.Y.shift(periods = 1, fill_value = 0)\n",
    "data.head()"
   ]
  },
  {
   "cell_type": "markdown",
   "metadata": {
    "id": "bF-aJ7u4sHuZ"
   },
   "source": [
    "4) Phân chia tập train/test sao cho tập test bao gồm 12 tháng cuối cùng và tập train gồm các tháng trước đó.\n",
    "\n",
    "_gợi ý_: Sử dụng _df.iloc[]_ để truy cập theo indices dòng và cột của dataframe df."
   ]
  },
  {
   "cell_type": "code",
   "execution_count": 25,
   "metadata": {
    "colab": {
     "base_uri": "https://localhost:8080/",
     "height": 206
    },
    "executionInfo": {
     "elapsed": 769,
     "status": "ok",
     "timestamp": 1672234402724,
     "user": {
      "displayName": "thao le",
      "userId": "16090104078780276766"
     },
     "user_tz": -60
    },
    "id": "l5ezOiN55l6Q",
    "outputId": "613a8be2-e0f2-477f-eeca-11d2ce84aa88"
   },
   "outputs": [
    {
     "data": {
      "text/html": [
       "\n",
       "  <div id=\"df-0f4e6c94-0ef4-407f-9fcb-7ec4bf5443f3\">\n",
       "    <div class=\"colab-df-container\">\n",
       "      <div>\n",
       "<style scoped>\n",
       "    .dataframe tbody tr th:only-of-type {\n",
       "        vertical-align: middle;\n",
       "    }\n",
       "\n",
       "    .dataframe tbody tr th {\n",
       "        vertical-align: top;\n",
       "    }\n",
       "\n",
       "    .dataframe thead th {\n",
       "        text-align: right;\n",
       "    }\n",
       "</style>\n",
       "<table border=\"1\" class=\"dataframe\">\n",
       "  <thead>\n",
       "    <tr style=\"text-align: right;\">\n",
       "      <th></th>\n",
       "      <th>Month</th>\n",
       "      <th>Y</th>\n",
       "      <th>lag1</th>\n",
       "    </tr>\n",
       "  </thead>\n",
       "  <tbody>\n",
       "    <tr>\n",
       "      <th>127</th>\n",
       "      <td>1959-08-01</td>\n",
       "      <td>559</td>\n",
       "      <td>548</td>\n",
       "    </tr>\n",
       "    <tr>\n",
       "      <th>128</th>\n",
       "      <td>1959-09-01</td>\n",
       "      <td>463</td>\n",
       "      <td>559</td>\n",
       "    </tr>\n",
       "    <tr>\n",
       "      <th>129</th>\n",
       "      <td>1959-10-01</td>\n",
       "      <td>407</td>\n",
       "      <td>463</td>\n",
       "    </tr>\n",
       "    <tr>\n",
       "      <th>130</th>\n",
       "      <td>1959-11-01</td>\n",
       "      <td>362</td>\n",
       "      <td>407</td>\n",
       "    </tr>\n",
       "    <tr>\n",
       "      <th>131</th>\n",
       "      <td>1959-12-01</td>\n",
       "      <td>405</td>\n",
       "      <td>362</td>\n",
       "    </tr>\n",
       "  </tbody>\n",
       "</table>\n",
       "</div>\n",
       "      <button class=\"colab-df-convert\" onclick=\"convertToInteractive('df-0f4e6c94-0ef4-407f-9fcb-7ec4bf5443f3')\"\n",
       "              title=\"Convert this dataframe to an interactive table.\"\n",
       "              style=\"display:none;\">\n",
       "        \n",
       "  <svg xmlns=\"http://www.w3.org/2000/svg\" height=\"24px\"viewBox=\"0 0 24 24\"\n",
       "       width=\"24px\">\n",
       "    <path d=\"M0 0h24v24H0V0z\" fill=\"none\"/>\n",
       "    <path d=\"M18.56 5.44l.94 2.06.94-2.06 2.06-.94-2.06-.94-.94-2.06-.94 2.06-2.06.94zm-11 1L8.5 8.5l.94-2.06 2.06-.94-2.06-.94L8.5 2.5l-.94 2.06-2.06.94zm10 10l.94 2.06.94-2.06 2.06-.94-2.06-.94-.94-2.06-.94 2.06-2.06.94z\"/><path d=\"M17.41 7.96l-1.37-1.37c-.4-.4-.92-.59-1.43-.59-.52 0-1.04.2-1.43.59L10.3 9.45l-7.72 7.72c-.78.78-.78 2.05 0 2.83L4 21.41c.39.39.9.59 1.41.59.51 0 1.02-.2 1.41-.59l7.78-7.78 2.81-2.81c.8-.78.8-2.07 0-2.86zM5.41 20L4 18.59l7.72-7.72 1.47 1.35L5.41 20z\"/>\n",
       "  </svg>\n",
       "      </button>\n",
       "      \n",
       "  <style>\n",
       "    .colab-df-container {\n",
       "      display:flex;\n",
       "      flex-wrap:wrap;\n",
       "      gap: 12px;\n",
       "    }\n",
       "\n",
       "    .colab-df-convert {\n",
       "      background-color: #E8F0FE;\n",
       "      border: none;\n",
       "      border-radius: 50%;\n",
       "      cursor: pointer;\n",
       "      display: none;\n",
       "      fill: #1967D2;\n",
       "      height: 32px;\n",
       "      padding: 0 0 0 0;\n",
       "      width: 32px;\n",
       "    }\n",
       "\n",
       "    .colab-df-convert:hover {\n",
       "      background-color: #E2EBFA;\n",
       "      box-shadow: 0px 1px 2px rgba(60, 64, 67, 0.3), 0px 1px 3px 1px rgba(60, 64, 67, 0.15);\n",
       "      fill: #174EA6;\n",
       "    }\n",
       "\n",
       "    [theme=dark] .colab-df-convert {\n",
       "      background-color: #3B4455;\n",
       "      fill: #D2E3FC;\n",
       "    }\n",
       "\n",
       "    [theme=dark] .colab-df-convert:hover {\n",
       "      background-color: #434B5C;\n",
       "      box-shadow: 0px 1px 3px 1px rgba(0, 0, 0, 0.15);\n",
       "      filter: drop-shadow(0px 1px 2px rgba(0, 0, 0, 0.3));\n",
       "      fill: #FFFFFF;\n",
       "    }\n",
       "  </style>\n",
       "\n",
       "      <script>\n",
       "        const buttonEl =\n",
       "          document.querySelector('#df-0f4e6c94-0ef4-407f-9fcb-7ec4bf5443f3 button.colab-df-convert');\n",
       "        buttonEl.style.display =\n",
       "          google.colab.kernel.accessAllowed ? 'block' : 'none';\n",
       "\n",
       "        async function convertToInteractive(key) {\n",
       "          const element = document.querySelector('#df-0f4e6c94-0ef4-407f-9fcb-7ec4bf5443f3');\n",
       "          const dataTable =\n",
       "            await google.colab.kernel.invokeFunction('convertToInteractive',\n",
       "                                                     [key], {});\n",
       "          if (!dataTable) return;\n",
       "\n",
       "          const docLinkHtml = 'Like what you see? Visit the ' +\n",
       "            '<a target=\"_blank\" href=https://colab.research.google.com/notebooks/data_table.ipynb>data table notebook</a>'\n",
       "            + ' to learn more about interactive tables.';\n",
       "          element.innerHTML = '';\n",
       "          dataTable['output_type'] = 'display_data';\n",
       "          await google.colab.output.renderOutput(dataTable, element);\n",
       "          const docLink = document.createElement('div');\n",
       "          docLink.innerHTML = docLinkHtml;\n",
       "          element.appendChild(docLink);\n",
       "        }\n",
       "      </script>\n",
       "    </div>\n",
       "  </div>\n",
       "  "
      ],
      "text/plain": [
       "         Month    Y  lag1\n",
       "127 1959-08-01  559   548\n",
       "128 1959-09-01  463   559\n",
       "129 1959-10-01  407   463\n",
       "130 1959-11-01  362   407\n",
       "131 1959-12-01  405   362"
      ]
     },
     "execution_count": 25,
     "metadata": {},
     "output_type": "execute_result"
    }
   ],
   "source": [
    "train_set = data.iloc[:-12,:]\n",
    "train_set.tail()"
   ]
  },
  {
   "cell_type": "code",
   "execution_count": 26,
   "metadata": {
    "colab": {
     "base_uri": "https://localhost:8080/",
     "height": 206
    },
    "executionInfo": {
     "elapsed": 305,
     "status": "ok",
     "timestamp": 1672234419871,
     "user": {
      "displayName": "thao le",
      "userId": "16090104078780276766"
     },
     "user_tz": -60
    },
    "id": "NChASSP78BrK",
    "outputId": "ef16197e-1d7a-4c0f-cef8-047e3cf2d82e"
   },
   "outputs": [
    {
     "data": {
      "text/html": [
       "\n",
       "  <div id=\"df-56d196a5-5e83-415c-ba59-67cda6e26a91\">\n",
       "    <div class=\"colab-df-container\">\n",
       "      <div>\n",
       "<style scoped>\n",
       "    .dataframe tbody tr th:only-of-type {\n",
       "        vertical-align: middle;\n",
       "    }\n",
       "\n",
       "    .dataframe tbody tr th {\n",
       "        vertical-align: top;\n",
       "    }\n",
       "\n",
       "    .dataframe thead th {\n",
       "        text-align: right;\n",
       "    }\n",
       "</style>\n",
       "<table border=\"1\" class=\"dataframe\">\n",
       "  <thead>\n",
       "    <tr style=\"text-align: right;\">\n",
       "      <th></th>\n",
       "      <th>Month</th>\n",
       "      <th>Y</th>\n",
       "      <th>lag1</th>\n",
       "    </tr>\n",
       "  </thead>\n",
       "  <tbody>\n",
       "    <tr>\n",
       "      <th>132</th>\n",
       "      <td>1960-01-01</td>\n",
       "      <td>417</td>\n",
       "      <td>405</td>\n",
       "    </tr>\n",
       "    <tr>\n",
       "      <th>133</th>\n",
       "      <td>1960-02-01</td>\n",
       "      <td>391</td>\n",
       "      <td>417</td>\n",
       "    </tr>\n",
       "    <tr>\n",
       "      <th>134</th>\n",
       "      <td>1960-03-01</td>\n",
       "      <td>419</td>\n",
       "      <td>391</td>\n",
       "    </tr>\n",
       "    <tr>\n",
       "      <th>135</th>\n",
       "      <td>1960-04-01</td>\n",
       "      <td>461</td>\n",
       "      <td>419</td>\n",
       "    </tr>\n",
       "    <tr>\n",
       "      <th>136</th>\n",
       "      <td>1960-05-01</td>\n",
       "      <td>472</td>\n",
       "      <td>461</td>\n",
       "    </tr>\n",
       "  </tbody>\n",
       "</table>\n",
       "</div>\n",
       "      <button class=\"colab-df-convert\" onclick=\"convertToInteractive('df-56d196a5-5e83-415c-ba59-67cda6e26a91')\"\n",
       "              title=\"Convert this dataframe to an interactive table.\"\n",
       "              style=\"display:none;\">\n",
       "        \n",
       "  <svg xmlns=\"http://www.w3.org/2000/svg\" height=\"24px\"viewBox=\"0 0 24 24\"\n",
       "       width=\"24px\">\n",
       "    <path d=\"M0 0h24v24H0V0z\" fill=\"none\"/>\n",
       "    <path d=\"M18.56 5.44l.94 2.06.94-2.06 2.06-.94-2.06-.94-.94-2.06-.94 2.06-2.06.94zm-11 1L8.5 8.5l.94-2.06 2.06-.94-2.06-.94L8.5 2.5l-.94 2.06-2.06.94zm10 10l.94 2.06.94-2.06 2.06-.94-2.06-.94-.94-2.06-.94 2.06-2.06.94z\"/><path d=\"M17.41 7.96l-1.37-1.37c-.4-.4-.92-.59-1.43-.59-.52 0-1.04.2-1.43.59L10.3 9.45l-7.72 7.72c-.78.78-.78 2.05 0 2.83L4 21.41c.39.39.9.59 1.41.59.51 0 1.02-.2 1.41-.59l7.78-7.78 2.81-2.81c.8-.78.8-2.07 0-2.86zM5.41 20L4 18.59l7.72-7.72 1.47 1.35L5.41 20z\"/>\n",
       "  </svg>\n",
       "      </button>\n",
       "      \n",
       "  <style>\n",
       "    .colab-df-container {\n",
       "      display:flex;\n",
       "      flex-wrap:wrap;\n",
       "      gap: 12px;\n",
       "    }\n",
       "\n",
       "    .colab-df-convert {\n",
       "      background-color: #E8F0FE;\n",
       "      border: none;\n",
       "      border-radius: 50%;\n",
       "      cursor: pointer;\n",
       "      display: none;\n",
       "      fill: #1967D2;\n",
       "      height: 32px;\n",
       "      padding: 0 0 0 0;\n",
       "      width: 32px;\n",
       "    }\n",
       "\n",
       "    .colab-df-convert:hover {\n",
       "      background-color: #E2EBFA;\n",
       "      box-shadow: 0px 1px 2px rgba(60, 64, 67, 0.3), 0px 1px 3px 1px rgba(60, 64, 67, 0.15);\n",
       "      fill: #174EA6;\n",
       "    }\n",
       "\n",
       "    [theme=dark] .colab-df-convert {\n",
       "      background-color: #3B4455;\n",
       "      fill: #D2E3FC;\n",
       "    }\n",
       "\n",
       "    [theme=dark] .colab-df-convert:hover {\n",
       "      background-color: #434B5C;\n",
       "      box-shadow: 0px 1px 3px 1px rgba(0, 0, 0, 0.15);\n",
       "      filter: drop-shadow(0px 1px 2px rgba(0, 0, 0, 0.3));\n",
       "      fill: #FFFFFF;\n",
       "    }\n",
       "  </style>\n",
       "\n",
       "      <script>\n",
       "        const buttonEl =\n",
       "          document.querySelector('#df-56d196a5-5e83-415c-ba59-67cda6e26a91 button.colab-df-convert');\n",
       "        buttonEl.style.display =\n",
       "          google.colab.kernel.accessAllowed ? 'block' : 'none';\n",
       "\n",
       "        async function convertToInteractive(key) {\n",
       "          const element = document.querySelector('#df-56d196a5-5e83-415c-ba59-67cda6e26a91');\n",
       "          const dataTable =\n",
       "            await google.colab.kernel.invokeFunction('convertToInteractive',\n",
       "                                                     [key], {});\n",
       "          if (!dataTable) return;\n",
       "\n",
       "          const docLinkHtml = 'Like what you see? Visit the ' +\n",
       "            '<a target=\"_blank\" href=https://colab.research.google.com/notebooks/data_table.ipynb>data table notebook</a>'\n",
       "            + ' to learn more about interactive tables.';\n",
       "          element.innerHTML = '';\n",
       "          dataTable['output_type'] = 'display_data';\n",
       "          await google.colab.output.renderOutput(dataTable, element);\n",
       "          const docLink = document.createElement('div');\n",
       "          docLink.innerHTML = docLinkHtml;\n",
       "          element.appendChild(docLink);\n",
       "        }\n",
       "      </script>\n",
       "    </div>\n",
       "  </div>\n",
       "  "
      ],
      "text/plain": [
       "         Month    Y  lag1\n",
       "132 1960-01-01  417   405\n",
       "133 1960-02-01  391   417\n",
       "134 1960-03-01  419   391\n",
       "135 1960-04-01  461   419\n",
       "136 1960-05-01  472   461"
      ]
     },
     "execution_count": 26,
     "metadata": {},
     "output_type": "execute_result"
    }
   ],
   "source": [
    "test_set = data.iloc[-12:,:]\n",
    "test_set.head()"
   ]
  },
  {
   "cell_type": "markdown",
   "metadata": {
    "id": "6noCT7pUvyat"
   },
   "source": [
    "5) Xây dựng mô hình dự báo lưu lượng hành khách của từng tháng theo phương trình hồi qui tuyến tính đơn biến trên tập `train` theo hai cách:\n",
    "\n",
    "- Cách 1: Sử dụng công thức nghiệm được tính ra từ đạo hàm bậc nhất của hàm mất mát.\n",
    "- Cách 2: Dùng mô hình LinearRegression của package scikit learn.\n",
    "\n",
    "Sau đó đo lường độ chính xác trên tập `test` bằng metric `RMSE`\n",
    "\n",
    "**Chưa làm cách 1**"
   ]
  },
  {
   "cell_type": "code",
   "execution_count": 50,
   "metadata": {
    "colab": {
     "base_uri": "https://localhost:8080/"
    },
    "executionInfo": {
     "elapsed": 224,
     "status": "ok",
     "timestamp": 1672245593964,
     "user": {
      "displayName": "thao le",
      "userId": "16090104078780276766"
     },
     "user_tz": -60
    },
    "id": "Qp7wend_8IRz",
    "outputId": "1d6b3d2c-af6c-48e9-b6a2-a6491c9b5127"
   },
   "outputs": [
    {
     "name": "stdout",
     "output_type": "stream",
     "text": [
      "Train Score: 41.74 RMSE\n"
     ]
    }
   ],
   "source": [
    "# fit the model by Linear Regression\n",
    "\n",
    "x_train = pd.to_datetime(train_set['Month'], format='%Y-%m')\n",
    "y_train = train_set['Y'].values.reshape(-1, 1)\n",
    "\n",
    "lm = LinearRegression()\n",
    "model = lm.fit(x_train.values.reshape(-1, 1),y_train)\n",
    "\n",
    "y_predict = lm.predict(x_train.values.astype(float).reshape(-1, 1))\n",
    "\n",
    "\n",
    "#Computing RMSE (Root Mean Squared Error)\n",
    "trainScore = math.sqrt(mean_squared_error(y_train, y_predict))\n",
    "print('Train Score: %.2f RMSE' % (trainScore))"
   ]
  },
  {
   "cell_type": "code",
   "execution_count": 52,
   "metadata": {
    "colab": {
     "base_uri": "https://localhost:8080/"
    },
    "executionInfo": {
     "elapsed": 235,
     "status": "ok",
     "timestamp": 1672246026897,
     "user": {
      "displayName": "thao le",
      "userId": "16090104078780276766"
     },
     "user_tz": -60
    },
    "id": "LtGFj3Qom4Uu",
    "outputId": "e16b84e4-3ce8-4eb4-b217-7d1acb66ab6f"
   },
   "outputs": [
    {
     "name": "stdout",
     "output_type": "stream",
     "text": [
      "Train Score: 78.83 RMSE\n"
     ]
    }
   ],
   "source": [
    "x_test = pd.to_datetime(test_set['Month'], format='%Y-%m')\n",
    "y_test = test_set['Y'].values.reshape(-1, 1)\n",
    "\n",
    "\n",
    "y_test_predict = lm.predict(x_test.values.astype(float).reshape(-1, 1))\n",
    "\n",
    "\n",
    "#Computing RMSE (Root Mean Squared Error)\n",
    "trainScore = math.sqrt(mean_squared_error(y_test, y_test_predict))\n",
    "print('Train Score: %.2f RMSE' % (trainScore))"
   ]
  }
 ],
 "metadata": {
  "colab": {
   "provenance": [
    {
     "file_id": "1uomiexcW13qvcrgCaJslG-6Z-5a9_lJq",
     "timestamp": 1672224233871
    },
    {
     "file_id": "1OgHDMAz4s5JxtqpwlRZVvocN_9aNUuaT",
     "timestamp": 1636635936226
    },
    {
     "file_id": "1T_lwwF-_TDKpS8B56OHdA0LZzoFf-8Gz",
     "timestamp": 1636620138799
    }
   ]
  },
  "kernelspec": {
   "display_name": "Python 3",
   "language": "python",
   "name": "python3"
  },
  "language_info": {
   "codemirror_mode": {
    "name": "ipython",
    "version": 3
   },
   "file_extension": ".py",
   "mimetype": "text/x-python",
   "name": "python",
   "nbconvert_exporter": "python",
   "pygments_lexer": "ipython3",
   "version": "3.8.10"
  },
  "latex_envs": {
   "LaTeX_envs_menu_present": true,
   "autoclose": false,
   "autocomplete": true,
   "bibliofile": "biblio.bib",
   "cite_by": "apalike",
   "current_citInitial": 1,
   "eqLabelWithNumbers": true,
   "eqNumInitial": 1,
   "hotkeys": {
    "equation": "Ctrl-E",
    "itemize": "Ctrl-I"
   },
   "labels_anchors": false,
   "latex_user_defs": false,
   "report_style_numbering": false,
   "user_envs_cfg": false
  }
 },
 "nbformat": 4,
 "nbformat_minor": 1
}
