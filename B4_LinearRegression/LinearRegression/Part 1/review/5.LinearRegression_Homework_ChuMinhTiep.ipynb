{
 "cells": [
  {
   "cell_type": "markdown",
   "metadata": {
    "id": "QUXeB_LbobGO"
   },
   "source": [
    "# I. Trắc nghiệm (10 câu, mỗi câu 0.5 điểm)"
   ]
  },
  {
   "cell_type": "markdown",
   "metadata": {
    "id": "RzmGDTkwoiBi"
   },
   "source": [
    "1) Mô hình hồi qui tuyến tính (_Linear Regression_) nhằm giải quyết lớp bài toán nào ?\n",
    "\n",
    "A. Phân loại các quan sát theo nhãn.\n",
    "\n",
    "B. Hồi qui trên các biến mục tiêu là biến liên tục.\n",
    "\n",
    "C. Dự báo khoảng biến thiên của các biến mục tiêu.\n",
    "\n",
    "D. Giảm chiều dữ liệu của các biến đầu vào."
   ]
  },
  {
   "cell_type": "markdown",
   "metadata": {
    "id": "SEYNw_i99NXh"
   },
   "source": [
    "1-B"
   ]
  },
  {
   "cell_type": "markdown",
   "metadata": {
    "id": "lswEoAbCpQB1"
   },
   "source": [
    "2) Đâu là công thức chuẩn xác để ước lượng biến mục tiêu của mô hình hồi qui đơn biến.\n",
    "\n",
    "A. $y = w_1 x$\n",
    "\n",
    "B. $y = w_0 + w_1 x$\n",
    "\n",
    "C. $y = w_0 + w_1 \\log x$\n",
    "\n",
    "D. $y = w_0 + w_1 x_1 + w_2 x_2$"
   ]
  },
  {
   "cell_type": "markdown",
   "metadata": {
    "id": "ymyP5ovR9llU"
   },
   "source": [
    "2-B"
   ]
  },
  {
   "cell_type": "markdown",
   "metadata": {
    "id": "oT7H2wLdqrCZ"
   },
   "source": [
    "3) Ý nghĩa của hệ số ước lượng $w_1$ trong bài toán hồi qui tuyến tính đơn biến có phương trình hồi qui $\\hat{y} = w_0 + w_1 x$ là:\n",
    "\n",
    "A. Tác động biên của biến đầu vào lên biến mục tiêu. Tức là khi biến đầu vào $x$ tăng 1 đơn vị thì giá trị ước lượng biến mục tiêu tăng lên $w_1$ đơn vị.\n",
    "\n",
    "B. Hệ số góc của phương trình hồi qui tuyến tính $w_0 + w_1 x$. Khi giá trị độ lớn tuyệt đối của $w_1$ càng lớn thì đồ thị đường hồi qui càng dốc và ngược lại.\n",
    "\n",
    "C. Giá trị giao cắt của đường hồi qui với trục $y$.\n",
    "\n",
    "D. Cả A và B"
   ]
  },
  {
   "cell_type": "markdown",
   "metadata": {
    "id": "3lBnwgel9sQ7"
   },
   "source": [
    "3-D"
   ]
  },
  {
   "cell_type": "markdown",
   "metadata": {
    "id": "Dk2mdHZCspUL"
   },
   "source": [
    "4) Bài toán hồi qui tuyến tính (_Linear Regression_) dựa trên `hàm chi phí` (_cost function_) hoặc tên gọi khác là `hàm mất mát` (_loss function_) có công thức như thế nào ?\n",
    "\n",
    "A. $\\mathcal{L}(\\mathbf{w}) = \\frac{1}{2n} \\sum_{i=1}^n (y_i-w_0-w_1 x)^2$\n",
    "\n",
    "B. $\\mathcal{L}(\\mathbf{w}) = \\frac{1}{2n} \\sum_{i=1}^n (y_i-w_0+w_1 x)^2$\n",
    "\n",
    "C. $\\mathcal{L}(\\mathbf{w}) = \\frac{1}{2n} \\sum_{i=1}^n |y_i-\\hat{y}_i|$\n",
    "\n",
    "D. $\\mathcal{L}(\\mathbf{w}) = \\frac{1}{2n} \\sum_{i=1}^n (y_i-\\hat{y}_i)^2$"
   ]
  },
  {
   "cell_type": "markdown",
   "metadata": {
    "id": "0uDB7pIL-CGD"
   },
   "source": [
    "4-A **(Đáp án chưa được tổng quát, nếu chọn A thì chỉ đúng với bài toán hồi quy đơn biến, nên chọn D là đúng nhất)**"
   ]
  },
  {
   "cell_type": "markdown",
   "metadata": {
    "id": "p4mDv6y5yhWx"
   },
   "source": [
    "5) Để tìm nghiệm tối ưu của hàm mất mát trong bài toán hồi qui tuyến tính chúng ta có thể sử dụng phương pháp nào?\n",
    "\n",
    "A. Thử nghiệm các bộ trọng số khác nhau một cách ngẫu nhiên và tìm ra bộ trọng số có giá trị hàm mất mát là nhỏ nhất.\n",
    "\n",
    "B. Tính đạo hàm bậc nhất của hàm mất mát theo các trọng số $w_i$.\n",
    "\n",
    "C. Lấy cực trị địa phương của hàm mất mát.\n",
    "\n",
    "D. Cả ba đáp án trên."
   ]
  },
  {
   "cell_type": "markdown",
   "metadata": {
    "id": "4EHnm4Xg-Rcd"
   },
   "source": [
    "5-D"
   ]
  },
  {
   "cell_type": "markdown",
   "metadata": {
    "id": "vnRWgebVuBl5"
   },
   "source": [
    "6) Đâu là những metrics thường được sử dụng trong bài toán hồi qui tuyến tính\n",
    "\n",
    "A. MSE, RMSE, MAP, precision\n",
    "\n",
    "B. MSE, RMSE, MAP, MAPE, R-squared\n",
    "\n",
    "C. MSE, RMSE, MAP, MAPE, R-squared, accuracy\n",
    "\n",
    "D. MAP, MAPE, R-squared, accuracy, precision, recall"
   ]
  },
  {
   "cell_type": "markdown",
   "metadata": {
    "id": "brQszy1Y-j_T"
   },
   "source": [
    "6-C (**Sai - Accuracy là metric đánh giá cho bài toán phân lớp - Đáp án: B**) "
   ]
  },
  {
   "cell_type": "markdown",
   "metadata": {
    "id": "8Ii-hm51uslZ"
   },
   "source": [
    "Giả sử mô hình hồi qui tuyến tính đa biến có ma trận đầu vào là $\\mathbf{X} \\in \\mathbb{R}^{n \\times p}$ và biến mục tiêu $\\mathbf{y} \\in \\mathbb{R}^{n}$. Trong đó $n$ là số quan sát và $p$ là số biến đầu vào. Khi chúng ta thêm vào ma trận $\\mathbf{X}$ một cột có toàn bộ các giá trị bằng 1 vào bên trái thì thu được ma trận mở rộng $\\bar{\\mathbf{X}}$. Một mô hình hồi qui tuyến tính có véc tơ trọng số chuyển vị $\\mathbf{w}^{\\intercal} = [w_0, w_1, \\dots, w_d]$, $\\mathbf{w} \\in \\mathbb{R}^{d+1}$. Trong đó trọng số $w_0$ tương ứng với hệ số tự do (không phụ thuộc vào biến đầu vào) và $w_i$ là trọng số tương ứng với biến $\\mathbf{x}_i$. Cụ thể các ma trận và véc tơ đã mô tả ở trên như sau:\n",
    "\n",
    "![](https://imgur.com/4crDLxT.png)"
   ]
  },
  {
   "cell_type": "markdown",
   "metadata": {
    "id": "We3cu6EX2I2Z"
   },
   "source": [
    "\n",
    "7) Gía trị ước lượng của mô hình hồi qui tuyến tính:\n",
    "\n",
    "A. $\\hat{\\mathbf{y}} = \\bar{\\mathbf{X}}\\mathbf{w}$\n",
    "\n",
    "B. $\\hat{\\mathbf{y}} = \\mathbf{X}\\mathbf{w}$\n",
    "\n",
    "C. $\\hat{\\mathbf{y}} = \\mathbf{X}\\mathbf{w}^{\\intercal}$\n",
    "\n",
    "D. $\\hat{\\mathbf{y}} = \\bar{\\mathbf{X}}\\mathbf{w}^{\\intercal}$"
   ]
  },
  {
   "cell_type": "markdown",
   "metadata": {
    "id": "JddIwQZsyXea"
   },
   "source": [
    "7-A"
   ]
  },
  {
   "cell_type": "markdown",
   "metadata": {
    "id": "_8nMfsB-yZP8"
   },
   "source": [
    "8) Hàm mất mát của mô hình hồi qui tuyến tính theo biểu diễn của phép nhân ma trận, véc tơ\n",
    "\n",
    "A. $||\\mathbf{y} - \\hat{\\mathbf{y}}||_2^2$ hoặc $||\\mathbf{y} - \\bar{\\mathbf{X}} \\mathbf{w}||_2^2$\n",
    "\n",
    "B. $||\\mathbf{y} - \\hat{\\mathbf{y}}||_2^2$ hoặc $||\\mathbf{y} - \\mathbf{X} \\mathbf{w}||_2^2$\n",
    "\n",
    "C. $||\\mathbf{y} - \\hat{\\mathbf{y}}||_2^2$ hoặc $||\\mathbf{y} - \\bar{\\mathbf{X}} \\mathbf{w}^{\\intercal}||_2^2$\n",
    "\n",
    "D. $||\\mathbf{y} - \\hat{\\mathbf{y}}||_2^2$ hoặc $||\\mathbf{y} - \\mathbf{X} \\mathbf{w}^{\\intercal}||_2^2$"
   ]
  },
  {
   "cell_type": "markdown",
   "metadata": {
    "id": "bY20QN7Uykv3"
   },
   "source": [
    "8-A"
   ]
  },
  {
   "cell_type": "markdown",
   "metadata": {
    "id": "Dljv1EKMymL4"
   },
   "source": [
    "9) Đạo hàm của hàm mát mát của mô hình hồi qui tuyến tính theo biểu diễn của ma trận, véc tơ:\n",
    "\n",
    "A. $\\mathbf{X}^{\\intercal} (\\mathbf{X} \\mathbf{w} - \\mathbf{y})$\n",
    "\n",
    "B. $\\bar{\\mathbf{X}}^{\\intercal} (\\bar{\\mathbf{X}} \\mathbf{w} - \\mathbf{y})$\n",
    "\n",
    "C. $\\mathbf{X}^{\\intercal} (\\bar{\\mathbf{X}} \\mathbf{w} - \\mathbf{y})$\n",
    "\n",
    "D. $\\bar{\\mathbf{X}}^{\\intercal} (\\mathbf{X} \\mathbf{w} - \\mathbf{y})$"
   ]
  },
  {
   "cell_type": "markdown",
   "metadata": {
    "id": "rTUf79h4_wNH"
   },
   "source": [
    "9-B"
   ]
  },
  {
   "cell_type": "markdown",
   "metadata": {
    "id": "xPXVtx2VynWn"
   },
   "source": [
    "10) Nghiệm $\\mathbf{w}$ của hàm mất mát của mô hình hồi qui tuyến tính:\n",
    "\n",
    "A. $\\mathbf{w} = (\\bar{\\mathbf{X}}^{\\intercal} \\bar{\\mathbf{X}})^{-1} \\bar{\\mathbf{X}}^{\\intercal} \\mathbf{y}$\n",
    "\n",
    "B. $\\mathbf{w} = (\\mathbf{X}^{\\intercal} \\mathbf{X})^{-1} \\bar{\\mathbf{X}}^{\\intercal} \\mathbf{y}$\n",
    "\n",
    "C. $\\mathbf{w} = (\\mathbf{X}^{\\intercal} \\mathbf{X})^{-1} \\mathbf{X}^{\\intercal} \\mathbf{y}$\n",
    "\n",
    "D. $\\mathbf{w} = (\\bar{\\mathbf{X}}^{\\intercal} \\bar{\\mathbf{X}})^{-1} \\mathbf{X}^{\\intercal} \\mathbf{y}$"
   ]
  },
  {
   "cell_type": "markdown",
   "metadata": {
    "id": "RSZ1o4vb_7qi"
   },
   "source": [
    "10 - A"
   ]
  },
  {
   "cell_type": "markdown",
   "metadata": {
    "id": "DeRIHIxpogL9"
   },
   "source": [
    "# II. Thực hành"
   ]
  },
  {
   "cell_type": "markdown",
   "metadata": {
    "id": "4LqUV1Wq5lQz"
   },
   "source": [
    "1) Từ bộ dữ liệu về [international airline passengers](https://raw.githubusercontent.com/phamdinhkhanh/LSTM/master/international-airline-passengers.csv) có đường dẫn: `https://raw.githubusercontent.com/phamdinhkhanh/LSTM/master/international-airline-passengers.csv` .  Hãy đọc dữ liệu và lưu thành pandas.DataFrame với hai trường dữ liệu tương ứng là:\n",
    "\n",
    "- `Month`: Thời gian với định dạng `YYYY-MM`.\n",
    "- `Y`: Biến mục tiêu $y$ thể hiện số lượng hành khách ở mỗi tháng. "
   ]
  },
  {
   "cell_type": "code",
   "execution_count": null,
   "metadata": {
    "id": "6QPRGtiQofeu"
   },
   "outputs": [],
   "source": [
    "import pandas as pd\n",
    "import numpy as np\n",
    "import matplotlib.pyplot as plt\n",
    "from sklearn.linear_model import LinearRegression\n",
    "from sklearn.preprocessing import MinMaxScaler\n",
    "from sklearn.metrics import mean_squared_error\n",
    "from sklearn.preprocessing import scale \n",
    "from sklearn.linear_model import Ridge, RidgeCV, Lasso, LassoCV\n",
    "from datetime import datetime\n",
    "import numpy as np"
   ]
  },
  {
   "cell_type": "code",
   "execution_count": null,
   "metadata": {
    "colab": {
     "base_uri": "https://localhost:8080/",
     "height": 206
    },
    "executionInfo": {
     "elapsed": 364,
     "status": "ok",
     "timestamp": 1672275658353,
     "user": {
      "displayName": "Tiệp Chu",
      "userId": "13992136945170625629"
     },
     "user_tz": -180
    },
    "id": "y4KyMui6ZQ81",
    "outputId": "24b64154-2a30-4d1a-a198-607a373c8f8b"
   },
   "outputs": [
    {
     "data": {
      "text/html": [
       "\n",
       "  <div id=\"df-aaa31685-678a-43bb-827a-cc62bf29ca4c\">\n",
       "    <div class=\"colab-df-container\">\n",
       "      <div>\n",
       "<style scoped>\n",
       "    .dataframe tbody tr th:only-of-type {\n",
       "        vertical-align: middle;\n",
       "    }\n",
       "\n",
       "    .dataframe tbody tr th {\n",
       "        vertical-align: top;\n",
       "    }\n",
       "\n",
       "    .dataframe thead th {\n",
       "        text-align: right;\n",
       "    }\n",
       "</style>\n",
       "<table border=\"1\" class=\"dataframe\">\n",
       "  <thead>\n",
       "    <tr style=\"text-align: right;\">\n",
       "      <th></th>\n",
       "      <th>Month</th>\n",
       "      <th>International airline passengers: monthly totals in thousands. Jan 49 ? Dec 60</th>\n",
       "    </tr>\n",
       "  </thead>\n",
       "  <tbody>\n",
       "    <tr>\n",
       "      <th>0</th>\n",
       "      <td>1949-01</td>\n",
       "      <td>112</td>\n",
       "    </tr>\n",
       "    <tr>\n",
       "      <th>1</th>\n",
       "      <td>1949-02</td>\n",
       "      <td>118</td>\n",
       "    </tr>\n",
       "    <tr>\n",
       "      <th>2</th>\n",
       "      <td>1949-03</td>\n",
       "      <td>132</td>\n",
       "    </tr>\n",
       "    <tr>\n",
       "      <th>3</th>\n",
       "      <td>1949-04</td>\n",
       "      <td>129</td>\n",
       "    </tr>\n",
       "    <tr>\n",
       "      <th>4</th>\n",
       "      <td>1949-05</td>\n",
       "      <td>121</td>\n",
       "    </tr>\n",
       "  </tbody>\n",
       "</table>\n",
       "</div>\n",
       "      <button class=\"colab-df-convert\" onclick=\"convertToInteractive('df-aaa31685-678a-43bb-827a-cc62bf29ca4c')\"\n",
       "              title=\"Convert this dataframe to an interactive table.\"\n",
       "              style=\"display:none;\">\n",
       "        \n",
       "  <svg xmlns=\"http://www.w3.org/2000/svg\" height=\"24px\"viewBox=\"0 0 24 24\"\n",
       "       width=\"24px\">\n",
       "    <path d=\"M0 0h24v24H0V0z\" fill=\"none\"/>\n",
       "    <path d=\"M18.56 5.44l.94 2.06.94-2.06 2.06-.94-2.06-.94-.94-2.06-.94 2.06-2.06.94zm-11 1L8.5 8.5l.94-2.06 2.06-.94-2.06-.94L8.5 2.5l-.94 2.06-2.06.94zm10 10l.94 2.06.94-2.06 2.06-.94-2.06-.94-.94-2.06-.94 2.06-2.06.94z\"/><path d=\"M17.41 7.96l-1.37-1.37c-.4-.4-.92-.59-1.43-.59-.52 0-1.04.2-1.43.59L10.3 9.45l-7.72 7.72c-.78.78-.78 2.05 0 2.83L4 21.41c.39.39.9.59 1.41.59.51 0 1.02-.2 1.41-.59l7.78-7.78 2.81-2.81c.8-.78.8-2.07 0-2.86zM5.41 20L4 18.59l7.72-7.72 1.47 1.35L5.41 20z\"/>\n",
       "  </svg>\n",
       "      </button>\n",
       "      \n",
       "  <style>\n",
       "    .colab-df-container {\n",
       "      display:flex;\n",
       "      flex-wrap:wrap;\n",
       "      gap: 12px;\n",
       "    }\n",
       "\n",
       "    .colab-df-convert {\n",
       "      background-color: #E8F0FE;\n",
       "      border: none;\n",
       "      border-radius: 50%;\n",
       "      cursor: pointer;\n",
       "      display: none;\n",
       "      fill: #1967D2;\n",
       "      height: 32px;\n",
       "      padding: 0 0 0 0;\n",
       "      width: 32px;\n",
       "    }\n",
       "\n",
       "    .colab-df-convert:hover {\n",
       "      background-color: #E2EBFA;\n",
       "      box-shadow: 0px 1px 2px rgba(60, 64, 67, 0.3), 0px 1px 3px 1px rgba(60, 64, 67, 0.15);\n",
       "      fill: #174EA6;\n",
       "    }\n",
       "\n",
       "    [theme=dark] .colab-df-convert {\n",
       "      background-color: #3B4455;\n",
       "      fill: #D2E3FC;\n",
       "    }\n",
       "\n",
       "    [theme=dark] .colab-df-convert:hover {\n",
       "      background-color: #434B5C;\n",
       "      box-shadow: 0px 1px 3px 1px rgba(0, 0, 0, 0.15);\n",
       "      filter: drop-shadow(0px 1px 2px rgba(0, 0, 0, 0.3));\n",
       "      fill: #FFFFFF;\n",
       "    }\n",
       "  </style>\n",
       "\n",
       "      <script>\n",
       "        const buttonEl =\n",
       "          document.querySelector('#df-aaa31685-678a-43bb-827a-cc62bf29ca4c button.colab-df-convert');\n",
       "        buttonEl.style.display =\n",
       "          google.colab.kernel.accessAllowed ? 'block' : 'none';\n",
       "\n",
       "        async function convertToInteractive(key) {\n",
       "          const element = document.querySelector('#df-aaa31685-678a-43bb-827a-cc62bf29ca4c');\n",
       "          const dataTable =\n",
       "            await google.colab.kernel.invokeFunction('convertToInteractive',\n",
       "                                                     [key], {});\n",
       "          if (!dataTable) return;\n",
       "\n",
       "          const docLinkHtml = 'Like what you see? Visit the ' +\n",
       "            '<a target=\"_blank\" href=https://colab.research.google.com/notebooks/data_table.ipynb>data table notebook</a>'\n",
       "            + ' to learn more about interactive tables.';\n",
       "          element.innerHTML = '';\n",
       "          dataTable['output_type'] = 'display_data';\n",
       "          await google.colab.output.renderOutput(dataTable, element);\n",
       "          const docLink = document.createElement('div');\n",
       "          docLink.innerHTML = docLinkHtml;\n",
       "          element.appendChild(docLink);\n",
       "        }\n",
       "      </script>\n",
       "    </div>\n",
       "  </div>\n",
       "  "
      ],
      "text/plain": [
       "     Month  \\\n",
       "0  1949-01   \n",
       "1  1949-02   \n",
       "2  1949-03   \n",
       "3  1949-04   \n",
       "4  1949-05   \n",
       "\n",
       "   International airline passengers: monthly totals in thousands. Jan 49 ? Dec 60  \n",
       "0                                                112                               \n",
       "1                                                118                               \n",
       "2                                                132                               \n",
       "3                                                129                               \n",
       "4                                                121                               "
      ]
     },
     "execution_count": 3,
     "metadata": {},
     "output_type": "execute_result"
    }
   ],
   "source": [
    "df = pd.read_csv('https://raw.githubusercontent.com/phamdinhkhanh/LSTM/master/international-airline-passengers.csv')\n",
    "df.head()\n"
   ]
  },
  {
   "cell_type": "code",
   "execution_count": null,
   "metadata": {
    "id": "fsb1o2VeZfof"
   },
   "outputs": [],
   "source": [
    "df.columns = ['Month','Y']"
   ]
  },
  {
   "cell_type": "code",
   "execution_count": null,
   "metadata": {
    "colab": {
     "base_uri": "https://localhost:8080/",
     "height": 424
    },
    "executionInfo": {
     "elapsed": 3,
     "status": "ok",
     "timestamp": 1672275700913,
     "user": {
      "displayName": "Tiệp Chu",
      "userId": "13992136945170625629"
     },
     "user_tz": -180
    },
    "id": "PkASN4XYZhtl",
    "outputId": "40d07bc4-dd27-4ec7-8f41-e0ba5996531d"
   },
   "outputs": [
    {
     "data": {
      "text/html": [
       "\n",
       "  <div id=\"df-211c44b2-fc36-4262-847c-e2ce12a0723e\">\n",
       "    <div class=\"colab-df-container\">\n",
       "      <div>\n",
       "<style scoped>\n",
       "    .dataframe tbody tr th:only-of-type {\n",
       "        vertical-align: middle;\n",
       "    }\n",
       "\n",
       "    .dataframe tbody tr th {\n",
       "        vertical-align: top;\n",
       "    }\n",
       "\n",
       "    .dataframe thead th {\n",
       "        text-align: right;\n",
       "    }\n",
       "</style>\n",
       "<table border=\"1\" class=\"dataframe\">\n",
       "  <thead>\n",
       "    <tr style=\"text-align: right;\">\n",
       "      <th></th>\n",
       "      <th>Month</th>\n",
       "      <th>Y</th>\n",
       "    </tr>\n",
       "  </thead>\n",
       "  <tbody>\n",
       "    <tr>\n",
       "      <th>0</th>\n",
       "      <td>1949-01</td>\n",
       "      <td>112</td>\n",
       "    </tr>\n",
       "    <tr>\n",
       "      <th>1</th>\n",
       "      <td>1949-02</td>\n",
       "      <td>118</td>\n",
       "    </tr>\n",
       "    <tr>\n",
       "      <th>2</th>\n",
       "      <td>1949-03</td>\n",
       "      <td>132</td>\n",
       "    </tr>\n",
       "    <tr>\n",
       "      <th>3</th>\n",
       "      <td>1949-04</td>\n",
       "      <td>129</td>\n",
       "    </tr>\n",
       "    <tr>\n",
       "      <th>4</th>\n",
       "      <td>1949-05</td>\n",
       "      <td>121</td>\n",
       "    </tr>\n",
       "    <tr>\n",
       "      <th>...</th>\n",
       "      <td>...</td>\n",
       "      <td>...</td>\n",
       "    </tr>\n",
       "    <tr>\n",
       "      <th>139</th>\n",
       "      <td>1960-08</td>\n",
       "      <td>606</td>\n",
       "    </tr>\n",
       "    <tr>\n",
       "      <th>140</th>\n",
       "      <td>1960-09</td>\n",
       "      <td>508</td>\n",
       "    </tr>\n",
       "    <tr>\n",
       "      <th>141</th>\n",
       "      <td>1960-10</td>\n",
       "      <td>461</td>\n",
       "    </tr>\n",
       "    <tr>\n",
       "      <th>142</th>\n",
       "      <td>1960-11</td>\n",
       "      <td>390</td>\n",
       "    </tr>\n",
       "    <tr>\n",
       "      <th>143</th>\n",
       "      <td>1960-12</td>\n",
       "      <td>432</td>\n",
       "    </tr>\n",
       "  </tbody>\n",
       "</table>\n",
       "<p>144 rows × 2 columns</p>\n",
       "</div>\n",
       "      <button class=\"colab-df-convert\" onclick=\"convertToInteractive('df-211c44b2-fc36-4262-847c-e2ce12a0723e')\"\n",
       "              title=\"Convert this dataframe to an interactive table.\"\n",
       "              style=\"display:none;\">\n",
       "        \n",
       "  <svg xmlns=\"http://www.w3.org/2000/svg\" height=\"24px\"viewBox=\"0 0 24 24\"\n",
       "       width=\"24px\">\n",
       "    <path d=\"M0 0h24v24H0V0z\" fill=\"none\"/>\n",
       "    <path d=\"M18.56 5.44l.94 2.06.94-2.06 2.06-.94-2.06-.94-.94-2.06-.94 2.06-2.06.94zm-11 1L8.5 8.5l.94-2.06 2.06-.94-2.06-.94L8.5 2.5l-.94 2.06-2.06.94zm10 10l.94 2.06.94-2.06 2.06-.94-2.06-.94-.94-2.06-.94 2.06-2.06.94z\"/><path d=\"M17.41 7.96l-1.37-1.37c-.4-.4-.92-.59-1.43-.59-.52 0-1.04.2-1.43.59L10.3 9.45l-7.72 7.72c-.78.78-.78 2.05 0 2.83L4 21.41c.39.39.9.59 1.41.59.51 0 1.02-.2 1.41-.59l7.78-7.78 2.81-2.81c.8-.78.8-2.07 0-2.86zM5.41 20L4 18.59l7.72-7.72 1.47 1.35L5.41 20z\"/>\n",
       "  </svg>\n",
       "      </button>\n",
       "      \n",
       "  <style>\n",
       "    .colab-df-container {\n",
       "      display:flex;\n",
       "      flex-wrap:wrap;\n",
       "      gap: 12px;\n",
       "    }\n",
       "\n",
       "    .colab-df-convert {\n",
       "      background-color: #E8F0FE;\n",
       "      border: none;\n",
       "      border-radius: 50%;\n",
       "      cursor: pointer;\n",
       "      display: none;\n",
       "      fill: #1967D2;\n",
       "      height: 32px;\n",
       "      padding: 0 0 0 0;\n",
       "      width: 32px;\n",
       "    }\n",
       "\n",
       "    .colab-df-convert:hover {\n",
       "      background-color: #E2EBFA;\n",
       "      box-shadow: 0px 1px 2px rgba(60, 64, 67, 0.3), 0px 1px 3px 1px rgba(60, 64, 67, 0.15);\n",
       "      fill: #174EA6;\n",
       "    }\n",
       "\n",
       "    [theme=dark] .colab-df-convert {\n",
       "      background-color: #3B4455;\n",
       "      fill: #D2E3FC;\n",
       "    }\n",
       "\n",
       "    [theme=dark] .colab-df-convert:hover {\n",
       "      background-color: #434B5C;\n",
       "      box-shadow: 0px 1px 3px 1px rgba(0, 0, 0, 0.15);\n",
       "      filter: drop-shadow(0px 1px 2px rgba(0, 0, 0, 0.3));\n",
       "      fill: #FFFFFF;\n",
       "    }\n",
       "  </style>\n",
       "\n",
       "      <script>\n",
       "        const buttonEl =\n",
       "          document.querySelector('#df-211c44b2-fc36-4262-847c-e2ce12a0723e button.colab-df-convert');\n",
       "        buttonEl.style.display =\n",
       "          google.colab.kernel.accessAllowed ? 'block' : 'none';\n",
       "\n",
       "        async function convertToInteractive(key) {\n",
       "          const element = document.querySelector('#df-211c44b2-fc36-4262-847c-e2ce12a0723e');\n",
       "          const dataTable =\n",
       "            await google.colab.kernel.invokeFunction('convertToInteractive',\n",
       "                                                     [key], {});\n",
       "          if (!dataTable) return;\n",
       "\n",
       "          const docLinkHtml = 'Like what you see? Visit the ' +\n",
       "            '<a target=\"_blank\" href=https://colab.research.google.com/notebooks/data_table.ipynb>data table notebook</a>'\n",
       "            + ' to learn more about interactive tables.';\n",
       "          element.innerHTML = '';\n",
       "          dataTable['output_type'] = 'display_data';\n",
       "          await google.colab.output.renderOutput(dataTable, element);\n",
       "          const docLink = document.createElement('div');\n",
       "          docLink.innerHTML = docLinkHtml;\n",
       "          element.appendChild(docLink);\n",
       "        }\n",
       "      </script>\n",
       "    </div>\n",
       "  </div>\n",
       "  "
      ],
      "text/plain": [
       "       Month    Y\n",
       "0    1949-01  112\n",
       "1    1949-02  118\n",
       "2    1949-03  132\n",
       "3    1949-04  129\n",
       "4    1949-05  121\n",
       "..       ...  ...\n",
       "139  1960-08  606\n",
       "140  1960-09  508\n",
       "141  1960-10  461\n",
       "142  1960-11  390\n",
       "143  1960-12  432\n",
       "\n",
       "[144 rows x 2 columns]"
      ]
     },
     "execution_count": 5,
     "metadata": {},
     "output_type": "execute_result"
    }
   ],
   "source": [
    "df"
   ]
  },
  {
   "cell_type": "code",
   "execution_count": null,
   "metadata": {
    "id": "YhyqnbqHZo2Y"
   },
   "outputs": [],
   "source": [
    "df['Month'] = pd.to_datetime(df['Month'], infer_datetime_format=True) \n",
    "indexedData = df.set_index(['Month'])"
   ]
  },
  {
   "cell_type": "code",
   "execution_count": null,
   "metadata": {
    "colab": {
     "base_uri": "https://localhost:8080/",
     "height": 424
    },
    "executionInfo": {
     "elapsed": 227,
     "status": "ok",
     "timestamp": 1672275831181,
     "user": {
      "displayName": "Tiệp Chu",
      "userId": "13992136945170625629"
     },
     "user_tz": -180
    },
    "id": "05Yt4DJ8ZzHv",
    "outputId": "eac01e33-650c-46b9-dc60-669d34e7452a"
   },
   "outputs": [
    {
     "data": {
      "text/html": [
       "\n",
       "  <div id=\"df-5dc157ba-5626-4956-b270-ae1a113e3131\">\n",
       "    <div class=\"colab-df-container\">\n",
       "      <div>\n",
       "<style scoped>\n",
       "    .dataframe tbody tr th:only-of-type {\n",
       "        vertical-align: middle;\n",
       "    }\n",
       "\n",
       "    .dataframe tbody tr th {\n",
       "        vertical-align: top;\n",
       "    }\n",
       "\n",
       "    .dataframe thead th {\n",
       "        text-align: right;\n",
       "    }\n",
       "</style>\n",
       "<table border=\"1\" class=\"dataframe\">\n",
       "  <thead>\n",
       "    <tr style=\"text-align: right;\">\n",
       "      <th></th>\n",
       "      <th>Month</th>\n",
       "      <th>Y</th>\n",
       "    </tr>\n",
       "  </thead>\n",
       "  <tbody>\n",
       "    <tr>\n",
       "      <th>0</th>\n",
       "      <td>1949-01-01</td>\n",
       "      <td>112</td>\n",
       "    </tr>\n",
       "    <tr>\n",
       "      <th>1</th>\n",
       "      <td>1949-02-01</td>\n",
       "      <td>118</td>\n",
       "    </tr>\n",
       "    <tr>\n",
       "      <th>2</th>\n",
       "      <td>1949-03-01</td>\n",
       "      <td>132</td>\n",
       "    </tr>\n",
       "    <tr>\n",
       "      <th>3</th>\n",
       "      <td>1949-04-01</td>\n",
       "      <td>129</td>\n",
       "    </tr>\n",
       "    <tr>\n",
       "      <th>4</th>\n",
       "      <td>1949-05-01</td>\n",
       "      <td>121</td>\n",
       "    </tr>\n",
       "    <tr>\n",
       "      <th>...</th>\n",
       "      <td>...</td>\n",
       "      <td>...</td>\n",
       "    </tr>\n",
       "    <tr>\n",
       "      <th>139</th>\n",
       "      <td>1960-08-01</td>\n",
       "      <td>606</td>\n",
       "    </tr>\n",
       "    <tr>\n",
       "      <th>140</th>\n",
       "      <td>1960-09-01</td>\n",
       "      <td>508</td>\n",
       "    </tr>\n",
       "    <tr>\n",
       "      <th>141</th>\n",
       "      <td>1960-10-01</td>\n",
       "      <td>461</td>\n",
       "    </tr>\n",
       "    <tr>\n",
       "      <th>142</th>\n",
       "      <td>1960-11-01</td>\n",
       "      <td>390</td>\n",
       "    </tr>\n",
       "    <tr>\n",
       "      <th>143</th>\n",
       "      <td>1960-12-01</td>\n",
       "      <td>432</td>\n",
       "    </tr>\n",
       "  </tbody>\n",
       "</table>\n",
       "<p>144 rows × 2 columns</p>\n",
       "</div>\n",
       "      <button class=\"colab-df-convert\" onclick=\"convertToInteractive('df-5dc157ba-5626-4956-b270-ae1a113e3131')\"\n",
       "              title=\"Convert this dataframe to an interactive table.\"\n",
       "              style=\"display:none;\">\n",
       "        \n",
       "  <svg xmlns=\"http://www.w3.org/2000/svg\" height=\"24px\"viewBox=\"0 0 24 24\"\n",
       "       width=\"24px\">\n",
       "    <path d=\"M0 0h24v24H0V0z\" fill=\"none\"/>\n",
       "    <path d=\"M18.56 5.44l.94 2.06.94-2.06 2.06-.94-2.06-.94-.94-2.06-.94 2.06-2.06.94zm-11 1L8.5 8.5l.94-2.06 2.06-.94-2.06-.94L8.5 2.5l-.94 2.06-2.06.94zm10 10l.94 2.06.94-2.06 2.06-.94-2.06-.94-.94-2.06-.94 2.06-2.06.94z\"/><path d=\"M17.41 7.96l-1.37-1.37c-.4-.4-.92-.59-1.43-.59-.52 0-1.04.2-1.43.59L10.3 9.45l-7.72 7.72c-.78.78-.78 2.05 0 2.83L4 21.41c.39.39.9.59 1.41.59.51 0 1.02-.2 1.41-.59l7.78-7.78 2.81-2.81c.8-.78.8-2.07 0-2.86zM5.41 20L4 18.59l7.72-7.72 1.47 1.35L5.41 20z\"/>\n",
       "  </svg>\n",
       "      </button>\n",
       "      \n",
       "  <style>\n",
       "    .colab-df-container {\n",
       "      display:flex;\n",
       "      flex-wrap:wrap;\n",
       "      gap: 12px;\n",
       "    }\n",
       "\n",
       "    .colab-df-convert {\n",
       "      background-color: #E8F0FE;\n",
       "      border: none;\n",
       "      border-radius: 50%;\n",
       "      cursor: pointer;\n",
       "      display: none;\n",
       "      fill: #1967D2;\n",
       "      height: 32px;\n",
       "      padding: 0 0 0 0;\n",
       "      width: 32px;\n",
       "    }\n",
       "\n",
       "    .colab-df-convert:hover {\n",
       "      background-color: #E2EBFA;\n",
       "      box-shadow: 0px 1px 2px rgba(60, 64, 67, 0.3), 0px 1px 3px 1px rgba(60, 64, 67, 0.15);\n",
       "      fill: #174EA6;\n",
       "    }\n",
       "\n",
       "    [theme=dark] .colab-df-convert {\n",
       "      background-color: #3B4455;\n",
       "      fill: #D2E3FC;\n",
       "    }\n",
       "\n",
       "    [theme=dark] .colab-df-convert:hover {\n",
       "      background-color: #434B5C;\n",
       "      box-shadow: 0px 1px 3px 1px rgba(0, 0, 0, 0.15);\n",
       "      filter: drop-shadow(0px 1px 2px rgba(0, 0, 0, 0.3));\n",
       "      fill: #FFFFFF;\n",
       "    }\n",
       "  </style>\n",
       "\n",
       "      <script>\n",
       "        const buttonEl =\n",
       "          document.querySelector('#df-5dc157ba-5626-4956-b270-ae1a113e3131 button.colab-df-convert');\n",
       "        buttonEl.style.display =\n",
       "          google.colab.kernel.accessAllowed ? 'block' : 'none';\n",
       "\n",
       "        async function convertToInteractive(key) {\n",
       "          const element = document.querySelector('#df-5dc157ba-5626-4956-b270-ae1a113e3131');\n",
       "          const dataTable =\n",
       "            await google.colab.kernel.invokeFunction('convertToInteractive',\n",
       "                                                     [key], {});\n",
       "          if (!dataTable) return;\n",
       "\n",
       "          const docLinkHtml = 'Like what you see? Visit the ' +\n",
       "            '<a target=\"_blank\" href=https://colab.research.google.com/notebooks/data_table.ipynb>data table notebook</a>'\n",
       "            + ' to learn more about interactive tables.';\n",
       "          element.innerHTML = '';\n",
       "          dataTable['output_type'] = 'display_data';\n",
       "          await google.colab.output.renderOutput(dataTable, element);\n",
       "          const docLink = document.createElement('div');\n",
       "          docLink.innerHTML = docLinkHtml;\n",
       "          element.appendChild(docLink);\n",
       "        }\n",
       "      </script>\n",
       "    </div>\n",
       "  </div>\n",
       "  "
      ],
      "text/plain": [
       "         Month    Y\n",
       "0   1949-01-01  112\n",
       "1   1949-02-01  118\n",
       "2   1949-03-01  132\n",
       "3   1949-04-01  129\n",
       "4   1949-05-01  121\n",
       "..         ...  ...\n",
       "139 1960-08-01  606\n",
       "140 1960-09-01  508\n",
       "141 1960-10-01  461\n",
       "142 1960-11-01  390\n",
       "143 1960-12-01  432\n",
       "\n",
       "[144 rows x 2 columns]"
      ]
     },
     "execution_count": 10,
     "metadata": {},
     "output_type": "execute_result"
    }
   ],
   "source": [
    "df"
   ]
  },
  {
   "cell_type": "code",
   "execution_count": null,
   "metadata": {
    "colab": {
     "base_uri": "https://localhost:8080/",
     "height": 300
    },
    "executionInfo": {
     "elapsed": 314,
     "status": "ok",
     "timestamp": 1672275837332,
     "user": {
      "displayName": "Tiệp Chu",
      "userId": "13992136945170625629"
     },
     "user_tz": -180
    },
    "id": "VKzLdUtWZ64O",
    "outputId": "ac9fa082-96b9-45da-f544-169a636f6d8c"
   },
   "outputs": [
    {
     "data": {
      "text/html": [
       "\n",
       "  <div id=\"df-a3c380c0-0d91-4df2-8b96-24ad105837a8\">\n",
       "    <div class=\"colab-df-container\">\n",
       "      <div>\n",
       "<style scoped>\n",
       "    .dataframe tbody tr th:only-of-type {\n",
       "        vertical-align: middle;\n",
       "    }\n",
       "\n",
       "    .dataframe tbody tr th {\n",
       "        vertical-align: top;\n",
       "    }\n",
       "\n",
       "    .dataframe thead th {\n",
       "        text-align: right;\n",
       "    }\n",
       "</style>\n",
       "<table border=\"1\" class=\"dataframe\">\n",
       "  <thead>\n",
       "    <tr style=\"text-align: right;\">\n",
       "      <th></th>\n",
       "      <th>Y</th>\n",
       "    </tr>\n",
       "  </thead>\n",
       "  <tbody>\n",
       "    <tr>\n",
       "      <th>count</th>\n",
       "      <td>144.000000</td>\n",
       "    </tr>\n",
       "    <tr>\n",
       "      <th>mean</th>\n",
       "      <td>280.298611</td>\n",
       "    </tr>\n",
       "    <tr>\n",
       "      <th>std</th>\n",
       "      <td>119.966317</td>\n",
       "    </tr>\n",
       "    <tr>\n",
       "      <th>min</th>\n",
       "      <td>104.000000</td>\n",
       "    </tr>\n",
       "    <tr>\n",
       "      <th>25%</th>\n",
       "      <td>180.000000</td>\n",
       "    </tr>\n",
       "    <tr>\n",
       "      <th>50%</th>\n",
       "      <td>265.500000</td>\n",
       "    </tr>\n",
       "    <tr>\n",
       "      <th>75%</th>\n",
       "      <td>360.500000</td>\n",
       "    </tr>\n",
       "    <tr>\n",
       "      <th>max</th>\n",
       "      <td>622.000000</td>\n",
       "    </tr>\n",
       "  </tbody>\n",
       "</table>\n",
       "</div>\n",
       "      <button class=\"colab-df-convert\" onclick=\"convertToInteractive('df-a3c380c0-0d91-4df2-8b96-24ad105837a8')\"\n",
       "              title=\"Convert this dataframe to an interactive table.\"\n",
       "              style=\"display:none;\">\n",
       "        \n",
       "  <svg xmlns=\"http://www.w3.org/2000/svg\" height=\"24px\"viewBox=\"0 0 24 24\"\n",
       "       width=\"24px\">\n",
       "    <path d=\"M0 0h24v24H0V0z\" fill=\"none\"/>\n",
       "    <path d=\"M18.56 5.44l.94 2.06.94-2.06 2.06-.94-2.06-.94-.94-2.06-.94 2.06-2.06.94zm-11 1L8.5 8.5l.94-2.06 2.06-.94-2.06-.94L8.5 2.5l-.94 2.06-2.06.94zm10 10l.94 2.06.94-2.06 2.06-.94-2.06-.94-.94-2.06-.94 2.06-2.06.94z\"/><path d=\"M17.41 7.96l-1.37-1.37c-.4-.4-.92-.59-1.43-.59-.52 0-1.04.2-1.43.59L10.3 9.45l-7.72 7.72c-.78.78-.78 2.05 0 2.83L4 21.41c.39.39.9.59 1.41.59.51 0 1.02-.2 1.41-.59l7.78-7.78 2.81-2.81c.8-.78.8-2.07 0-2.86zM5.41 20L4 18.59l7.72-7.72 1.47 1.35L5.41 20z\"/>\n",
       "  </svg>\n",
       "      </button>\n",
       "      \n",
       "  <style>\n",
       "    .colab-df-container {\n",
       "      display:flex;\n",
       "      flex-wrap:wrap;\n",
       "      gap: 12px;\n",
       "    }\n",
       "\n",
       "    .colab-df-convert {\n",
       "      background-color: #E8F0FE;\n",
       "      border: none;\n",
       "      border-radius: 50%;\n",
       "      cursor: pointer;\n",
       "      display: none;\n",
       "      fill: #1967D2;\n",
       "      height: 32px;\n",
       "      padding: 0 0 0 0;\n",
       "      width: 32px;\n",
       "    }\n",
       "\n",
       "    .colab-df-convert:hover {\n",
       "      background-color: #E2EBFA;\n",
       "      box-shadow: 0px 1px 2px rgba(60, 64, 67, 0.3), 0px 1px 3px 1px rgba(60, 64, 67, 0.15);\n",
       "      fill: #174EA6;\n",
       "    }\n",
       "\n",
       "    [theme=dark] .colab-df-convert {\n",
       "      background-color: #3B4455;\n",
       "      fill: #D2E3FC;\n",
       "    }\n",
       "\n",
       "    [theme=dark] .colab-df-convert:hover {\n",
       "      background-color: #434B5C;\n",
       "      box-shadow: 0px 1px 3px 1px rgba(0, 0, 0, 0.15);\n",
       "      filter: drop-shadow(0px 1px 2px rgba(0, 0, 0, 0.3));\n",
       "      fill: #FFFFFF;\n",
       "    }\n",
       "  </style>\n",
       "\n",
       "      <script>\n",
       "        const buttonEl =\n",
       "          document.querySelector('#df-a3c380c0-0d91-4df2-8b96-24ad105837a8 button.colab-df-convert');\n",
       "        buttonEl.style.display =\n",
       "          google.colab.kernel.accessAllowed ? 'block' : 'none';\n",
       "\n",
       "        async function convertToInteractive(key) {\n",
       "          const element = document.querySelector('#df-a3c380c0-0d91-4df2-8b96-24ad105837a8');\n",
       "          const dataTable =\n",
       "            await google.colab.kernel.invokeFunction('convertToInteractive',\n",
       "                                                     [key], {});\n",
       "          if (!dataTable) return;\n",
       "\n",
       "          const docLinkHtml = 'Like what you see? Visit the ' +\n",
       "            '<a target=\"_blank\" href=https://colab.research.google.com/notebooks/data_table.ipynb>data table notebook</a>'\n",
       "            + ' to learn more about interactive tables.';\n",
       "          element.innerHTML = '';\n",
       "          dataTable['output_type'] = 'display_data';\n",
       "          await google.colab.output.renderOutput(dataTable, element);\n",
       "          const docLink = document.createElement('div');\n",
       "          docLink.innerHTML = docLinkHtml;\n",
       "          element.appendChild(docLink);\n",
       "        }\n",
       "      </script>\n",
       "    </div>\n",
       "  </div>\n",
       "  "
      ],
      "text/plain": [
       "                Y\n",
       "count  144.000000\n",
       "mean   280.298611\n",
       "std    119.966317\n",
       "min    104.000000\n",
       "25%    180.000000\n",
       "50%    265.500000\n",
       "75%    360.500000\n",
       "max    622.000000"
      ]
     },
     "execution_count": 11,
     "metadata": {},
     "output_type": "execute_result"
    }
   ],
   "source": [
    "indexedData.describe()"
   ]
  },
  {
   "cell_type": "code",
   "execution_count": null,
   "metadata": {
    "colab": {
     "base_uri": "https://localhost:8080/",
     "height": 530
    },
    "executionInfo": {
     "elapsed": 275,
     "status": "ok",
     "timestamp": 1672275913308,
     "user": {
      "displayName": "Tiệp Chu",
      "userId": "13992136945170625629"
     },
     "user_tz": -180
    },
    "id": "qKOb4e_iaKCf",
    "outputId": "887c768d-f3c9-43e3-c329-b2e72c0dd384"
   },
   "outputs": [
    {
     "data": {
      "text/plain": [
       "Text(0.5, 1.0, ' passengers')"
      ]
     },
     "execution_count": 13,
     "metadata": {},
     "output_type": "execute_result"
    },
    {
     "data": {
      "image/png": "[encoded data removed]",
      "text/plain": [
       "<Figure size 720x576 with 1 Axes>"
      ]
     },
     "metadata": {
      "needs_background": "light"
     },
     "output_type": "display_data"
    }
   ],
   "source": [
    "plt.figure(figsize=(10, 8))\n",
    "plt.plot(indexedData)\n",
    "plt.xlabel(\"Date\")\n",
    "plt.ylabel(\" air passengers\")\n",
    "plt.title(\" passengers\")"
   ]
  },
  {
   "cell_type": "markdown",
   "metadata": {
    "id": "cjdckTGBI3J2"
   },
   "source": [
    "2) Vẽ biểu đồ đường thể hiện số lượng hành khách theo thời gian."
   ]
  },
  {
   "cell_type": "code",
   "execution_count": null,
   "metadata": {
    "colab": {
     "base_uri": "https://localhost:8080/",
     "height": 530
    },
    "executionInfo": {
     "elapsed": 522,
     "status": "ok",
     "timestamp": 1672275949269,
     "user": {
      "displayName": "Tiệp Chu",
      "userId": "13992136945170625629"
     },
     "user_tz": -180
    },
    "id": "IJvZKgRIaefr",
    "outputId": "791ab1b0-ac96-487b-9d26-fe900e5a02e2"
   },
   "outputs": [
    {
     "data": {
      "text/plain": [
       "Text(0.5, 1.0, ' passengers')"
      ]
     },
     "execution_count": 14,
     "metadata": {},
     "output_type": "execute_result"
    },
    {
     "data": {
      "image/png": "[encoded data removed]",
      "text/plain": [
       "<Figure size 720x576 with 1 Axes>"
      ]
     },
     "metadata": {
      "needs_background": "light"
     },
     "output_type": "display_data"
    }
   ],
   "source": [
    "plt.figure(figsize=(10, 8))\n",
    "plt.plot(indexedData)\n",
    "plt.xlabel(\"Date\")\n",
    "plt.ylabel(\" air passengers\")\n",
    "plt.title(\" passengers\")"
   ]
  },
  {
   "cell_type": "markdown",
   "metadata": {
    "id": "K1XRhYOeJTO5"
   },
   "source": [
    "3) Khởi tạo một cột dữ liệu mới là `lag1` có giá trị chính là giá trị tháng liền trước của `Y`.\n",
    "\n",
    "_gợi ý_: Sử dụng hàm _df.shift()_ của dataframe df."
   ]
  },
  {
   "cell_type": "code",
   "execution_count": null,
   "metadata": {
    "colab": {
     "base_uri": "https://localhost:8080/",
     "height": 455
    },
    "executionInfo": {
     "elapsed": 370,
     "status": "ok",
     "timestamp": 1672275972887,
     "user": {
      "displayName": "Tiệp Chu",
      "userId": "13992136945170625629"
     },
     "user_tz": -180
    },
    "id": "F81YuypyacR6",
    "outputId": "2350aa5a-5663-4e79-de90-e481f1c8cee1"
   },
   "outputs": [
    {
     "data": {
      "text/html": [
       "\n",
       "  <div id=\"df-3c2b206d-0e15-4f5b-8695-97ed38d691ea\">\n",
       "    <div class=\"colab-df-container\">\n",
       "      <div>\n",
       "<style scoped>\n",
       "    .dataframe tbody tr th:only-of-type {\n",
       "        vertical-align: middle;\n",
       "    }\n",
       "\n",
       "    .dataframe tbody tr th {\n",
       "        vertical-align: top;\n",
       "    }\n",
       "\n",
       "    .dataframe thead th {\n",
       "        text-align: right;\n",
       "    }\n",
       "</style>\n",
       "<table border=\"1\" class=\"dataframe\">\n",
       "  <thead>\n",
       "    <tr style=\"text-align: right;\">\n",
       "      <th></th>\n",
       "      <th>Y</th>\n",
       "      <th>lag1</th>\n",
       "    </tr>\n",
       "    <tr>\n",
       "      <th>Month</th>\n",
       "      <th></th>\n",
       "      <th></th>\n",
       "    </tr>\n",
       "  </thead>\n",
       "  <tbody>\n",
       "    <tr>\n",
       "      <th>1949-01-01</th>\n",
       "      <td>112</td>\n",
       "      <td>112.0</td>\n",
       "    </tr>\n",
       "    <tr>\n",
       "      <th>1949-02-01</th>\n",
       "      <td>118</td>\n",
       "      <td>112.0</td>\n",
       "    </tr>\n",
       "    <tr>\n",
       "      <th>1949-03-01</th>\n",
       "      <td>132</td>\n",
       "      <td>118.0</td>\n",
       "    </tr>\n",
       "    <tr>\n",
       "      <th>1949-04-01</th>\n",
       "      <td>129</td>\n",
       "      <td>132.0</td>\n",
       "    </tr>\n",
       "    <tr>\n",
       "      <th>1949-05-01</th>\n",
       "      <td>121</td>\n",
       "      <td>129.0</td>\n",
       "    </tr>\n",
       "    <tr>\n",
       "      <th>...</th>\n",
       "      <td>...</td>\n",
       "      <td>...</td>\n",
       "    </tr>\n",
       "    <tr>\n",
       "      <th>1960-08-01</th>\n",
       "      <td>606</td>\n",
       "      <td>622.0</td>\n",
       "    </tr>\n",
       "    <tr>\n",
       "      <th>1960-09-01</th>\n",
       "      <td>508</td>\n",
       "      <td>606.0</td>\n",
       "    </tr>\n",
       "    <tr>\n",
       "      <th>1960-10-01</th>\n",
       "      <td>461</td>\n",
       "      <td>508.0</td>\n",
       "    </tr>\n",
       "    <tr>\n",
       "      <th>1960-11-01</th>\n",
       "      <td>390</td>\n",
       "      <td>461.0</td>\n",
       "    </tr>\n",
       "    <tr>\n",
       "      <th>1960-12-01</th>\n",
       "      <td>432</td>\n",
       "      <td>390.0</td>\n",
       "    </tr>\n",
       "  </tbody>\n",
       "</table>\n",
       "<p>144 rows × 2 columns</p>\n",
       "</div>\n",
       "      <button class=\"colab-df-convert\" onclick=\"convertToInteractive('df-3c2b206d-0e15-4f5b-8695-97ed38d691ea')\"\n",
       "              title=\"Convert this dataframe to an interactive table.\"\n",
       "              style=\"display:none;\">\n",
       "        \n",
       "  <svg xmlns=\"http://www.w3.org/2000/svg\" height=\"24px\"viewBox=\"0 0 24 24\"\n",
       "       width=\"24px\">\n",
       "    <path d=\"M0 0h24v24H0V0z\" fill=\"none\"/>\n",
       "    <path d=\"M18.56 5.44l.94 2.06.94-2.06 2.06-.94-2.06-.94-.94-2.06-.94 2.06-2.06.94zm-11 1L8.5 8.5l.94-2.06 2.06-.94-2.06-.94L8.5 2.5l-.94 2.06-2.06.94zm10 10l.94 2.06.94-2.06 2.06-.94-2.06-.94-.94-2.06-.94 2.06-2.06.94z\"/><path d=\"M17.41 7.96l-1.37-1.37c-.4-.4-.92-.59-1.43-.59-.52 0-1.04.2-1.43.59L10.3 9.45l-7.72 7.72c-.78.78-.78 2.05 0 2.83L4 21.41c.39.39.9.59 1.41.59.51 0 1.02-.2 1.41-.59l7.78-7.78 2.81-2.81c.8-.78.8-2.07 0-2.86zM5.41 20L4 18.59l7.72-7.72 1.47 1.35L5.41 20z\"/>\n",
       "  </svg>\n",
       "      </button>\n",
       "      \n",
       "  <style>\n",
       "    .colab-df-container {\n",
       "      display:flex;\n",
       "      flex-wrap:wrap;\n",
       "      gap: 12px;\n",
       "    }\n",
       "\n",
       "    .colab-df-convert {\n",
       "      background-color: #E8F0FE;\n",
       "      border: none;\n",
       "      border-radius: 50%;\n",
       "      cursor: pointer;\n",
       "      display: none;\n",
       "      fill: #1967D2;\n",
       "      height: 32px;\n",
       "      padding: 0 0 0 0;\n",
       "      width: 32px;\n",
       "    }\n",
       "\n",
       "    .colab-df-convert:hover {\n",
       "      background-color: #E2EBFA;\n",
       "      box-shadow: 0px 1px 2px rgba(60, 64, 67, 0.3), 0px 1px 3px 1px rgba(60, 64, 67, 0.15);\n",
       "      fill: #174EA6;\n",
       "    }\n",
       "\n",
       "    [theme=dark] .colab-df-convert {\n",
       "      background-color: #3B4455;\n",
       "      fill: #D2E3FC;\n",
       "    }\n",
       "\n",
       "    [theme=dark] .colab-df-convert:hover {\n",
       "      background-color: #434B5C;\n",
       "      box-shadow: 0px 1px 3px 1px rgba(0, 0, 0, 0.15);\n",
       "      filter: drop-shadow(0px 1px 2px rgba(0, 0, 0, 0.3));\n",
       "      fill: #FFFFFF;\n",
       "    }\n",
       "  </style>\n",
       "\n",
       "      <script>\n",
       "        const buttonEl =\n",
       "          document.querySelector('#df-3c2b206d-0e15-4f5b-8695-97ed38d691ea button.colab-df-convert');\n",
       "        buttonEl.style.display =\n",
       "          google.colab.kernel.accessAllowed ? 'block' : 'none';\n",
       "\n",
       "        async function convertToInteractive(key) {\n",
       "          const element = document.querySelector('#df-3c2b206d-0e15-4f5b-8695-97ed38d691ea');\n",
       "          const dataTable =\n",
       "            await google.colab.kernel.invokeFunction('convertToInteractive',\n",
       "                                                     [key], {});\n",
       "          if (!dataTable) return;\n",
       "\n",
       "          const docLinkHtml = 'Like what you see? Visit the ' +\n",
       "            '<a target=\"_blank\" href=https://colab.research.google.com/notebooks/data_table.ipynb>data table notebook</a>'\n",
       "            + ' to learn more about interactive tables.';\n",
       "          element.innerHTML = '';\n",
       "          dataTable['output_type'] = 'display_data';\n",
       "          await google.colab.output.renderOutput(dataTable, element);\n",
       "          const docLink = document.createElement('div');\n",
       "          docLink.innerHTML = docLinkHtml;\n",
       "          element.appendChild(docLink);\n",
       "        }\n",
       "      </script>\n",
       "    </div>\n",
       "  </div>\n",
       "  "
      ],
      "text/plain": [
       "              Y   lag1\n",
       "Month                 \n",
       "1949-01-01  112  112.0\n",
       "1949-02-01  118  112.0\n",
       "1949-03-01  132  118.0\n",
       "1949-04-01  129  132.0\n",
       "1949-05-01  121  129.0\n",
       "...         ...    ...\n",
       "1960-08-01  606  622.0\n",
       "1960-09-01  508  606.0\n",
       "1960-10-01  461  508.0\n",
       "1960-11-01  390  461.0\n",
       "1960-12-01  432  390.0\n",
       "\n",
       "[144 rows x 2 columns]"
      ]
     },
     "execution_count": 15,
     "metadata": {},
     "output_type": "execute_result"
    }
   ],
   "source": [
    "indexedData['lag1'] = indexedData['Y'].shift(1)\n",
    "indexedData = indexedData.fillna(method = 'bfill')\n",
    "indexedData"
   ]
  },
  {
   "cell_type": "markdown",
   "metadata": {
    "id": "bF-aJ7u4sHuZ"
   },
   "source": [
    "4) Phân chia tập train/test sao cho tập test bao gồm 12 tháng cuối cùng và tập train gồm các tháng trước đó.\n",
    "\n",
    "_gợi ý_: Sử dụng _df.iloc[]_ để truy cập theo indices dòng và cột của dataframe df."
   ]
  },
  {
   "cell_type": "code",
   "execution_count": null,
   "metadata": {
    "id": "91XOgo-japyy"
   },
   "outputs": [],
   "source": [
    "df_train = indexedData.iloc[:-12,:]\n",
    "df_test = indexedData.iloc[-12:,:]"
   ]
  },
  {
   "cell_type": "code",
   "execution_count": null,
   "metadata": {
    "colab": {
     "base_uri": "https://localhost:8080/",
     "height": 238
    },
    "executionInfo": {
     "elapsed": 237,
     "status": "ok",
     "timestamp": 1672276010570,
     "user": {
      "displayName": "Tiệp Chu",
      "userId": "13992136945170625629"
     },
     "user_tz": -180
    },
    "id": "6XXALOWjat_P",
    "outputId": "12a28455-a2c5-4f77-b405-fa3219f51b5e"
   },
   "outputs": [
    {
     "data": {
      "text/html": [
       "\n",
       "  <div id=\"df-c6462fc4-ebbd-4bdb-871f-43750c3f6764\">\n",
       "    <div class=\"colab-df-container\">\n",
       "      <div>\n",
       "<style scoped>\n",
       "    .dataframe tbody tr th:only-of-type {\n",
       "        vertical-align: middle;\n",
       "    }\n",
       "\n",
       "    .dataframe tbody tr th {\n",
       "        vertical-align: top;\n",
       "    }\n",
       "\n",
       "    .dataframe thead th {\n",
       "        text-align: right;\n",
       "    }\n",
       "</style>\n",
       "<table border=\"1\" class=\"dataframe\">\n",
       "  <thead>\n",
       "    <tr style=\"text-align: right;\">\n",
       "      <th></th>\n",
       "      <th>Y</th>\n",
       "      <th>lag1</th>\n",
       "    </tr>\n",
       "    <tr>\n",
       "      <th>Month</th>\n",
       "      <th></th>\n",
       "      <th></th>\n",
       "    </tr>\n",
       "  </thead>\n",
       "  <tbody>\n",
       "    <tr>\n",
       "      <th>1959-08-01</th>\n",
       "      <td>559</td>\n",
       "      <td>548.0</td>\n",
       "    </tr>\n",
       "    <tr>\n",
       "      <th>1959-09-01</th>\n",
       "      <td>463</td>\n",
       "      <td>559.0</td>\n",
       "    </tr>\n",
       "    <tr>\n",
       "      <th>1959-10-01</th>\n",
       "      <td>407</td>\n",
       "      <td>463.0</td>\n",
       "    </tr>\n",
       "    <tr>\n",
       "      <th>1959-11-01</th>\n",
       "      <td>362</td>\n",
       "      <td>407.0</td>\n",
       "    </tr>\n",
       "    <tr>\n",
       "      <th>1959-12-01</th>\n",
       "      <td>405</td>\n",
       "      <td>362.0</td>\n",
       "    </tr>\n",
       "  </tbody>\n",
       "</table>\n",
       "</div>\n",
       "      <button class=\"colab-df-convert\" onclick=\"convertToInteractive('df-c6462fc4-ebbd-4bdb-871f-43750c3f6764')\"\n",
       "              title=\"Convert this dataframe to an interactive table.\"\n",
       "              style=\"display:none;\">\n",
       "        \n",
       "  <svg xmlns=\"http://www.w3.org/2000/svg\" height=\"24px\"viewBox=\"0 0 24 24\"\n",
       "       width=\"24px\">\n",
       "    <path d=\"M0 0h24v24H0V0z\" fill=\"none\"/>\n",
       "    <path d=\"M18.56 5.44l.94 2.06.94-2.06 2.06-.94-2.06-.94-.94-2.06-.94 2.06-2.06.94zm-11 1L8.5 8.5l.94-2.06 2.06-.94-2.06-.94L8.5 2.5l-.94 2.06-2.06.94zm10 10l.94 2.06.94-2.06 2.06-.94-2.06-.94-.94-2.06-.94 2.06-2.06.94z\"/><path d=\"M17.41 7.96l-1.37-1.37c-.4-.4-.92-.59-1.43-.59-.52 0-1.04.2-1.43.59L10.3 9.45l-7.72 7.72c-.78.78-.78 2.05 0 2.83L4 21.41c.39.39.9.59 1.41.59.51 0 1.02-.2 1.41-.59l7.78-7.78 2.81-2.81c.8-.78.8-2.07 0-2.86zM5.41 20L4 18.59l7.72-7.72 1.47 1.35L5.41 20z\"/>\n",
       "  </svg>\n",
       "      </button>\n",
       "      \n",
       "  <style>\n",
       "    .colab-df-container {\n",
       "      display:flex;\n",
       "      flex-wrap:wrap;\n",
       "      gap: 12px;\n",
       "    }\n",
       "\n",
       "    .colab-df-convert {\n",
       "      background-color: #E8F0FE;\n",
       "      border: none;\n",
       "      border-radius: 50%;\n",
       "      cursor: pointer;\n",
       "      display: none;\n",
       "      fill: #1967D2;\n",
       "      height: 32px;\n",
       "      padding: 0 0 0 0;\n",
       "      width: 32px;\n",
       "    }\n",
       "\n",
       "    .colab-df-convert:hover {\n",
       "      background-color: #E2EBFA;\n",
       "      box-shadow: 0px 1px 2px rgba(60, 64, 67, 0.3), 0px 1px 3px 1px rgba(60, 64, 67, 0.15);\n",
       "      fill: #174EA6;\n",
       "    }\n",
       "\n",
       "    [theme=dark] .colab-df-convert {\n",
       "      background-color: #3B4455;\n",
       "      fill: #D2E3FC;\n",
       "    }\n",
       "\n",
       "    [theme=dark] .colab-df-convert:hover {\n",
       "      background-color: #434B5C;\n",
       "      box-shadow: 0px 1px 3px 1px rgba(0, 0, 0, 0.15);\n",
       "      filter: drop-shadow(0px 1px 2px rgba(0, 0, 0, 0.3));\n",
       "      fill: #FFFFFF;\n",
       "    }\n",
       "  </style>\n",
       "\n",
       "      <script>\n",
       "        const buttonEl =\n",
       "          document.querySelector('#df-c6462fc4-ebbd-4bdb-871f-43750c3f6764 button.colab-df-convert');\n",
       "        buttonEl.style.display =\n",
       "          google.colab.kernel.accessAllowed ? 'block' : 'none';\n",
       "\n",
       "        async function convertToInteractive(key) {\n",
       "          const element = document.querySelector('#df-c6462fc4-ebbd-4bdb-871f-43750c3f6764');\n",
       "          const dataTable =\n",
       "            await google.colab.kernel.invokeFunction('convertToInteractive',\n",
       "                                                     [key], {});\n",
       "          if (!dataTable) return;\n",
       "\n",
       "          const docLinkHtml = 'Like what you see? Visit the ' +\n",
       "            '<a target=\"_blank\" href=https://colab.research.google.com/notebooks/data_table.ipynb>data table notebook</a>'\n",
       "            + ' to learn more about interactive tables.';\n",
       "          element.innerHTML = '';\n",
       "          dataTable['output_type'] = 'display_data';\n",
       "          await google.colab.output.renderOutput(dataTable, element);\n",
       "          const docLink = document.createElement('div');\n",
       "          docLink.innerHTML = docLinkHtml;\n",
       "          element.appendChild(docLink);\n",
       "        }\n",
       "      </script>\n",
       "    </div>\n",
       "  </div>\n",
       "  "
      ],
      "text/plain": [
       "              Y   lag1\n",
       "Month                 \n",
       "1959-08-01  559  548.0\n",
       "1959-09-01  463  559.0\n",
       "1959-10-01  407  463.0\n",
       "1959-11-01  362  407.0\n",
       "1959-12-01  405  362.0"
      ]
     },
     "execution_count": 18,
     "metadata": {},
     "output_type": "execute_result"
    }
   ],
   "source": [
    "df_train.tail()"
   ]
  },
  {
   "cell_type": "markdown",
   "metadata": {
    "id": "6noCT7pUvyat"
   },
   "source": [
    "5) Xây dựng mô hình dự báo lưu lượng hành khách của từng tháng theo phương trình hồi qui tuyến tính đơn biến trên tập `train` theo hai cách:\n",
    "\n",
    "- Cách 1: Sử dụng công thức nghiệm được tính ra từ đạo hàm bậc nhất của hàm mất mát.\n",
    "- Cách 2: Dùng mô hình LinearRegression của package scikit learn.\n",
    "\n",
    "Sau đó đo lường độ chính xác trên tập `test` bằng metric `RMSE`"
   ]
  },
  {
   "cell_type": "code",
   "execution_count": null,
   "metadata": {
    "colab": {
     "base_uri": "https://localhost:8080/"
    },
    "executionInfo": {
     "elapsed": 383,
     "status": "ok",
     "timestamp": 1672276077266,
     "user": {
      "displayName": "Tiệp Chu",
      "userId": "13992136945170625629"
     },
     "user_tz": -180
    },
    "id": "pvdKTruCa-Dk",
    "outputId": "fbf4653b-d9c4-40aa-dba2-9b49659147b7"
   },
   "outputs": [
    {
     "data": {
      "text/plain": [
       "LinearRegression()"
      ]
     },
     "execution_count": 19,
     "metadata": {},
     "output_type": "execute_result"
    }
   ],
   "source": [
    "lr = LinearRegression(fit_intercept=True)\n",
    "lr.fit(df_train[['lag1']], df_train['Y'])"
   ]
  },
  {
   "cell_type": "code",
   "execution_count": null,
   "metadata": {
    "colab": {
     "base_uri": "https://localhost:8080/"
    },
    "executionInfo": {
     "elapsed": 4,
     "status": "ok",
     "timestamp": 1672276091496,
     "user": {
      "displayName": "Tiệp Chu",
      "userId": "13992136945170625629"
     },
     "user_tz": -180
    },
    "id": "9lvUbSWRbBhw",
    "outputId": "102a3736-3815-4779-92cb-00949f06c9d0"
   },
   "outputs": [
    {
     "name": "stderr",
     "output_type": "stream",
     "text": [
      "<ipython-input-20-67a670cd73c9>:2: SettingWithCopyWarning: \n",
      "A value is trying to be set on a copy of a slice from a DataFrame.\n",
      "Try using .loc[row_indexer,col_indexer] = value instead\n",
      "\n",
      "See the caveats in the documentation: https://pandas.pydata.org/pandas-docs/stable/user_guide/indexing.html#returning-a-view-versus-a-copy\n",
      "  df_train['y_pred'] = y_train_pred\n"
     ]
    }
   ],
   "source": [
    "y_train_pred = lr.predict(df_train[['lag1']])\n",
    "df_train['y_pred'] = y_train_pred"
   ]
  },
  {
   "cell_type": "code",
   "execution_count": null,
   "metadata": {
    "colab": {
     "base_uri": "https://localhost:8080/"
    },
    "executionInfo": {
     "elapsed": 297,
     "status": "ok",
     "timestamp": 1672276104275,
     "user": {
      "displayName": "Tiệp Chu",
      "userId": "13992136945170625629"
     },
     "user_tz": -180
    },
    "id": "Le9Ygq7XbEvD",
    "outputId": "78702dbf-bae6-47de-e0ee-160159f3d1e2"
   },
   "outputs": [
    {
     "name": "stderr",
     "output_type": "stream",
     "text": [
      "<ipython-input-21-3636cb042181>:1: SettingWithCopyWarning: \n",
      "A value is trying to be set on a copy of a slice from a DataFrame.\n",
      "Try using .loc[row_indexer,col_indexer] = value instead\n",
      "\n",
      "See the caveats in the documentation: https://pandas.pydata.org/pandas-docs/stable/user_guide/indexing.html#returning-a-view-versus-a-copy\n",
      "  df_test['y_pred'] = lr.predict(df_test[['lag1']])\n"
     ]
    }
   ],
   "source": [
    "df_test['y_pred'] = lr.predict(df_test[['lag1']])"
   ]
  },
  {
   "cell_type": "code",
   "execution_count": null,
   "metadata": {
    "colab": {
     "base_uri": "https://localhost:8080/"
    },
    "executionInfo": {
     "elapsed": 252,
     "status": "ok",
     "timestamp": 1672276129441,
     "user": {
      "displayName": "Tiệp Chu",
      "userId": "13992136945170625629"
     },
     "user_tz": -180
    },
    "id": "C0jfMJh-bICI",
    "outputId": "d12a2f8c-6612-4913-d985-91430f0740fe"
   },
   "outputs": [
    {
     "name": "stdout",
     "output_type": "stream",
     "text": [
      " Score MSE on Test:  2784.1418419607585\n"
     ]
    }
   ],
   "source": [
    "print(\" Score MSE on Test: \", mean_squared_error(df_test['Y'], df_test['y_pred']))"
   ]
  },
  {
   "cell_type": "code",
   "execution_count": null,
   "metadata": {
    "colab": {
     "base_uri": "https://localhost:8080/",
     "height": 634
    },
    "executionInfo": {
     "elapsed": 398,
     "status": "ok",
     "timestamp": 1672276152519,
     "user": {
      "displayName": "Tiệp Chu",
      "userId": "13992136945170625629"
     },
     "user_tz": -180
    },
    "id": "JbirlD1KbNiM",
    "outputId": "e40c3dc8-f05a-4854-b76d-7feabc98ff78"
   },
   "outputs": [
    {
     "name": "stdout",
     "output_type": "stream",
     "text": [
      "MSE on Test:  2784.1418419607585\n"
     ]
    },
    {
     "data": {
      "image/png": "[encoded data removed]",
      "text/plain": [
       "<Figure size 1296x720 with 1 Axes>"
      ]
     },
     "metadata": {
      "needs_background": "light"
     },
     "output_type": "display_data"
    }
   ],
   "source": [
    "df_test[['y_pred','Y']].plot(figsize=(18,10))\n",
    "print(\"MSE on Test: \", mean_squared_error(df_test['Y'],df_test['y_pred']))"
   ]
  }
 ],
 "metadata": {
  "colab": {
   "provenance": [
    {
     "file_id": "1uomiexcW13qvcrgCaJslG-6Z-5a9_lJq",
     "timestamp": 1672275532849
    },
    {
     "file_id": "1OgHDMAz4s5JxtqpwlRZVvocN_9aNUuaT",
     "timestamp": 1636635936226
    },
    {
     "file_id": "1T_lwwF-_TDKpS8B56OHdA0LZzoFf-8Gz",
     "timestamp": 1636620138799
    }
   ],
   "toc_visible": true
  },
  "kernelspec": {
   "display_name": "Python 3",
   "language": "python",
   "name": "python3"
  },
  "language_info": {
   "codemirror_mode": {
    "name": "ipython",
    "version": 3
   },
   "file_extension": ".py",
   "mimetype": "text/x-python",
   "name": "python",
   "nbconvert_exporter": "python",
   "pygments_lexer": "ipython3",
   "version": "3.8.10"
  },
  "latex_envs": {
   "LaTeX_envs_menu_present": true,
   "autoclose": false,
   "autocomplete": true,
   "bibliofile": "biblio.bib",
   "cite_by": "apalike",
   "current_citInitial": 1,
   "eqLabelWithNumbers": true,
   "eqNumInitial": 1,
   "hotkeys": {
    "equation": "Ctrl-E",
    "itemize": "Ctrl-I"
   },
   "labels_anchors": false,
   "latex_user_defs": false,
   "report_style_numbering": false,
   "user_envs_cfg": false
  }
 },
 "nbformat": 4,
 "nbformat_minor": 1
}
