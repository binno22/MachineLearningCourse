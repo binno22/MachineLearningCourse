{
 "cells": [
  {
   "cell_type": "markdown",
   "metadata": {
    "id": "wkRiNYjLWQ_V"
   },
   "source": [
    "# I. Lý thuyết"
   ]
  },
  {
   "cell_type": "markdown",
   "metadata": {
    "id": "41LUe7SPWX0H"
   },
   "source": [
    "1) Mục tiêu của giảm chiều dữ liệu là gì ?\n",
    "\n",
    "A. Giảm chiều dữ liệu xuống không gian 2D hoặc 3D để visualize.\n",
    "\n",
    "B. Tăng tốc độ huấn luyện mô hình.\n",
    "\n",
    "C. Loại bỏ các chiều dữ liệu nhiễu.\n",
    "\n",
    "D. Cả ba đáp án trên."
   ]
  },
  {
   "cell_type": "markdown",
   "metadata": {
    "id": "6JHrNgEyc0vt"
   },
   "source": [
    "Chọn đáp án D"
   ]
  },
  {
   "cell_type": "markdown",
   "metadata": {
    "id": "fvyqOWnnXF_F"
   },
   "source": [
    "2) Mục tiêu của phân rã ma trận (_matrix decomposition_) là gì ?\n",
    "\n",
    "A. Phân tích một ma trận thành tích của các ma trận thành phần nhằm tìm ra tính chất của ma trận ban đầu.\n",
    "\n",
    "B. Tìm ra ma trận xấp xỉ của ma trận ban đầu.\n",
    "\n",
    "C. Tăng tốc độ tính toán.\n",
    "\n",
    "D. Cả ba đáp án trên."
   ]
  },
  {
   "cell_type": "markdown",
   "metadata": {
    "id": "PuUdLKnDc2Rl"
   },
   "source": [
    "Chọn đáp án B"
   ]
  },
  {
   "cell_type": "markdown",
   "metadata": {
    "id": "idS8LYSlYNaX"
   },
   "source": [
    "3) Các véc tơ trong một hệ cơ sở véc tơ trực giao (_orthogonal basis_) có tính chất nào sau đây ?\n",
    "\n",
    "A. $||\\mathbf{u}_i||_2^2 \\neq 0$.\n",
    "\n",
    "B. $\\mathbf{u}_i^{\\intercal}\\mathbf{u}_j = 0$ với mọi $i \\neq j$.\n",
    "\n",
    "C. $\\mathbf{u}_i+\\mathbf{u}_j = \\mathbf{0}$\n",
    "\n",
    "D. Đáp án A và B"
   ]
  },
  {
   "cell_type": "markdown",
   "metadata": {
    "id": "amXLkf55c_dX"
   },
   "source": [
    "Chọn đáp án A"
   ]
  },
  {
   "cell_type": "markdown",
   "metadata": {
    "id": "emLGfA3LZTmh"
   },
   "source": [
    "4) Cho ma trận:\n",
    "$$\\mathbf{A} =\n",
    "\\begin{bmatrix} \n",
    "1 & 0 & 0 \\\\ \n",
    "0 & 2 & 0 \\\\ \n",
    "0 & 0 & 3 \n",
    "\\end{bmatrix}$$\n",
    "Nhận xét nào sau đây là đúng về các véc tơ cột của ma trận $\\mathbf{A}$ ?\n",
    "\n",
    "A. Các véc tơ cột của ma trận $\\mathbf{A}$ tạo thành một hệ cơ sở trực giao.\n",
    "\n",
    "B. Các véc tơ cột của ma trận $\\mathbf{A}$ là những véc tơ đơn vị.\n",
    "\n",
    "C. Mọi véc tơ trong không gian ba chiều đều có thể biểu diễn thành tổ hợp tuyến tính của các véc tơ cột của ma trận $\\mathbf{A}$.\n",
    "\n",
    "D. Đáp án A và C"
   ]
  },
  {
   "cell_type": "markdown",
   "metadata": {
    "id": "bAKdzLX3iNK3"
   },
   "source": [
    "Chọn đáp án D"
   ]
  },
  {
   "cell_type": "markdown",
   "metadata": {
    "id": "_kSj9Nwfb-Me"
   },
   "source": [
    "5) Một ma trận $\\mathbf{X}$ có các véc tơ cột là một hệ trực chuẩn (_orthornomal basis_). Nhận xét nào sau đây là đúng về ma trận $\\mathbf{X}$.\n",
    "\n",
    "A. $\\mathbf{X}^{\\intercal}\\mathbf{X} = \\mathbf{I}$\n",
    "\n",
    "B. Nếu $\\mathbf{X}$ là ma trận vuông khả nghịch thì $\\mathbf{X}^{\\intercal} = \\mathbf{X}^{-1}$\n",
    "\n",
    "C. ma trận $\\mathbf{X}$ là một ma trận đối xứng.\n",
    "\n",
    "D. Đáp án A và B"
   ]
  },
  {
   "cell_type": "markdown",
   "metadata": {
    "id": "23X2fIrjiZoC"
   },
   "source": [
    "Chọn đáp án D"
   ]
  },
  {
   "cell_type": "markdown",
   "metadata": {
    "id": "jboVw4ABdlSG"
   },
   "source": [
    "6) Cho một ma trận vuông $\\mathbf{A} \\in \\mathbb{R}^{d \\times d}$. Nếu một giá trị $\\lambda$ là eigenvalue tương ứng với eigenvector $\\mathbf{x} \\in \\mathbb{R}^d$ thì phát biểu nào sau đây là đúng?\n",
    "\n",
    "A. Khi thực hiện một phép xoay véc tơ thông qua phép nhân ma trận $\\mathbf{A}$ thì véc tơ không đổi chiều? Tức là: $\\mathbf{A}\\mathbf{x} = \\lambda \\mathbf{x}$.\n",
    "\n",
    "B. $\\lambda$ và $\\mathbf{x}$ là nghiệm của phương trình: $(\\mathbf{A} - \\lambda \\mathbf{I}) \\mathbf{x} = 0$\n",
    "\n",
    "C. Nếu $\\mathbf{x}$ là một eigenvector tương ứng với eigenvalue $\\lambda$ thì $\\alpha \\mathbf{x}$ cũng là một eigenvector tương ứng với eigenvalue $\\lambda$.\n",
    "\n",
    "D. Cả ba đáp án trên."
   ]
  },
  {
   "cell_type": "markdown",
   "metadata": {
    "id": "jUG9qlMritOf"
   },
   "source": [
    "Chọn đáp án D"
   ]
  },
  {
   "cell_type": "markdown",
   "metadata": {
    "id": "K4JIzGgdgzpI"
   },
   "source": [
    "7) Ma trận hiệp phương sai của một bộ dữ liệu $\\mathbf{X}$ gồm $d$ đặc trưng đầu vào $\\{ \\mathbf{x}_1, \\mathbf{x}_2, \\dots, \\mathbf{x}_d \\}$ là ma trận như thế nào ?\n",
    "\n",
    "A. Là một ma trận vuông, đối xứng, kích thước $d \\times d$.\n",
    "\n",
    "B. Là một ma trận mà mỗi phần tử tại dòng thứ $i$, cột thứ $j$ là $\\sigma_{ij}$ là hiệp phương sai giữa hai đặc trưng $\\mathbf{x}_i$ và $\\mathbf{x}_j$:\n",
    "$\\sigma_{ij} = \\text{cov}(\\mathbf{x}_i, \\mathbf{x}_j) = [\\mathbf{x}_i-\\mathbf{E}(\\mathbf{x}_i)][\\mathbf{x}_j-\\mathbf{E}(\\mathbf{x}_j)]$\n",
    "\n",
    "C. Là một ma trận thể hiện mối quan hệ tương quan giữa các đặc trưng và độ biến động của từng đặc trưng.\n",
    "\n",
    "D. Cả ba đáp án trên."
   ]
  },
  {
   "cell_type": "markdown",
   "metadata": {
    "id": "bo5cpkvVi-rm"
   },
   "source": [
    "Chọn đáp án D"
   ]
  },
  {
   "cell_type": "markdown",
   "metadata": {
    "id": "orzEFcvginYC"
   },
   "source": [
    "8) Trong phép phân tích suy biến (_singular decomposition_) thì ma trận $\\mathbf{A}$ sẽ được phân tích thành: $\\mathbf{A} = \\mathbf{P}\\mathbf{D} \\mathbf{P}^{-1}$. Khi đó phát biểu nào sau đây là đúng ?\n",
    "\n",
    "A. Mỗi một phần tử $d_i$ trên đường chéo chính của ma trận $\\mathbf{D}$ chính là một eigenvalue tương ứng với eigenvector $\\mathbf{p}_i$ là cột thứ $i$ của ma trận $\\mathbf{P}$.\n",
    "\n",
    "B. Độ lớn của $d_i$ thể hiện mức độ co dãn của dữ liệu nếu chiếu theo lên véc tơ $\\mathbf{p}_i$.\n",
    "\n",
    "C. Có thể xấp xỉ ma trận $\\mathbf{A}$ thông qua việc truncate ma trận $\\mathbf{D}$ để chỉ giữ lại $k$ các giá trị $d_i$ là lớn nhất.\n",
    "\n",
    "D. Cả ba đáp án trên.\n",
    "\n"
   ]
  },
  {
   "cell_type": "markdown",
   "metadata": {
    "id": "Tc3-GGFFjJQN"
   },
   "source": [
    "Chọn đáp án D"
   ]
  },
  {
   "cell_type": "markdown",
   "metadata": {
    "id": "66FIK76Akc3u"
   },
   "source": [
    "9) Trong thuật toán PCA gồm những bước sau đây:\n",
    "a) Tìm eigenvalue và eigenvector của ma trận hiệp phương sai.\n",
    "b) Tính tọa độ dữ liệu sau khi giảm chiều.\n",
    "c) Chuẩn hóa dữ liệu theo Standard Normalization\n",
    "d) Tìm hình chiếu của dữ liệu khi chiếu lên các eigenvector\n",
    "e) Tính ma trận hiệp phương sai\n",
    "\n",
    "Thứ tự các bước trong thuật toán PCA sẽ như thế nào ?\n",
    "\n",
    "A. c, e, d, a, b\n",
    "\n",
    "B. c, e, a, d, b\n",
    "\n",
    "C. c, a, e, d, b\n",
    "\n",
    "D. c, b, e, d, a"
   ]
  },
  {
   "cell_type": "markdown",
   "metadata": {
    "id": "WKXkY6-njpdW"
   },
   "source": [
    "Chọn đáp án B"
   ]
  },
  {
   "cell_type": "markdown",
   "metadata": {
    "id": "N90i-gNfl4io"
   },
   "source": [
    "10) Trong thuật toán PCA, khi tính toán xấp xỉ cho ma trận hiệp phương sai, nếu một eigenvector tương ứng với một giá trị eigenvalue càng lớn thì ?\n",
    "\n",
    "A. Khi chiếu dữ liệu lên eigenvector đó, dữ liệu càng phân tán.\n",
    "\n",
    "B. Khi chiếu dữ liệu lên eigenvector đó, dữ liệu càng co cụm.\n",
    "\n",
    "C. Khi chiếu dữ liệu lên eigenvector đó, dữ liệu sẽ không thay đổi độ biến động.\n",
    "\n",
    "D. Khi chiếu dữ liệu lên eigenvector đó, thông tin của dữ liệu bị mất mát là nhiều nhất."
   ]
  },
  {
   "cell_type": "markdown",
   "metadata": {
    "id": "MHq3F9xJj5RR"
   },
   "source": [
    "Chọn đáp án C"
   ]
  },
  {
   "cell_type": "markdown",
   "metadata": {
    "id": "zvI94lOaWSc9"
   },
   "source": [
    "# II. Thực hành"
   ]
  },
  {
   "cell_type": "markdown",
   "metadata": {
    "id": "w9aQxHOGm__s"
   },
   "source": [
    "Lựa chọn một trong các bộ dữ liệu sau:\n",
    "\n",
    "* [BreastCancer](https://archive.ics.uci.edu/ml/datasets/Breast+Cancer+Wisconsin+(Diagnostic)) về chuẩn đoán ung thư vú.\n",
    "\n",
    "* [diabetes](https://archive.ics.uci.edu/ml/datasets/diabetes) chuẩn đoán bệnh tiểu đường.\n",
    "\n",
    "* [hmeq](https://www.kaggle.com/ajay1735/hmeq-data) phân loại hồ sơ cho vay mua nhà.\n",
    "\n",
    "* [BonstonHousing](https://github.com/phamdinhkhanh/datasets/blob/master/BostonHousing.csv) dự báo giá nhà ở Bonston.\n",
    "\n",
    "* [churn customer](https://archive.ics.uci.edu/ml/datasets/Iranian+Churn+Dataset) dự đoán khách hàng rời bỏ.\n",
    "\n",
    "Hãy thực hiện các bài tập sau:\n",
    "\n",
    "1. Giảm chiều dữ liệu của bộ dữ liệu về còn 2 chiều bằng cách sử dụng phép phân tích suy biến SVD.\n",
    "2. Giảm chiều dữ liệu của bộ dữ liệu về còn 2 chiều bằng cách sử dụng PCA trong [scikit-learn](https://scikit-learn.org/stable/modules/generated/sklearn.decomposition.PCA.html).\n",
    "3. Thực hiện visualization các điểm dữ liệu trong không gian 2 chiều và nhận xét về phân bố nhãn (nếu là bài toán phân loại) và mối quan hệ giữa các chiều ẩn với biến mục tiêu (nếu là bài toán dự báo).\n",
    "\n",
    "Tiếp theo, từ bảng số liệu `rating.csv` của bộ dữ liệu [movielen](https://www.kaggle.com/shubhammehta21/movie-lens-small-latest-dataset) chứa thông tin các lượt rating của người xem (cột userId) tới bộ phim (cột movieId). Hãy xây dựng thuật toán khuyến nghị bộ phim dựa trên:\n",
    "\n",
    "4. Tìm ra biểu diễn của các bộ phim theo vector thông qua việc phân tích suy biến SVD ma trận rating.\n",
    "\n",
    "5. Sử dụng cosine-similarity trên các biểu diễn vector của từng bộ phim để xây dựng thuật toán khuyến nghị bộ phim tương đồng với một bộ phim mà một người đã xem."
   ]
  },
  {
   "cell_type": "markdown",
   "metadata": {
    "id": "gk79RWK6VOgZ"
   },
   "source": [
    "# 0. Get Data and Import Libraries"
   ]
  },
  {
   "cell_type": "code",
   "execution_count": 1,
   "metadata": {
    "executionInfo": {
     "elapsed": 21,
     "status": "ok",
     "timestamp": 1679931439727,
     "user": {
      "displayName": "Quan La",
      "userId": "00157356232467016447"
     },
     "user_tz": -420
    },
    "id": "5rBtkZ7rVN7n"
   },
   "outputs": [],
   "source": [
    "import pandas as pd \n",
    "import numpy as np\n",
    "from google.colab import drive\n",
    "import os"
   ]
  },
  {
   "cell_type": "code",
   "execution_count": 2,
   "metadata": {
    "colab": {
     "base_uri": "https://localhost:8080/"
    },
    "executionInfo": {
     "elapsed": 32414,
     "status": "ok",
     "timestamp": 1679931472123,
     "user": {
      "displayName": "Quan La",
      "userId": "00157356232467016447"
     },
     "user_tz": -420
    },
    "id": "C189oW_jX07b",
    "outputId": "cfed360f-1c06-4ba3-de34-71b465bbc761"
   },
   "outputs": [
    {
     "name": "stdout",
     "output_type": "stream",
     "text": [
      "Mounted at /content/drive\n"
     ]
    }
   ],
   "source": [
    "drive.mount('/content/drive')"
   ]
  },
  {
   "cell_type": "code",
   "execution_count": 3,
   "metadata": {
    "colab": {
     "base_uri": "https://localhost:8080/",
     "height": 206
    },
    "executionInfo": {
     "elapsed": 1184,
     "status": "ok",
     "timestamp": 1679931473292,
     "user": {
      "displayName": "Quan La",
      "userId": "00157356232467016447"
     },
     "user_tz": -420
    },
    "id": "YkA5veRIXvET",
    "outputId": "4d01b24f-8a29-4b1a-87be-d839e70ba895"
   },
   "outputs": [
    {
     "data": {
      "text/html": [
       "\n",
       "  <div id=\"df-c92339f6-5ec8-4288-be59-420b001d54b5\">\n",
       "    <div class=\"colab-df-container\">\n",
       "      <div>\n",
       "<style scoped>\n",
       "    .dataframe tbody tr th:only-of-type {\n",
       "        vertical-align: middle;\n",
       "    }\n",
       "\n",
       "    .dataframe tbody tr th {\n",
       "        vertical-align: top;\n",
       "    }\n",
       "\n",
       "    .dataframe thead th {\n",
       "        text-align: right;\n",
       "    }\n",
       "</style>\n",
       "<table border=\"1\" class=\"dataframe\">\n",
       "  <thead>\n",
       "    <tr style=\"text-align: right;\">\n",
       "      <th></th>\n",
       "      <th>BAD</th>\n",
       "      <th>LOAN</th>\n",
       "      <th>MORTDUE</th>\n",
       "      <th>VALUE</th>\n",
       "      <th>REASON</th>\n",
       "      <th>JOB</th>\n",
       "      <th>YOJ</th>\n",
       "      <th>DEROG</th>\n",
       "      <th>DELINQ</th>\n",
       "      <th>CLAGE</th>\n",
       "      <th>NINQ</th>\n",
       "      <th>CLNO</th>\n",
       "      <th>DEBTINC</th>\n",
       "    </tr>\n",
       "  </thead>\n",
       "  <tbody>\n",
       "    <tr>\n",
       "      <th>0</th>\n",
       "      <td>1</td>\n",
       "      <td>1100</td>\n",
       "      <td>25860.0</td>\n",
       "      <td>39025.0</td>\n",
       "      <td>HomeImp</td>\n",
       "      <td>Other</td>\n",
       "      <td>10.5</td>\n",
       "      <td>0.0</td>\n",
       "      <td>0.0</td>\n",
       "      <td>94.366667</td>\n",
       "      <td>1.0</td>\n",
       "      <td>9.0</td>\n",
       "      <td>NaN</td>\n",
       "    </tr>\n",
       "    <tr>\n",
       "      <th>1</th>\n",
       "      <td>1</td>\n",
       "      <td>1300</td>\n",
       "      <td>70053.0</td>\n",
       "      <td>68400.0</td>\n",
       "      <td>HomeImp</td>\n",
       "      <td>Other</td>\n",
       "      <td>7.0</td>\n",
       "      <td>0.0</td>\n",
       "      <td>2.0</td>\n",
       "      <td>121.833333</td>\n",
       "      <td>0.0</td>\n",
       "      <td>14.0</td>\n",
       "      <td>NaN</td>\n",
       "    </tr>\n",
       "    <tr>\n",
       "      <th>2</th>\n",
       "      <td>1</td>\n",
       "      <td>1500</td>\n",
       "      <td>13500.0</td>\n",
       "      <td>16700.0</td>\n",
       "      <td>HomeImp</td>\n",
       "      <td>Other</td>\n",
       "      <td>4.0</td>\n",
       "      <td>0.0</td>\n",
       "      <td>0.0</td>\n",
       "      <td>149.466667</td>\n",
       "      <td>1.0</td>\n",
       "      <td>10.0</td>\n",
       "      <td>NaN</td>\n",
       "    </tr>\n",
       "    <tr>\n",
       "      <th>3</th>\n",
       "      <td>1</td>\n",
       "      <td>1500</td>\n",
       "      <td>NaN</td>\n",
       "      <td>NaN</td>\n",
       "      <td>NaN</td>\n",
       "      <td>NaN</td>\n",
       "      <td>NaN</td>\n",
       "      <td>NaN</td>\n",
       "      <td>NaN</td>\n",
       "      <td>NaN</td>\n",
       "      <td>NaN</td>\n",
       "      <td>NaN</td>\n",
       "      <td>NaN</td>\n",
       "    </tr>\n",
       "    <tr>\n",
       "      <th>4</th>\n",
       "      <td>0</td>\n",
       "      <td>1700</td>\n",
       "      <td>97800.0</td>\n",
       "      <td>112000.0</td>\n",
       "      <td>HomeImp</td>\n",
       "      <td>Office</td>\n",
       "      <td>3.0</td>\n",
       "      <td>0.0</td>\n",
       "      <td>0.0</td>\n",
       "      <td>93.333333</td>\n",
       "      <td>0.0</td>\n",
       "      <td>14.0</td>\n",
       "      <td>NaN</td>\n",
       "    </tr>\n",
       "  </tbody>\n",
       "</table>\n",
       "</div>\n",
       "      <button class=\"colab-df-convert\" onclick=\"convertToInteractive('df-c92339f6-5ec8-4288-be59-420b001d54b5')\"\n",
       "              title=\"Convert this dataframe to an interactive table.\"\n",
       "              style=\"display:none;\">\n",
       "        \n",
       "  <svg xmlns=\"http://www.w3.org/2000/svg\" height=\"24px\"viewBox=\"0 0 24 24\"\n",
       "       width=\"24px\">\n",
       "    <path d=\"M0 0h24v24H0V0z\" fill=\"none\"/>\n",
       "    <path d=\"M18.56 5.44l.94 2.06.94-2.06 2.06-.94-2.06-.94-.94-2.06-.94 2.06-2.06.94zm-11 1L8.5 8.5l.94-2.06 2.06-.94-2.06-.94L8.5 2.5l-.94 2.06-2.06.94zm10 10l.94 2.06.94-2.06 2.06-.94-2.06-.94-.94-2.06-.94 2.06-2.06.94z\"/><path d=\"M17.41 7.96l-1.37-1.37c-.4-.4-.92-.59-1.43-.59-.52 0-1.04.2-1.43.59L10.3 9.45l-7.72 7.72c-.78.78-.78 2.05 0 2.83L4 21.41c.39.39.9.59 1.41.59.51 0 1.02-.2 1.41-.59l7.78-7.78 2.81-2.81c.8-.78.8-2.07 0-2.86zM5.41 20L4 18.59l7.72-7.72 1.47 1.35L5.41 20z\"/>\n",
       "  </svg>\n",
       "      </button>\n",
       "      \n",
       "  <style>\n",
       "    .colab-df-container {\n",
       "      display:flex;\n",
       "      flex-wrap:wrap;\n",
       "      gap: 12px;\n",
       "    }\n",
       "\n",
       "    .colab-df-convert {\n",
       "      background-color: #E8F0FE;\n",
       "      border: none;\n",
       "      border-radius: 50%;\n",
       "      cursor: pointer;\n",
       "      display: none;\n",
       "      fill: #1967D2;\n",
       "      height: 32px;\n",
       "      padding: 0 0 0 0;\n",
       "      width: 32px;\n",
       "    }\n",
       "\n",
       "    .colab-df-convert:hover {\n",
       "      background-color: #E2EBFA;\n",
       "      box-shadow: 0px 1px 2px rgba(60, 64, 67, 0.3), 0px 1px 3px 1px rgba(60, 64, 67, 0.15);\n",
       "      fill: #174EA6;\n",
       "    }\n",
       "\n",
       "    [theme=dark] .colab-df-convert {\n",
       "      background-color: #3B4455;\n",
       "      fill: #D2E3FC;\n",
       "    }\n",
       "\n",
       "    [theme=dark] .colab-df-convert:hover {\n",
       "      background-color: #434B5C;\n",
       "      box-shadow: 0px 1px 3px 1px rgba(0, 0, 0, 0.15);\n",
       "      filter: drop-shadow(0px 1px 2px rgba(0, 0, 0, 0.3));\n",
       "      fill: #FFFFFF;\n",
       "    }\n",
       "  </style>\n",
       "\n",
       "      <script>\n",
       "        const buttonEl =\n",
       "          document.querySelector('#df-c92339f6-5ec8-4288-be59-420b001d54b5 button.colab-df-convert');\n",
       "        buttonEl.style.display =\n",
       "          google.colab.kernel.accessAllowed ? 'block' : 'none';\n",
       "\n",
       "        async function convertToInteractive(key) {\n",
       "          const element = document.querySelector('#df-c92339f6-5ec8-4288-be59-420b001d54b5');\n",
       "          const dataTable =\n",
       "            await google.colab.kernel.invokeFunction('convertToInteractive',\n",
       "                                                     [key], {});\n",
       "          if (!dataTable) return;\n",
       "\n",
       "          const docLinkHtml = 'Like what you see? Visit the ' +\n",
       "            '<a target=\"_blank\" href=https://colab.research.google.com/notebooks/data_table.ipynb>data table notebook</a>'\n",
       "            + ' to learn more about interactive tables.';\n",
       "          element.innerHTML = '';\n",
       "          dataTable['output_type'] = 'display_data';\n",
       "          await google.colab.output.renderOutput(dataTable, element);\n",
       "          const docLink = document.createElement('div');\n",
       "          docLink.innerHTML = docLinkHtml;\n",
       "          element.appendChild(docLink);\n",
       "        }\n",
       "      </script>\n",
       "    </div>\n",
       "  </div>\n",
       "  "
      ],
      "text/plain": [
       "   BAD  LOAN  MORTDUE     VALUE   REASON     JOB   YOJ  DEROG  DELINQ  \\\n",
       "0    1  1100  25860.0   39025.0  HomeImp   Other  10.5    0.0     0.0   \n",
       "1    1  1300  70053.0   68400.0  HomeImp   Other   7.0    0.0     2.0   \n",
       "2    1  1500  13500.0   16700.0  HomeImp   Other   4.0    0.0     0.0   \n",
       "3    1  1500      NaN       NaN      NaN     NaN   NaN    NaN     NaN   \n",
       "4    0  1700  97800.0  112000.0  HomeImp  Office   3.0    0.0     0.0   \n",
       "\n",
       "        CLAGE  NINQ  CLNO  DEBTINC  \n",
       "0   94.366667   1.0   9.0      NaN  \n",
       "1  121.833333   0.0  14.0      NaN  \n",
       "2  149.466667   1.0  10.0      NaN  \n",
       "3         NaN   NaN   NaN      NaN  \n",
       "4   93.333333   0.0  14.0      NaN  "
      ]
     },
     "execution_count": 3,
     "metadata": {},
     "output_type": "execute_result"
    }
   ],
   "source": [
    "df = pd.read_csv(r'./drive/MyDrive/Colab Notebooks/Buổi 14/hmeq.csv')\n",
    "df.head()"
   ]
  },
  {
   "cell_type": "code",
   "execution_count": 4,
   "metadata": {
    "colab": {
     "base_uri": "https://localhost:8080/"
    },
    "executionInfo": {
     "elapsed": 24,
     "status": "ok",
     "timestamp": 1679931473293,
     "user": {
      "displayName": "Quan La",
      "userId": "00157356232467016447"
     },
     "user_tz": -420
    },
    "id": "eQNaEJYTVMyW",
    "outputId": "6ba4a3be-4162-45e0-be2c-4a11a416dde1"
   },
   "outputs": [
    {
     "data": {
      "text/plain": [
       "(5960, 13)"
      ]
     },
     "execution_count": 4,
     "metadata": {},
     "output_type": "execute_result"
    }
   ],
   "source": [
    "df.shape"
   ]
  },
  {
   "cell_type": "markdown",
   "metadata": {
    "id": "M8FxzUwqubPc"
   },
   "source": [
    "## 0.1. Xử lý dữ liệu bị thiếu"
   ]
  },
  {
   "cell_type": "markdown",
   "metadata": {
    "id": "QI-upX8mvmxm"
   },
   "source": [
    "Ý nghĩa các cột:\n",
    "\n",
    "*   BAD: kết quả nhóm nợ xấu (1) hoặc tốt (0)\n",
    "*   LOAN: giá trị khoản vay\n",
    "*   MORTDUE: giá trị còn nợ đối với khoản nợ hiện tại \n",
    "*   REASON: DebtCon hợp nhất khoản vay, HomeImp cải tạo nhà\n",
    "*   JOB: Phân loại công việc\n",
    "*   YOJ: số năm làm việc hiện tại\n",
    "*   DEROG: số báo cáo về tình trạng tín dụng xấu \n",
    "*   DELINQ: số lần quá hạn trả nợ tín dụng\n",
    "*   CLAGE: số tháng kể từ lần giao dịch cũ nhất\n",
    "*   NINQ: số dòng tín dụng gần đây\n",
    "*   CLNO: số dòng tín dụng \n",
    "*   DEBTINC: tỷ lệ nợ / income\n",
    "\n"
   ]
  },
  {
   "cell_type": "code",
   "execution_count": 5,
   "metadata": {
    "executionInfo": {
     "elapsed": 3685,
     "status": "ok",
     "timestamp": 1679931476958,
     "user": {
      "displayName": "Quan La",
      "userId": "00157356232467016447"
     },
     "user_tz": -420
    },
    "id": "RTn83DkWutCB"
   },
   "outputs": [],
   "source": [
    "from sklearn.impute import SimpleImputer"
   ]
  },
  {
   "cell_type": "code",
   "execution_count": 6,
   "metadata": {
    "colab": {
     "base_uri": "https://localhost:8080/"
    },
    "executionInfo": {
     "elapsed": 42,
     "status": "ok",
     "timestamp": 1679931476959,
     "user": {
      "displayName": "Quan La",
      "userId": "00157356232467016447"
     },
     "user_tz": -420
    },
    "id": "RBy6WjoFsvbB",
    "outputId": "d8656c01-a7c9-4c5d-caca-3fd14dfb41d6"
   },
   "outputs": [
    {
     "name": "stdout",
     "output_type": "stream",
     "text": [
      "<class 'pandas.core.frame.DataFrame'>\n",
      "RangeIndex: 5960 entries, 0 to 5959\n",
      "Data columns (total 13 columns):\n",
      " #   Column   Non-Null Count  Dtype  \n",
      "---  ------   --------------  -----  \n",
      " 0   BAD      5960 non-null   int64  \n",
      " 1   LOAN     5960 non-null   int64  \n",
      " 2   MORTDUE  5442 non-null   float64\n",
      " 3   VALUE    5848 non-null   float64\n",
      " 4   REASON   5708 non-null   object \n",
      " 5   JOB      5681 non-null   object \n",
      " 6   YOJ      5445 non-null   float64\n",
      " 7   DEROG    5252 non-null   float64\n",
      " 8   DELINQ   5380 non-null   float64\n",
      " 9   CLAGE    5652 non-null   float64\n",
      " 10  NINQ     5450 non-null   float64\n",
      " 11  CLNO     5738 non-null   float64\n",
      " 12  DEBTINC  4693 non-null   float64\n",
      "dtypes: float64(9), int64(2), object(2)\n",
      "memory usage: 605.4+ KB\n"
     ]
    }
   ],
   "source": [
    "df.info()"
   ]
  },
  {
   "cell_type": "markdown",
   "metadata": {
    "id": "6Uj_fJ7xzKI3"
   },
   "source": [
    "Dựa trên phân phối của dữ liệu từ Kaggle, xử lý dữ liệu như sau:\n",
    "* MORTDUE, VALUE, YOJ, CLAGE, CLNO, DEBTINC xử lý bằng mean\n",
    "* REASON, JOB thay bằng Others\n",
    "* DEROG, DELINQ, NINQ xử lý bằng most-frequent"
   ]
  },
  {
   "cell_type": "code",
   "execution_count": 7,
   "metadata": {
    "executionInfo": {
     "elapsed": 34,
     "status": "ok",
     "timestamp": 1679931476959,
     "user": {
      "displayName": "Quan La",
      "userId": "00157356232467016447"
     },
     "user_tz": -420
    },
    "id": "1QtCiOn9u6vU"
   },
   "outputs": [],
   "source": [
    "si = SimpleImputer(strategy = 'mean')\n",
    "cols = ['MORTDUE', 'VALUE', 'YOJ', 'CLAGE', 'CLNO', 'DEBTINC']\n",
    "df[cols] = si.fit_transform(df[cols])"
   ]
  },
  {
   "cell_type": "code",
   "execution_count": 8,
   "metadata": {
    "executionInfo": {
     "elapsed": 32,
     "status": "ok",
     "timestamp": 1679931476959,
     "user": {
      "displayName": "Quan La",
      "userId": "00157356232467016447"
     },
     "user_tz": -420
    },
    "id": "oFLF55kSzqek"
   },
   "outputs": [],
   "source": [
    "si = SimpleImputer(strategy = 'most_frequent')\n",
    "cols = ['DEROG','DELINQ','NINQ']\n",
    "df[cols] = si.fit_transform(df[cols])"
   ]
  },
  {
   "cell_type": "code",
   "execution_count": 9,
   "metadata": {
    "executionInfo": {
     "elapsed": 31,
     "status": "ok",
     "timestamp": 1679931476960,
     "user": {
      "displayName": "Quan La",
      "userId": "00157356232467016447"
     },
     "user_tz": -420
    },
    "id": "wbpuVOt_0nPK"
   },
   "outputs": [],
   "source": [
    "cols = ['JOB', 'REASON']\n",
    "for col in cols:\n",
    "  df[col] = df[col].fillna('Other')"
   ]
  },
  {
   "cell_type": "markdown",
   "metadata": {
    "id": "U2POLgtJ00gh"
   },
   "source": [
    "## 0.2. One Hot Encoding hai cột object"
   ]
  },
  {
   "cell_type": "code",
   "execution_count": 10,
   "metadata": {
    "executionInfo": {
     "elapsed": 30,
     "status": "ok",
     "timestamp": 1679931476960,
     "user": {
      "displayName": "Quan La",
      "userId": "00157356232467016447"
     },
     "user_tz": -420
    },
    "id": "3YXdNw1o09e1"
   },
   "outputs": [],
   "source": [
    "from sklearn.preprocessing import OneHotEncoder"
   ]
  },
  {
   "cell_type": "code",
   "execution_count": 50,
   "metadata": {
    "colab": {
     "base_uri": "https://localhost:8080/"
    },
    "executionInfo": {
     "elapsed": 393,
     "status": "ok",
     "timestamp": 1679934529855,
     "user": {
      "displayName": "Quan La",
      "userId": "00157356232467016447"
     },
     "user_tz": -420
    },
    "id": "ibWB2-Lt1BxJ",
    "outputId": "05c6898a-6ad8-4ee7-be9f-f87c2f68dade"
   },
   "outputs": [
    {
     "name": "stderr",
     "output_type": "stream",
     "text": [
      "/usr/local/lib/python3.9/dist-packages/sklearn/preprocessing/_encoders.py:868: FutureWarning: `sparse` was renamed to `sparse_output` in version 1.2 and will be removed in 1.4. `sparse_output` is ignored unless you leave `sparse` to its default value.\n",
      "  warnings.warn(\n"
     ]
    }
   ],
   "source": [
    "cols = ['JOB', 'REASON']\n",
    "encoder = OneHotEncoder(sparse = False)\n",
    "encoder.fit(df[cols])\n",
    "transformed = pd.DataFrame(encoder.transform(df[cols]), columns = encoder.get_feature_names_out())\n",
    "X = pd.concat([df.drop(columns = cols), transformed], axis = 1).drop(columns = ['BAD'])"
   ]
  },
  {
   "cell_type": "markdown",
   "metadata": {
    "id": "mc4gTvBismC2"
   },
   "source": [
    "# 1. Giảm chiều dữ liệu bằng SVD"
   ]
  },
  {
   "cell_type": "code",
   "execution_count": 51,
   "metadata": {
    "executionInfo": {
     "elapsed": 5,
     "status": "ok",
     "timestamp": 1679934628340,
     "user": {
      "displayName": "Quan La",
      "userId": "00157356232467016447"
     },
     "user_tz": -420
    },
    "id": "W-uYYDrj5sqB"
   },
   "outputs": [],
   "source": [
    "from sklearn.preprocessing import StandardScaler \n",
    "\n",
    "scaler = StandardScaler()\n",
    "\n",
    "X = scaler.fit_transform(X)"
   ]
  },
  {
   "cell_type": "code",
   "execution_count": 66,
   "metadata": {
    "colab": {
     "base_uri": "https://localhost:8080/"
    },
    "executionInfo": {
     "elapsed": 381,
     "status": "ok",
     "timestamp": 1679935084785,
     "user": {
      "displayName": "Quan La",
      "userId": "00157356232467016447"
     },
     "user_tz": -420
    },
    "id": "Hhot1LLWkTgf",
    "outputId": "26b22568-c00b-424b-ffe2-02c9e0d8fc20"
   },
   "outputs": [
    {
     "name": "stdout",
     "output_type": "stream",
     "text": [
      "(5960, 2)\n"
     ]
    }
   ],
   "source": [
    "from scipy.linalg import svd\n",
    "\n",
    "cov_max = np.cov(X.T)\n",
    "\n",
    "U, Sigma, V = svd(cov_max)\n",
    "k = 2\n",
    "\n",
    "#Chọn ra k giá trị sigma lớn nhất\n",
    "X_reconstructed = np.dot(X, U[:,:2])\n",
    "\n",
    "print(X_reconstructed.shape)"
   ]
  },
  {
   "cell_type": "code",
   "execution_count": 67,
   "metadata": {
    "colab": {
     "base_uri": "https://localhost:8080/"
    },
    "executionInfo": {
     "elapsed": 4,
     "status": "ok",
     "timestamp": 1679935086531,
     "user": {
      "displayName": "Quan La",
      "userId": "00157356232467016447"
     },
     "user_tz": -420
    },
    "id": "-HJBMvOx6GZV",
    "outputId": "47ae22a4-2b19-4145-c1b4-bbef7d77c677"
   },
   "outputs": [
    {
     "data": {
      "text/plain": [
       "array([[ 3.11761657, -1.33025664],\n",
       "       [ 2.06942257, -1.6444085 ],\n",
       "       [ 3.29131012, -1.27048552],\n",
       "       ...,\n",
       "       [-0.78508218,  1.41062922],\n",
       "       [-0.76352566,  1.42274642],\n",
       "       [-0.73664556,  1.41651101]])"
      ]
     },
     "execution_count": 67,
     "metadata": {},
     "output_type": "execute_result"
    }
   ],
   "source": [
    "X_reconstructed"
   ]
  },
  {
   "cell_type": "markdown",
   "metadata": {
    "id": "JuLQXR4-M8wh"
   },
   "source": [
    "# 2. Giảm chiều dữ liệu với PCA"
   ]
  },
  {
   "cell_type": "code",
   "execution_count": 59,
   "metadata": {
    "colab": {
     "base_uri": "https://localhost:8080/"
    },
    "executionInfo": {
     "elapsed": 298,
     "status": "ok",
     "timestamp": 1679934882687,
     "user": {
      "displayName": "Quan La",
      "userId": "00157356232467016447"
     },
     "user_tz": -420
    },
    "id": "HgNsdgDx4uzC",
    "outputId": "fdee66fa-ea03-4a25-b1c1-0b6486d77062"
   },
   "outputs": [
    {
     "name": "stdout",
     "output_type": "stream",
     "text": [
      "(5960, 2)\n"
     ]
    }
   ],
   "source": []
  },
  {
   "cell_type": "code",
   "execution_count": 65,
   "metadata": {
    "colab": {
     "base_uri": "https://localhost:8080/"
    },
    "executionInfo": {
     "elapsed": 5,
     "status": "ok",
     "timestamp": 1679934998850,
     "user": {
      "displayName": "Quan La",
      "userId": "00157356232467016447"
     },
     "user_tz": -420
    },
    "id": "WaDuc0Kv65zw",
    "outputId": "edbd73d4-f8e5-42da-9692-66dcda02fcf8"
   },
   "outputs": [
    {
     "name": "stdout",
     "output_type": "stream",
     "text": [
      "(5960, 2)\n"
     ]
    }
   ],
   "source": [
    "from sklearn.decomposition import PCA\n",
    "\n",
    "pca = PCA(n_components = k)\n",
    "\n",
    "X_reduced = pca.fit(X).transform(X)\n",
    "\n",
    "print(X_reduced.shape)"
   ]
  },
  {
   "cell_type": "code",
   "execution_count": 64,
   "metadata": {
    "colab": {
     "base_uri": "https://localhost:8080/"
    },
    "executionInfo": {
     "elapsed": 644,
     "status": "ok",
     "timestamp": 1679934994704,
     "user": {
      "displayName": "Quan La",
      "userId": "00157356232467016447"
     },
     "user_tz": -420
    },
    "id": "QD3djWzavxXu",
    "outputId": "fa2ac81f-b632-4e07-ba20-a069ca923346"
   },
   "outputs": [
    {
     "data": {
      "text/plain": [
       "array([[-3.1171898 ,  1.32993671],\n",
       "       [-2.06864111,  1.64615384],\n",
       "       [-3.29171075,  1.27130939],\n",
       "       ...,\n",
       "       [ 0.78497105, -1.40789479],\n",
       "       [ 0.76330469, -1.42007791],\n",
       "       [ 0.73648154, -1.41382871]])"
      ]
     },
     "execution_count": 64,
     "metadata": {},
     "output_type": "execute_result"
    }
   ],
   "source": [
    "X_reduced"
   ]
  },
  {
   "cell_type": "markdown",
   "metadata": {
    "id": "-YZ2pI08PSjC"
   },
   "source": [
    "# 3. Visualize dữ liệu và nhận xét về phân bổ nhãn"
   ]
  },
  {
   "cell_type": "code",
   "execution_count": 34,
   "metadata": {
    "executionInfo": {
     "elapsed": 9,
     "status": "ok",
     "timestamp": 1679932260796,
     "user": {
      "displayName": "Quan La",
      "userId": "00157356232467016447"
     },
     "user_tz": -420
    },
    "id": "uv30OfCMPbGt"
   },
   "outputs": [],
   "source": [
    "import matplotlib.pyplot as plt\n",
    "import seaborn as sns"
   ]
  },
  {
   "cell_type": "markdown",
   "metadata": {
    "id": "O-KdnoAjPWpT"
   },
   "source": [
    "## 3.1. Với ma trận được giảm chiều bằng SVD thông thường"
   ]
  },
  {
   "cell_type": "code",
   "execution_count": 61,
   "metadata": {
    "colab": {
     "base_uri": "https://localhost:8080/",
     "height": 282
    },
    "executionInfo": {
     "elapsed": 1261,
     "status": "ok",
     "timestamp": 1679934914336,
     "user": {
      "displayName": "Quan La",
      "userId": "00157356232467016447"
     },
     "user_tz": -420
    },
    "id": "8H1NLvrhNBwf",
    "outputId": "f5396d5d-915c-4281-d2d4-700a333635d2"
   },
   "outputs": [
    {
     "data": {
      "text/plain": [
       "<Axes: >"
      ]
     },
     "execution_count": 61,
     "metadata": {},
     "output_type": "execute_result"
    },
    {
     "data": {
      "image/png": "[encoded data removed]",
      "text/plain": [
       "<Figure size 432x288 with 1 Axes>"
      ]
     },
     "metadata": {
      "needs_background": "light"
     },
     "output_type": "display_data"
    }
   ],
   "source": [
    "X_reconstructed_2 = [t for t in zip(*X_reconstructed)]\n",
    "sns.scatterplot(x = X_reconstructed_2[0], y = X_reconstructed_2[1], hue = df['BAD'])"
   ]
  },
  {
   "cell_type": "markdown",
   "metadata": {
    "id": "0ujTdd1lSXpx"
   },
   "source": [
    "## 3.2. Với ma trận được giảm chiều bằng PCA"
   ]
  },
  {
   "cell_type": "code",
   "execution_count": 62,
   "metadata": {
    "colab": {
     "base_uri": "https://localhost:8080/",
     "height": 283
    },
    "executionInfo": {
     "elapsed": 1211,
     "status": "ok",
     "timestamp": 1679934925790,
     "user": {
      "displayName": "Quan La",
      "userId": "00157356232467016447"
     },
     "user_tz": -420
    },
    "id": "sT-b7IeVPno3",
    "outputId": "630b2f02-9d9f-4b31-bea1-5662444beddc"
   },
   "outputs": [
    {
     "data": {
      "text/plain": [
       "<Axes: >"
      ]
     },
     "execution_count": 62,
     "metadata": {},
     "output_type": "execute_result"
    },
    {
     "data": {
      "image/png": "[encoded data removed]",
      "text/plain": [
       "<Figure size 432x288 with 1 Axes>"
      ]
     },
     "metadata": {
      "needs_background": "light"
     },
     "output_type": "display_data"
    }
   ],
   "source": [
    "X_reduced_2 = [t for t in zip(*X_reduced)]\n",
    "sns.scatterplot(x = X_reduced_2[0], y = X_reduced_2[1], hue = df['BAD'])"
   ]
  },
  {
   "cell_type": "markdown",
   "metadata": {
    "id": "7ZoDmDDR9jKZ"
   },
   "source": [
    "## 3.3. Nhận xét: \n",
    "\n",
    "\n",
    "Cả hai cách làm đều cho kết quả là phần lớn nhãn 0 và 1 phân bổ khá trùng với nhau, một số trường hợp outlier thì có sự phân bổ rõ ràng hơn. <br>\n",
    "\n",
    "Phần lớn dữ liệu phân bổ quanh một cụm tọa độ."
   ]
  },
  {
   "cell_type": "markdown",
   "metadata": {
    "id": "BkLlPeMwV3Zb"
   },
   "source": [
    "# 4. Biểu diễn thấp chiều của các bộ phim trong dataset ratings"
   ]
  },
  {
   "cell_type": "code",
   "execution_count": null,
   "metadata": {
    "colab": {
     "base_uri": "https://localhost:8080/",
     "height": 206
    },
    "executionInfo": {
     "elapsed": 13,
     "status": "ok",
     "timestamp": 1679828094435,
     "user": {
      "displayName": "Quan La",
      "userId": "00157356232467016447"
     },
     "user_tz": -420
    },
    "id": "0f9cBNj7_w-9",
    "outputId": "e3067b79-eb37-4aa1-9d07-de9e56c8fb5d"
   },
   "outputs": [
    {
     "data": {
      "text/html": [
       "\n",
       "  <div id=\"df-8b67e5bb-686b-4bef-bf53-4d363378836f\">\n",
       "    <div class=\"colab-df-container\">\n",
       "      <div>\n",
       "<style scoped>\n",
       "    .dataframe tbody tr th:only-of-type {\n",
       "        vertical-align: middle;\n",
       "    }\n",
       "\n",
       "    .dataframe tbody tr th {\n",
       "        vertical-align: top;\n",
       "    }\n",
       "\n",
       "    .dataframe thead th {\n",
       "        text-align: right;\n",
       "    }\n",
       "</style>\n",
       "<table border=\"1\" class=\"dataframe\">\n",
       "  <thead>\n",
       "    <tr style=\"text-align: right;\">\n",
       "      <th></th>\n",
       "      <th>userId</th>\n",
       "      <th>movieId</th>\n",
       "      <th>rating</th>\n",
       "      <th>timestamp</th>\n",
       "    </tr>\n",
       "  </thead>\n",
       "  <tbody>\n",
       "    <tr>\n",
       "      <th>0</th>\n",
       "      <td>1</td>\n",
       "      <td>1</td>\n",
       "      <td>4.0</td>\n",
       "      <td>964982703</td>\n",
       "    </tr>\n",
       "    <tr>\n",
       "      <th>1</th>\n",
       "      <td>1</td>\n",
       "      <td>3</td>\n",
       "      <td>4.0</td>\n",
       "      <td>964981247</td>\n",
       "    </tr>\n",
       "    <tr>\n",
       "      <th>2</th>\n",
       "      <td>1</td>\n",
       "      <td>6</td>\n",
       "      <td>4.0</td>\n",
       "      <td>964982224</td>\n",
       "    </tr>\n",
       "    <tr>\n",
       "      <th>3</th>\n",
       "      <td>1</td>\n",
       "      <td>47</td>\n",
       "      <td>5.0</td>\n",
       "      <td>964983815</td>\n",
       "    </tr>\n",
       "    <tr>\n",
       "      <th>4</th>\n",
       "      <td>1</td>\n",
       "      <td>50</td>\n",
       "      <td>5.0</td>\n",
       "      <td>964982931</td>\n",
       "    </tr>\n",
       "  </tbody>\n",
       "</table>\n",
       "</div>\n",
       "      <button class=\"colab-df-convert\" onclick=\"convertToInteractive('df-8b67e5bb-686b-4bef-bf53-4d363378836f')\"\n",
       "              title=\"Convert this dataframe to an interactive table.\"\n",
       "              style=\"display:none;\">\n",
       "        \n",
       "  <svg xmlns=\"http://www.w3.org/2000/svg\" height=\"24px\"viewBox=\"0 0 24 24\"\n",
       "       width=\"24px\">\n",
       "    <path d=\"M0 0h24v24H0V0z\" fill=\"none\"/>\n",
       "    <path d=\"M18.56 5.44l.94 2.06.94-2.06 2.06-.94-2.06-.94-.94-2.06-.94 2.06-2.06.94zm-11 1L8.5 8.5l.94-2.06 2.06-.94-2.06-.94L8.5 2.5l-.94 2.06-2.06.94zm10 10l.94 2.06.94-2.06 2.06-.94-2.06-.94-.94-2.06-.94 2.06-2.06.94z\"/><path d=\"M17.41 7.96l-1.37-1.37c-.4-.4-.92-.59-1.43-.59-.52 0-1.04.2-1.43.59L10.3 9.45l-7.72 7.72c-.78.78-.78 2.05 0 2.83L4 21.41c.39.39.9.59 1.41.59.51 0 1.02-.2 1.41-.59l7.78-7.78 2.81-2.81c.8-.78.8-2.07 0-2.86zM5.41 20L4 18.59l7.72-7.72 1.47 1.35L5.41 20z\"/>\n",
       "  </svg>\n",
       "      </button>\n",
       "      \n",
       "  <style>\n",
       "    .colab-df-container {\n",
       "      display:flex;\n",
       "      flex-wrap:wrap;\n",
       "      gap: 12px;\n",
       "    }\n",
       "\n",
       "    .colab-df-convert {\n",
       "      background-color: #E8F0FE;\n",
       "      border: none;\n",
       "      border-radius: 50%;\n",
       "      cursor: pointer;\n",
       "      display: none;\n",
       "      fill: #1967D2;\n",
       "      height: 32px;\n",
       "      padding: 0 0 0 0;\n",
       "      width: 32px;\n",
       "    }\n",
       "\n",
       "    .colab-df-convert:hover {\n",
       "      background-color: #E2EBFA;\n",
       "      box-shadow: 0px 1px 2px rgba(60, 64, 67, 0.3), 0px 1px 3px 1px rgba(60, 64, 67, 0.15);\n",
       "      fill: #174EA6;\n",
       "    }\n",
       "\n",
       "    [theme=dark] .colab-df-convert {\n",
       "      background-color: #3B4455;\n",
       "      fill: #D2E3FC;\n",
       "    }\n",
       "\n",
       "    [theme=dark] .colab-df-convert:hover {\n",
       "      background-color: #434B5C;\n",
       "      box-shadow: 0px 1px 3px 1px rgba(0, 0, 0, 0.15);\n",
       "      filter: drop-shadow(0px 1px 2px rgba(0, 0, 0, 0.3));\n",
       "      fill: #FFFFFF;\n",
       "    }\n",
       "  </style>\n",
       "\n",
       "      <script>\n",
       "        const buttonEl =\n",
       "          document.querySelector('#df-8b67e5bb-686b-4bef-bf53-4d363378836f button.colab-df-convert');\n",
       "        buttonEl.style.display =\n",
       "          google.colab.kernel.accessAllowed ? 'block' : 'none';\n",
       "\n",
       "        async function convertToInteractive(key) {\n",
       "          const element = document.querySelector('#df-8b67e5bb-686b-4bef-bf53-4d363378836f');\n",
       "          const dataTable =\n",
       "            await google.colab.kernel.invokeFunction('convertToInteractive',\n",
       "                                                     [key], {});\n",
       "          if (!dataTable) return;\n",
       "\n",
       "          const docLinkHtml = 'Like what you see? Visit the ' +\n",
       "            '<a target=\"_blank\" href=https://colab.research.google.com/notebooks/data_table.ipynb>data table notebook</a>'\n",
       "            + ' to learn more about interactive tables.';\n",
       "          element.innerHTML = '';\n",
       "          dataTable['output_type'] = 'display_data';\n",
       "          await google.colab.output.renderOutput(dataTable, element);\n",
       "          const docLink = document.createElement('div');\n",
       "          docLink.innerHTML = docLinkHtml;\n",
       "          element.appendChild(docLink);\n",
       "        }\n",
       "      </script>\n",
       "    </div>\n",
       "  </div>\n",
       "  "
      ],
      "text/plain": [
       "   userId  movieId  rating  timestamp\n",
       "0       1        1     4.0  964982703\n",
       "1       1        3     4.0  964981247\n",
       "2       1        6     4.0  964982224\n",
       "3       1       47     5.0  964983815\n",
       "4       1       50     5.0  964982931"
      ]
     },
     "execution_count": 61,
     "metadata": {},
     "output_type": "execute_result"
    }
   ],
   "source": [
    "ratings = pd.read_csv('./drive/MyDrive/Colab Notebooks/Buổi 14/ratings.csv')\n",
    "ratings.head()"
   ]
  },
  {
   "cell_type": "code",
   "execution_count": null,
   "metadata": {
    "colab": {
     "base_uri": "https://localhost:8080/"
    },
    "executionInfo": {
     "elapsed": 12,
     "status": "ok",
     "timestamp": 1679828094436,
     "user": {
      "displayName": "Quan La",
      "userId": "00157356232467016447"
     },
     "user_tz": -420
    },
    "id": "VJueEXwrX2xy",
    "outputId": "7cb72d49-c523-47fd-9d7b-d116c7cde7db"
   },
   "outputs": [
    {
     "data": {
      "text/plain": [
       "array([4. , 5. , 3. , 2. , 1. , 4.5, 3.5, 2.5, 0.5, 1.5])"
      ]
     },
     "execution_count": 62,
     "metadata": {},
     "output_type": "execute_result"
    }
   ],
   "source": [
    "ratings['rating'].unique()"
   ]
  },
  {
   "cell_type": "markdown",
   "metadata": {
    "id": "owNVu3ySYG-T"
   },
   "source": [
    "Ý tưởng: Mỗi movieId sẽ có tương ứng 10 cột tương ứng 10 loại điểm mà người xem đánh giá, xây dựng ma trận này bằng cách thực hiện one hot encoding/label binarizer trên toàn bộ ma trận. "
   ]
  },
  {
   "cell_type": "code",
   "execution_count": null,
   "metadata": {
    "colab": {
     "base_uri": "https://localhost:8080/"
    },
    "executionInfo": {
     "elapsed": 366,
     "status": "ok",
     "timestamp": 1679830326882,
     "user": {
      "displayName": "Quan La",
      "userId": "00157356232467016447"
     },
     "user_tz": -420
    },
    "id": "4yZYRZfCWMpI",
    "outputId": "d023ac21-374c-4de4-c6cf-52b977f5d734"
   },
   "outputs": [
    {
     "name": "stderr",
     "output_type": "stream",
     "text": [
      "/usr/local/lib/python3.9/dist-packages/sklearn/preprocessing/_encoders.py:868: FutureWarning: `sparse` was renamed to `sparse_output` in version 1.2 and will be removed in 1.4. `sparse_output` is ignored unless you leave `sparse` to its default value.\n",
      "  warnings.warn(\n"
     ]
    }
   ],
   "source": [
    "#Get encoded matrix\n",
    "transformed = pd.DataFrame(encoder.fit_transform(ratings[['rating']]), columns = encoder.get_feature_names_out())\n",
    "transformed = pd.concat([ratings[['movieId']], transformed], axis = 1)\n",
    "\n",
    "#Aggregrate by movieID\n",
    "transformed = transformed.groupby('movieId').sum().reset_index()\n",
    "\n",
    "__X__ = transformed.drop(columns = ['movieId'])\n",
    "__y__ = transformed.movieId\n",
    "\n",
    "#PCA\n",
    "__X__ = __X__ - __X__.mean()\n",
    "__X__ = pca.fit_transform(transformed)\n",
    "\n",
    "#Put it in a data Frame\n",
    "__X__ = pd.DataFrame(__X__, columns = ['Feature 1', 'Feature 2'])"
   ]
  },
  {
   "cell_type": "code",
   "execution_count": null,
   "metadata": {
    "colab": {
     "base_uri": "https://localhost:8080/",
     "height": 424
    },
    "executionInfo": {
     "elapsed": 347,
     "status": "ok",
     "timestamp": 1679830331119,
     "user": {
      "displayName": "Quan La",
      "userId": "00157356232467016447"
     },
     "user_tz": -420
    },
    "id": "V8k9MgdoYRFP",
    "outputId": "8214acaa-3f5d-4503-e55b-051c0543ae75"
   },
   "outputs": [
    {
     "data": {
      "text/html": [
       "\n",
       "  <div id=\"df-1afba497-fde9-4f6f-b479-29421e126dbb\">\n",
       "    <div class=\"colab-df-container\">\n",
       "      <div>\n",
       "<style scoped>\n",
       "    .dataframe tbody tr th:only-of-type {\n",
       "        vertical-align: middle;\n",
       "    }\n",
       "\n",
       "    .dataframe tbody tr th {\n",
       "        vertical-align: top;\n",
       "    }\n",
       "\n",
       "    .dataframe thead th {\n",
       "        text-align: right;\n",
       "    }\n",
       "</style>\n",
       "<table border=\"1\" class=\"dataframe\">\n",
       "  <thead>\n",
       "    <tr style=\"text-align: right;\">\n",
       "      <th></th>\n",
       "      <th>Feature 1</th>\n",
       "      <th>Feature 2</th>\n",
       "      <th>movieId</th>\n",
       "    </tr>\n",
       "  </thead>\n",
       "  <tbody>\n",
       "    <tr>\n",
       "      <th>0</th>\n",
       "      <td>-42244.027847</td>\n",
       "      <td>97.140642</td>\n",
       "      <td>1</td>\n",
       "    </tr>\n",
       "    <tr>\n",
       "      <th>1</th>\n",
       "      <td>-42243.025958</td>\n",
       "      <td>38.738021</td>\n",
       "      <td>2</td>\n",
       "    </tr>\n",
       "    <tr>\n",
       "      <th>2</th>\n",
       "      <td>-42242.025053</td>\n",
       "      <td>14.707563</td>\n",
       "      <td>3</td>\n",
       "    </tr>\n",
       "    <tr>\n",
       "      <th>3</th>\n",
       "      <td>-42241.024285</td>\n",
       "      <td>-3.922609</td>\n",
       "      <td>4</td>\n",
       "    </tr>\n",
       "    <tr>\n",
       "      <th>4</th>\n",
       "      <td>-42240.025014</td>\n",
       "      <td>11.777827</td>\n",
       "      <td>5</td>\n",
       "    </tr>\n",
       "    <tr>\n",
       "      <th>...</th>\n",
       "      <td>...</td>\n",
       "      <td>...</td>\n",
       "      <td>...</td>\n",
       "    </tr>\n",
       "    <tr>\n",
       "      <th>9719</th>\n",
       "      <td>151335.975651</td>\n",
       "      <td>2.034142</td>\n",
       "      <td>193581</td>\n",
       "    </tr>\n",
       "    <tr>\n",
       "      <th>9720</th>\n",
       "      <td>151337.975668</td>\n",
       "      <td>1.594604</td>\n",
       "      <td>193583</td>\n",
       "    </tr>\n",
       "    <tr>\n",
       "      <th>9721</th>\n",
       "      <td>151339.975668</td>\n",
       "      <td>1.594675</td>\n",
       "      <td>193585</td>\n",
       "    </tr>\n",
       "    <tr>\n",
       "      <th>9722</th>\n",
       "      <td>151341.975668</td>\n",
       "      <td>1.594746</td>\n",
       "      <td>193587</td>\n",
       "    </tr>\n",
       "    <tr>\n",
       "      <th>9723</th>\n",
       "      <td>151363.975651</td>\n",
       "      <td>2.035132</td>\n",
       "      <td>193609</td>\n",
       "    </tr>\n",
       "  </tbody>\n",
       "</table>\n",
       "<p>9724 rows × 3 columns</p>\n",
       "</div>\n",
       "      <button class=\"colab-df-convert\" onclick=\"convertToInteractive('df-1afba497-fde9-4f6f-b479-29421e126dbb')\"\n",
       "              title=\"Convert this dataframe to an interactive table.\"\n",
       "              style=\"display:none;\">\n",
       "        \n",
       "  <svg xmlns=\"http://www.w3.org/2000/svg\" height=\"24px\"viewBox=\"0 0 24 24\"\n",
       "       width=\"24px\">\n",
       "    <path d=\"M0 0h24v24H0V0z\" fill=\"none\"/>\n",
       "    <path d=\"M18.56 5.44l.94 2.06.94-2.06 2.06-.94-2.06-.94-.94-2.06-.94 2.06-2.06.94zm-11 1L8.5 8.5l.94-2.06 2.06-.94-2.06-.94L8.5 2.5l-.94 2.06-2.06.94zm10 10l.94 2.06.94-2.06 2.06-.94-2.06-.94-.94-2.06-.94 2.06-2.06.94z\"/><path d=\"M17.41 7.96l-1.37-1.37c-.4-.4-.92-.59-1.43-.59-.52 0-1.04.2-1.43.59L10.3 9.45l-7.72 7.72c-.78.78-.78 2.05 0 2.83L4 21.41c.39.39.9.59 1.41.59.51 0 1.02-.2 1.41-.59l7.78-7.78 2.81-2.81c.8-.78.8-2.07 0-2.86zM5.41 20L4 18.59l7.72-7.72 1.47 1.35L5.41 20z\"/>\n",
       "  </svg>\n",
       "      </button>\n",
       "      \n",
       "  <style>\n",
       "    .colab-df-container {\n",
       "      display:flex;\n",
       "      flex-wrap:wrap;\n",
       "      gap: 12px;\n",
       "    }\n",
       "\n",
       "    .colab-df-convert {\n",
       "      background-color: #E8F0FE;\n",
       "      border: none;\n",
       "      border-radius: 50%;\n",
       "      cursor: pointer;\n",
       "      display: none;\n",
       "      fill: #1967D2;\n",
       "      height: 32px;\n",
       "      padding: 0 0 0 0;\n",
       "      width: 32px;\n",
       "    }\n",
       "\n",
       "    .colab-df-convert:hover {\n",
       "      background-color: #E2EBFA;\n",
       "      box-shadow: 0px 1px 2px rgba(60, 64, 67, 0.3), 0px 1px 3px 1px rgba(60, 64, 67, 0.15);\n",
       "      fill: #174EA6;\n",
       "    }\n",
       "\n",
       "    [theme=dark] .colab-df-convert {\n",
       "      background-color: #3B4455;\n",
       "      fill: #D2E3FC;\n",
       "    }\n",
       "\n",
       "    [theme=dark] .colab-df-convert:hover {\n",
       "      background-color: #434B5C;\n",
       "      box-shadow: 0px 1px 3px 1px rgba(0, 0, 0, 0.15);\n",
       "      filter: drop-shadow(0px 1px 2px rgba(0, 0, 0, 0.3));\n",
       "      fill: #FFFFFF;\n",
       "    }\n",
       "  </style>\n",
       "\n",
       "      <script>\n",
       "        const buttonEl =\n",
       "          document.querySelector('#df-1afba497-fde9-4f6f-b479-29421e126dbb button.colab-df-convert');\n",
       "        buttonEl.style.display =\n",
       "          google.colab.kernel.accessAllowed ? 'block' : 'none';\n",
       "\n",
       "        async function convertToInteractive(key) {\n",
       "          const element = document.querySelector('#df-1afba497-fde9-4f6f-b479-29421e126dbb');\n",
       "          const dataTable =\n",
       "            await google.colab.kernel.invokeFunction('convertToInteractive',\n",
       "                                                     [key], {});\n",
       "          if (!dataTable) return;\n",
       "\n",
       "          const docLinkHtml = 'Like what you see? Visit the ' +\n",
       "            '<a target=\"_blank\" href=https://colab.research.google.com/notebooks/data_table.ipynb>data table notebook</a>'\n",
       "            + ' to learn more about interactive tables.';\n",
       "          element.innerHTML = '';\n",
       "          dataTable['output_type'] = 'display_data';\n",
       "          await google.colab.output.renderOutput(dataTable, element);\n",
       "          const docLink = document.createElement('div');\n",
       "          docLink.innerHTML = docLinkHtml;\n",
       "          element.appendChild(docLink);\n",
       "        }\n",
       "      </script>\n",
       "    </div>\n",
       "  </div>\n",
       "  "
      ],
      "text/plain": [
       "          Feature 1  Feature 2  movieId\n",
       "0     -42244.027847  97.140642        1\n",
       "1     -42243.025958  38.738021        2\n",
       "2     -42242.025053  14.707563        3\n",
       "3     -42241.024285  -3.922609        4\n",
       "4     -42240.025014  11.777827        5\n",
       "...             ...        ...      ...\n",
       "9719  151335.975651   2.034142   193581\n",
       "9720  151337.975668   1.594604   193583\n",
       "9721  151339.975668   1.594675   193585\n",
       "9722  151341.975668   1.594746   193587\n",
       "9723  151363.975651   2.035132   193609\n",
       "\n",
       "[9724 rows x 3 columns]"
      ]
     },
     "execution_count": 106,
     "metadata": {},
     "output_type": "execute_result"
    }
   ],
   "source": [
    "rate = pd.concat([__X__, __y__], axis = 1)\n",
    "## Biểu diễn các phim ở dạng ma trận thấp chiều\n",
    "rate"
   ]
  },
  {
   "cell_type": "markdown",
   "metadata": {
    "id": "pbgsX2O9lnMD"
   },
   "source": [
    "# 5. Xây dựng thuật toán khuyến nghị"
   ]
  },
  {
   "cell_type": "code",
   "execution_count": null,
   "metadata": {
    "id": "5DqIkamxlmZx"
   },
   "outputs": [],
   "source": [
    "from numpy.linalg import norm\n",
    "\n",
    "def cos_similarity(a, b):\n",
    "  return np.dot(a,b) / (norm(a) * norm(b))\n",
    "\n",
    "def movie_rec(Id, num = 3, movieDB = rate):\n",
    "  \"\"\"\n",
    "    GIve @num movie recommendations based on the @Id movie that the user watched \n",
    "  \"\"\"\n",
    " # vị trí của phim được tìm kiếm trong bảng movie databse  \n",
    "  try: \n",
    "    pos = movieDB[movieDB['movieId'] == Id].index[0]\n",
    "  except:\n",
    "    print(\"No movie recored\")\n",
    "    return\n",
    "\n",
    "  # khởi tạo mảng kết quả \n",
    "  res = [1] * movieDB.shape[0]\n",
    "\n",
    "  #duyệt tìm\n",
    "  for i in range(movieDB.shape[0]):\n",
    "    if movieDB['movieId'][i] == Id: #đây là phim người dùng xem\n",
    "      continue\n",
    "    res[i] = cos_similarity(movieDB.iloc[i,:-1], movieDB.iloc[pos,:-1])\n",
    "  \n",
    "  return np.argpartition(res, num)[:num]\n",
    "  "
   ]
  },
  {
   "cell_type": "code",
   "execution_count": null,
   "metadata": {
    "colab": {
     "base_uri": "https://localhost:8080/"
    },
    "executionInfo": {
     "elapsed": 4790,
     "status": "ok",
     "timestamp": 1679830386336,
     "user": {
      "displayName": "Quan La",
      "userId": "00157356232467016447"
     },
     "user_tz": -420
    },
    "id": "xBmRUEyBaUIy",
    "outputId": "8492f869-c61d-482a-82fe-a97f4d753c8f"
   },
   "outputs": [
    {
     "data": {
      "text/plain": [
       "6482    53355\n",
       "6537    54934\n",
       "6308    48696\n",
       "Name: movieId, dtype: int64"
      ]
     },
     "execution_count": 108,
     "metadata": {},
     "output_type": "execute_result"
    }
   ],
   "source": [
    "rate.loc[movie_rec(5), 'movieId']"
   ]
  },
  {
   "cell_type": "code",
   "execution_count": null,
   "metadata": {
    "colab": {
     "base_uri": "https://localhost:8080/",
     "height": 143
    },
    "executionInfo": {
     "elapsed": 10308,
     "status": "ok",
     "timestamp": 1679830418284,
     "user": {
      "displayName": "Quan La",
      "userId": "00157356232467016447"
     },
     "user_tz": -420
    },
    "id": "s1cHrmenpcL3",
    "outputId": "427a8a47-43df-44f7-f2ad-15e3ac82ad9c"
   },
   "outputs": [
    {
     "data": {
      "text/html": [
       "\n",
       "  <div id=\"df-76ecaf8a-e548-4f0b-b62b-cae2cfc7e7cd\">\n",
       "    <div class=\"colab-df-container\">\n",
       "      <div>\n",
       "<style scoped>\n",
       "    .dataframe tbody tr th:only-of-type {\n",
       "        vertical-align: middle;\n",
       "    }\n",
       "\n",
       "    .dataframe tbody tr th {\n",
       "        vertical-align: top;\n",
       "    }\n",
       "\n",
       "    .dataframe thead th {\n",
       "        text-align: right;\n",
       "    }\n",
       "</style>\n",
       "<table border=\"1\" class=\"dataframe\">\n",
       "  <thead>\n",
       "    <tr style=\"text-align: right;\">\n",
       "      <th></th>\n",
       "      <th>Feature 1</th>\n",
       "      <th>Feature 2</th>\n",
       "      <th>movieId</th>\n",
       "    </tr>\n",
       "  </thead>\n",
       "  <tbody>\n",
       "    <tr>\n",
       "      <th>6482</th>\n",
       "      <td>11109.975759</td>\n",
       "      <td>-3.105587</td>\n",
       "      <td>53355</td>\n",
       "    </tr>\n",
       "    <tr>\n",
       "      <th>6537</th>\n",
       "      <td>12688.975771</td>\n",
       "      <td>-3.543491</td>\n",
       "      <td>54934</td>\n",
       "    </tr>\n",
       "    <tr>\n",
       "      <th>6308</th>\n",
       "      <td>6450.975701</td>\n",
       "      <td>-1.793944</td>\n",
       "      <td>48696</td>\n",
       "    </tr>\n",
       "  </tbody>\n",
       "</table>\n",
       "</div>\n",
       "      <button class=\"colab-df-convert\" onclick=\"convertToInteractive('df-76ecaf8a-e548-4f0b-b62b-cae2cfc7e7cd')\"\n",
       "              title=\"Convert this dataframe to an interactive table.\"\n",
       "              style=\"display:none;\">\n",
       "        \n",
       "  <svg xmlns=\"http://www.w3.org/2000/svg\" height=\"24px\"viewBox=\"0 0 24 24\"\n",
       "       width=\"24px\">\n",
       "    <path d=\"M0 0h24v24H0V0z\" fill=\"none\"/>\n",
       "    <path d=\"M18.56 5.44l.94 2.06.94-2.06 2.06-.94-2.06-.94-.94-2.06-.94 2.06-2.06.94zm-11 1L8.5 8.5l.94-2.06 2.06-.94-2.06-.94L8.5 2.5l-.94 2.06-2.06.94zm10 10l.94 2.06.94-2.06 2.06-.94-2.06-.94-.94-2.06-.94 2.06-2.06.94z\"/><path d=\"M17.41 7.96l-1.37-1.37c-.4-.4-.92-.59-1.43-.59-.52 0-1.04.2-1.43.59L10.3 9.45l-7.72 7.72c-.78.78-.78 2.05 0 2.83L4 21.41c.39.39.9.59 1.41.59.51 0 1.02-.2 1.41-.59l7.78-7.78 2.81-2.81c.8-.78.8-2.07 0-2.86zM5.41 20L4 18.59l7.72-7.72 1.47 1.35L5.41 20z\"/>\n",
       "  </svg>\n",
       "      </button>\n",
       "      \n",
       "  <style>\n",
       "    .colab-df-container {\n",
       "      display:flex;\n",
       "      flex-wrap:wrap;\n",
       "      gap: 12px;\n",
       "    }\n",
       "\n",
       "    .colab-df-convert {\n",
       "      background-color: #E8F0FE;\n",
       "      border: none;\n",
       "      border-radius: 50%;\n",
       "      cursor: pointer;\n",
       "      display: none;\n",
       "      fill: #1967D2;\n",
       "      height: 32px;\n",
       "      padding: 0 0 0 0;\n",
       "      width: 32px;\n",
       "    }\n",
       "\n",
       "    .colab-df-convert:hover {\n",
       "      background-color: #E2EBFA;\n",
       "      box-shadow: 0px 1px 2px rgba(60, 64, 67, 0.3), 0px 1px 3px 1px rgba(60, 64, 67, 0.15);\n",
       "      fill: #174EA6;\n",
       "    }\n",
       "\n",
       "    [theme=dark] .colab-df-convert {\n",
       "      background-color: #3B4455;\n",
       "      fill: #D2E3FC;\n",
       "    }\n",
       "\n",
       "    [theme=dark] .colab-df-convert:hover {\n",
       "      background-color: #434B5C;\n",
       "      box-shadow: 0px 1px 3px 1px rgba(0, 0, 0, 0.15);\n",
       "      filter: drop-shadow(0px 1px 2px rgba(0, 0, 0, 0.3));\n",
       "      fill: #FFFFFF;\n",
       "    }\n",
       "  </style>\n",
       "\n",
       "      <script>\n",
       "        const buttonEl =\n",
       "          document.querySelector('#df-76ecaf8a-e548-4f0b-b62b-cae2cfc7e7cd button.colab-df-convert');\n",
       "        buttonEl.style.display =\n",
       "          google.colab.kernel.accessAllowed ? 'block' : 'none';\n",
       "\n",
       "        async function convertToInteractive(key) {\n",
       "          const element = document.querySelector('#df-76ecaf8a-e548-4f0b-b62b-cae2cfc7e7cd');\n",
       "          const dataTable =\n",
       "            await google.colab.kernel.invokeFunction('convertToInteractive',\n",
       "                                                     [key], {});\n",
       "          if (!dataTable) return;\n",
       "\n",
       "          const docLinkHtml = 'Like what you see? Visit the ' +\n",
       "            '<a target=\"_blank\" href=https://colab.research.google.com/notebooks/data_table.ipynb>data table notebook</a>'\n",
       "            + ' to learn more about interactive tables.';\n",
       "          element.innerHTML = '';\n",
       "          dataTable['output_type'] = 'display_data';\n",
       "          await google.colab.output.renderOutput(dataTable, element);\n",
       "          const docLink = document.createElement('div');\n",
       "          docLink.innerHTML = docLinkHtml;\n",
       "          element.appendChild(docLink);\n",
       "        }\n",
       "      </script>\n",
       "    </div>\n",
       "  </div>\n",
       "  "
      ],
      "text/plain": [
       "         Feature 1  Feature 2  movieId\n",
       "6482  11109.975759  -3.105587    53355\n",
       "6537  12688.975771  -3.543491    54934\n",
       "6308   6450.975701  -1.793944    48696"
      ]
     },
     "execution_count": 109,
     "metadata": {},
     "output_type": "execute_result"
    }
   ],
   "source": [
    "rate.loc[movie_rec(5),:]"
   ]
  }
 ],
 "metadata": {
  "colab": {
   "provenance": [
    {
     "file_id": "1iowhukGuMVXJxHLl7PbmF6e8JarGwgWr",
     "timestamp": 1679743975833
    }
   ],
   "toc_visible": true
  },
  "kernelspec": {
   "display_name": "Python 3",
   "language": "python",
   "name": "python3"
  },
  "language_info": {
   "codemirror_mode": {
    "name": "ipython",
    "version": 3
   },
   "file_extension": ".py",
   "mimetype": "text/x-python",
   "name": "python",
   "nbconvert_exporter": "python",
   "pygments_lexer": "ipython3",
   "version": "3.8.10"
  },
  "latex_envs": {
   "LaTeX_envs_menu_present": true,
   "autoclose": false,
   "autocomplete": true,
   "bibliofile": "biblio.bib",
   "cite_by": "apalike",
   "current_citInitial": 1,
   "eqLabelWithNumbers": true,
   "eqNumInitial": 1,
   "hotkeys": {
    "equation": "Ctrl-E",
    "itemize": "Ctrl-I"
   },
   "labels_anchors": false,
   "latex_user_defs": false,
   "report_style_numbering": false,
   "user_envs_cfg": false
  }
 },
 "nbformat": 4,
 "nbformat_minor": 1
}
