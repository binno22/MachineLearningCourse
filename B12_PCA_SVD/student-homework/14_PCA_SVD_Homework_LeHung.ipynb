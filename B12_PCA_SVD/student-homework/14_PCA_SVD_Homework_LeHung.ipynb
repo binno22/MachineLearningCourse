{
  "nbformat": 4,
  "nbformat_minor": 0,
  "metadata": {
    "colab": {
      "provenance": [],
      "toc_visible": true
    },
    "kernelspec": {
      "name": "python3",
      "display_name": "Python 3"
    },
    "language_info": {
      "name": "python"
    }
  },
  "cells": [
    {
      "cell_type": "markdown",
      "source": [
        "# I. Lý thuyết"
      ],
      "metadata": {
        "id": "wkRiNYjLWQ_V"
      }
    },
    {
      "cell_type": "markdown",
      "source": [
        "1) Mục tiêu của giảm chiều dữ liệu là gì ?\n",
        "\n",
        "A. Giảm chiều dữ liệu xuống không gian 2D hoặc 3D để visualize.\n",
        "\n",
        "B. Tăng tốc độ huấn luyện mô hình.\n",
        "\n",
        "C. Loại bỏ các chiều dữ liệu nhiễu.\n",
        "\n",
        "(D). Cả ba đáp án trên."
      ],
      "metadata": {
        "id": "41LUe7SPWX0H"
      }
    },
    {
      "cell_type": "markdown",
      "source": [
        "2) Mục tiêu của phân rã ma trận (_matrix decomposition_) là gì ?\n",
        "\n",
        "(A). Phân tích một ma trận thành tích của các ma trận thành phần nhằm tìm ra tính chất của ma trận ban đầu.\n",
        "\n",
        "B. Tìm ra ma trận xấp xỉ của ma trận ban đầu.\n",
        "\n",
        "C. Tăng tốc độ tính toán.\n",
        "\n",
        "D. Cả ba đáp án trên."
      ],
      "metadata": {
        "id": "fvyqOWnnXF_F"
      }
    },
    {
      "cell_type": "markdown",
      "source": [
        "3) Các véc tơ trong một hệ cơ sở véc tơ trực giao (_orthogonal basis_) có tính chất nào sau đây ?\n",
        "\n",
        "A. $||\\mathbf{u}_i||_2^2 \\neq 0$.\n",
        "\n",
        "(B). $\\mathbf{u}_i^{\\intercal}\\mathbf{u}_j = 0$ với mọi $i \\neq j$.\n",
        "\n",
        "C. $\\mathbf{u}_i+\\mathbf{u}_j = \\mathbf{0}$\n",
        "\n",
        "D. Đáp án A và B"
      ],
      "metadata": {
        "id": "idS8LYSlYNaX"
      }
    },
    {
      "cell_type": "markdown",
      "source": [
        "4) Cho ma trận:\n",
        "$$\\mathbf{A} =\n",
        "\\begin{bmatrix} \n",
        "1 & 0 & 0 \\\\ \n",
        "0 & 2 & 0 \\\\ \n",
        "0 & 0 & 3 \n",
        "\\end{bmatrix}$$\n",
        "Nhận xét nào sau đây là đúng về các véc tơ cột của ma trận $\\mathbf{A}$ ?\n",
        "\n",
        "A. Các véc tơ cột của ma trận $\\mathbf{A}$ tạo thành một hệ cơ sở trực giao.\n",
        "\n",
        "B. Các véc tơ cột của ma trận $\\mathbf{A}$ là những véc tơ đơn vị.\n",
        "\n",
        "C. Mọi véc tơ trong không gian ba chiều đều có thể biểu diễn thành tổ hợp tuyến tính của các véc tơ cột của ma trận $\\mathbf{A}$.\n",
        "\n",
        "(D). Đáp án A và C"
      ],
      "metadata": {
        "id": "emLGfA3LZTmh"
      }
    },
    {
      "cell_type": "markdown",
      "source": [
        "5) Một ma trận $\\mathbf{X}$ có các véc tơ cột là một hệ trực chuẩn (_orthornomal basis_). Nhận xét nào sau đây là đúng về ma trận $\\mathbf{X}$.\n",
        "\n",
        "A. $\\mathbf{X}^{\\intercal}\\mathbf{X} = \\mathbf{I}$\n",
        "\n",
        "B. Nếu $\\mathbf{X}$ là ma trận vuông khả nghịch thì $\\mathbf{X}^{\\intercal} = \\mathbf{X}^{-1}$\n",
        "\n",
        "C. ma trận $\\mathbf{X}$ là một ma trận đối xứng.\n",
        "\n",
        "D. Đáp án A và B"
      ],
      "metadata": {
        "id": "_kSj9Nwfb-Me"
      }
    },
    {
      "cell_type": "markdown",
      "source": [
        "6) Cho một ma trận vuông $\\mathbf{A} \\in \\mathbb{R}^{d \\times d}$. Nếu một giá trị $\\lambda$ là eigenvalue tương ứng với eigenvector $\\mathbf{x} \\in \\mathbb{R}^d$ thì phát biểu nào sau đây là đúng?\n",
        "\n",
        "A. Khi thực hiện một phép xoay véc tơ thông qua phép nhân ma trận $\\mathbf{A}$ thì véc tơ không đổi chiều? Tức là: $\\mathbf{A}\\mathbf{x} = \\lambda \\mathbf{x}$.\n",
        "\n",
        "B. $\\lambda$ và $\\mathbf{x}$ là nghiệm của phương trình: $(\\mathbf{A} - \\lambda \\mathbf{I}) \\mathbf{x} = 0$\n",
        "\n",
        "C. Nếu $\\mathbf{x}$ là một eigenvector tương ứng với eigenvalue $\\lambda$ thì $\\alpha \\mathbf{x}$ cũng là một eigenvector tương ứng với eigenvalue $\\lambda$.\n",
        "\n",
        "(D.) Cả ba đáp án trên."
      ],
      "metadata": {
        "id": "jboVw4ABdlSG"
      }
    },
    {
      "cell_type": "markdown",
      "source": [
        "7) Ma trận hiệp phương sai của một bộ dữ liệu $\\mathbf{X}$ gồm $d$ đặc trưng đầu vào $\\{ \\mathbf{x}_1, \\mathbf{x}_2, \\dots, \\mathbf{x}_d \\}$ là ma trận như thế nào ?\n",
        "\n",
        "A. Là một ma trận vuông, đối xứng, kích thước $d \\times d$.\n",
        "\n",
        "(B). Là một ma trận mà mỗi phần tử tại dòng thứ $i$, cột thứ $j$ là $\\sigma_{ij}$ là hiệp phương sai giữa hai đặc trưng $\\mathbf{x}_i$ và $\\mathbf{x}_j$:\n",
        "$\\sigma_{ij} = \\text{cov}(\\mathbf{x}_i, \\mathbf{x}_j) = [\\mathbf{x}_i-\\mathbf{E}(\\mathbf{x}_i)][\\mathbf{x}_j-\\mathbf{E}(\\mathbf{x}_j)]$\n",
        "\n",
        "C. Là một ma trận thể hiện mối quan hệ tương quan giữa các đặc trưng và độ biến động của từng đặc trưng.\n",
        "\n",
        "D. Cả ba đáp án trên."
      ],
      "metadata": {
        "id": "K4JIzGgdgzpI"
      }
    },
    {
      "cell_type": "markdown",
      "source": [
        "8) Trong phép phân tích suy biến (_singular decomposition_) thì ma trận $\\mathbf{A}$ sẽ được phân tích thành: $\\mathbf{A} = \\mathbf{P}\\mathbf{D} \\mathbf{P}^{-1}$. Khi đó phát biểu nào sau đây là đúng ?\n",
        "\n",
        "(A). Mỗi một phần tử $d_i$ trên đường chéo chính của ma trận $\\mathbf{D}$ chính là một eigenvalue tương ứng với eigenvector $\\mathbf{p}_i$ là cột thứ $i$ của ma trận $\\mathbf{P}$.\n",
        "\n",
        "B. Độ lớn của $d_i$ thể hiện mức độ co dãn của dữ liệu nếu chiếu theo lên véc tơ $\\mathbf{p}_i$.\n",
        "\n",
        "C. Có thể xấp xỉ ma trận $\\mathbf{A}$ thông qua việc truncate ma trận $\\mathbf{D}$ để chỉ giữ lại $k$ các giá trị $d_i$ là lớn nhất.\n",
        "\n",
        "D. Cả ba đáp án trên.\n",
        "\n"
      ],
      "metadata": {
        "id": "orzEFcvginYC"
      }
    },
    {
      "cell_type": "markdown",
      "source": [
        "9) Trong thuật toán PCA gồm những bước sau đây:\n",
        "a) Tìm eigenvalue và eigenvector của ma trận hiệp phương sai.\n",
        "b) Tính tọa độ dữ liệu sau khi giảm chiều.\n",
        "c) Chuẩn hóa dữ liệu theo Standard Normalization\n",
        "d) Tìm hình chiếu của dữ liệu khi chiếu lên các eigenvector\n",
        "e) Tính ma trận hiệp phương sai\n",
        "\n",
        "Thứ tự các bước trong thuật toán PCA sẽ như thế nào ?\n",
        "\n",
        "A. c, e, d, a, b\n",
        "\n",
        "B. c, e, a, d, b\n",
        "\n",
        "(C). c, a, e, d, b\n",
        "\n",
        "D. c, b, e, d, a"
      ],
      "metadata": {
        "id": "66FIK76Akc3u"
      }
    },
    {
      "cell_type": "markdown",
      "source": [
        "10) Trong thuật toán PCA, khi tính toán xấp xỉ cho ma trận hiệp phương sai, nếu một eigenvector tương ứng với một giá trị eigenvalue càng lớn thì ?\n",
        "\n",
        "A. Khi chiếu dữ liệu lên eigenvector đó, dữ liệu càng phân tán.\n",
        "\n",
        "(B). Khi chiếu dữ liệu lên eigenvector đó, dữ liệu càng co cụm.\n",
        "\n",
        "C. Khi chiếu dữ liệu lên eigenvector đó, dữ liệu sẽ không thay đổi độ biến động.\n",
        "\n",
        "D. Khi chiếu dữ liệu lên eigenvector đó, thông tin của dữ liệu bị mất mát là nhiều nhất."
      ],
      "metadata": {
        "id": "N90i-gNfl4io"
      }
    },
    {
      "cell_type": "markdown",
      "source": [
        "# II. Thực hành"
      ],
      "metadata": {
        "id": "zvI94lOaWSc9"
      }
    },
    {
      "cell_type": "markdown",
      "source": [
        "Lựa chọn một trong các bộ dữ liệu sau:\n",
        "\n",
        "* [BreastCancer](https://archive.ics.uci.edu/ml/datasets/Breast+Cancer+Wisconsin+(Diagnostic)) về chuẩn đoán ung thư vú.\n",
        "\n",
        "* [diabetes](https://archive.ics.uci.edu/ml/datasets/diabetes) chuẩn đoán bệnh tiểu đường.\n",
        "\n",
        "* [hmeq](https://www.kaggle.com/ajay1735/hmeq-data) phân loại hồ sơ cho vay mua nhà.\n",
        "\n",
        "* [BonstonHousing](https://github.com/phamdinhkhanh/datasets/blob/master/BostonHousing.csv) dự báo giá nhà ở Bonston.\n",
        "\n",
        "* [churn customer](https://archive.ics.uci.edu/ml/datasets/Iranian+Churn+Dataset) dự đoán khách hàng rời bỏ.\n",
        "\n",
        "Hãy thực hiện các bài tập sau:\n",
        "\n",
        "1. Giảm chiều dữ liệu của bộ dữ liệu về còn 2 chiều bằng cách sử dụng phép phân tích suy biến SVD.\n",
        "2. Giảm chiều dữ liệu của bộ dữ liệu về còn 2 chiều bằng cách sử dụng PCA trong [scikit-learn](https://scikit-learn.org/stable/modules/generated/sklearn.decomposition.PCA.html).\n",
        "3. Thực hiện visualization các điểm dữ liệu trong không gian 2 chiều và nhận xét về phân bố nhãn (nếu là bài toán phân loại) và mối quan hệ giữa các chiều ẩn với biến mục tiêu (nếu là bài toán dự báo).\n",
        "\n",
        "Tiếp theo, từ bảng số liệu `rating.csv` của bộ dữ liệu [movielen](https://www.kaggle.com/shubhammehta21/movie-lens-small-latest-dataset) chứa thông tin các lượt rating của người xem (cột userId) tới bộ phim (cột movieId). Hãy xây dựng thuật toán khuyến nghị bộ phim dựa trên:\n",
        "\n",
        "4. Tìm ra biểu diễn của các bộ phim theo vector thông qua việc phân tích suy biến SVD ma trận rating.\n",
        "\n",
        "5. Sử dụng cosine-similarity trên các biểu diễn vector của từng bộ phim để xây dựng thuật toán khuyến nghị bộ phim tương đồng với một bộ phim mà một người đã xem."
      ],
      "metadata": {
        "id": "w9aQxHOGm__s"
      }
    }
  ]
}