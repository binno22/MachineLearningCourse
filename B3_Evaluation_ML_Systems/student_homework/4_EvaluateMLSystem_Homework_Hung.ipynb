{
  "nbformat": 4,
  "nbformat_minor": 0,
  "metadata": {
    "colab": {
      "provenance": []
    },
    "kernelspec": {
      "name": "python3",
      "display_name": "Python 3"
    },
    "language_info": {
      "name": "python"
    }
  },
  "cells": [
    {
      "cell_type": "markdown",
      "source": [
        "# I. Lý thuyết"
      ],
      "metadata": {
        "id": "YixG2cVJnutn"
      }
    },
    {
      "cell_type": "markdown",
      "source": [
        "Đây là bảng confusion matrix của một mô hình phân loại nhị phân\n",
        "\n",
        "![](https://imgur.com/1UZL68u.png)\n",
        "\n",
        "Hãy cho biết:"
      ],
      "metadata": {
        "id": "WW9sjM00tEot"
      }
    },
    {
      "cell_type": "markdown",
      "source": [
        "1.- Đâu là công thức đúng của _Sensitivity (độ nhạy)_ ?\n",
        "\n",
        "A. TP/(TP + FP)\n",
        "\n",
        "(B). TP/(TP + FN)\n",
        "\n",
        "C. TP/(TN + FN)\n",
        "\n",
        "D. TP/(TN + FP)"
      ],
      "metadata": {
        "id": "YfTkgZSWn01G"
      }
    },
    {
      "cell_type": "markdown",
      "source": [
        "2.- Ý nghĩa của _Sensitivity (độ nhạy)_ trong mô hình chuẩn đoán bệnh?\n",
        "\n",
        "(A). Sensitivity cho biết nếu một người mắc bệnh thật thì mô hình có thể nhận biết được mắc bệnh với xác suất là bao nhiêu phần trăm ?\n",
        "\n",
        "B. Sensitivity cho biết nếu mô hình chuẩn đoán một người mắc bệnh thì người đó có khả năng bị mắc bệnh thật là bao nhiêu phần trăm ?\n",
        "\n",
        "C. Sensitivity cho biết nếu một người không bị mắc bệnh thì mô hình có thể nhận biết được người đó không mắc bệnh với xác suất bao nhiêu phần trăm ?\n",
        "\n",
        "D. Sensitivity cho biết trong số những trường hợp không bị mắc bệnh thì mô hình có thể nhận biết được là bao nhiêu phần trăm ?"
      ],
      "metadata": {
        "id": "oMEZIuwKore_"
      }
    },
    {
      "cell_type": "markdown",
      "source": [
        "Có ba mô hình với cùng accuracy như sau. \n",
        "\n",
        "![](https://imgur.com/zXUy6zd.png)\n",
        "\n",
        "![](https://imgur.com/0GBEf8v.png)\n",
        "\n",
        "![](https://imgur.com/t5I6f4y.png)\n",
        "\n",
        "3.- Mô hình nào sẽ được lựa chọn?\n",
        "\n",
        "A. Mô hình 1\n",
        "\n",
        "B. Mô hình 2\n",
        "\n",
        "(C). Mô hình 3\n",
        "\n",
        "D. Cả ba mô hình đều như nhau."
      ],
      "metadata": {
        "id": "Luv8jlxQtZ5_"
      }
    },
    {
      "cell_type": "markdown",
      "source": [
        "4.- f1-score của cả ba mô hình là lần lượt là:\n",
        "\n",
        "A. m1: 0.571; m2: 0.675; m3: 0.75\n",
        "\n",
        "B. m1: 0.75; m2: 0.675; m3: 0.889\n",
        "\n",
        "(C). m1: 0.571; m2: 0.75; m3: 0.889\n",
        "\n",
        "D. không có đáp án nào đúng."
      ],
      "metadata": {
        "id": "-AE9sJulvxaz"
      }
    },
    {
      "cell_type": "markdown",
      "source": [
        "5.- Một mô hình phân loại ngẫu nhiên sẽ có đường ROC như thế nào ?\n",
        "\n",
        "(A). Lồi lên phía trên.\n",
        "\n",
        "B. Tiệm cận đường chéo nét đứt.\n",
        "\n",
        "C. Lõm xuống phía dưới.\n",
        "\n",
        "D. Có dạng hình sin."
      ],
      "metadata": {
        "id": "31FBr3E0vzHs"
      }
    },
    {
      "cell_type": "markdown",
      "source": [
        "# II. Thực hành"
      ],
      "metadata": {
        "id": "1F8_yDjdnya0"
      }
    },
    {
      "cell_type": "markdown",
      "source": [
        "Một mô hình phân loại nhị phân có giá trị dự báo `y_hat` và giá trị ground truth `y` lần lượt như sau:"
      ],
      "metadata": {
        "id": "muZy4k1cwlNh"
      }
    },
    {
      "cell_type": "code",
      "source": [
        "import numpy as np\n",
        "\n",
        "y     = np.array([1, 0, 1, 1, 0,\n",
        "                  1, 0, 0, 1, 0])\n",
        "y_hat = np.array([0.8, 0.1, 0.85, 0.2, 0.4, \n",
        "                  0.7, 0.25, 0.05, 0.6, 0.1])"
      ],
      "metadata": {
        "id": "fBdoCbldwz0O"
      },
      "execution_count": null,
      "outputs": []
    },
    {
      "cell_type": "markdown",
      "source": [
        "6. Nếu ngưỡng phân loại `threshold = 0.5`. Viết hàm tính 3 giá trị: `precision, recall, f1-score`\n"
      ],
      "metadata": {
        "id": "YtApx4gXxYv6"
      }
    },
    {
      "cell_type": "code",
      "source": [
        "from sklearn import metrics\n",
        "confusion_matrix = metrics.confusion_matrix(y, (y_hat>0.5))\n",
        "print(confusion_matrix)"
      ],
      "metadata": {
        "id": "r38ZV81rdFJq",
        "colab": {
          "base_uri": "https://localhost:8080/"
        },
        "outputId": "4ef4cb04-6a6a-4c40-94d4-4f7af6ed2aa7"
      },
      "execution_count": null,
      "outputs": [
        {
          "output_type": "stream",
          "name": "stdout",
          "text": [
            "[[5 0]\n",
            " [1 4]]\n"
          ]
        }
      ]
    },
    {
      "cell_type": "code",
      "source": [
        "from sklearn.metrics import precision_score, recall_score, f1_score\n",
        "precision = precision_score(y, (y_hat>0.5), average='binary')\n",
        "print('Precision: %.3f' % precision)\n",
        "recall = recall_score(y, (y_hat>0.5), average='binary')\n",
        "print('Recall: %.3f' % recall)\n",
        "f1score = f1_score(y, (y_hat>0.5), average='binary')\n",
        "print('f1-score: %.3f' % f1score)"
      ],
      "metadata": {
        "colab": {
          "base_uri": "https://localhost:8080/"
        },
        "id": "jq9Ir-BZspRG",
        "outputId": "bd36dad7-0e2c-4840-d666-e922a14536f1"
      },
      "execution_count": null,
      "outputs": [
        {
          "output_type": "stream",
          "name": "stdout",
          "text": [
            "Precision: 1.000\n",
            "Recall: 0.800\n",
            "f1-score: 0.889\n"
          ]
        }
      ]
    },
    {
      "cell_type": "markdown",
      "source": [
        "7. Nếu ngưỡng phân loại là `threshold = 0.5`. Viết hàm tính giá trị: `sensitivity, specificity`."
      ],
      "metadata": {
        "id": "zhJt201Tx4PZ"
      }
    },
    {
      "cell_type": "code",
      "source": [
        "from sklearn.metrics import confusion_matrix\n",
        "tp,fp,fn,tn=  metrics.confusion_matrix(y, (y_hat>0.5)).ravel()\n",
        "sensitivity = tp / (tp+fn)\n",
        "specificity = tn / (tn+fp)\n",
        "print('sensitivity: %.3f' % sensitivity)\n",
        "print('specificity: %.3f' % specificity)"
      ],
      "metadata": {
        "colab": {
          "base_uri": "https://localhost:8080/"
        },
        "id": "afJi0NRs1H2x",
        "outputId": "52e3b852-b747-432e-810d-27c6cc23edee"
      },
      "execution_count": null,
      "outputs": [
        {
          "output_type": "stream",
          "name": "stdout",
          "text": [
            "sensitivity: 0.833\n",
            "specificity: 1.000\n"
          ]
        }
      ]
    },
    {
      "cell_type": "markdown",
      "source": [
        "8. Vẽ biểu đồ đường cong ROC. Khi threshold thay đổi từ `[0, 1]` với steps là 0.05"
      ],
      "metadata": {
        "id": "wEK22dd0xtqc"
      }
    },
    {
      "cell_type": "code",
      "source": [
        "from sklearn.metrics import roc_curve\n",
        "from sklearn.linear_model import LogisticRegression\n",
        "import matplotlib.pyplot as plt\n",
        "\n",
        "sensitivity, specificity, thresholds = roc_curve(y,y_hat)\n",
        "plt.figure(figsize=(6,4))\n",
        "plt.plot(sensitivity, specificity, linewidth=2)\n",
        "plt.plot([0,1], [0,1], 'k--' )\n",
        "plt.rcParams['font.size'] = 12\n",
        "plt.title('ROC curve for Gaussian Naive Bayes Classifier for Predicting Salaries')\n",
        "plt.xlabel('False Positive Rate (1 - Specificity)')\n",
        "plt.ylabel('True Positive Rate (Sensitivity)')\n",
        "plt.show()"
      ],
      "metadata": {
        "colab": {
          "base_uri": "https://localhost:8080/",
          "height": 302
        },
        "id": "ZCi2C71L50i3",
        "outputId": "d7fa2878-b1d6-416d-f8a2-58ec57c46c24"
      },
      "execution_count": null,
      "outputs": [
        {
          "output_type": "display_data",
          "data": {
            "text/plain": [
              "<Figure size 432x288 with 1 Axes>"
            ],
            "image/png": "[encoded data removed]"
          },
          "metadata": {
            "needs_background": "light"
          }
        }
      ]
    },
    {
      "cell_type": "markdown",
      "source": [
        "9. Vẽ biểu đồ biểu diễn giá trị của `precision, recall` trên đồ thị khi threshold thay đổi từ `[0, 1]` với steps là 0.05."
      ],
      "metadata": {
        "id": "cyK-JsSZyFJ4"
      }
    },
    {
      "cell_type": "code",
      "source": [
        "precision, recall"
      ],
      "metadata": {
        "colab": {
          "base_uri": "https://localhost:8080/"
        },
        "id": "L7T-2EW2b9-H",
        "outputId": "dc5493be-a980-403c-d7f4-d3429d8e2a37"
      },
      "execution_count": null,
      "outputs": [
        {
          "output_type": "execute_result",
          "data": {
            "text/plain": [
              "(1.0, 0.8)"
            ]
          },
          "metadata": {},
          "execution_count": 56
        }
      ]
    },
    {
      "cell_type": "code",
      "source": [
        "import matplotlib.pyplot as plt\n",
        "import numpy as np\n",
        "\n",
        "x = [0,1]\n",
        "fig, ax = plt.subplots()\n",
        "\n",
        "ax.plot(x, [0,precision])\n",
        "ax.plot(x, [0,recall] )\n",
        "plt.show()"
      ],
      "metadata": {
        "colab": {
          "base_uri": "https://localhost:8080/",
          "height": 268
        },
        "id": "EL638nE6ZMyy",
        "outputId": "277b598e-3b4d-4bbc-c229-0efd56162235"
      },
      "execution_count": null,
      "outputs": [
        {
          "output_type": "display_data",
          "data": {
            "text/plain": [
              "<Figure size 432x288 with 1 Axes>"
            ],
            "image/png": "[encoded data removed]"
          },
          "metadata": {
            "needs_background": "light"
          }
        }
      ]
    },
    {
      "cell_type": "markdown",
      "source": [
        "10. Viết hàm tính diện tích AUC của mô hình."
      ],
      "metadata": {
        "id": "qBHXN7IgywJ2"
      }
    },
    {
      "cell_type": "code",
      "source": [
        "metrics.auc(sensitivity, specificity)"
      ],
      "metadata": {
        "colab": {
          "base_uri": "https://localhost:8080/"
        },
        "id": "ctqz3YxRfKsO",
        "outputId": "f8c4fc17-47ec-4470-a26a-836f04f93b20"
      },
      "execution_count": null,
      "outputs": [
        {
          "output_type": "execute_result",
          "data": {
            "text/plain": [
              "0.92"
            ]
          },
          "metadata": {},
          "execution_count": 67
        }
      ]
    }
  ]
}