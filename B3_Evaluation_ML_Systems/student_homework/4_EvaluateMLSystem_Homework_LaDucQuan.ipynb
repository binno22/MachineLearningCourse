{
  "nbformat": 4,
  "nbformat_minor": 0,
  "metadata": {
    "colab": {
      "provenance": []
    },
    "kernelspec": {
      "name": "python3",
      "display_name": "Python 3"
    },
    "language_info": {
      "name": "python"
    }
  },
  "cells": [
    {
      "cell_type": "markdown",
      "source": [
        "# I. Lý thuyết\n",
        "\n",
        "Đáp án lựa chọn sẽ được **tô đậm**"
      ],
      "metadata": {
        "id": "YixG2cVJnutn"
      }
    },
    {
      "cell_type": "markdown",
      "source": [
        "Đây là bảng confusion matrix của một mô hình phân loại nhị phân\n",
        "\n",
        "![](https://imgur.com/1UZL68u.png)\n",
        "\n",
        "Hãy cho biết:"
      ],
      "metadata": {
        "id": "WW9sjM00tEot"
      }
    },
    {
      "cell_type": "markdown",
      "source": [
        "1.- Đâu là công thức đúng của _Sensitivity (độ nhạy)_ ?\n",
        "\n",
        "A. TP/(TP + FP)\n",
        "\n",
        "**B. TP/(TP + FN)**\n",
        "\n",
        "C. TP/(TN + FN)\n",
        "\n",
        "D. TP/(TN + FP)"
      ],
      "metadata": {
        "id": "YfTkgZSWn01G"
      }
    },
    {
      "cell_type": "markdown",
      "source": [
        "2.- Ý nghĩa của _Sensitivity (độ nhạy)_ trong mô hình chuẩn đoán bệnh?\n",
        "\n",
        "**A. Sensitivity cho biết nếu một người mắc bệnh thật thì mô hình có thể nhận biết được mắc bệnh với xác suất là bao nhiêu phần trăm ?**\n",
        "\n",
        "B. Sensitivity cho biết nếu mô hình chuẩn đoán một người mắc bệnh thì người đó có khả năng bị mắc bệnh thật là bao nhiêu phần trăm ?\n",
        "\n",
        "C. Sensitivity cho biết nếu một người không bị mắc bệnh thì mô hình có thể nhận biết được người đó không mắc bệnh với xác suất bao nhiêu phần trăm ?\n",
        "\n",
        "D. Sensitivity cho biết trong số những trường hợp không bị mắc bệnh thì mô hình có thể nhận biết được là bao nhiêu phần trăm ?"
      ],
      "metadata": {
        "id": "oMEZIuwKore_"
      }
    },
    {
      "cell_type": "markdown",
      "source": [
        "Có ba mô hình với cùng accuracy như sau.  (Model 3 không có cùng accuracy, model này có accuracy cao hơn)\n",
        "\n",
        "![](https://imgur.com/zXUy6zd.png) => precision = 2/3, recall = 1/2 => f1 = 0.57\n",
        "\n",
        "![](https://imgur.com/0GBEf8v.png) => precision = 3/4, recall = 3/4 => f1 = 0.75\n",
        "\n",
        "![](https://imgur.com/t5I6f4y.png) => precision = 4/5, recall = 1 => f1 = 0.89\n",
        "\n",
        "3.- Mô hình nào sẽ được lựa chọn?\n",
        "\n",
        "A. Mô hình 1\n",
        "\n",
        "B. Mô hình 2\n",
        "\n",
        "**C. Mô hình 3**\n",
        "\n",
        "D. Cả ba mô hình đều như nhau."
      ],
      "metadata": {
        "id": "Luv8jlxQtZ5_"
      }
    },
    {
      "cell_type": "markdown",
      "source": [
        "4.- f1-score của cả ba mô hình là lần lượt là:\n",
        "\n",
        "A. m1: 0.571; m2: 0.675; m3: 0.75\n",
        "\n",
        "B. m1: 0.75; m2: 0.675; m3: 0.889\n",
        "\n",
        "**C. m1: 0.571; m2: 0.75; m3: 0.889**\n",
        "\n",
        "D. không có đáp án nào đúng."
      ],
      "metadata": {
        "id": "-AE9sJulvxaz"
      }
    },
    {
      "cell_type": "markdown",
      "source": [
        "5.- Một mô hình phân loại ngẫu nhiên sẽ có đường ROC như thế nào ?\n",
        "\n",
        "A. Lồi lên phía trên.\n",
        "\n",
        "**B. Tiệm cận đường chéo nét đứt.**\n",
        "\n",
        "C. Lõm xuống phía dưới.\n",
        "\n",
        "D. Có dạng hình sin."
      ],
      "metadata": {
        "id": "31FBr3E0vzHs"
      }
    },
    {
      "cell_type": "markdown",
      "source": [
        "# II. Thực hành"
      ],
      "metadata": {
        "id": "1F8_yDjdnya0"
      }
    },
    {
      "cell_type": "markdown",
      "source": [
        "Một mô hình phân loại nhị phân có giá trị dự báo `y_hat` và giá trị ground truth `y` lần lượt như sau:"
      ],
      "metadata": {
        "id": "muZy4k1cwlNh"
      }
    },
    {
      "cell_type": "code",
      "source": [
        "import numpy as np\n",
        "\n",
        "y     = np.array([1, 0, 1, 1, 0,\n",
        "                  1, 0, 0, 1, 0])\n",
        "y_hat = np.array([0.8, 0.1, 0.85, 0.2, 0.4, \n",
        "                  0.7, 0.25, 0.05, 0.6, 0.1])"
      ],
      "metadata": {
        "id": "fBdoCbldwz0O"
      },
      "execution_count": null,
      "outputs": []
    },
    {
      "cell_type": "markdown",
      "source": [
        "6. Nếu ngưỡng phân loại `threshold = 0.5`. Viết hàm tính 3 giá trị: `precision, recall, f1-score`\n"
      ],
      "metadata": {
        "id": "YtApx4gXxYv6"
      }
    },
    {
      "cell_type": "code",
      "source": [
        "#hàm để tính các giá trị precision, recall, f1\n",
        "\n",
        "def precision(tp, fp):\n",
        "  if tp + fp == 0:\n",
        "    return 0\n",
        "  else:\n",
        "    return 1.0*tp / (tp + fp)\n",
        "\n",
        "def recall(tp, fn):\n",
        "  if tp + fn == 0:\n",
        "    return 0\n",
        "  else:\n",
        "    return 1.0*tp / (tp + fn)\n",
        "\n",
        "def f1(pre, rec):\n",
        "  if (pre == 0) or (rec == 0):\n",
        "    return 0\n",
        "  return 2 / ((1.0/pre) + (1.0/rec))   "
      ],
      "metadata": {
        "id": "9ruCVOAS61V5"
      },
      "execution_count": null,
      "outputs": []
    },
    {
      "cell_type": "code",
      "source": [
        "def class_metrics(y, y_hat, threshold):\n",
        "  label_yh = np.where(y_hat < threshold, 0, 1)\n",
        "  True_Pos = False_Pos = True_Neg = False_Neg = 0\n",
        "  for i in range(len(y)):\n",
        "    if y[i] == 1: #actual label is positive\n",
        "      if y[i] == label_yh[i]:\n",
        "        True_Pos += 1\n",
        "      else: \n",
        "        False_Neg += 1\n",
        "    if y[i] == 0: #actual label is negative\n",
        "      if y[i] == label_yh[i]:\n",
        "        True_Neg += 1\n",
        "      else: \n",
        "        False_Pos += 1\n",
        "  return precision(True_Pos, False_Pos), recall(True_Pos,False_Neg), f1(precision(True_Pos,False_Pos),recall(True_Pos,False_Neg))\n",
        "\n",
        "precision, recall, f1 = class_metrics(y, y_hat, 0.5)\n",
        "print(f'Precision rate = {precision:.2f}')\n",
        "print(f'Recall rate = {recall:.2f}')\n",
        "print(f'F1-score = {f1:.2f}')"
      ],
      "metadata": {
        "colab": {
          "base_uri": "https://localhost:8080/"
        },
        "id": "36OPnyti7rkq",
        "outputId": "aedcd202-aab7-40e7-bbb4-5a9ad998f60e"
      },
      "execution_count": null,
      "outputs": [
        {
          "output_type": "stream",
          "name": "stdout",
          "text": [
            "Precision rate = 1.00\n",
            "Recall rate = 0.80\n",
            "F1-score = 0.89\n"
          ]
        }
      ]
    },
    {
      "cell_type": "markdown",
      "source": [
        "7. Nếu ngưỡng phân loại là `threshold = 0.5`. Viết hàm tính giá trị: `sensitivity, specificity`."
      ],
      "metadata": {
        "id": "zhJt201Tx4PZ"
      }
    },
    {
      "cell_type": "code",
      "source": [
        "def sens_and_spec(y, y_hat, threshold):\n",
        "  label_yh = np.where(y_hat < threshold, 0, 1)\n",
        "  True_Pos = False_Pos = True_Neg = False_Neg = 0\n",
        "  for i in range(len(y)):\n",
        "    if y[i] == 1: #actual label is positive\n",
        "      if y[i] == label_yh[i]:\n",
        "        True_Pos += 1\n",
        "      else: \n",
        "        False_Neg += 1\n",
        "    if y[i] == 0: #actual label is negative\n",
        "      if y[i] == label_yh[i]:\n",
        "        True_Neg += 1\n",
        "      else: \n",
        "        False_Pos += 1\n",
        "    if True_Pos + False_Neg > 0:\n",
        "      sensitivity = 1.0 * True_Pos / (True_Pos + False_Neg)\n",
        "    else: \n",
        "      sensitivity = 0\n",
        "    if True_Neg + False_Pos == 0:\n",
        "      specificity = 0\n",
        "    else:\n",
        "      specificity = 1.0 * True_Neg / (True_Neg + False_Pos)\n",
        "  return sensitivity, specificity\n",
        "\n",
        "sens, spec = sens_and_spec(y, y_hat, 0.5)\n",
        "print(f'Sensitivity = {sens:.2f}')\n",
        "print(f'Specificity = {spec:.2f}')\n",
        "  "
      ],
      "metadata": {
        "colab": {
          "base_uri": "https://localhost:8080/"
        },
        "id": "Ai7ui2M3--M-",
        "outputId": "b855bfd6-71dc-4cf4-bca8-cd11716ac961"
      },
      "execution_count": null,
      "outputs": [
        {
          "output_type": "stream",
          "name": "stdout",
          "text": [
            "Sensitivity = 0.80\n",
            "Specificity = 1.00\n"
          ]
        }
      ]
    },
    {
      "cell_type": "markdown",
      "source": [
        "8. Vẽ biểu đồ đường cong ROC. Khi threshold thay đổi từ `[0, 1]` với steps là 0.05"
      ],
      "metadata": {
        "id": "wEK22dd0xtqc"
      }
    },
    {
      "cell_type": "code",
      "source": [
        "def confusion_matrix(Y, Y_hat):\n",
        "  True_Pos = False_Pos = True_Neg = False_Neg = 0\n",
        "  for i in range(len(Y)):\n",
        "    if (Y[i] == 1):\n",
        "      if (Y_hat[i] == 1):\n",
        "        True_Pos += 1\n",
        "      else:\n",
        "        False_Neg += 1\n",
        "    else:\n",
        "      if (Y_hat[i] == 1):\n",
        "        False_Pos += 1\n",
        "      else:\n",
        "        True_Neg += 1\n",
        "  return (True_Pos, False_Pos, False_Neg, True_Neg)"
      ],
      "metadata": {
        "id": "WKQmxp4txtnN"
      },
      "execution_count": null,
      "outputs": []
    },
    {
      "cell_type": "code",
      "source": [
        "import matplotlib.pyplot as plt"
      ],
      "metadata": {
        "id": "G-nVcqQt0OIg"
      },
      "execution_count": null,
      "outputs": []
    },
    {
      "cell_type": "code",
      "source": [
        "def roc_pair(Y, Y_hat_rate, threshold):\n",
        "  Y_hat = np.where(Y_hat_rate < threshold, 0, 1)\n",
        "  tp, fp, fn, tn = confusion_matrix(Y, Y_hat)\n",
        "  return (1 - specificity(tn, fp), sensitivity(tp, fn))\n",
        "\n",
        "roc_list = [roc_pair(y, y_hat, threshold) for threshold in np.linspace(0,1,21)] \n",
        "\n",
        "plt.plot(*zip(*roc_list), marker = 'o')\n",
        "plt.title('ROC Curve')\n",
        "plt.xlabel('False positive rate')\n",
        "plt.ylabel('True positive rate')\n",
        "plt.show()"
      ],
      "metadata": {
        "colab": {
          "base_uri": "https://localhost:8080/",
          "height": 295
        },
        "id": "XafOQrF9tTDr",
        "outputId": "eae019b2-4000-4cc5-9295-d59d024eedf9"
      },
      "execution_count": null,
      "outputs": [
        {
          "output_type": "display_data",
          "data": {
            "text/plain": [
              "<Figure size 432x288 with 1 Axes>"
            ],
            "image/png": "[encoded data removed]"
          },
          "metadata": {
            "needs_background": "light"
          }
        }
      ]
    },
    {
      "cell_type": "markdown",
      "source": [
        "9. Vẽ biểu đồ biểu diễn giá trị của `precision, recall` trên đồ thị khi threshold thay đổi từ `[0, 1]` với steps là 0.05."
      ],
      "metadata": {
        "id": "cyK-JsSZyFJ4"
      }
    },
    {
      "cell_type": "code",
      "source": [
        "def precision_with_threshold(Y, Y_hat_rate, threshold):\n",
        "  Y_hat = np.where(Y_hat_rate < threshold, 0, 1)\n",
        "  tp, fp, fn, tn = confusion_matrix(Y, Y_hat)\n",
        "  return precision(tp, fp)\n",
        "\n",
        "def recall_with_threshold(Y, Y_hat_rate, threshold):\n",
        "  Y_hat = np.where(Y_hat_rate < threshold, 0, 1)\n",
        "  tp, fp, fn, tn = confusion_matrix(Y, Y_hat)\n",
        "  return recall(tp, fn)\n",
        "\n",
        "threshold_list = np.linspace(0, 1, 21)\n",
        "precision_list = [precision_with_threshold(y, y_hat, threshold) for threshold in threshold_list]\n",
        "recall_list = [recall_with_threshold(y, y_hat, threshold) for threshold in threshold_list]\n",
        "\n",
        "plt.plot(threshold_list, precision_list, label = 'Precision change')\n",
        "plt.plot(threshold_list, recall_list, label = 'Recall change')\n",
        "plt.title('Precision vs Recall change by threshold')\n",
        "plt.legend(['Precision','Recall'])\n",
        "plt.xlabel('Threshold')\n",
        "plt.ylabel('Rate')\n",
        "plt.show()"
      ],
      "metadata": {
        "id": "AFrcD_RBdsa_",
        "colab": {
          "base_uri": "https://localhost:8080/",
          "height": 295
        },
        "outputId": "d1a92262-4419-4f7a-b58c-7fba9c9c2fc3"
      },
      "execution_count": null,
      "outputs": [
        {
          "output_type": "display_data",
          "data": {
            "text/plain": [
              "<Figure size 432x288 with 1 Axes>"
            ],
            "image/png": "[encoded data removed]"
          },
          "metadata": {
            "needs_background": "light"
          }
        }
      ]
    },
    {
      "cell_type": "markdown",
      "source": [
        "10. Viết hàm tính diện tích AUC của mô hình."
      ],
      "metadata": {
        "id": "qBHXN7IgywJ2"
      }
    },
    {
      "cell_type": "code",
      "source": [
        "def auc(roc_list):\n",
        "  pre_x = roc_list[0][0]\n",
        "  pre_y = roc_list[0][1]\n",
        "  s = 0.0\n",
        "  #if y changes and x does not, do not add anything \n",
        "  #if x changes, and y do not, add the size of the rectangle\n",
        "  #if x changes and so do y, add the size of the rectangle (x_old - x_new) * y_old and the triangle 1/2 (x_old - x_new) * (y_old - y_new)\n",
        "  for i in range(1, len(roc_list)):\n",
        "    x = roc_list[i][0]\n",
        "    y = roc_list[i][1]\n",
        "    if pre_x != x:\n",
        "      if (pre_y == y):\n",
        "        s = s + abs((pre_x - x) * y)\n",
        "      else:\n",
        "        s = s + 1 / 2 * abs((pre_x - x) * (pre_y - y))\n",
        "    pre_x = x\n",
        "    pre_y = y\n",
        "  return s \n",
        "\n",
        "print(auc(roc_list))"
      ],
      "metadata": {
        "id": "mz1cff8Vicgf",
        "colab": {
          "base_uri": "https://localhost:8080/"
        },
        "outputId": "ef912016-c67a-4ccc-bd79-38aedf59a34c"
      },
      "execution_count": null,
      "outputs": [
        {
          "output_type": "stream",
          "name": "stdout",
          "text": [
            "0.9199999999999999\n"
          ]
        }
      ]
    },
    {
      "cell_type": "code",
      "source": [],
      "metadata": {
        "id": "J0Asa4AMVBAQ"
      },
      "execution_count": null,
      "outputs": []
    }
  ]
}