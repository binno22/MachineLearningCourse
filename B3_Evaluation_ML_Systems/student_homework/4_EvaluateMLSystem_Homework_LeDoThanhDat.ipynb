{
  "nbformat": 4,
  "nbformat_minor": 0,
  "metadata": {
    "colab": {
      "provenance": []
    },
    "kernelspec": {
      "name": "python3",
      "display_name": "Python 3"
    },
    "language_info": {
      "name": "python"
    }
  },
  "cells": [
    {
      "cell_type": "markdown",
      "source": [
        "**Homework 4**\n",
        "\n",
        "**Lê Đỗ Thành Đạt**"
      ],
      "metadata": {
        "id": "4uNHVxnyYL1_"
      }
    },
    {
      "cell_type": "markdown",
      "source": [
        "# I. Lý thuyết"
      ],
      "metadata": {
        "id": "YixG2cVJnutn"
      }
    },
    {
      "cell_type": "markdown",
      "source": [
        "Đây là bảng confusion matrix của một mô hình phân loại nhị phân\n",
        "\n",
        "![](https://imgur.com/1UZL68u.png)\n",
        "\n",
        "Hãy cho biết:"
      ],
      "metadata": {
        "id": "WW9sjM00tEot"
      }
    },
    {
      "cell_type": "markdown",
      "source": [
        "1.- Đâu là công thức đúng của _Sensitivity (độ nhạy)_ ?\n",
        "\n",
        "A. TP/(TP + FP)\n",
        "\n",
        "B. TP/(TP + FN)\n",
        "\n",
        "C. TP/(TN + FN)\n",
        "\n",
        "D. TP/(TN + FP)"
      ],
      "metadata": {
        "id": "YfTkgZSWn01G"
      }
    },
    {
      "cell_type": "markdown",
      "source": [
        "Trả lời: B"
      ],
      "metadata": {
        "id": "d8YoAx-_ZjPp"
      }
    },
    {
      "cell_type": "markdown",
      "source": [
        "2.- Ý nghĩa của _Sensitivity (độ nhạy)_ trong mô hình chuẩn đoán bệnh?\n",
        "\n",
        "A. Sensitivity cho biết nếu một người mắc bệnh thật thì mô hình có thể nhận biết được mắc bệnh với xác suất là bao nhiêu phần trăm ?\n",
        "\n",
        "B. Sensitivity cho biết nếu mô hình chuẩn đoán một người mắc bệnh thì người đó có khả năng bị mắc bệnh thật là bao nhiêu phần trăm ?\n",
        "\n",
        "C. Sensitivity cho biết nếu một người không bị mắc bệnh thì mô hình có thể nhận biết được người đó không mắc bệnh với xác suất bao nhiêu phần trăm ?\n",
        "\n",
        "D. Sensitivity cho biết trong số những trường hợp không bị mắc bệnh thì mô hình có thể nhận biết được là bao nhiêu phần trăm ?"
      ],
      "metadata": {
        "id": "oMEZIuwKore_"
      }
    },
    {
      "cell_type": "markdown",
      "source": [
        "Trả lời: A"
      ],
      "metadata": {
        "id": "J_LrQv_9ZyNx"
      }
    },
    {
      "cell_type": "markdown",
      "source": [
        "Có ba mô hình với cùng accuracy như sau. \n",
        "\n",
        "![](https://imgur.com/zXUy6zd.png)\n",
        "\n",
        "![](https://imgur.com/0GBEf8v.png)\n",
        "\n",
        "![](https://imgur.com/t5I6f4y.png)\n",
        "\n",
        "3.- Mô hình nào sẽ được lựa chọn?\n",
        "\n",
        "A. Mô hình 1\n",
        "\n",
        "B. Mô hình 2\n",
        "\n",
        "C. Mô hình 3\n",
        "\n",
        "D. Cả ba mô hình đều như nhau."
      ],
      "metadata": {
        "id": "Luv8jlxQtZ5_"
      }
    },
    {
      "cell_type": "markdown",
      "source": [
        "Trả lời: C. Mô hình 3"
      ],
      "metadata": {
        "id": "nLUPJgzUeeKL"
      }
    },
    {
      "cell_type": "markdown",
      "source": [
        "4.- f1-score của cả ba mô hình là lần lượt là:\n",
        "\n",
        "A. m1: 0.571; m2: 0.675; m3: 0.75\n",
        "\n",
        "B. m1: 0.75; m2: 0.675; m3: 0.889\n",
        "\n",
        "C. m1: 0.571; m2: 0.75; m3: 0.889\n",
        "\n",
        "D. không có đáp án nào đúng."
      ],
      "metadata": {
        "id": "-AE9sJulvxaz"
      }
    },
    {
      "cell_type": "markdown",
      "source": [
        "Trả lời: C"
      ],
      "metadata": {
        "id": "pIgr6Rnffldk"
      }
    },
    {
      "cell_type": "markdown",
      "source": [
        "5.- Một mô hình phân loại ngẫu nhiên sẽ có đường ROC như thế nào ?\n",
        "\n",
        "A. Lồi lên phía trên.\n",
        "\n",
        "B. Tiệm cận đường chéo nét đứt.\n",
        "\n",
        "C. Lõm xuống phía dưới.\n",
        "\n",
        "D. Có dạng hình sin."
      ],
      "metadata": {
        "id": "31FBr3E0vzHs"
      }
    },
    {
      "cell_type": "markdown",
      "source": [
        "Trả lời: B"
      ],
      "metadata": {
        "id": "iVO69zCLjH9d"
      }
    },
    {
      "cell_type": "markdown",
      "source": [
        "# II. Thực hành"
      ],
      "metadata": {
        "id": "1F8_yDjdnya0"
      }
    },
    {
      "cell_type": "markdown",
      "source": [
        "Một mô hình phân loại nhị phân có giá trị dự báo `y_hat` và giá trị ground truth `y` lần lượt như sau:"
      ],
      "metadata": {
        "id": "muZy4k1cwlNh"
      }
    },
    {
      "cell_type": "code",
      "source": [
        "import numpy as np\n",
        "\n",
        "y     = np.array([1, 0, 1, 1, 0,\n",
        "                  1, 0, 0, 1, 0])\n",
        "y_hat = np.array([0.8, 0.1, 0.85, 0.2, 0.4, \n",
        "                  0.7, 0.25, 0.05, 0.6, 0.1])"
      ],
      "metadata": {
        "id": "fBdoCbldwz0O"
      },
      "execution_count": null,
      "outputs": []
    },
    {
      "cell_type": "markdown",
      "source": [
        "6. Nếu ngưỡng phân loại `threshold = 0.5`. Viết hàm tính 3 giá trị: `precision, recall, f1-score`\n"
      ],
      "metadata": {
        "id": "YtApx4gXxYv6"
      }
    },
    {
      "cell_type": "code",
      "source": [
        "# Ham transform y_hat to mang chi chua 0,1\n",
        "def transform(y_hat, threshold):\n",
        "  y_pred = []\n",
        "  for item in y_hat:\n",
        "    if item > threshold:\n",
        "      y_new = 1\n",
        "      y_pred.append(y_new)\n",
        "    else:\n",
        "      y_new = 0\n",
        "      y_pred.append(y_new)\n",
        "  return y_pred"
      ],
      "metadata": {
        "id": "-xlVdTbJmG4L"
      },
      "execution_count": null,
      "outputs": []
    },
    {
      "cell_type": "code",
      "source": [
        "transform(y_hat, 0.5)"
      ],
      "metadata": {
        "colab": {
          "base_uri": "https://localhost:8080/"
        },
        "id": "_rcAgHGNz8a5",
        "outputId": "e2e5b861-d494-4be4-9dff-1fbf3921bacc"
      },
      "execution_count": null,
      "outputs": [
        {
          "output_type": "execute_result",
          "data": {
            "text/plain": [
              "[1, 0, 1, 0, 0, 1, 0, 0, 1, 0]"
            ]
          },
          "metadata": {},
          "execution_count": 19
        }
      ]
    },
    {
      "cell_type": "code",
      "source": [
        "# Ham tinh TP, TN, FP, FN cua confusion matrix\n",
        "def confusion_matrix(y_hat, y, threshold):\n",
        "  y_pred = transform(y_hat, threshold)\n",
        "  confusion_matrix = {\n",
        "      \"TP\": 0,\n",
        "      \"TN\": 0,\n",
        "      \"FP\": 0,\n",
        "      \"FN\": 0\n",
        "  }\n",
        "  for id in range(len(y)):\n",
        "    if (y[id] == 1) & (y_pred[id] == 1):\n",
        "      confusion_matrix[\"TP\"] += 1\n",
        "    elif (y[id] == 0) & (y_pred[id] == 0):\n",
        "      confusion_matrix[\"TN\"] += 1\n",
        "    elif (y[id] == 0) & (y_pred[id] == 1):\n",
        "      confusion_matrix[\"FP\"] += 1\n",
        "    else:\n",
        "      confusion_matrix[\"FN\"] += 1\n",
        "  return confusion_matrix"
      ],
      "metadata": {
        "id": "X-8r8i92rz7x"
      },
      "execution_count": null,
      "outputs": []
    },
    {
      "cell_type": "code",
      "source": [
        "confusion_matrix(y_hat, y, 0.5)"
      ],
      "metadata": {
        "colab": {
          "base_uri": "https://localhost:8080/"
        },
        "id": "vzCf4lIh2TW3",
        "outputId": "e81ae580-ac2f-409f-d0fa-ab8417ce8c89"
      },
      "execution_count": null,
      "outputs": [
        {
          "output_type": "execute_result",
          "data": {
            "text/plain": [
              "{'TP': 4, 'TN': 5, 'FP': 0, 'FN': 1}"
            ]
          },
          "metadata": {},
          "execution_count": 21
        }
      ]
    },
    {
      "cell_type": "code",
      "source": [
        "# Ham tinh precision\n",
        "def precision(y_hat, y, threshold):\n",
        "  conf_matrix = confusion_matrix(y_hat, y, threshold)\n",
        "  if conf_matrix[\"TP\"] == 0:\n",
        "    precision = 0\n",
        "  else:\n",
        "    precision = conf_matrix[\"TP\"]/(conf_matrix[\"TP\"] + conf_matrix[\"FP\"])\n",
        "  return precision\n",
        "\n",
        "# Ham tinh recall\n",
        "def recall(y_hat, y, threshold):\n",
        "  conf_matrix = confusion_matrix(y_hat, y, threshold)\n",
        "  if conf_matrix[\"TP\"] == 0:\n",
        "    recall = 0\n",
        "  else:\n",
        "    recall = conf_matrix[\"TP\"]/(conf_matrix[\"TP\"] + conf_matrix[\"FN\"])\n",
        "  return recall\n",
        "\n",
        "# Ham tinh f1-score\n",
        "def f1_score(y_hat, y, threshold):\n",
        "  prec = precision(y_hat, y, threshold)\n",
        "  rec = recall(y_hat, y, threshold)\n",
        "  f1_score = 2/(1/prec + 1/rec)\n",
        "  return f1_score"
      ],
      "metadata": {
        "id": "nP6UpOw-kQzq"
      },
      "execution_count": null,
      "outputs": []
    },
    {
      "cell_type": "code",
      "source": [
        "# Tinh toan precision\n",
        "precision(y_hat, y, threshold = 0.5)"
      ],
      "metadata": {
        "colab": {
          "base_uri": "https://localhost:8080/"
        },
        "id": "TPDXBZG74GCp",
        "outputId": "7dbe25cb-36b8-4f86-94b7-83ed064cc064"
      },
      "execution_count": null,
      "outputs": [
        {
          "output_type": "execute_result",
          "data": {
            "text/plain": [
              "1.0"
            ]
          },
          "metadata": {},
          "execution_count": 61
        }
      ]
    },
    {
      "cell_type": "code",
      "source": [
        "# Tinh toan recall\n",
        "recall(y_hat, y, threshold = 0.5)"
      ],
      "metadata": {
        "colab": {
          "base_uri": "https://localhost:8080/"
        },
        "id": "bYPjA1785AXK",
        "outputId": "bd757838-1f7d-4bfc-fa99-c12ddbeb6bf8"
      },
      "execution_count": null,
      "outputs": [
        {
          "output_type": "execute_result",
          "data": {
            "text/plain": [
              "0.8"
            ]
          },
          "metadata": {},
          "execution_count": 62
        }
      ]
    },
    {
      "cell_type": "code",
      "source": [
        "# Tinh toan f1-score\n",
        "f1_score(y_hat, y, threshold = 0.5)"
      ],
      "metadata": {
        "colab": {
          "base_uri": "https://localhost:8080/"
        },
        "id": "rtmkqMPy5JO2",
        "outputId": "d727b66f-0bd3-46eb-8bc9-ac171229aed6"
      },
      "execution_count": null,
      "outputs": [
        {
          "output_type": "execute_result",
          "data": {
            "text/plain": [
              "0.8888888888888888"
            ]
          },
          "metadata": {},
          "execution_count": 63
        }
      ]
    },
    {
      "cell_type": "markdown",
      "source": [
        "7. Nếu ngưỡng phân loại là `threshold = 0.5`. Viết hàm tính giá trị: `sensitivity, specificity`."
      ],
      "metadata": {
        "id": "zhJt201Tx4PZ"
      }
    },
    {
      "cell_type": "code",
      "source": [
        "# Ham tinh sensitivity\n",
        "def sensitivity(y_hat, y, threshold):\n",
        "  conf_matrix = confusion_matrix(y_hat, y, threshold)\n",
        "  if conf_matrix[\"TP\"] == 0:\n",
        "    sensitivity = 0\n",
        "  else:\n",
        "    sensitivity = conf_matrix[\"TP\"]/(conf_matrix[\"TP\"] + conf_matrix[\"FN\"])\n",
        "  return sensitivity\n",
        "\n",
        "# Ham tinh specificity\n",
        "def specificity(y_hat, y, threshold):\n",
        "  conf_matrix = confusion_matrix(y_hat, y, threshold)\n",
        "  if conf_matrix[\"TN\"] == 0:\n",
        "    specificity = 0\n",
        "  else:\n",
        "    specificity = conf_matrix[\"TN\"]/(conf_matrix[\"TN\"] + conf_matrix[\"FP\"])\n",
        "  return specificity"
      ],
      "metadata": {
        "id": "k3gbw5uu5s2z"
      },
      "execution_count": null,
      "outputs": []
    },
    {
      "cell_type": "code",
      "source": [
        "# Tinh sensitivity\n",
        "sensitivity(y_hat, y, threshold = 0.5)"
      ],
      "metadata": {
        "colab": {
          "base_uri": "https://localhost:8080/"
        },
        "id": "3CntE-w86lX3",
        "outputId": "a9d15120-7ec6-4b67-c9d4-7ea4c87d05a8"
      },
      "execution_count": null,
      "outputs": [
        {
          "output_type": "execute_result",
          "data": {
            "text/plain": [
              "0.8"
            ]
          },
          "metadata": {},
          "execution_count": 65
        }
      ]
    },
    {
      "cell_type": "code",
      "source": [
        "# Tinh specificity\n",
        "specificity(y_hat, y, threshold = 0.5)"
      ],
      "metadata": {
        "colab": {
          "base_uri": "https://localhost:8080/"
        },
        "id": "36pgVD1p6vrs",
        "outputId": "1bed474e-407f-4571-f566-b9593608aca3"
      },
      "execution_count": null,
      "outputs": [
        {
          "output_type": "execute_result",
          "data": {
            "text/plain": [
              "1.0"
            ]
          },
          "metadata": {},
          "execution_count": 66
        }
      ]
    },
    {
      "cell_type": "markdown",
      "source": [
        "8. Vẽ biểu đồ đường cong ROC. Khi threshold thay đổi từ `[0, 1]` với steps là 0.05"
      ],
      "metadata": {
        "id": "wEK22dd0xtqc"
      }
    },
    {
      "cell_type": "code",
      "source": [
        "# Vẽ biểu đồ đường cong ROC\n",
        "import numpy as np\n",
        "import matplotlib.pyplot as plt\n",
        "TPR = []\n",
        "FPR = []\n",
        "for threshold in np.arange(0,1.05,0.05):\n",
        "  TPR_new = sensitivity(y_hat, y, threshold)\n",
        "  FPR_new = 1 - specificity(y_hat, y, threshold)\n",
        "  TPR.append(TPR_new)\n",
        "  FPR.append(FPR_new)\n",
        "\n",
        "auc = -1 * np.trapz(TPR, FPR)\n",
        "\n",
        "plt.plot(FPR, TPR, color='blue', lw = 2, label='ROC curve', clip_on=False)\n",
        "plt.plot([0, 1], [0, 1], color='orange', linestyle='--')\n",
        "plt.xlim([0.0, 1.0])\n",
        "plt.ylim([0.0, 1.0])\n",
        "plt.xlabel('False Positive Rate')\n",
        "plt.ylabel('True Positive Rate')\n",
        "plt.title('ROC curve, AUC = %.2f'%auc)\n",
        "plt.legend(loc=\"lower right\")\n",
        "plt.show()"
      ],
      "metadata": {
        "colab": {
          "base_uri": "https://localhost:8080/",
          "height": 295
        },
        "id": "NVYyRzro68lY",
        "outputId": "7946ce74-2395-470b-d92a-d36ae0dd9861"
      },
      "execution_count": null,
      "outputs": [
        {
          "output_type": "display_data",
          "data": {
            "text/plain": [
              "<Figure size 432x288 with 1 Axes>"
            ],
            "image/png": "[encoded data removed]"
          },
          "metadata": {
            "needs_background": "light"
          }
        }
      ]
    },
    {
      "cell_type": "markdown",
      "source": [
        "9. Vẽ biểu đồ biểu diễn giá trị của `precision, recall` trên đồ thị khi threshold thay đổi từ `[0, 1]` với steps là 0.05."
      ],
      "metadata": {
        "id": "cyK-JsSZyFJ4"
      }
    },
    {
      "cell_type": "code",
      "source": [
        "# Vẽ biểu đồ precision va recall\n",
        "import numpy as np\n",
        "import matplotlib.pyplot as plt\n",
        "prec = []\n",
        "rec = []\n",
        "for threshold in np.arange(0,1.05,0.05):\n",
        "  prec_new = precision(y_hat, y, threshold)\n",
        "  rec_new = recall(y_hat, y, threshold)\n",
        "  prec.append(prec_new)\n",
        "  rec.append(rec_new)\n",
        "\n",
        "plt.plot(prec, rec, 'b')\n",
        "plt.legend(loc = 'lower right')\n",
        "plt.xlim([0, 1])\n",
        "plt.ylim([0, 1])\n",
        "plt.ylabel('Recall')\n",
        "plt.xlabel('Precision')\n",
        "plt.show()"
      ],
      "metadata": {
        "colab": {
          "base_uri": "https://localhost:8080/",
          "height": 300
        },
        "id": "REBP0Mn9DmCv",
        "outputId": "68daf564-9bc1-44fc-a682-4582033d102f"
      },
      "execution_count": null,
      "outputs": [
        {
          "output_type": "stream",
          "name": "stderr",
          "text": [
            "WARNING:matplotlib.legend:No handles with labels found to put in legend.\n"
          ]
        },
        {
          "output_type": "display_data",
          "data": {
            "text/plain": [
              "<Figure size 432x288 with 1 Axes>"
            ],
            "image/png": "[encoded data removed]"
          },
          "metadata": {
            "needs_background": "light"
          }
        }
      ]
    },
    {
      "cell_type": "markdown",
      "source": [
        "10. Viết hàm tính diện tích AUC của mô hình."
      ],
      "metadata": {
        "id": "qBHXN7IgywJ2"
      }
    },
    {
      "cell_type": "code",
      "source": [
        "def AUC(y_hat, y, min_thresh, max_thresh, step_thresh):\n",
        "  import numpy as np\n",
        "  import matplotlib.pyplot as plt\n",
        "  TPR = []\n",
        "  FPR = []\n",
        "  for threshold in np.arange(min_thresh,max_thresh+step_thresh,step_thresh):\n",
        "    TPR_new = sensitivity(y_hat, y, threshold)\n",
        "    FPR_new = 1 - specificity(y_hat, y, threshold)\n",
        "    TPR.append(TPR_new)\n",
        "    FPR.append(FPR_new)\n",
        "    auc = -1 * np.trapz(TPR, FPR)\n",
        "  return auc"
      ],
      "metadata": {
        "id": "qmPQapeyFkGP"
      },
      "execution_count": null,
      "outputs": []
    },
    {
      "cell_type": "code",
      "source": [
        "# Tinh AUC\n",
        "AUC(y_hat, y, 0, 1, 0.05)"
      ],
      "metadata": {
        "colab": {
          "base_uri": "https://localhost:8080/"
        },
        "id": "BYYKGlC1HT2a",
        "outputId": "f7ddf3c8-0d11-4b85-848c-5870afd7e910"
      },
      "execution_count": null,
      "outputs": [
        {
          "output_type": "execute_result",
          "data": {
            "text/plain": [
              "0.92"
            ]
          },
          "metadata": {},
          "execution_count": 77
        }
      ]
    }
  ]
}