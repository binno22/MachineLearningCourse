{
 "cells": [
  {
   "cell_type": "markdown",
   "metadata": {
    "id": "YixG2cVJnutn"
   },
   "source": [
    "# I. Lý thuyết"
   ]
  },
  {
   "cell_type": "markdown",
   "metadata": {
    "id": "WW9sjM00tEot"
   },
   "source": [
    "Đây là bảng confusion matrix của một mô hình phân loại nhị phân\n",
    "\n",
    "![](https://imgur.com/1UZL68u.png)\n",
    "\n",
    "Hãy cho biết:"
   ]
  },
  {
   "cell_type": "markdown",
   "metadata": {
    "id": "YfTkgZSWn01G"
   },
   "source": [
    "1.- Đâu là công thức đúng của _Sensitivity (độ nhạy)_ ?\n",
    "\n",
    "A. TP/(TP + FP)\n",
    "\n",
    "B. TP/(TP + FN)\n",
    "\n",
    "C. TP/(TN + FN)\n",
    "\n",
    "D. TP/(TN + FP)"
   ]
  },
  {
   "cell_type": "markdown",
   "metadata": {
    "id": "oMEZIuwKore_"
   },
   "source": [
    "2.- Ý nghĩa của _Sensitivity (độ nhạy)_ trong mô hình chuẩn đoán bệnh?\n",
    "\n",
    "A. Sensitivity cho biết nếu một người mắc bệnh thật thì mô hình có thể nhận biết được mắc bệnh với xác suất là bao nhiêu phần trăm ?\n",
    "\n",
    "B. Sensitivity cho biết nếu mô hình chuẩn đoán một người mắc bệnh thì người đó có khả năng bị mắc bệnh thật là bao nhiêu phần trăm ?\n",
    "\n",
    "C. Sensitivity cho biết nếu một người không bị mắc bệnh thì mô hình có thể nhận biết được người đó không mắc bệnh với xác suất bao nhiêu phần trăm ?\n",
    "\n",
    "D. Sensitivity cho biết trong số những trường hợp không bị mắc bệnh thì mô hình có thể nhận biết được là bao nhiêu phần trăm ?"
   ]
  },
  {
   "cell_type": "markdown",
   "metadata": {
    "id": "Luv8jlxQtZ5_"
   },
   "source": [
    "Có ba mô hình với cùng accuracy như sau. \n",
    "\n",
    "![](https://imgur.com/zXUy6zd.png)\n",
    "\n",
    "![](https://imgur.com/0GBEf8v.png)\n",
    "\n",
    "![](https://imgur.com/t5I6f4y.png)\n",
    "\n",
    "3.- Mô hình nào sẽ được lựa chọn?\n",
    "\n",
    "A. Mô hình 1\n",
    "\n",
    "B. Mô hình 2\n",
    "\n",
    "C. Mô hình 3\n",
    "\n",
    "D. Cả ba mô hình đều như nhau."
   ]
  },
  {
   "cell_type": "markdown",
   "metadata": {
    "id": "-AE9sJulvxaz"
   },
   "source": [
    "4.- f1-score của cả ba mô hình là lần lượt là:\n",
    "\n",
    "A. m1: 0.571; m2: 0.675; m3: 0.75\n",
    "\n",
    "B. m1: 0.75; m2: 0.675; m3: 0.889\n",
    "\n",
    "C. m1: 0.571; m2: 0.75; m3: 0.889\n",
    "\n",
    "D. không có đáp án nào đúng."
   ]
  },
  {
   "cell_type": "markdown",
   "metadata": {
    "id": "31FBr3E0vzHs"
   },
   "source": [
    "5.- Một mô hình phân loại ngẫu nhiên sẽ có đường ROC như thế nào ?\n",
    "\n",
    "A. Lồi lên phía trên.\n",
    "\n",
    "B. Tiệm cận đường chéo nét đứt.\n",
    "\n",
    "C. Lõm xuống phía dưới.\n",
    "\n",
    "D. Có dạng hình sin."
   ]
  },
  {
   "cell_type": "markdown",
   "metadata": {
    "id": "ELZxk4O4Do1B"
   },
   "source": [
    "\n",
    "\n",
    "1.   **B**\n",
    "2.   **A**\n",
    "\n",
    "3.   **C**\n",
    "4.   **C**\n",
    "\n",
    "5.   **A (SAI)** \n",
    "\n",
    "\n",
    "\n",
    "\n",
    "\n",
    "\n"
   ]
  },
  {
   "cell_type": "code",
   "execution_count": 24,
   "metadata": {
    "executionInfo": {
     "elapsed": 1186,
     "status": "ok",
     "timestamp": 1671269648608,
     "user": {
      "displayName": "Hoang Cao",
      "userId": "06694567986582200421"
     },
     "user_tz": -420
    },
    "id": "KAfUKjOPvuW2"
   },
   "outputs": [],
   "source": []
  },
  {
   "cell_type": "markdown",
   "metadata": {
    "id": "1F8_yDjdnya0"
   },
   "source": [
    "# II. Thực hành"
   ]
  },
  {
   "cell_type": "markdown",
   "metadata": {
    "id": "muZy4k1cwlNh"
   },
   "source": [
    "Một mô hình phân loại nhị phân có giá trị dự báo `y_hat` và giá trị ground truth `y` lần lượt như sau:"
   ]
  },
  {
   "cell_type": "code",
   "execution_count": 25,
   "metadata": {
    "executionInfo": {
     "elapsed": 16,
     "status": "ok",
     "timestamp": 1671269649816,
     "user": {
      "displayName": "Hoang Cao",
      "userId": "06694567986582200421"
     },
     "user_tz": -420
    },
    "id": "fBdoCbldwz0O"
   },
   "outputs": [],
   "source": [
    "import numpy as np\n",
    "\n",
    "y     = np.array([1, 0, 1, 1, 0,\n",
    "                  1, 0, 0, 1, 0])\n",
    "y_hat = np.array([0.8, 0.1, 0.85, 0.2, 0.4, \n",
    "                  0.7, 0.25, 0.05, 0.6, 0.1])"
   ]
  },
  {
   "cell_type": "markdown",
   "metadata": {
    "id": "YtApx4gXxYv6"
   },
   "source": [
    "6. Nếu ngưỡng phân loại `threshold = 0.5`. Viết hàm tính 3 giá trị: `precision, recall, f1-score`\n"
   ]
  },
  {
   "cell_type": "markdown",
   "metadata": {
    "id": "QU1hnZKCWrMT"
   },
   "source": [
    "7. Nếu ngưỡng phân loại là threshold = 0.5. Viết hàm tính giá trị: sensitivity, specificity.\n"
   ]
  },
  {
   "cell_type": "code",
   "execution_count": 75,
   "metadata": {
    "executionInfo": {
     "elapsed": 501,
     "status": "ok",
     "timestamp": 1671273278293,
     "user": {
      "displayName": "Hoang Cao",
      "userId": "06694567986582200421"
     },
     "user_tz": -420
    },
    "id": "tqdtPGNVMRJ0"
   },
   "outputs": [],
   "source": [
    "def calculate_metrics(y,y_hat):\n",
    "  TP, FP, TN, FN = 0, 0, 0, 0\n",
    "  for i in range(len(y_hat)):\n",
    "    if (y_hat[i] <= 0.5) & (y[i] == 0):\n",
    "      TN += 1\n",
    "    elif (y_hat[i] <= 0.5) & (y[i] == 1):\n",
    "      FN += 1\n",
    "    elif (y_hat[i] >= 0.5) & (y[i] == 1):\n",
    "      TP += 1\n",
    "    else:\n",
    "      FP += 1\n",
    "  \n",
    "  precision = TP / (TP + FP)\n",
    "  recall = TP / (TP + FN)\n",
    "  f1_score = 2 / (1/precision + 1/recall)\n",
    "  sensitivity = TP / (TP + FN)\n",
    "  specificity = TN / (FP + TN)\n",
    "\n",
    "  return print(f'precision:',precision, '\\n','recall:',recall,'\\n','f1-score:',f1_score,'\\n','sensetivity:',sensitivity,'\\n','specificity',specificity)"
   ]
  },
  {
   "cell_type": "code",
   "execution_count": 76,
   "metadata": {
    "colab": {
     "base_uri": "https://localhost:8080/"
    },
    "executionInfo": {
     "elapsed": 6,
     "status": "ok",
     "timestamp": 1671273278914,
     "user": {
      "displayName": "Hoang Cao",
      "userId": "06694567986582200421"
     },
     "user_tz": -420
    },
    "id": "imK8c_KVMREm",
    "outputId": "0a0b6ec3-1557-4e36-fed9-5d9c569db3cd"
   },
   "outputs": [
    {
     "name": "stdout",
     "output_type": "stream",
     "text": [
      "precision: 1.0 \n",
      " recall: 0.8 \n",
      " f1-score: 0.8888888888888888 \n",
      " sensetivity: 0.8 \n",
      " specificity 1.0\n"
     ]
    }
   ],
   "source": [
    "calculate_metrics(y, y_hat)"
   ]
  },
  {
   "cell_type": "markdown",
   "metadata": {
    "id": "wEK22dd0xtqc"
   },
   "source": [
    "8. Vẽ biểu đồ đường cong ROC. Khi threshold thay đổi từ `[0, 1]` với steps là 0.05"
   ]
  },
  {
   "cell_type": "code",
   "execution_count": 38,
   "metadata": {
    "colab": {
     "base_uri": "https://localhost:8080/"
    },
    "executionInfo": {
     "elapsed": 505,
     "status": "ok",
     "timestamp": 1671270964270,
     "user": {
      "displayName": "Hoang Cao",
      "userId": "06694567986582200421"
     },
     "user_tz": -420
    },
    "id": "nl0h1Z9oWxnq",
    "outputId": "26c5c992-b30f-4153-dad3-63a8d0cf0928"
   },
   "outputs": [
    {
     "data": {
      "text/plain": [
       "array([0.  , 0.05, 0.1 , 0.15, 0.2 , 0.25, 0.3 , 0.35, 0.4 , 0.45, 0.5 ,\n",
       "       0.55, 0.6 , 0.65, 0.7 , 0.75, 0.8 , 0.85, 0.9 , 0.95])"
      ]
     },
     "execution_count": 38,
     "metadata": {},
     "output_type": "execute_result"
    }
   ],
   "source": [
    "import matplotlib.pyplot as plt\n",
    "threshold = np.arange(0 ,1, 0.05)\n",
    "threshold"
   ]
  },
  {
   "cell_type": "code",
   "execution_count": 82,
   "metadata": {
    "executionInfo": {
     "elapsed": 646,
     "status": "ok",
     "timestamp": 1671273594903,
     "user": {
      "displayName": "Hoang Cao",
      "userId": "06694567986582200421"
     },
     "user_tz": -420
    },
    "id": "V2R61CzqWxd2"
   },
   "outputs": [],
   "source": [
    "fpr = []\n",
    "tpr = []\n",
    "\n",
    "positive = sum(y)\n",
    "negative = len(y) - positive\n",
    "\n",
    "for i in threshold:\n",
    "  FP, TP = 0, 0\n",
    "  for j in range(len(y_hat)):\n",
    "    if y_hat[j] >= i :\n",
    "      if y[j] == 1:\n",
    "        TP += 1\n",
    "      else:\n",
    "        FP += 1\n",
    "  fpr.append(FP/negative)\n",
    "  tpr.append(TP/positive)"
   ]
  },
  {
   "cell_type": "code",
   "execution_count": 83,
   "metadata": {
    "colab": {
     "base_uri": "https://localhost:8080/",
     "height": 282
    },
    "executionInfo": {
     "elapsed": 391,
     "status": "ok",
     "timestamp": 1671273606124,
     "user": {
      "displayName": "Hoang Cao",
      "userId": "06694567986582200421"
     },
     "user_tz": -420
    },
    "id": "aSvZyd7yhc42",
    "outputId": "527f2eaa-d6f6-448e-ef0f-cf11ad37789e"
   },
   "outputs": [
    {
     "data": {
      "text/plain": [
       "[<matplotlib.lines.Line2D at 0x7f0929a04610>]"
      ]
     },
     "execution_count": 83,
     "metadata": {},
     "output_type": "execute_result"
    },
    {
     "data": {
      "image/png": "[encoded data removed]",
      "text/plain": [
       "<Figure size 432x288 with 1 Axes>"
      ]
     },
     "metadata": {
      "needs_background": "light"
     },
     "output_type": "display_data"
    }
   ],
   "source": [
    "plt.plot(fpr,tpr)"
   ]
  },
  {
   "cell_type": "markdown",
   "metadata": {
    "id": "cyK-JsSZyFJ4"
   },
   "source": [
    "9. Vẽ biểu đồ biểu diễn giá trị của `precision, recall` trên đồ thị khi threshold thay đổi từ `[0, 1]` với steps là 0.05."
   ]
  },
  {
   "cell_type": "code",
   "execution_count": 91,
   "metadata": {
    "colab": {
     "base_uri": "https://localhost:8080/",
     "height": 504
    },
    "executionInfo": {
     "elapsed": 556,
     "status": "error",
     "timestamp": 1671274075731,
     "user": {
      "displayName": "Hoang Cao",
      "userId": "06694567986582200421"
     },
     "user_tz": -420
    },
    "id": "4RkCM72flODe",
    "outputId": "e90be9a1-6a02-4b74-c6cb-a986af95e2f7"
   },
   "outputs": [
    {
     "name": "stdout",
     "output_type": "stream",
     "text": [
      "0.5\n",
      "0.5\n",
      "0.5555555555555556\n",
      "0.7142857142857143\n",
      "0.7142857142857143\n",
      "0.6666666666666666\n",
      "0.8\n",
      "0.8\n",
      "0.8\n",
      "1.0\n",
      "1.0\n",
      "1.0\n",
      "1.0\n",
      "1.0\n",
      "1.0\n",
      "1.0\n",
      "1.0\n",
      "1.0\n"
     ]
    },
    {
     "ename": "ZeroDivisionError",
     "evalue": "ignored",
     "output_type": "error",
     "traceback": [
      "\u001b[0;31m---------------------------------------------------------------------------\u001b[0m",
      "\u001b[0;31mZeroDivisionError\u001b[0m                         Traceback (most recent call last)",
      "\u001b[0;32m<ipython-input-91-bf3b6b162dd6>\u001b[0m in \u001b[0;36m<module>\u001b[0;34m\u001b[0m\n\u001b[1;32m     14\u001b[0m       \u001b[0;32mif\u001b[0m \u001b[0my\u001b[0m\u001b[0;34m[\u001b[0m\u001b[0mj\u001b[0m\u001b[0;34m]\u001b[0m \u001b[0;34m==\u001b[0m \u001b[0;36m1\u001b[0m\u001b[0;34m:\u001b[0m\u001b[0;34m\u001b[0m\u001b[0;34m\u001b[0m\u001b[0m\n\u001b[1;32m     15\u001b[0m         \u001b[0mFN\u001b[0m \u001b[0;34m+=\u001b[0m \u001b[0;36m1\u001b[0m\u001b[0;34m\u001b[0m\u001b[0;34m\u001b[0m\u001b[0m\n\u001b[0;32m---> 16\u001b[0;31m   \u001b[0mprint\u001b[0m\u001b[0;34m(\u001b[0m\u001b[0mTP\u001b[0m\u001b[0;34m/\u001b[0m\u001b[0;34m(\u001b[0m\u001b[0mFP\u001b[0m\u001b[0;34m+\u001b[0m\u001b[0mTP\u001b[0m\u001b[0;34m)\u001b[0m\u001b[0;34m)\u001b[0m\u001b[0;34m\u001b[0m\u001b[0;34m\u001b[0m\u001b[0m\n\u001b[0m",
      "\u001b[0;31mZeroDivisionError\u001b[0m: division by zero"
     ]
    }
   ],
   "source": [
    "pre = []\n",
    "rec = []\n",
    "\n",
    "for i in threshold:\n",
    "  FP, TP, FN = 0, 0, 0\n",
    "  i = round(i,2)\n",
    "  for j in range(len(y_hat)):\n",
    "    if y_hat[j] >= i :\n",
    "      if y[j] == 1:\n",
    "        TP += 1\n",
    "      else:\n",
    "        FP += 1\n",
    "    else:\n",
    "      if y[j] == 1:\n",
    "        FN += 1\n",
    "  print(TP/(FP+TP))"
   ]
  },
  {
   "cell_type": "markdown",
   "metadata": {
    "id": "qBHXN7IgywJ2"
   },
   "source": [
    "10. Viết hàm tính diện tích AUC của mô hình."
   ]
  },
  {
   "cell_type": "code",
   "execution_count": null,
   "metadata": {
    "id": "wjCkkma5kOyN"
   },
   "outputs": [],
   "source": []
  },
  {
   "cell_type": "code",
   "execution_count": null,
   "metadata": {
    "id": "ebyJW_tLkOvJ"
   },
   "outputs": [],
   "source": []
  }
 ],
 "metadata": {
  "colab": {
   "provenance": [
    {
     "file_id": "1U_h4HQIIJ1KPFaygENpFeLa4fx5sNCt0",
     "timestamp": 1671263146486
    }
   ]
  },
  "kernelspec": {
   "display_name": "Python 3",
   "language": "python",
   "name": "python3"
  },
  "language_info": {
   "codemirror_mode": {
    "name": "ipython",
    "version": 3
   },
   "file_extension": ".py",
   "mimetype": "text/x-python",
   "name": "python",
   "nbconvert_exporter": "python",
   "pygments_lexer": "ipython3",
   "version": "3.8.10"
  },
  "latex_envs": {
   "LaTeX_envs_menu_present": true,
   "autoclose": false,
   "autocomplete": true,
   "bibliofile": "biblio.bib",
   "cite_by": "apalike",
   "current_citInitial": 1,
   "eqLabelWithNumbers": true,
   "eqNumInitial": 1,
   "hotkeys": {
    "equation": "Ctrl-E",
    "itemize": "Ctrl-I"
   },
   "labels_anchors": false,
   "latex_user_defs": false,
   "report_style_numbering": false,
   "user_envs_cfg": false
  }
 },
 "nbformat": 4,
 "nbformat_minor": 1
}
