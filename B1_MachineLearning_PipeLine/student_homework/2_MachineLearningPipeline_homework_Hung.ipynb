{
  "nbformat": 4,
  "nbformat_minor": 0,
  "metadata": {
    "colab": {
      "provenance": []
    },
    "kernelspec": {
      "name": "python3",
      "display_name": "Python 3"
    },
    "language_info": {
      "name": "python"
    },
    "accelerator": "TPU",
    "gpuClass": "standard"
  },
  "cells": [
    {
      "cell_type": "markdown",
      "metadata": {
        "id": "SXymcFDouir5"
      },
      "source": [
        "# I. Bài tập\n",
        "\n",
        "Từ một trong các bộ dữ liệu:\n",
        "\n",
        "* [BreastCancer](https://archive.ics.uci.edu/ml/datasets/Breast+Cancer+Wisconsin+(Diagnostic)) về chuẩn đoán ung thư vú. \n",
        "* [diabetes](https://archive.ics.uci.edu/ml/datasets/diabetes) chuẩn đoán bệnh tiểu đường.\n",
        "* [hmeq](https://www.kaggle.com/ajay1735/hmeq-data) phân loại hồ sơ cho vay mua nhà.\n",
        "* [BonstonHousing](https://github.com/phamdinhkhanh/datasets/blob/master/BostonHousing.csv) dự báo giá nhà ở Bonston. \n",
        "* [churn customer](https://archive.ics.uci.edu/ml/datasets/Iranian+Churn+Dataset) dự đoán khách hàng rời bỏ.\n",
        "\n",
        "Bạn hãy thực hiện các bài tập sau: \n",
        "\n",
        "1. Thống kê mô tả và vẽ biểu đồ phân phối trên các trường của tập dữ liệu này. Đánh giá sơ bộ về tính chất phân phối của các biến.\n",
        "\n",
        "2. Hãy tạo thành một pipeline hoàn chỉnh để xử lý dữ liệu từ thô sang tinh.\n",
        "\n",
        "3. Phân chia tập train/test và lựa chọn metric cho bài toán.\n",
        "\n",
        "4. Lựa chọn một lớp mô hình phù hợp, thực hiện cross validation để huấn luyện và đánh giá mô hình đó trên tập train.\n",
        "\n",
        "5. Triển khai lại quá trình ở bài 4 trên nhiều lớp mô hình khác nhau.\n",
        "\n",
        "6. Vẽ biểu đồ thể hiện kết quả của các mô hình và kết luận đâu là mô hình tốt nhất. \n",
        "\n",
        "7. Dựa vào lớp mô hình tốt nhất được lựa chọn, thực hiện grid search trên không gian tham số của nó."
      ]
    },
    {
      "cell_type": "markdown",
      "source": [
        "#1.Import lib and data "
      ],
      "metadata": {
        "id": "JgI9jP0yE1Hb"
      }
    },
    {
      "cell_type": "code",
      "source": [
        "from google.colab import drive\n",
        "import os\n",
        "\n",
        "drive.mount('/content/gdrive') "
      ],
      "metadata": {
        "id": "bvR81sSmFFxf",
        "colab": {
          "base_uri": "https://localhost:8080/"
        },
        "outputId": "27629cbc-ab97-4347-ff39-6ae9336d564a"
      },
      "execution_count": null,
      "outputs": [
        {
          "output_type": "stream",
          "name": "stdout",
          "text": [
            "Drive already mounted at /content/gdrive; to attempt to forcibly remount, call drive.mount(\"/content/gdrive\", force_remount=True).\n"
          ]
        }
      ]
    },
    {
      "cell_type": "code",
      "source": [
        "import pandas as pd\n",
        "df= pd.read_csv(\"/content/gdrive/MyDrive/ML /Buổi 2/hmeq.csv\")"
      ],
      "metadata": {
        "id": "h8RT-iMrZhpm"
      },
      "execution_count": null,
      "outputs": []
    },
    {
      "cell_type": "code",
      "source": [
        "import numpy as np\n",
        "import seaborn as sns\n",
        "import matplotlib.pyplot as plt\n",
        "from sklearn.compose import ColumnTransformer\n",
        "from sklearn.naive_bayes import GaussianNB\n",
        "from sklearn.linear_model import LogisticRegression\n",
        "from sklearn.neighbors import KNeighborsClassifier\n",
        "from sklearn.svm import LinearSVC\n",
        "from sklearn.neural_network import MLPClassifier\n",
        "from sklearn.ensemble import GradientBoostingClassifier\n",
        "from sklearn.ensemble import RandomForestClassifier\n",
        "from sklearn.impute import KNNImputer, SimpleImputer\n",
        "from sklearn.metrics import accuracy_score\n",
        "from sklearn.model_selection import train_test_split\n",
        "from sklearn.pipeline import Pipeline\n",
        "from sklearn.model_selection import cross_val_score\n",
        "from sklearn.metrics import fbeta_score\n",
        "from sklearn.metrics import make_scorer\n",
        "from sklearn.model_selection import RepeatedStratifiedKFold\n",
        "from sklearn.preprocessing import OneHotEncoder, MinMaxScaler"
      ],
      "metadata": {
        "id": "Q5c_4F3Ra6pd"
      },
      "execution_count": null,
      "outputs": []
    },
    {
      "cell_type": "markdown",
      "source": [
        "#Check data"
      ],
      "metadata": {
        "id": "nE0wkuZyZ_So"
      }
    },
    {
      "cell_type": "code",
      "source": [
        "df.head()"
      ],
      "metadata": {
        "id": "y-n7hII_aDGt",
        "colab": {
          "base_uri": "https://localhost:8080/",
          "height": 206
        },
        "outputId": "efb57fad-d0b7-490c-e567-acb6523833bc"
      },
      "execution_count": null,
      "outputs": [
        {
          "output_type": "execute_result",
          "data": {
            "text/plain": [
              "   BAD  LOAN  MORTDUE     VALUE   REASON     JOB   YOJ  DEROG  DELINQ  \\\n",
              "0    1  1100  25860.0   39025.0  HomeImp   Other  10.5    0.0     0.0   \n",
              "1    1  1300  70053.0   68400.0  HomeImp   Other   7.0    0.0     2.0   \n",
              "2    1  1500  13500.0   16700.0  HomeImp   Other   4.0    0.0     0.0   \n",
              "3    1  1500      NaN       NaN      NaN     NaN   NaN    NaN     NaN   \n",
              "4    0  1700  97800.0  112000.0  HomeImp  Office   3.0    0.0     0.0   \n",
              "\n",
              "        CLAGE  NINQ  CLNO  DEBTINC  \n",
              "0   94.366667   1.0   9.0      NaN  \n",
              "1  121.833333   0.0  14.0      NaN  \n",
              "2  149.466667   1.0  10.0      NaN  \n",
              "3         NaN   NaN   NaN      NaN  \n",
              "4   93.333333   0.0  14.0      NaN  "
            ],
            "text/html": [
              "\n",
              "  <div id=\"df-c3c47721-f41f-4c3d-b324-f0374eaed209\">\n",
              "    <div class=\"colab-df-container\">\n",
              "      <div>\n",
              "<style scoped>\n",
              "    .dataframe tbody tr th:only-of-type {\n",
              "        vertical-align: middle;\n",
              "    }\n",
              "\n",
              "    .dataframe tbody tr th {\n",
              "        vertical-align: top;\n",
              "    }\n",
              "\n",
              "    .dataframe thead th {\n",
              "        text-align: right;\n",
              "    }\n",
              "</style>\n",
              "<table border=\"1\" class=\"dataframe\">\n",
              "  <thead>\n",
              "    <tr style=\"text-align: right;\">\n",
              "      <th></th>\n",
              "      <th>BAD</th>\n",
              "      <th>LOAN</th>\n",
              "      <th>MORTDUE</th>\n",
              "      <th>VALUE</th>\n",
              "      <th>REASON</th>\n",
              "      <th>JOB</th>\n",
              "      <th>YOJ</th>\n",
              "      <th>DEROG</th>\n",
              "      <th>DELINQ</th>\n",
              "      <th>CLAGE</th>\n",
              "      <th>NINQ</th>\n",
              "      <th>CLNO</th>\n",
              "      <th>DEBTINC</th>\n",
              "    </tr>\n",
              "  </thead>\n",
              "  <tbody>\n",
              "    <tr>\n",
              "      <th>0</th>\n",
              "      <td>1</td>\n",
              "      <td>1100</td>\n",
              "      <td>25860.0</td>\n",
              "      <td>39025.0</td>\n",
              "      <td>HomeImp</td>\n",
              "      <td>Other</td>\n",
              "      <td>10.5</td>\n",
              "      <td>0.0</td>\n",
              "      <td>0.0</td>\n",
              "      <td>94.366667</td>\n",
              "      <td>1.0</td>\n",
              "      <td>9.0</td>\n",
              "      <td>NaN</td>\n",
              "    </tr>\n",
              "    <tr>\n",
              "      <th>1</th>\n",
              "      <td>1</td>\n",
              "      <td>1300</td>\n",
              "      <td>70053.0</td>\n",
              "      <td>68400.0</td>\n",
              "      <td>HomeImp</td>\n",
              "      <td>Other</td>\n",
              "      <td>7.0</td>\n",
              "      <td>0.0</td>\n",
              "      <td>2.0</td>\n",
              "      <td>121.833333</td>\n",
              "      <td>0.0</td>\n",
              "      <td>14.0</td>\n",
              "      <td>NaN</td>\n",
              "    </tr>\n",
              "    <tr>\n",
              "      <th>2</th>\n",
              "      <td>1</td>\n",
              "      <td>1500</td>\n",
              "      <td>13500.0</td>\n",
              "      <td>16700.0</td>\n",
              "      <td>HomeImp</td>\n",
              "      <td>Other</td>\n",
              "      <td>4.0</td>\n",
              "      <td>0.0</td>\n",
              "      <td>0.0</td>\n",
              "      <td>149.466667</td>\n",
              "      <td>1.0</td>\n",
              "      <td>10.0</td>\n",
              "      <td>NaN</td>\n",
              "    </tr>\n",
              "    <tr>\n",
              "      <th>3</th>\n",
              "      <td>1</td>\n",
              "      <td>1500</td>\n",
              "      <td>NaN</td>\n",
              "      <td>NaN</td>\n",
              "      <td>NaN</td>\n",
              "      <td>NaN</td>\n",
              "      <td>NaN</td>\n",
              "      <td>NaN</td>\n",
              "      <td>NaN</td>\n",
              "      <td>NaN</td>\n",
              "      <td>NaN</td>\n",
              "      <td>NaN</td>\n",
              "      <td>NaN</td>\n",
              "    </tr>\n",
              "    <tr>\n",
              "      <th>4</th>\n",
              "      <td>0</td>\n",
              "      <td>1700</td>\n",
              "      <td>97800.0</td>\n",
              "      <td>112000.0</td>\n",
              "      <td>HomeImp</td>\n",
              "      <td>Office</td>\n",
              "      <td>3.0</td>\n",
              "      <td>0.0</td>\n",
              "      <td>0.0</td>\n",
              "      <td>93.333333</td>\n",
              "      <td>0.0</td>\n",
              "      <td>14.0</td>\n",
              "      <td>NaN</td>\n",
              "    </tr>\n",
              "  </tbody>\n",
              "</table>\n",
              "</div>\n",
              "      <button class=\"colab-df-convert\" onclick=\"convertToInteractive('df-c3c47721-f41f-4c3d-b324-f0374eaed209')\"\n",
              "              title=\"Convert this dataframe to an interactive table.\"\n",
              "              style=\"display:none;\">\n",
              "        \n",
              "  <svg xmlns=\"http://www.w3.org/2000/svg\" height=\"24px\"viewBox=\"0 0 24 24\"\n",
              "       width=\"24px\">\n",
              "    <path d=\"M0 0h24v24H0V0z\" fill=\"none\"/>\n",
              "    <path d=\"M18.56 5.44l.94 2.06.94-2.06 2.06-.94-2.06-.94-.94-2.06-.94 2.06-2.06.94zm-11 1L8.5 8.5l.94-2.06 2.06-.94-2.06-.94L8.5 2.5l-.94 2.06-2.06.94zm10 10l.94 2.06.94-2.06 2.06-.94-2.06-.94-.94-2.06-.94 2.06-2.06.94z\"/><path d=\"M17.41 7.96l-1.37-1.37c-.4-.4-.92-.59-1.43-.59-.52 0-1.04.2-1.43.59L10.3 9.45l-7.72 7.72c-.78.78-.78 2.05 0 2.83L4 21.41c.39.39.9.59 1.41.59.51 0 1.02-.2 1.41-.59l7.78-7.78 2.81-2.81c.8-.78.8-2.07 0-2.86zM5.41 20L4 18.59l7.72-7.72 1.47 1.35L5.41 20z\"/>\n",
              "  </svg>\n",
              "      </button>\n",
              "      \n",
              "  <style>\n",
              "    .colab-df-container {\n",
              "      display:flex;\n",
              "      flex-wrap:wrap;\n",
              "      gap: 12px;\n",
              "    }\n",
              "\n",
              "    .colab-df-convert {\n",
              "      background-color: #E8F0FE;\n",
              "      border: none;\n",
              "      border-radius: 50%;\n",
              "      cursor: pointer;\n",
              "      display: none;\n",
              "      fill: #1967D2;\n",
              "      height: 32px;\n",
              "      padding: 0 0 0 0;\n",
              "      width: 32px;\n",
              "    }\n",
              "\n",
              "    .colab-df-convert:hover {\n",
              "      background-color: #E2EBFA;\n",
              "      box-shadow: 0px 1px 2px rgba(60, 64, 67, 0.3), 0px 1px 3px 1px rgba(60, 64, 67, 0.15);\n",
              "      fill: #174EA6;\n",
              "    }\n",
              "\n",
              "    [theme=dark] .colab-df-convert {\n",
              "      background-color: #3B4455;\n",
              "      fill: #D2E3FC;\n",
              "    }\n",
              "\n",
              "    [theme=dark] .colab-df-convert:hover {\n",
              "      background-color: #434B5C;\n",
              "      box-shadow: 0px 1px 3px 1px rgba(0, 0, 0, 0.15);\n",
              "      filter: drop-shadow(0px 1px 2px rgba(0, 0, 0, 0.3));\n",
              "      fill: #FFFFFF;\n",
              "    }\n",
              "  </style>\n",
              "\n",
              "      <script>\n",
              "        const buttonEl =\n",
              "          document.querySelector('#df-c3c47721-f41f-4c3d-b324-f0374eaed209 button.colab-df-convert');\n",
              "        buttonEl.style.display =\n",
              "          google.colab.kernel.accessAllowed ? 'block' : 'none';\n",
              "\n",
              "        async function convertToInteractive(key) {\n",
              "          const element = document.querySelector('#df-c3c47721-f41f-4c3d-b324-f0374eaed209');\n",
              "          const dataTable =\n",
              "            await google.colab.kernel.invokeFunction('convertToInteractive',\n",
              "                                                     [key], {});\n",
              "          if (!dataTable) return;\n",
              "\n",
              "          const docLinkHtml = 'Like what you see? Visit the ' +\n",
              "            '<a target=\"_blank\" href=https://colab.research.google.com/notebooks/data_table.ipynb>data table notebook</a>'\n",
              "            + ' to learn more about interactive tables.';\n",
              "          element.innerHTML = '';\n",
              "          dataTable['output_type'] = 'display_data';\n",
              "          await google.colab.output.renderOutput(dataTable, element);\n",
              "          const docLink = document.createElement('div');\n",
              "          docLink.innerHTML = docLinkHtml;\n",
              "          element.appendChild(docLink);\n",
              "        }\n",
              "      </script>\n",
              "    </div>\n",
              "  </div>\n",
              "  "
            ]
          },
          "metadata": {},
          "execution_count": 51
        }
      ]
    },
    {
      "cell_type": "code",
      "source": [
        "df.info()"
      ],
      "metadata": {
        "id": "Bm404crEaTwJ",
        "colab": {
          "base_uri": "https://localhost:8080/"
        },
        "outputId": "372bc1a8-2b64-4194-9b76-09c93c9f4dc5"
      },
      "execution_count": null,
      "outputs": [
        {
          "output_type": "stream",
          "name": "stdout",
          "text": [
            "<class 'pandas.core.frame.DataFrame'>\n",
            "RangeIndex: 5960 entries, 0 to 5959\n",
            "Data columns (total 13 columns):\n",
            " #   Column   Non-Null Count  Dtype  \n",
            "---  ------   --------------  -----  \n",
            " 0   BAD      5960 non-null   int64  \n",
            " 1   LOAN     5960 non-null   int64  \n",
            " 2   MORTDUE  5442 non-null   float64\n",
            " 3   VALUE    5848 non-null   float64\n",
            " 4   REASON   5708 non-null   object \n",
            " 5   JOB      5681 non-null   object \n",
            " 6   YOJ      5445 non-null   float64\n",
            " 7   DEROG    5252 non-null   float64\n",
            " 8   DELINQ   5380 non-null   float64\n",
            " 9   CLAGE    5652 non-null   float64\n",
            " 10  NINQ     5450 non-null   float64\n",
            " 11  CLNO     5738 non-null   float64\n",
            " 12  DEBTINC  4693 non-null   float64\n",
            "dtypes: float64(9), int64(2), object(2)\n",
            "memory usage: 605.4+ KB\n"
          ]
        }
      ]
    },
    {
      "cell_type": "code",
      "source": [
        "df.describe()"
      ],
      "metadata": {
        "id": "D89t1TpHaUVP",
        "colab": {
          "base_uri": "https://localhost:8080/",
          "height": 300
        },
        "outputId": "25eace1a-14e0-413f-db61-7b1ed5f14161"
      },
      "execution_count": null,
      "outputs": [
        {
          "output_type": "execute_result",
          "data": {
            "text/plain": [
              "               BAD          LOAN        MORTDUE          VALUE          YOJ  \\\n",
              "count  5960.000000   5960.000000    5442.000000    5848.000000  5445.000000   \n",
              "mean      0.199497  18607.969799   73760.817200  101776.048741     8.922268   \n",
              "std       0.399656  11207.480417   44457.609458   57385.775334     7.573982   \n",
              "min       0.000000   1100.000000    2063.000000    8000.000000     0.000000   \n",
              "25%       0.000000  11100.000000   46276.000000   66075.500000     3.000000   \n",
              "50%       0.000000  16300.000000   65019.000000   89235.500000     7.000000   \n",
              "75%       0.000000  23300.000000   91488.000000  119824.250000    13.000000   \n",
              "max       1.000000  89900.000000  399550.000000  855909.000000    41.000000   \n",
              "\n",
              "             DEROG       DELINQ        CLAGE         NINQ         CLNO  \\\n",
              "count  5252.000000  5380.000000  5652.000000  5450.000000  5738.000000   \n",
              "mean      0.254570     0.449442   179.766275     1.186055    21.296096   \n",
              "std       0.846047     1.127266    85.810092     1.728675    10.138933   \n",
              "min       0.000000     0.000000     0.000000     0.000000     0.000000   \n",
              "25%       0.000000     0.000000   115.116702     0.000000    15.000000   \n",
              "50%       0.000000     0.000000   173.466667     1.000000    20.000000   \n",
              "75%       0.000000     0.000000   231.562278     2.000000    26.000000   \n",
              "max      10.000000    15.000000  1168.233561    17.000000    71.000000   \n",
              "\n",
              "           DEBTINC  \n",
              "count  4693.000000  \n",
              "mean     33.779915  \n",
              "std       8.601746  \n",
              "min       0.524499  \n",
              "25%      29.140031  \n",
              "50%      34.818262  \n",
              "75%      39.003141  \n",
              "max     203.312149  "
            ],
            "text/html": [
              "\n",
              "  <div id=\"df-80145bb3-cbec-4a1d-ae53-6c33b9921096\">\n",
              "    <div class=\"colab-df-container\">\n",
              "      <div>\n",
              "<style scoped>\n",
              "    .dataframe tbody tr th:only-of-type {\n",
              "        vertical-align: middle;\n",
              "    }\n",
              "\n",
              "    .dataframe tbody tr th {\n",
              "        vertical-align: top;\n",
              "    }\n",
              "\n",
              "    .dataframe thead th {\n",
              "        text-align: right;\n",
              "    }\n",
              "</style>\n",
              "<table border=\"1\" class=\"dataframe\">\n",
              "  <thead>\n",
              "    <tr style=\"text-align: right;\">\n",
              "      <th></th>\n",
              "      <th>BAD</th>\n",
              "      <th>LOAN</th>\n",
              "      <th>MORTDUE</th>\n",
              "      <th>VALUE</th>\n",
              "      <th>YOJ</th>\n",
              "      <th>DEROG</th>\n",
              "      <th>DELINQ</th>\n",
              "      <th>CLAGE</th>\n",
              "      <th>NINQ</th>\n",
              "      <th>CLNO</th>\n",
              "      <th>DEBTINC</th>\n",
              "    </tr>\n",
              "  </thead>\n",
              "  <tbody>\n",
              "    <tr>\n",
              "      <th>count</th>\n",
              "      <td>5960.000000</td>\n",
              "      <td>5960.000000</td>\n",
              "      <td>5442.000000</td>\n",
              "      <td>5848.000000</td>\n",
              "      <td>5445.000000</td>\n",
              "      <td>5252.000000</td>\n",
              "      <td>5380.000000</td>\n",
              "      <td>5652.000000</td>\n",
              "      <td>5450.000000</td>\n",
              "      <td>5738.000000</td>\n",
              "      <td>4693.000000</td>\n",
              "    </tr>\n",
              "    <tr>\n",
              "      <th>mean</th>\n",
              "      <td>0.199497</td>\n",
              "      <td>18607.969799</td>\n",
              "      <td>73760.817200</td>\n",
              "      <td>101776.048741</td>\n",
              "      <td>8.922268</td>\n",
              "      <td>0.254570</td>\n",
              "      <td>0.449442</td>\n",
              "      <td>179.766275</td>\n",
              "      <td>1.186055</td>\n",
              "      <td>21.296096</td>\n",
              "      <td>33.779915</td>\n",
              "    </tr>\n",
              "    <tr>\n",
              "      <th>std</th>\n",
              "      <td>0.399656</td>\n",
              "      <td>11207.480417</td>\n",
              "      <td>44457.609458</td>\n",
              "      <td>57385.775334</td>\n",
              "      <td>7.573982</td>\n",
              "      <td>0.846047</td>\n",
              "      <td>1.127266</td>\n",
              "      <td>85.810092</td>\n",
              "      <td>1.728675</td>\n",
              "      <td>10.138933</td>\n",
              "      <td>8.601746</td>\n",
              "    </tr>\n",
              "    <tr>\n",
              "      <th>min</th>\n",
              "      <td>0.000000</td>\n",
              "      <td>1100.000000</td>\n",
              "      <td>2063.000000</td>\n",
              "      <td>8000.000000</td>\n",
              "      <td>0.000000</td>\n",
              "      <td>0.000000</td>\n",
              "      <td>0.000000</td>\n",
              "      <td>0.000000</td>\n",
              "      <td>0.000000</td>\n",
              "      <td>0.000000</td>\n",
              "      <td>0.524499</td>\n",
              "    </tr>\n",
              "    <tr>\n",
              "      <th>25%</th>\n",
              "      <td>0.000000</td>\n",
              "      <td>11100.000000</td>\n",
              "      <td>46276.000000</td>\n",
              "      <td>66075.500000</td>\n",
              "      <td>3.000000</td>\n",
              "      <td>0.000000</td>\n",
              "      <td>0.000000</td>\n",
              "      <td>115.116702</td>\n",
              "      <td>0.000000</td>\n",
              "      <td>15.000000</td>\n",
              "      <td>29.140031</td>\n",
              "    </tr>\n",
              "    <tr>\n",
              "      <th>50%</th>\n",
              "      <td>0.000000</td>\n",
              "      <td>16300.000000</td>\n",
              "      <td>65019.000000</td>\n",
              "      <td>89235.500000</td>\n",
              "      <td>7.000000</td>\n",
              "      <td>0.000000</td>\n",
              "      <td>0.000000</td>\n",
              "      <td>173.466667</td>\n",
              "      <td>1.000000</td>\n",
              "      <td>20.000000</td>\n",
              "      <td>34.818262</td>\n",
              "    </tr>\n",
              "    <tr>\n",
              "      <th>75%</th>\n",
              "      <td>0.000000</td>\n",
              "      <td>23300.000000</td>\n",
              "      <td>91488.000000</td>\n",
              "      <td>119824.250000</td>\n",
              "      <td>13.000000</td>\n",
              "      <td>0.000000</td>\n",
              "      <td>0.000000</td>\n",
              "      <td>231.562278</td>\n",
              "      <td>2.000000</td>\n",
              "      <td>26.000000</td>\n",
              "      <td>39.003141</td>\n",
              "    </tr>\n",
              "    <tr>\n",
              "      <th>max</th>\n",
              "      <td>1.000000</td>\n",
              "      <td>89900.000000</td>\n",
              "      <td>399550.000000</td>\n",
              "      <td>855909.000000</td>\n",
              "      <td>41.000000</td>\n",
              "      <td>10.000000</td>\n",
              "      <td>15.000000</td>\n",
              "      <td>1168.233561</td>\n",
              "      <td>17.000000</td>\n",
              "      <td>71.000000</td>\n",
              "      <td>203.312149</td>\n",
              "    </tr>\n",
              "  </tbody>\n",
              "</table>\n",
              "</div>\n",
              "      <button class=\"colab-df-convert\" onclick=\"convertToInteractive('df-80145bb3-cbec-4a1d-ae53-6c33b9921096')\"\n",
              "              title=\"Convert this dataframe to an interactive table.\"\n",
              "              style=\"display:none;\">\n",
              "        \n",
              "  <svg xmlns=\"http://www.w3.org/2000/svg\" height=\"24px\"viewBox=\"0 0 24 24\"\n",
              "       width=\"24px\">\n",
              "    <path d=\"M0 0h24v24H0V0z\" fill=\"none\"/>\n",
              "    <path d=\"M18.56 5.44l.94 2.06.94-2.06 2.06-.94-2.06-.94-.94-2.06-.94 2.06-2.06.94zm-11 1L8.5 8.5l.94-2.06 2.06-.94-2.06-.94L8.5 2.5l-.94 2.06-2.06.94zm10 10l.94 2.06.94-2.06 2.06-.94-2.06-.94-.94-2.06-.94 2.06-2.06.94z\"/><path d=\"M17.41 7.96l-1.37-1.37c-.4-.4-.92-.59-1.43-.59-.52 0-1.04.2-1.43.59L10.3 9.45l-7.72 7.72c-.78.78-.78 2.05 0 2.83L4 21.41c.39.39.9.59 1.41.59.51 0 1.02-.2 1.41-.59l7.78-7.78 2.81-2.81c.8-.78.8-2.07 0-2.86zM5.41 20L4 18.59l7.72-7.72 1.47 1.35L5.41 20z\"/>\n",
              "  </svg>\n",
              "      </button>\n",
              "      \n",
              "  <style>\n",
              "    .colab-df-container {\n",
              "      display:flex;\n",
              "      flex-wrap:wrap;\n",
              "      gap: 12px;\n",
              "    }\n",
              "\n",
              "    .colab-df-convert {\n",
              "      background-color: #E8F0FE;\n",
              "      border: none;\n",
              "      border-radius: 50%;\n",
              "      cursor: pointer;\n",
              "      display: none;\n",
              "      fill: #1967D2;\n",
              "      height: 32px;\n",
              "      padding: 0 0 0 0;\n",
              "      width: 32px;\n",
              "    }\n",
              "\n",
              "    .colab-df-convert:hover {\n",
              "      background-color: #E2EBFA;\n",
              "      box-shadow: 0px 1px 2px rgba(60, 64, 67, 0.3), 0px 1px 3px 1px rgba(60, 64, 67, 0.15);\n",
              "      fill: #174EA6;\n",
              "    }\n",
              "\n",
              "    [theme=dark] .colab-df-convert {\n",
              "      background-color: #3B4455;\n",
              "      fill: #D2E3FC;\n",
              "    }\n",
              "\n",
              "    [theme=dark] .colab-df-convert:hover {\n",
              "      background-color: #434B5C;\n",
              "      box-shadow: 0px 1px 3px 1px rgba(0, 0, 0, 0.15);\n",
              "      filter: drop-shadow(0px 1px 2px rgba(0, 0, 0, 0.3));\n",
              "      fill: #FFFFFF;\n",
              "    }\n",
              "  </style>\n",
              "\n",
              "      <script>\n",
              "        const buttonEl =\n",
              "          document.querySelector('#df-80145bb3-cbec-4a1d-ae53-6c33b9921096 button.colab-df-convert');\n",
              "        buttonEl.style.display =\n",
              "          google.colab.kernel.accessAllowed ? 'block' : 'none';\n",
              "\n",
              "        async function convertToInteractive(key) {\n",
              "          const element = document.querySelector('#df-80145bb3-cbec-4a1d-ae53-6c33b9921096');\n",
              "          const dataTable =\n",
              "            await google.colab.kernel.invokeFunction('convertToInteractive',\n",
              "                                                     [key], {});\n",
              "          if (!dataTable) return;\n",
              "\n",
              "          const docLinkHtml = 'Like what you see? Visit the ' +\n",
              "            '<a target=\"_blank\" href=https://colab.research.google.com/notebooks/data_table.ipynb>data table notebook</a>'\n",
              "            + ' to learn more about interactive tables.';\n",
              "          element.innerHTML = '';\n",
              "          dataTable['output_type'] = 'display_data';\n",
              "          await google.colab.output.renderOutput(dataTable, element);\n",
              "          const docLink = document.createElement('div');\n",
              "          docLink.innerHTML = docLinkHtml;\n",
              "          element.appendChild(docLink);\n",
              "        }\n",
              "      </script>\n",
              "    </div>\n",
              "  </div>\n",
              "  "
            ]
          },
          "metadata": {},
          "execution_count": 53
        }
      ]
    },
    {
      "cell_type": "markdown",
      "source": [
        "Get data float/int"
      ],
      "metadata": {
        "id": "mtB7uSi1amYH"
      }
    },
    {
      "cell_type": "code",
      "source": [
        "import seaborn as sns\n",
        "import warnings\n",
        "warnings.simplefilter(action='ignore', category=FutureWarning)\n",
        "\n",
        "numeric_cols = df.select_dtypes(include=['float','int']).columns\n",
        "\n",
        "def _plot_numeric_classes(df, col, bins=10, hist=True, kde=True):\n",
        "    sns.distplot(df[col],\n",
        "                 bins = bins,\n",
        "                 hist = hist,\n",
        "                 kde = kde)\n",
        "\n",
        "def _distribution_numeric(df, numeric_cols, row=3, col=4, figsize=(20, 15), bins = 10):\n",
        "   \n",
        "    print('number of numeric field: ', len(numeric_cols))\n",
        "    assert row*(col-1) < len(numeric_cols)\n",
        "    plt.figure(figsize = figsize)\n",
        "    plt.subplots_adjust(left=None, bottom=None, right=None, top=None, wspace=0.2, hspace=0.5)\n",
        "    for i in range(1, len(numeric_cols)+1, 1):\n",
        "      try:\n",
        "        plt.subplot(row, col, i)\n",
        "        _plot_numeric_classes(df, numeric_cols[i-1], bins = bins)\n",
        "        plt.title(numeric_cols[i-1])\n",
        "      except:\n",
        "        print('Error {}'.format(numeric_cols[i-1]))\n",
        "        break\n",
        "\n",
        "_distribution_numeric(df, numeric_cols)"
      ],
      "metadata": {
        "id": "CC8HRyUcad4M",
        "colab": {
          "base_uri": "https://localhost:8080/",
          "height": 911
        },
        "outputId": "3fd8eae4-8562-43f8-d5e9-7d3c08e12b7e"
      },
      "execution_count": null,
      "outputs": [
        {
          "output_type": "stream",
          "name": "stdout",
          "text": [
            "number of numeric field:  11\n"
          ]
        },
        {
          "output_type": "display_data",
          "data": {
            "text/plain": [
              "<Figure size 1440x1080 with 11 Axes>"
            ],
            "image/png": "[encoded data removed]"
          },
          "metadata": {
            "needs_background": "light"
          }
        }
      ]
    },
    {
      "cell_type": "markdown",
      "source": [
        "Get category\n"
      ],
      "metadata": {
        "id": "MrhFHQl1bL_M"
      }
    },
    {
      "cell_type": "code",
      "source": [
        "cate_cols = df.select_dtypes('O').columns\n",
        "\n",
        "def _plot_bar_classes(df, cols):\n",
        "    df[cols].value_counts().plot.bar()\n",
        "\n",
        "def _distribution_cate(df, cate_cols, row = 1, col = 2, figsize = (20, 5)):\n",
        "  '''\n",
        "  cate_cols: list các tên cột\n",
        "  row: số lượng dòng trong lưới đồ thị\n",
        "  col: số lượng cột trong lưới đồ thị\n",
        "  figsize: kích thước biểu đồ\n",
        "  '''\n",
        "  print('number of category field: ', len(cate_cols))\n",
        "  plt.figure(figsize = figsize)\n",
        "  plt.subplots_adjust(left=None, bottom=None, right=None, top=None, wspace=0.2, hspace=0.5)    \n",
        "  for i in range(1, len(cate_cols)+1, 1):\n",
        "    try:\n",
        "      plt.subplot(row, col, i)\n",
        "      _plot_bar_classes(df, cate_cols[i-1])\n",
        "      plt.title(cate_cols[i-1])\n",
        "    except:\n",
        "      break\n",
        "\n",
        "_distribution_cate(df, cate_cols, row = 4, col = 4, figsize = (30, 16))"
      ],
      "metadata": {
        "id": "ape6ZlyGbFn_",
        "colab": {
          "base_uri": "https://localhost:8080/",
          "height": 278
        },
        "outputId": "0d65ddb0-6729-4902-c654-ac4d036fdbe0"
      },
      "execution_count": null,
      "outputs": [
        {
          "output_type": "stream",
          "name": "stdout",
          "text": [
            "number of category field:  2\n"
          ]
        },
        {
          "output_type": "display_data",
          "data": {
            "text/plain": [
              "<Figure size 2160x1152 with 2 Axes>"
            ],
            "image/png": "[encoded data removed]"
          },
          "metadata": {
            "needs_background": "light"
          }
        }
      ]
    },
    {
      "cell_type": "code",
      "source": [
        "df_train, df_test = train_test_split(df, test_size=0.2, stratify = df['BAD'])\n",
        "X_train = df_train.copy()\n",
        "y_train = X_train.pop(\"BAD\")\n",
        "\n",
        "X_test = df_test.copy()\n",
        "y_test = X_test.pop(\"BAD\")\n",
        "print(X_train.shape, y_train.shape)\n",
        "print(X_test.shape, y_test.shape)"
      ],
      "metadata": {
        "id": "3g-I5ParbSW8",
        "colab": {
          "base_uri": "https://localhost:8080/"
        },
        "outputId": "637ff6e9-fdcc-432c-f5a0-f4ecc8c8e551"
      },
      "execution_count": null,
      "outputs": [
        {
          "output_type": "stream",
          "name": "stdout",
          "text": [
            "(4768, 12) (4768,)\n",
            "(1192, 12) (1192,)\n"
          ]
        }
      ]
    },
    {
      "cell_type": "code",
      "source": [
        "cat_names = list(X_train.select_dtypes('object').columns)\n",
        "num_names = list(X_train.select_dtypes(['float', 'int']).columns)"
      ],
      "metadata": {
        "id": "HKthIhHBb9PB"
      },
      "execution_count": null,
      "outputs": []
    },
    {
      "cell_type": "code",
      "source": [
        "cat_pl= Pipeline(\n",
        "    steps=[\n",
        "        ('imputer', SimpleImputer(strategy='most_frequent')), \n",
        "        ('onehot', OneHotEncoder()), \n",
        "    ]\n",
        ")"
      ],
      "metadata": {
        "id": "jKPY12Nqb_NG"
      },
      "execution_count": null,
      "outputs": []
    },
    {
      "cell_type": "code",
      "source": [
        "num_pl = Pipeline(\n",
        "    steps=[\n",
        "           ('imputer', KNNImputer(n_neighbors=7)), \n",
        "           ('scaler', MinMaxScaler()) \n",
        ")"
      ],
      "metadata": {
        "id": "sgVCqkQlcETw"
      },
      "execution_count": null,
      "outputs": []
    },
    {
      "cell_type": "code",
      "source": [
        "preprocessor = ColumnTransformer(\n",
        "    transformers=[\n",
        "        ('num', num_pl, num_names), \n",
        "        ('cat', cat_pl, cat_names),\n",
        "    ]\n",
        ")"
      ],
      "metadata": {
        "id": "PAN1yxfScGS8"
      },
      "execution_count": null,
      "outputs": []
    },
    {
      "cell_type": "code",
      "source": [
        "completed_pl = Pipeline(\n",
        "    steps=[\n",
        "            (\"preprocessor\", preprocessor), \n",
        "            (\"classifier\", RandomForestClassifier())\n",
        "    ]\n",
        ")\n",
        "\n",
        "completed_pl.fit(X_train, y_train)\n",
        "y_train_pred = completed_pl.predict(X_train)\n",
        "print(f\"Accuracy on train: {accuracy_score(list(y_train), list(y_train_pred)):.2f}\")\n",
        "\n",
        "y_pred = completed_pl.predict(X_test)\n",
        "print(f\"Accuracy on test: {accuracy_score(list(y_test), list(y_pred)):.2f}\")"
      ],
      "metadata": {
        "id": "BEPJs6JmcIir",
        "colab": {
          "base_uri": "https://localhost:8080/"
        },
        "outputId": "ec78b375-d32a-4f9a-a338-71ffdffa4cdc"
      },
      "execution_count": null,
      "outputs": [
        {
          "output_type": "stream",
          "name": "stdout",
          "text": [
            "Accuracy on train: 1.00\n",
            "Accuracy on test: 0.91\n"
          ]
        }
      ]
    },
    {
      "cell_type": "code",
      "source": [
        "from sklearn.metrics import fbeta_score\n",
        "from sklearn.metrics import make_scorer\n",
        "import numpy as np\n",
        "\n",
        "def fbeta(y_true, y_pred):\n",
        "\treturn fbeta_score(y_true, y_pred, beta=np.sqrt(5))"
      ],
      "metadata": {
        "id": "ea926OKVcOP8"
      },
      "execution_count": null,
      "outputs": []
    },
    {
      "cell_type": "code",
      "source": [
        "cv = RepeatedStratifiedKFold(n_splits=10, n_repeats=3, random_state=1)\n",
        "metric = make_scorer(fbeta)\n",
        "scores = cross_val_score(completed_pl, X_train, y_train, scoring=metric, cv=cv, n_jobs=-1)\n",
        "print('Mean Fbeta: {:.03f} {:.03f}'.format(np.mean(scores), np.std(scores)))"
      ],
      "metadata": {
        "id": "_3QjVOnqcRdy",
        "colab": {
          "base_uri": "https://localhost:8080/"
        },
        "outputId": "922f65ca-c7d7-47b1-ffad-325883ddbcaa"
      },
      "execution_count": null,
      "outputs": [
        {
          "output_type": "stream",
          "name": "stdout",
          "text": [
            "Mean Fbeta: 0.621 0.042\n"
          ]
        }
      ]
    },
    {
      "cell_type": "code",
      "source": [
        "models = [GaussianNB(), LogisticRegression(), KNeighborsClassifier()]\n",
        "cv = RepeatedStratifiedKFold(n_splits=10, n_repeats=3, random_state=1)\n",
        "\n",
        "all_scores = []\n",
        "for model in models:\n",
        "  completed_pl = Pipeline(\n",
        "    steps=[(\"preprocessor\", preprocessor), ('classifier', model)]\n",
        "  )\n",
        "\n",
        "  scores = cross_val_score(completed_pl, X_train, y_train, scoring=metric, cv=cv, n_jobs=-1)\n",
        "  \n",
        "  all_scores.append(scores)"
      ],
      "metadata": {
        "id": "vc20PWlxcXFy"
      },
      "execution_count": null,
      "outputs": []
    },
    {
      "cell_type": "code",
      "source": [
        "import matplotlib.pyplot as plt\n",
        "model_names = ['GaussianNB', 'Logistic', 'KNN']\n",
        "\n",
        "plt.figure(figsize=(16, 8))\n",
        "plt.boxplot(all_scores)\n",
        "plt.xlabel('Scale', fontsize=16)\n",
        "plt.ylabel('cm', fontsize=16)\n",
        "plt.xticks(np.arange(len(model_names))+1, model_names, rotation=45, fontsize=16)\n",
        "plt.title(\"Scores Metrics\", fontsize=18)"
      ],
      "metadata": {
        "id": "SZzesKlXcpeU",
        "colab": {
          "base_uri": "https://localhost:8080/",
          "height": 609
        },
        "outputId": "1b92381b-ed1f-461f-fb90-a8018ad2c4e5"
      },
      "execution_count": null,
      "outputs": [
        {
          "output_type": "execute_result",
          "data": {
            "text/plain": [
              "Text(0.5, 1.0, 'Scores Metrics')"
            ]
          },
          "metadata": {},
          "execution_count": 65
        },
        {
          "output_type": "display_data",
          "data": {
            "text/plain": [
              "<Figure size 1152x576 with 1 Axes>"
            ],
            "image/png": "[encoded data removed]"
          },
          "metadata": {
            "needs_background": "light"
          }
        }
      ]
    },
    {
      "cell_type": "code",
      "source": [
        "from sklearn.base import BaseEstimator\n",
        "class ClassifierSwitcher(BaseEstimator):\n",
        "  def __init__(\n",
        "      self, \n",
        "      estimator = RandomForestClassifier(),\n",
        "  ):\n",
        "      \"\"\"\n",
        "      A Custom BaseEstimator that can switch between classifiers.\n",
        "      :param estimator: sklearn object - The classifier\n",
        "      \"\"\" \n",
        "      \n",
        "      self.estimator = estimator\n",
        "\n",
        "\n",
        "  def fit(self, X, y=None, **kwargs):\n",
        "      self.estimator.fit(X, y)\n",
        "      return self\n",
        "\n",
        "\n",
        "  def predict(self, X, y=None):\n",
        "      return self.estimator.predict(X)\n",
        "\n",
        "\n",
        "  def predict_proba(self, X):\n",
        "      return self.estimator.predict_proba(X)\n",
        "\n",
        "\n",
        "  def score(self, X, y):\n",
        "      return self.estimator.score(X, y)"
      ],
      "metadata": {
        "id": "FMPYv_avkzBH"
      },
      "execution_count": null,
      "outputs": []
    },
    {
      "cell_type": "code",
      "source": [
        "from sklearn.model_selection import GridSearchCV\n",
        "pipeline = Pipeline(\n",
        "    steps=[(\"pre\", preprocessor), (\"clf\", ClassifierSwitcher())]\n",
        ")\n",
        "parameters = [\n",
        "    {\n",
        "        'clf__estimator': [LogisticRegression()], \n",
        "        'clf__estimator__penalty': ('l2', 'elasticnet', 'l1'),\n",
        "        'clf__estimator__max_iter': [50, 80],\n",
        "        'clf__estimator__tol': [1e-4]\n",
        "    },\n",
        "    {\n",
        "        'clf__estimator': [RandomForestClassifier()],\n",
        "        'clf__estimator__n_estimators': [50, 100],\n",
        "        'clf__estimator__max_depth': [5, 10],\n",
        "        'clf__estimator__criterion': ('gini', 'entropy')\n",
        "    },\n",
        "]"
      ],
      "metadata": {
        "id": "4HCpVFeek1fq"
      },
      "execution_count": null,
      "outputs": []
    },
    {
      "cell_type": "code",
      "source": [
        "metric = make_scorer(fbeta)\n",
        "gscv = GridSearchCV(pipeline, parameters, cv=5, n_jobs=12, scoring=metric, return_train_score=True, error_score=0, verbose=3)\n",
        "gscv.fit(X_train, y_train)"
      ],
      "metadata": {
        "colab": {
          "base_uri": "https://localhost:8080/"
        },
        "id": "eEwePtzPlAMD",
        "outputId": "44135d2e-a067-47b4-a40e-87c034b818b7"
      },
      "execution_count": null,
      "outputs": [
        {
          "output_type": "stream",
          "name": "stdout",
          "text": [
            "Fitting 5 folds for each of 14 candidates, totalling 70 fits\n"
          ]
        },
        {
          "output_type": "stream",
          "name": "stderr",
          "text": [
            "/usr/local/lib/python3.8/dist-packages/sklearn/model_selection/_validation.py:372: FitFailedWarning: \n",
            "20 fits failed out of a total of 70.\n",
            "The score on these train-test partitions for these parameters will be set to 0.\n",
            "If these failures are not expected, you can try to debug them by setting error_score='raise'.\n",
            "\n",
            "Below are more details about the failures:\n",
            "--------------------------------------------------------------------------------\n",
            "10 fits failed with the following error:\n",
            "Traceback (most recent call last):\n",
            "  File \"/usr/local/lib/python3.8/dist-packages/sklearn/model_selection/_validation.py\", line 680, in _fit_and_score\n",
            "    estimator.fit(X_train, y_train, **fit_params)\n",
            "  File \"/usr/local/lib/python3.8/dist-packages/sklearn/pipeline.py\", line 394, in fit\n",
            "    self._final_estimator.fit(Xt, y, **fit_params_last_step)\n",
            "  File \"<ipython-input-66-f706636c398f>\", line 16, in fit\n",
            "  File \"/usr/local/lib/python3.8/dist-packages/sklearn/linear_model/_logistic.py\", line 1461, in fit\n",
            "    solver = _check_solver(self.solver, self.penalty, self.dual)\n",
            "  File \"/usr/local/lib/python3.8/dist-packages/sklearn/linear_model/_logistic.py\", line 447, in _check_solver\n",
            "    raise ValueError(\n",
            "ValueError: Solver lbfgs supports only 'l2' or 'none' penalties, got elasticnet penalty.\n",
            "\n",
            "--------------------------------------------------------------------------------\n",
            "10 fits failed with the following error:\n",
            "Traceback (most recent call last):\n",
            "  File \"/usr/local/lib/python3.8/dist-packages/sklearn/model_selection/_validation.py\", line 680, in _fit_and_score\n",
            "    estimator.fit(X_train, y_train, **fit_params)\n",
            "  File \"/usr/local/lib/python3.8/dist-packages/sklearn/pipeline.py\", line 394, in fit\n",
            "    self._final_estimator.fit(Xt, y, **fit_params_last_step)\n",
            "  File \"<ipython-input-66-f706636c398f>\", line 16, in fit\n",
            "  File \"/usr/local/lib/python3.8/dist-packages/sklearn/linear_model/_logistic.py\", line 1461, in fit\n",
            "    solver = _check_solver(self.solver, self.penalty, self.dual)\n",
            "  File \"/usr/local/lib/python3.8/dist-packages/sklearn/linear_model/_logistic.py\", line 447, in _check_solver\n",
            "    raise ValueError(\n",
            "ValueError: Solver lbfgs supports only 'l2' or 'none' penalties, got l1 penalty.\n",
            "\n",
            "  warnings.warn(some_fits_failed_message, FitFailedWarning)\n"
          ]
        },
        {
          "output_type": "execute_result",
          "data": {
            "text/plain": [
              "GridSearchCV(cv=5, error_score=0,\n",
              "             estimator=Pipeline(steps=[('pre',\n",
              "                                        ColumnTransformer(transformers=[('num',\n",
              "                                                                         Pipeline(steps=[('imputer',\n",
              "                                                                                          KNNImputer(n_neighbors=7)),\n",
              "                                                                                         ('scaler',\n",
              "                                                                                          MinMaxScaler())]),\n",
              "                                                                         ['LOAN',\n",
              "                                                                          'MORTDUE',\n",
              "                                                                          'VALUE',\n",
              "                                                                          'YOJ',\n",
              "                                                                          'DEROG',\n",
              "                                                                          'DELINQ',\n",
              "                                                                          'CLAGE',\n",
              "                                                                          'NINQ',\n",
              "                                                                          'CLNO',\n",
              "                                                                          'DEBTINC']),\n",
              "                                                                        ('cat',\n",
              "                                                                         Pipeline(steps=[('imputer',\n",
              "                                                                                          SimpleImputer(strategy='most_frequent')),\n",
              "                                                                                         ('oneh...\n",
              "                          'clf__estimator__max_iter': [50, 80],\n",
              "                          'clf__estimator__penalty': ('l2', 'elasticnet', 'l1'),\n",
              "                          'clf__estimator__tol': [0.0001]},\n",
              "                         {'clf__estimator': [RandomForestClassifier(max_depth=10,\n",
              "                                                                    n_estimators=50)],\n",
              "                          'clf__estimator__criterion': ('gini', 'entropy'),\n",
              "                          'clf__estimator__max_depth': [5, 10],\n",
              "                          'clf__estimator__n_estimators': [50, 100]}],\n",
              "             return_train_score=True, scoring=make_scorer(fbeta), verbose=3)"
            ]
          },
          "metadata": {},
          "execution_count": 70
        }
      ]
    },
    {
      "cell_type": "code",
      "source": [
        "gscv.best_estimator_"
      ],
      "metadata": {
        "colab": {
          "base_uri": "https://localhost:8080/"
        },
        "id": "AwzwaXKolrYw",
        "outputId": "3f1cf9ad-2a15-40c7-dfd8-d161738ab888"
      },
      "execution_count": null,
      "outputs": [
        {
          "output_type": "execute_result",
          "data": {
            "text/plain": [
              "Pipeline(steps=[('pre',\n",
              "                 ColumnTransformer(transformers=[('num',\n",
              "                                                  Pipeline(steps=[('imputer',\n",
              "                                                                   KNNImputer(n_neighbors=7)),\n",
              "                                                                  ('scaler',\n",
              "                                                                   MinMaxScaler())]),\n",
              "                                                  ['LOAN', 'MORTDUE', 'VALUE',\n",
              "                                                   'YOJ', 'DEROG', 'DELINQ',\n",
              "                                                   'CLAGE', 'NINQ', 'CLNO',\n",
              "                                                   'DEBTINC']),\n",
              "                                                 ('cat',\n",
              "                                                  Pipeline(steps=[('imputer',\n",
              "                                                                   SimpleImputer(strategy='most_frequent')),\n",
              "                                                                  ('onehot',\n",
              "                                                                   OneHotEncoder())]),\n",
              "                                                  ['REASON', 'JOB'])])),\n",
              "                ('clf',\n",
              "                 ClassifierSwitcher(estimator=RandomForestClassifier(max_depth=10,\n",
              "                                                                     n_estimators=50)))])"
            ]
          },
          "metadata": {},
          "execution_count": 71
        }
      ]
    },
    {
      "cell_type": "code",
      "source": [
        "gscv.best_params_"
      ],
      "metadata": {
        "colab": {
          "base_uri": "https://localhost:8080/"
        },
        "id": "rqV0VhadlyTo",
        "outputId": "0af09adb-b280-454b-ec41-8732fbe15e6c"
      },
      "execution_count": null,
      "outputs": [
        {
          "output_type": "execute_result",
          "data": {
            "text/plain": [
              "{'clf__estimator': RandomForestClassifier(max_depth=10, n_estimators=50),\n",
              " 'clf__estimator__criterion': 'gini',\n",
              " 'clf__estimator__max_depth': 10,\n",
              " 'clf__estimator__n_estimators': 50}"
            ]
          },
          "metadata": {},
          "execution_count": 73
        }
      ]
    },
    {
      "cell_type": "code",
      "source": [
        "gscv.best_score_"
      ],
      "metadata": {
        "colab": {
          "base_uri": "https://localhost:8080/"
        },
        "id": "UftjXhQVl3q6",
        "outputId": "cea53d23-a6b8-4989-b139-8e0d1275fc44"
      },
      "execution_count": null,
      "outputs": [
        {
          "output_type": "execute_result",
          "data": {
            "text/plain": [
              "0.4595384514874383"
            ]
          },
          "metadata": {},
          "execution_count": 74
        }
      ]
    }
  ]
}