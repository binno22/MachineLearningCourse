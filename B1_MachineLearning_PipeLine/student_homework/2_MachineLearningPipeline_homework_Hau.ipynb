{
  "nbformat": 4,
  "nbformat_minor": 0,
  "metadata": {
    "colab": {
      "provenance": []
    },
    "kernelspec": {
      "name": "python3",
      "display_name": "Python 3"
    },
    "language_info": {
      "name": "python"
    }
  },
  "cells": [
    {
      "cell_type": "markdown",
      "metadata": {
        "id": "SXymcFDouir5"
      },
      "source": [
        "# I. Bài tập\n",
        "\n",
        "Từ một trong các bộ dữ liệu:\n",
        "\n",
        "* [BreastCancer](https://archive.ics.uci.edu/ml/datasets/Breast+Cancer+Wisconsin+(Diagnostic)) về chuẩn đoán ung thư vú. \n",
        "* [diabetes](https://archive.ics.uci.edu/ml/datasets/diabetes) chuẩn đoán bệnh tiểu đường.\n",
        "* [hmeq](https://www.kaggle.com/ajay1735/hmeq-data) phân loại hồ sơ cho vay mua nhà.\n",
        "* [BonstonHousing](https://github.com/phamdinhkhanh/datasets/blob/master/BostonHousing.csv) dự báo giá nhà ở Bonston. \n",
        "* [churn customer](https://archive.ics.uci.edu/ml/datasets/Iranian+Churn+Dataset) dự đoán khách hàng rời bỏ.\n",
        "\n",
        "Bạn hãy thực hiện các bài tập sau: \n",
        "\n",
        "1. Thống kê mô tả và vẽ biểu đồ phân phối trên các trường của tập dữ liệu này. Đánh giá sơ bộ về tính chất phân phối của các biến.\n",
        "\n",
        "2. Hãy tạo thành một pipeline hoàn chỉnh để xử lý dữ liệu từ thô sang tinh.\n",
        "\n",
        "3. Phân chia tập train/test và lựa chọn metric cho bài toán.\n",
        "\n",
        "4. Lựa chọn một lớp mô hình phù hợp, thực hiện cross validation để huấn luyện và đánh giá mô hình đó trên tập train.\n",
        "\n",
        "5. Triển khai lại quá trình ở bài 4 trên nhiều lớp mô hình khác nhau.\n",
        "\n",
        "6. Vẽ biểu đồ thể hiện kết quả của các mô hình và kết luận đâu là mô hình tốt nhất. \n",
        "\n",
        "7. Dựa vào lớp mô hình tốt nhất được lựa chọn, thực hiện grid search trên không gian tham số của nó."
      ]
    },
    {
      "cell_type": "code",
      "source": [
        "import pandas as pd\n",
        "import numpy as np\n",
        "import seaborn as sns\n",
        "from sklearn.model_selection import train_test_split,RepeatedStratifiedKFold,cross_val_score,KFold\n",
        "from sklearn.linear_model import LinearRegression\n",
        "from sklearn.pipeline import Pipeline\n",
        "from sklearn.impute import SimpleImputer,KNNImputer\n",
        "from sklearn.preprocessing import OneHotEncoder,MinMaxScaler\n",
        "from sklearn.compose import ColumnTransformer\n",
        "from sklearn.ensemble import RandomForestRegressor\n",
        "from sklearn.metrics import mean_absolute_error, mean_squared_error\n",
        "from sklearn.linear_model import LinearRegression,ElasticNet, SGDRegressor"
      ],
      "metadata": {
        "id": "WRtk0YE0O4mU"
      },
      "execution_count": null,
      "outputs": []
    },
    {
      "cell_type": "markdown",
      "source": [
        "**Download & Read data**"
      ],
      "metadata": {
        "id": "RxsRlaREOxqA"
      }
    },
    {
      "cell_type": "code",
      "source": [
        "url = 'https://raw.githubusercontent.com/phamdinhkhanh/datasets/master/BostonHousing.csv'\n",
        "df = pd.read_csv(url)"
      ],
      "metadata": {
        "id": "b4B8q296O2EX"
      },
      "execution_count": null,
      "outputs": []
    },
    {
      "cell_type": "code",
      "source": [
        "df"
      ],
      "metadata": {
        "colab": {
          "base_uri": "https://localhost:8080/",
          "height": 423
        },
        "id": "lQO2SdnxPZYi",
        "outputId": "a11010e9-6940-46bc-ca21-31338ece6f5c"
      },
      "execution_count": null,
      "outputs": [
        {
          "output_type": "execute_result",
          "data": {
            "text/plain": [
              "        crim    zn  indus  chas    nox     rm   age     dis  rad  tax  \\\n",
              "0    0.00632  18.0   2.31     0  0.538  6.575  65.2  4.0900    1  296   \n",
              "1    0.02731   0.0   7.07     0  0.469  6.421  78.9  4.9671    2  242   \n",
              "2    0.02729   0.0   7.07     0  0.469  7.185  61.1  4.9671    2  242   \n",
              "3    0.03237   0.0   2.18     0  0.458  6.998  45.8  6.0622    3  222   \n",
              "4    0.06905   0.0   2.18     0  0.458  7.147  54.2  6.0622    3  222   \n",
              "..       ...   ...    ...   ...    ...    ...   ...     ...  ...  ...   \n",
              "501  0.06263   0.0  11.93     0  0.573  6.593  69.1  2.4786    1  273   \n",
              "502  0.04527   0.0  11.93     0  0.573  6.120  76.7  2.2875    1  273   \n",
              "503  0.06076   0.0  11.93     0  0.573  6.976  91.0  2.1675    1  273   \n",
              "504  0.10959   0.0  11.93     0  0.573  6.794  89.3  2.3889    1  273   \n",
              "505  0.04741   0.0  11.93     0  0.573  6.030  80.8  2.5050    1  273   \n",
              "\n",
              "     ptratio       b  lstat  medv  \n",
              "0       15.3  396.90   4.98  24.0  \n",
              "1       17.8  396.90   9.14  21.6  \n",
              "2       17.8  392.83   4.03  34.7  \n",
              "3       18.7  394.63   2.94  33.4  \n",
              "4       18.7  396.90   5.33  36.2  \n",
              "..       ...     ...    ...   ...  \n",
              "501     21.0  391.99   9.67  22.4  \n",
              "502     21.0  396.90   9.08  20.6  \n",
              "503     21.0  396.90   5.64  23.9  \n",
              "504     21.0  393.45   6.48  22.0  \n",
              "505     21.0  396.90   7.88  11.9  \n",
              "\n",
              "[506 rows x 14 columns]"
            ],
            "text/html": [
              "\n",
              "  <div id=\"df-7e16fa72-3ab4-4aaf-964c-7734e947ade7\">\n",
              "    <div class=\"colab-df-container\">\n",
              "      <div>\n",
              "<style scoped>\n",
              "    .dataframe tbody tr th:only-of-type {\n",
              "        vertical-align: middle;\n",
              "    }\n",
              "\n",
              "    .dataframe tbody tr th {\n",
              "        vertical-align: top;\n",
              "    }\n",
              "\n",
              "    .dataframe thead th {\n",
              "        text-align: right;\n",
              "    }\n",
              "</style>\n",
              "<table border=\"1\" class=\"dataframe\">\n",
              "  <thead>\n",
              "    <tr style=\"text-align: right;\">\n",
              "      <th></th>\n",
              "      <th>crim</th>\n",
              "      <th>zn</th>\n",
              "      <th>indus</th>\n",
              "      <th>chas</th>\n",
              "      <th>nox</th>\n",
              "      <th>rm</th>\n",
              "      <th>age</th>\n",
              "      <th>dis</th>\n",
              "      <th>rad</th>\n",
              "      <th>tax</th>\n",
              "      <th>ptratio</th>\n",
              "      <th>b</th>\n",
              "      <th>lstat</th>\n",
              "      <th>medv</th>\n",
              "    </tr>\n",
              "  </thead>\n",
              "  <tbody>\n",
              "    <tr>\n",
              "      <th>0</th>\n",
              "      <td>0.00632</td>\n",
              "      <td>18.0</td>\n",
              "      <td>2.31</td>\n",
              "      <td>0</td>\n",
              "      <td>0.538</td>\n",
              "      <td>6.575</td>\n",
              "      <td>65.2</td>\n",
              "      <td>4.0900</td>\n",
              "      <td>1</td>\n",
              "      <td>296</td>\n",
              "      <td>15.3</td>\n",
              "      <td>396.90</td>\n",
              "      <td>4.98</td>\n",
              "      <td>24.0</td>\n",
              "    </tr>\n",
              "    <tr>\n",
              "      <th>1</th>\n",
              "      <td>0.02731</td>\n",
              "      <td>0.0</td>\n",
              "      <td>7.07</td>\n",
              "      <td>0</td>\n",
              "      <td>0.469</td>\n",
              "      <td>6.421</td>\n",
              "      <td>78.9</td>\n",
              "      <td>4.9671</td>\n",
              "      <td>2</td>\n",
              "      <td>242</td>\n",
              "      <td>17.8</td>\n",
              "      <td>396.90</td>\n",
              "      <td>9.14</td>\n",
              "      <td>21.6</td>\n",
              "    </tr>\n",
              "    <tr>\n",
              "      <th>2</th>\n",
              "      <td>0.02729</td>\n",
              "      <td>0.0</td>\n",
              "      <td>7.07</td>\n",
              "      <td>0</td>\n",
              "      <td>0.469</td>\n",
              "      <td>7.185</td>\n",
              "      <td>61.1</td>\n",
              "      <td>4.9671</td>\n",
              "      <td>2</td>\n",
              "      <td>242</td>\n",
              "      <td>17.8</td>\n",
              "      <td>392.83</td>\n",
              "      <td>4.03</td>\n",
              "      <td>34.7</td>\n",
              "    </tr>\n",
              "    <tr>\n",
              "      <th>3</th>\n",
              "      <td>0.03237</td>\n",
              "      <td>0.0</td>\n",
              "      <td>2.18</td>\n",
              "      <td>0</td>\n",
              "      <td>0.458</td>\n",
              "      <td>6.998</td>\n",
              "      <td>45.8</td>\n",
              "      <td>6.0622</td>\n",
              "      <td>3</td>\n",
              "      <td>222</td>\n",
              "      <td>18.7</td>\n",
              "      <td>394.63</td>\n",
              "      <td>2.94</td>\n",
              "      <td>33.4</td>\n",
              "    </tr>\n",
              "    <tr>\n",
              "      <th>4</th>\n",
              "      <td>0.06905</td>\n",
              "      <td>0.0</td>\n",
              "      <td>2.18</td>\n",
              "      <td>0</td>\n",
              "      <td>0.458</td>\n",
              "      <td>7.147</td>\n",
              "      <td>54.2</td>\n",
              "      <td>6.0622</td>\n",
              "      <td>3</td>\n",
              "      <td>222</td>\n",
              "      <td>18.7</td>\n",
              "      <td>396.90</td>\n",
              "      <td>5.33</td>\n",
              "      <td>36.2</td>\n",
              "    </tr>\n",
              "    <tr>\n",
              "      <th>...</th>\n",
              "      <td>...</td>\n",
              "      <td>...</td>\n",
              "      <td>...</td>\n",
              "      <td>...</td>\n",
              "      <td>...</td>\n",
              "      <td>...</td>\n",
              "      <td>...</td>\n",
              "      <td>...</td>\n",
              "      <td>...</td>\n",
              "      <td>...</td>\n",
              "      <td>...</td>\n",
              "      <td>...</td>\n",
              "      <td>...</td>\n",
              "      <td>...</td>\n",
              "    </tr>\n",
              "    <tr>\n",
              "      <th>501</th>\n",
              "      <td>0.06263</td>\n",
              "      <td>0.0</td>\n",
              "      <td>11.93</td>\n",
              "      <td>0</td>\n",
              "      <td>0.573</td>\n",
              "      <td>6.593</td>\n",
              "      <td>69.1</td>\n",
              "      <td>2.4786</td>\n",
              "      <td>1</td>\n",
              "      <td>273</td>\n",
              "      <td>21.0</td>\n",
              "      <td>391.99</td>\n",
              "      <td>9.67</td>\n",
              "      <td>22.4</td>\n",
              "    </tr>\n",
              "    <tr>\n",
              "      <th>502</th>\n",
              "      <td>0.04527</td>\n",
              "      <td>0.0</td>\n",
              "      <td>11.93</td>\n",
              "      <td>0</td>\n",
              "      <td>0.573</td>\n",
              "      <td>6.120</td>\n",
              "      <td>76.7</td>\n",
              "      <td>2.2875</td>\n",
              "      <td>1</td>\n",
              "      <td>273</td>\n",
              "      <td>21.0</td>\n",
              "      <td>396.90</td>\n",
              "      <td>9.08</td>\n",
              "      <td>20.6</td>\n",
              "    </tr>\n",
              "    <tr>\n",
              "      <th>503</th>\n",
              "      <td>0.06076</td>\n",
              "      <td>0.0</td>\n",
              "      <td>11.93</td>\n",
              "      <td>0</td>\n",
              "      <td>0.573</td>\n",
              "      <td>6.976</td>\n",
              "      <td>91.0</td>\n",
              "      <td>2.1675</td>\n",
              "      <td>1</td>\n",
              "      <td>273</td>\n",
              "      <td>21.0</td>\n",
              "      <td>396.90</td>\n",
              "      <td>5.64</td>\n",
              "      <td>23.9</td>\n",
              "    </tr>\n",
              "    <tr>\n",
              "      <th>504</th>\n",
              "      <td>0.10959</td>\n",
              "      <td>0.0</td>\n",
              "      <td>11.93</td>\n",
              "      <td>0</td>\n",
              "      <td>0.573</td>\n",
              "      <td>6.794</td>\n",
              "      <td>89.3</td>\n",
              "      <td>2.3889</td>\n",
              "      <td>1</td>\n",
              "      <td>273</td>\n",
              "      <td>21.0</td>\n",
              "      <td>393.45</td>\n",
              "      <td>6.48</td>\n",
              "      <td>22.0</td>\n",
              "    </tr>\n",
              "    <tr>\n",
              "      <th>505</th>\n",
              "      <td>0.04741</td>\n",
              "      <td>0.0</td>\n",
              "      <td>11.93</td>\n",
              "      <td>0</td>\n",
              "      <td>0.573</td>\n",
              "      <td>6.030</td>\n",
              "      <td>80.8</td>\n",
              "      <td>2.5050</td>\n",
              "      <td>1</td>\n",
              "      <td>273</td>\n",
              "      <td>21.0</td>\n",
              "      <td>396.90</td>\n",
              "      <td>7.88</td>\n",
              "      <td>11.9</td>\n",
              "    </tr>\n",
              "  </tbody>\n",
              "</table>\n",
              "<p>506 rows × 14 columns</p>\n",
              "</div>\n",
              "      <button class=\"colab-df-convert\" onclick=\"convertToInteractive('df-7e16fa72-3ab4-4aaf-964c-7734e947ade7')\"\n",
              "              title=\"Convert this dataframe to an interactive table.\"\n",
              "              style=\"display:none;\">\n",
              "        \n",
              "  <svg xmlns=\"http://www.w3.org/2000/svg\" height=\"24px\"viewBox=\"0 0 24 24\"\n",
              "       width=\"24px\">\n",
              "    <path d=\"M0 0h24v24H0V0z\" fill=\"none\"/>\n",
              "    <path d=\"M18.56 5.44l.94 2.06.94-2.06 2.06-.94-2.06-.94-.94-2.06-.94 2.06-2.06.94zm-11 1L8.5 8.5l.94-2.06 2.06-.94-2.06-.94L8.5 2.5l-.94 2.06-2.06.94zm10 10l.94 2.06.94-2.06 2.06-.94-2.06-.94-.94-2.06-.94 2.06-2.06.94z\"/><path d=\"M17.41 7.96l-1.37-1.37c-.4-.4-.92-.59-1.43-.59-.52 0-1.04.2-1.43.59L10.3 9.45l-7.72 7.72c-.78.78-.78 2.05 0 2.83L4 21.41c.39.39.9.59 1.41.59.51 0 1.02-.2 1.41-.59l7.78-7.78 2.81-2.81c.8-.78.8-2.07 0-2.86zM5.41 20L4 18.59l7.72-7.72 1.47 1.35L5.41 20z\"/>\n",
              "  </svg>\n",
              "      </button>\n",
              "      \n",
              "  <style>\n",
              "    .colab-df-container {\n",
              "      display:flex;\n",
              "      flex-wrap:wrap;\n",
              "      gap: 12px;\n",
              "    }\n",
              "\n",
              "    .colab-df-convert {\n",
              "      background-color: #E8F0FE;\n",
              "      border: none;\n",
              "      border-radius: 50%;\n",
              "      cursor: pointer;\n",
              "      display: none;\n",
              "      fill: #1967D2;\n",
              "      height: 32px;\n",
              "      padding: 0 0 0 0;\n",
              "      width: 32px;\n",
              "    }\n",
              "\n",
              "    .colab-df-convert:hover {\n",
              "      background-color: #E2EBFA;\n",
              "      box-shadow: 0px 1px 2px rgba(60, 64, 67, 0.3), 0px 1px 3px 1px rgba(60, 64, 67, 0.15);\n",
              "      fill: #174EA6;\n",
              "    }\n",
              "\n",
              "    [theme=dark] .colab-df-convert {\n",
              "      background-color: #3B4455;\n",
              "      fill: #D2E3FC;\n",
              "    }\n",
              "\n",
              "    [theme=dark] .colab-df-convert:hover {\n",
              "      background-color: #434B5C;\n",
              "      box-shadow: 0px 1px 3px 1px rgba(0, 0, 0, 0.15);\n",
              "      filter: drop-shadow(0px 1px 2px rgba(0, 0, 0, 0.3));\n",
              "      fill: #FFFFFF;\n",
              "    }\n",
              "  </style>\n",
              "\n",
              "      <script>\n",
              "        const buttonEl =\n",
              "          document.querySelector('#df-7e16fa72-3ab4-4aaf-964c-7734e947ade7 button.colab-df-convert');\n",
              "        buttonEl.style.display =\n",
              "          google.colab.kernel.accessAllowed ? 'block' : 'none';\n",
              "\n",
              "        async function convertToInteractive(key) {\n",
              "          const element = document.querySelector('#df-7e16fa72-3ab4-4aaf-964c-7734e947ade7');\n",
              "          const dataTable =\n",
              "            await google.colab.kernel.invokeFunction('convertToInteractive',\n",
              "                                                     [key], {});\n",
              "          if (!dataTable) return;\n",
              "\n",
              "          const docLinkHtml = 'Like what you see? Visit the ' +\n",
              "            '<a target=\"_blank\" href=https://colab.research.google.com/notebooks/data_table.ipynb>data table notebook</a>'\n",
              "            + ' to learn more about interactive tables.';\n",
              "          element.innerHTML = '';\n",
              "          dataTable['output_type'] = 'display_data';\n",
              "          await google.colab.output.renderOutput(dataTable, element);\n",
              "          const docLink = document.createElement('div');\n",
              "          docLink.innerHTML = docLinkHtml;\n",
              "          element.appendChild(docLink);\n",
              "        }\n",
              "      </script>\n",
              "    </div>\n",
              "  </div>\n",
              "  "
            ]
          },
          "metadata": {},
          "execution_count": 10
        }
      ]
    },
    {
      "cell_type": "markdown",
      "source": [
        "**Data description**\n",
        "\n",
        "The Boston data frame has 506 rows and 14 columns.\n",
        "\n",
        "crim\n",
        "per capita crime rate by town.\n",
        "\n",
        "zn\n",
        "proportion of residential land zoned for lots over 25,000 sq.ft.\n",
        "\n",
        "indus\n",
        "proportion of non-retail business acres per town.\n",
        "\n",
        "chas\n",
        "Charles River dummy variable (= 1 if tract bounds river; 0 otherwise).\n",
        "\n",
        "nox\n",
        "nitrogen oxides concentration (parts per 10 million).\n",
        "\n",
        "rm\n",
        "average number of rooms per dwelling.\n",
        "\n",
        "age\n",
        "proportion of owner-occupied units built prior to 1940.\n",
        "\n",
        "dis\n",
        "weighted mean of distances to five Boston employment centres.\n",
        "\n",
        "rad\n",
        "index of accessibility to radial highways.\n",
        "\n",
        "tax\n",
        "full-value property-tax rate per \\$10,000.\n",
        "\n",
        "ptratio\n",
        "pupil-teacher ratio by town.\n",
        "\n",
        "black\n",
        "1000(Bk - 0.63)^2 where Bk is the proportion of blacks by town.\n",
        "\n",
        "lstat\n",
        "lower status of the population (percent).\n",
        "\n",
        "medv\n",
        "median value of owner-occupied homes in \\$1000s.\n"
      ],
      "metadata": {
        "id": "Ckd9vtNpSonG"
      }
    },
    {
      "cell_type": "markdown",
      "source": [
        "# Thống kê mô tả và vẽ biểu đồ phân phối trên các trường của tập dữ liệu này. \n",
        "\n",
        "Đánh giá sơ bộ về tính chất phân phối của các biến"
      ],
      "metadata": {
        "id": "kziAylcFR6xc"
      }
    },
    {
      "cell_type": "code",
      "source": [
        "# sns.pairplot(data)\n",
        "import seaborn as sns\n",
        "import matplotlib.pyplot as plt\n",
        "import warnings\n",
        "warnings.simplefilter(action='ignore', category=FutureWarning)\n",
        "\n",
        "numeric_cols = df.select_dtypes(include=['float','int']).columns\n",
        "\n",
        "def _plot_numeric_classes(df, col, bins=10, hist=True, kde=True):\n",
        "    sns.distplot(df[col],\n",
        "                 bins = bins,\n",
        "                 hist = hist,\n",
        "                 kde = kde)\n",
        "\n",
        "def _distribution_numeric(df, numeric_cols, row=5, col=3, figsize=(20, 15), bins = 10):\n",
        "    '''\n",
        "    numeric_cols: list các tên cột\n",
        "    row: số lượng dòng trong lưới đồ thị\n",
        "    col: số lượng cột trong lưới đồ thị\n",
        "    figsize: kích thước biểu đồ\n",
        "    bins: số lượng bins phân chia trong biểu đồ distribution\n",
        "    '''\n",
        "    print('number of numeric field: ', len(numeric_cols))\n",
        "    assert row*(col-1) < len(numeric_cols)\n",
        "    plt.figure(figsize = figsize)\n",
        "    plt.subplots_adjust(left=None, bottom=None, right=None, top=None, wspace=0.2, hspace=0.5)\n",
        "    for i in range(1, len(numeric_cols)+1, 1):\n",
        "      try:\n",
        "        plt.subplot(row, col, i)\n",
        "        _plot_numeric_classes(df, numeric_cols[i-1], bins = bins)\n",
        "        plt.title(numeric_cols[i-1])\n",
        "      except:\n",
        "        print('Error {}'.format(numeric_cols[i-1]))\n",
        "        break\n",
        "\n",
        "_distribution_numeric(df, numeric_cols)"
      ],
      "metadata": {
        "colab": {
          "base_uri": "https://localhost:8080/",
          "height": 911
        },
        "id": "KdVYsUXIPE27",
        "outputId": "5964959c-8d66-4da1-fefa-ddf522377b0b"
      },
      "execution_count": null,
      "outputs": [
        {
          "output_type": "stream",
          "name": "stdout",
          "text": [
            "number of numeric field:  14\n"
          ]
        },
        {
          "output_type": "display_data",
          "data": {
            "text/plain": [
              "<Figure size 1440x1080 with 14 Axes>"
            ],
            "image/png": "[encoded data removed]"
          },
          "metadata": {
            "needs_background": "light"
          }
        }
      ]
    },
    {
      "cell_type": "markdown",
      "source": [
        "Nhận xét:\n",
        "- Dataset chỉ bao gồm các biến số, không bao gồm dữ liệu text\n",
        "- Bao gồm 1 biến phân loại (categorical) chas, còn lại là biến liên tục (continuous) => one-hot biến chas sau\n",
        "- Dataset Boston có phần lớn ngôi nhà đã được xây dựng lâu đời (age 100 tuổi)\n",
        "- Dân cư không quá đông, 25000 sq ft ( 2300m2) phần lớn < 10 ngôi nhà (hay 230m2 1 ngôi nhà)\n",
        "- Giá nhà có phân bố hình chuông, đỉnh chuông là 20000 $"
      ],
      "metadata": {
        "id": "YsLC3QLMSUP5"
      }
    },
    {
      "cell_type": "markdown",
      "source": [
        "# 2. Pipeline dữ liệu"
      ],
      "metadata": {
        "id": "RFP1cQQLVDza"
      }
    },
    {
      "cell_type": "code",
      "source": [
        "# Pipeline xử lý cho biến phân loại\n",
        "cat_pl= Pipeline(\n",
        "    steps=[\n",
        "        ('imputer', SimpleImputer(strategy='most_frequent')), # Xử lý missing data bằng cách thay thế most frequent\n",
        "        ('onehot', OneHotEncoder()), # Biến đổi giá trị của biến phân loại thành véc tơ OneHot\n",
        "    ]\n",
        ")\n",
        "# Pipeline xử lý cho biến liên tục\n",
        "num_pl = Pipeline(\n",
        "    steps=[\n",
        "           ('imputer', KNNImputer(n_neighbors=7)), # Xử lý missing data bằng cách dự báo KNN với n=7. Tức là lấy trung bình giá trị của 7 láng giềng gần nhất.\n",
        "           ('scaler', MinMaxScaler()) # Xử lý missing data bằng MinMax scaler\n",
        "    ]\n",
        ")"
      ],
      "metadata": {
        "id": "oesc04zZSRLQ"
      },
      "execution_count": null,
      "outputs": []
    },
    {
      "cell_type": "markdown",
      "source": [
        "# Phân chia train/ test & lựa chọn Metrics\n",
        "\n",
        "- Phân chia train/ test theo tỉ lệ thông thường 80/20\n",
        "- Bài toán là regression problem nên ta chọn metric đánh giá tương ứng: MAE/ MSE... Ở đây ta chọn MSE\n"
      ],
      "metadata": {
        "id": "ePGkOU33aLh0"
      }
    },
    {
      "cell_type": "code",
      "source": [
        "# Chia train/test theo tỷ lệ 80:20.\n",
        "df_train, df_test = train_test_split(df, test_size=0.2)\n",
        "X_train = df_train.copy()\n",
        "y_train = X_train.pop(\"medv\")\n",
        "\n",
        "\n",
        "X_test = df_test.copy()\n",
        "y_test = X_test.pop(\"medv\")\n",
        "print(X_train.shape, y_train.shape)\n",
        "print(X_test.shape, y_test.shape)\n",
        "\n",
        "\n",
        "# Lấy list names của các biến phân loại và biến liên tục.\n",
        "cat_names = ['chas']\n",
        "num_names = list(X_train.columns)\n",
        "num_names.remove('chas')"
      ],
      "metadata": {
        "id": "Qs0r1l0ZaPAm"
      },
      "execution_count": null,
      "outputs": []
    },
    {
      "cell_type": "markdown",
      "source": [
        "pipeline hoàn chỉnh"
      ],
      "metadata": {
        "id": "Hv7syqQiYfOY"
      }
    },
    {
      "cell_type": "code",
      "source": [
        "preprocessor = ColumnTransformer(\n",
        "    transformers=[\n",
        "        ('num', num_pl, num_names), # áp dụng pipeline cho biến liên tục\n",
        "        ('cat', cat_pl, cat_names), # áp dụng pipeline cho biến phân loại\n",
        "    ]\n",
        ")\n",
        "# Completed training pipeline\n",
        "completed_pl = Pipeline(\n",
        "    steps=[\n",
        "            (\"preprocessor\", preprocessor), \n",
        "            (\"regression\", RandomForestRegressor())\n",
        "    ]\n",
        ")"
      ],
      "metadata": {
        "id": "PcEOVT5gW2Y_"
      },
      "execution_count": null,
      "outputs": []
    },
    {
      "cell_type": "code",
      "source": [
        "\n",
        "# training\n",
        "completed_pl.fit(X_train, y_train)\n",
        "\n",
        "# MSE metric on train\n",
        "y_train_pred = completed_pl.predict(X_train)\n",
        "print(f\"MSE on train: {mean_squared_error(list(y_train), list(y_train_pred)):.2f}\")\n",
        "# MSE metric on test\n",
        "y_pred = completed_pl.predict(X_test)\n",
        "print(f\"MSE on test: {mean_squared_error(list(y_test), list(y_pred)):.2f}\")"
      ],
      "metadata": {
        "colab": {
          "base_uri": "https://localhost:8080/"
        },
        "id": "NjxrRdcZZ6L8",
        "outputId": "4f9aee1c-957d-4084-f672-b0f063477d2f"
      },
      "execution_count": null,
      "outputs": [
        {
          "output_type": "stream",
          "name": "stdout",
          "text": [
            "MSE on train: 1.56\n",
            "MSE on test: 26.52\n"
          ]
        }
      ]
    },
    {
      "cell_type": "markdown",
      "source": [
        "Nhận xét: đã fit tốt trên train dataset, test dataset tuning sau"
      ],
      "metadata": {
        "id": "BtfO767eZYIG"
      }
    },
    {
      "cell_type": "markdown",
      "source": [
        "# Lựa chọn một lớp mô hình phù hợp. Thực hiện cross validation để huấn luyện và đánh giá mô hình đó trên tập train."
      ],
      "metadata": {
        "id": "2oZkwGWraqeR"
      }
    },
    {
      "cell_type": "code",
      "source": [
        "folds = KFold(n_splits = 5, shuffle = True, random_state = 100)\n",
        "scores = cross_val_score(completed_pl, X_train, y_train, scoring='neg_mean_squared_error', cv=folds)\n",
        "scores   "
      ],
      "metadata": {
        "colab": {
          "base_uri": "https://localhost:8080/"
        },
        "id": "WKk1G_j_bOcK",
        "outputId": "7acd2f99-1517-40b2-889d-13414ea1875f"
      },
      "execution_count": null,
      "outputs": [
        {
          "output_type": "execute_result",
          "data": {
            "text/plain": [
              "array([ -9.54114689, -10.64195569,  -8.43747483, -18.9767969 ,\n",
              "       -12.40437774])"
            ]
          },
          "metadata": {},
          "execution_count": 61
        }
      ]
    },
    {
      "cell_type": "code",
      "source": [
        "# list các mô hình được lựa chọn\n",
        "models = [LinearRegression(),ElasticNet(), SGDRegressor(), RandomForestRegressor()]\n",
        "\n",
        "# Xác định KFold\n",
        "cv = KFold(n_splits=5)\n",
        "\n",
        "all_scores = []\n",
        "# Đánh giá toàn bộ các mô hình trên tập K-Fold đã chia\n",
        "for model in models:\n",
        "  completed_pl = Pipeline(\n",
        "    steps=[(\"preprocessor\", preprocessor), ('regression', model)]\n",
        "  )\n",
        "\n",
        "  scores = cross_val_score(completed_pl, X_train, y_train, scoring='neg_mean_squared_error', cv=cv, n_jobs=-1)\n",
        "  all_scores.append(scores)"
      ],
      "metadata": {
        "id": "r4ZzKNTwcU3P"
      },
      "execution_count": null,
      "outputs": []
    },
    {
      "cell_type": "markdown",
      "source": [
        "Vẽ biểu đồ phân phối score giữa các mô hình."
      ],
      "metadata": {
        "id": "DJCkgco3euBv"
      }
    },
    {
      "cell_type": "code",
      "source": [
        "import matplotlib.pyplot as plt\n",
        "model_names = ['LinearRegression', 'ElasticNet', 'SGDRegressor', 'RandomForestRegressor']\n",
        "\n",
        "# Draw bboxplot \n",
        "plt.figure(figsize=(16, 8))\n",
        "plt.boxplot(all_scores)\n",
        "plt.xlabel('Scale', fontsize=16)\n",
        "plt.ylabel('cm', fontsize=16)\n",
        "plt.xticks(np.arange(len(model_names))+1, model_names, rotation=45, fontsize=16)\n",
        "plt.title(\"Scores Metrics\", fontsize=18)"
      ],
      "metadata": {
        "colab": {
          "base_uri": "https://localhost:8080/",
          "height": 679
        },
        "id": "EnEK-omreV1Y",
        "outputId": "b5e9319c-8a6a-4035-846e-6ba6f78057df"
      },
      "execution_count": null,
      "outputs": [
        {
          "output_type": "execute_result",
          "data": {
            "text/plain": [
              "Text(0.5, 1.0, 'Scores Metrics')"
            ]
          },
          "metadata": {},
          "execution_count": 71
        },
        {
          "output_type": "display_data",
          "data": {
            "text/plain": [
              "<Figure size 1152x576 with 1 Axes>"
            ],
            "image/png": "[encoded data removed]"
          },
          "metadata": {
            "needs_background": "light"
          }
        }
      ]
    },
    {
      "cell_type": "markdown",
      "source": [
        "Nhận xét: Ta thấy rằng Boxplot metric của **RandomForestRegressor** là **cao nhất + ổn định nhất** (Tứ phân vị gần nhau)\n",
        "\n",
        "👉 Ta chọn RandomForestRegressor là model"
      ],
      "metadata": {
        "id": "jnP5CNase3xH"
      }
    },
    {
      "cell_type": "markdown",
      "source": [
        "# Grid Search"
      ],
      "metadata": {
        "id": "3PzuDSaJfbFG"
      }
    },
    {
      "cell_type": "code",
      "source": [
        "from sklearn.base import BaseEstimator\n",
        "class RegressorSwitcher(BaseEstimator):\n",
        "  def __init__(\n",
        "      self, \n",
        "      estimator = RandomForestRegressor(),\n",
        "  ):\n",
        "      \"\"\"\n",
        "      A Custom BaseEstimator that can switch between regressors.\n",
        "      :param estimator: sklearn object - The regressor\n",
        "      \"\"\" \n",
        "      \n",
        "      self.estimator = estimator\n",
        "\n",
        "\n",
        "  def fit(self, X, y=None, **kwargs):\n",
        "      self.estimator.fit(X, y)\n",
        "      return self\n",
        "\n",
        "\n",
        "  def predict(self, X, y=None):\n",
        "      return self.estimator.predict(X)\n",
        "\n",
        "\n",
        "  # def predict_proba(self, X):\n",
        "  #     return self.estimator.predict_proba(X)\n",
        "\n",
        "\n",
        "  def score(self, X, y):\n",
        "      return self.estimator.score(X, y)"
      ],
      "metadata": {
        "id": "CYBtfSjaevRJ"
      },
      "execution_count": null,
      "outputs": []
    },
    {
      "cell_type": "code",
      "source": [
        "from sklearn.model_selection import GridSearchCV\n",
        "pipeline = Pipeline(\n",
        "    steps=[(\"pre\", preprocessor), (\"reg\", RegressorSwitcher())]\n",
        ")"
      ],
      "metadata": {
        "id": "v4eJMRxQfs_o"
      },
      "execution_count": null,
      "outputs": []
    },
    {
      "cell_type": "code",
      "source": [
        "parameters = [\n",
        "    {\n",
        "        'reg__estimator': [RandomForestRegressor()],\n",
        "        'reg__estimator__n_estimators': [50, 100],\n",
        "        'reg__estimator__max_depth': [5, 10],\n",
        "        'reg__estimator__criterion': ('squared_error','absolute_error')\n",
        "    },\n",
        "]"
      ],
      "metadata": {
        "id": "hhzbcXErgChb"
      },
      "execution_count": null,
      "outputs": []
    },
    {
      "cell_type": "code",
      "source": [
        "metric = 'neg_mean_squared_error'\n",
        "gscv = GridSearchCV(pipeline, parameters, cv=5, n_jobs=12, scoring=metric, return_train_score=True, error_score=0, verbose=3)\n",
        "gscv.fit(X_train, y_train)"
      ],
      "metadata": {
        "colab": {
          "base_uri": "https://localhost:8080/"
        },
        "id": "Kg4m8lzegJ6U",
        "outputId": "e8b87eed-03dc-4db9-9d34-55eeb167bf29"
      },
      "execution_count": null,
      "outputs": [
        {
          "output_type": "stream",
          "name": "stdout",
          "text": [
            "Fitting 5 folds for each of 8 candidates, totalling 40 fits\n"
          ]
        },
        {
          "output_type": "execute_result",
          "data": {
            "text/plain": [
              "GridSearchCV(cv=5, error_score=0,\n",
              "             estimator=Pipeline(steps=[('pre',\n",
              "                                        ColumnTransformer(transformers=[('num',\n",
              "                                                                         Pipeline(steps=[('imputer',\n",
              "                                                                                          KNNImputer(n_neighbors=7)),\n",
              "                                                                                         ('scaler',\n",
              "                                                                                          MinMaxScaler())]),\n",
              "                                                                         ['crim',\n",
              "                                                                          'zn',\n",
              "                                                                          'indus',\n",
              "                                                                          'nox',\n",
              "                                                                          'rm',\n",
              "                                                                          'age',\n",
              "                                                                          'dis',\n",
              "                                                                          'rad',\n",
              "                                                                          'tax',\n",
              "                                                                          'ptratio',\n",
              "                                                                          'b',\n",
              "                                                                          'lstat']),\n",
              "                                                                        ('cat',\n",
              "                                                                         Pipeline(steps=[('imputer',\n",
              "                                                                                          SimpleImputer(strategy='most_frequent')),\n",
              "                                                                                         ('onehot',\n",
              "                                                                                          OneHotEncoder())]),\n",
              "                                                                         ['chas'])])),\n",
              "                                       ('reg', RegressorSwitcher())]),\n",
              "             n_jobs=12,\n",
              "             param_grid=[{'reg__estimator': [RandomForestRegressor(max_depth=10)],\n",
              "                          'reg__estimator__criterion': ('squared_error',\n",
              "                                                        'absolute_error'),\n",
              "                          'reg__estimator__max_depth': [5, 10],\n",
              "                          'reg__estimator__n_estimators': [50, 100]}],\n",
              "             return_train_score=True, scoring='neg_mean_squared_error',\n",
              "             verbose=3)"
            ]
          },
          "metadata": {},
          "execution_count": 86
        }
      ]
    },
    {
      "cell_type": "code",
      "source": [
        "# Tham số tốt nhất\n",
        "gscv.best_params_"
      ],
      "metadata": {
        "colab": {
          "base_uri": "https://localhost:8080/"
        },
        "id": "ajWCANGrgMTN",
        "outputId": "c3f0c12c-575d-455b-bd7f-fb71ed7d8336"
      },
      "execution_count": null,
      "outputs": [
        {
          "output_type": "execute_result",
          "data": {
            "text/plain": [
              "{'reg__estimator': RandomForestRegressor(max_depth=10),\n",
              " 'reg__estimator__criterion': 'squared_error',\n",
              " 'reg__estimator__max_depth': 10,\n",
              " 'reg__estimator__n_estimators': 100}"
            ]
          },
          "metadata": {},
          "execution_count": 87
        }
      ]
    },
    {
      "cell_type": "code",
      "source": [
        "gscv.best_score_"
      ],
      "metadata": {
        "colab": {
          "base_uri": "https://localhost:8080/"
        },
        "id": "CY2su_IXhXnW",
        "outputId": "f84946e3-1ab7-4108-e794-8e8b09bb3c9d"
      },
      "execution_count": null,
      "outputs": [
        {
          "output_type": "execute_result",
          "data": {
            "text/plain": [
              "-11.256404215089907"
            ]
          },
          "metadata": {},
          "execution_count": 88
        }
      ]
    },
    {
      "cell_type": "markdown",
      "source": [
        "**Trainning lại với tham số tốt nhất tìm được**"
      ],
      "metadata": {
        "id": "ac7YzWZqhiT9"
      }
    },
    {
      "cell_type": "code",
      "source": [
        "completed_pl = Pipeline(\n",
        "    steps=[\n",
        "            (\"preprocessor\", preprocessor), \n",
        "            (\"regression\", RandomForestRegressor(max_depth=10,criterion = 'squared_error',n_estimators = 100))\n",
        "    ]\n",
        ")\n",
        "# training\n",
        "completed_pl.fit(X_train, y_train)\n",
        "\n",
        "# MSE metric on train\n",
        "y_train_pred = completed_pl.predict(X_train)\n",
        "print(f\"MSE on train: {mean_squared_error(list(y_train), list(y_train_pred)):.2f}\")\n",
        "# MSE metric on test\n",
        "y_pred = completed_pl.predict(X_test)\n",
        "print(f\"MSE on test: {mean_squared_error(list(y_test), list(y_pred)):.2f}\")"
      ],
      "metadata": {
        "colab": {
          "base_uri": "https://localhost:8080/"
        },
        "id": "vA0V3MoJhdZP",
        "outputId": "a26d4b67-2cd1-49b6-8252-f9785f798b96"
      },
      "execution_count": null,
      "outputs": [
        {
          "output_type": "stream",
          "name": "stdout",
          "text": [
            "MSE on train: 1.87\n",
            "MSE on test: 25.67\n"
          ]
        }
      ]
    },
    {
      "cell_type": "code",
      "source": [
        "!wget https://cloudflare-ipfs.com/ipfs/bafykbzaceb7cbq7bv35wxgfd6qrvaslwtwzn7galjv55itm5dduooorgsa6na?filename=Dr.%20Basant%20Agarwal%20-%20Hands-On%20Data%20Structures%20and%20Algorithms%20with%20Python_%20Store%2C%20manipulate%2C%20and%20access%20data%20effectively%2C%203rd%20Edition-Packt%20%282022%29.pdf"
      ],
      "metadata": {
        "id": "qicGy8wCiKbW",
        "colab": {
          "base_uri": "https://localhost:8080/"
        },
        "outputId": "0ecee5a9-4285-4e39-c5c1-d0f11dd72096"
      },
      "execution_count": null,
      "outputs": [
        {
          "output_type": "stream",
          "name": "stdout",
          "text": [
            "--2022-12-04 14:34:37--  https://cloudflare-ipfs.com/ipfs/bafykbzaceb7cbq7bv35wxgfd6qrvaslwtwzn7galjv55itm5dduooorgsa6na?filename=Dr.%20Basant%20Agarwal%20-%20Hands-On%20Data%20Structures%20and%20Algorithms%20with%20Python_%20Store%2C%20manipulate%2C%20and%20access%20data%20effectively%2C%203rd%20Edition-Packt%20%282022%29.pdf\n",
            "Resolving cloudflare-ipfs.com (cloudflare-ipfs.com)... 104.17.64.14, 104.17.96.13, 2606:4700::6811:600d, ...\n",
            "Connecting to cloudflare-ipfs.com (cloudflare-ipfs.com)|104.17.64.14|:443... connected.\n",
            "HTTP request sent, awaiting response... 200 OK\n",
            "Length: 12604910 (12M) [application/pdf]\n",
            "Saving to: ‘bafykbzaceb7cbq7bv35wxgfd6qrvaslwtwzn7galjv55itm5dduooorgsa6na?filename=Dr. Basant Agarwal - Hands-On Data Structures and Algorithms with Python_ Store, manipulate, and access data effectively, 3rd Edition-Packt (2022).pdf’\n",
            "\n",
            "bafykbzaceb7cbq7bv3 100%[===================>]  12.02M  66.0KB/s    in 2m 47s  \n",
            "\n",
            "2022-12-04 14:37:31 (73.7 KB/s) - ‘bafykbzaceb7cbq7bv35wxgfd6qrvaslwtwzn7galjv55itm5dduooorgsa6na?filename=Dr. Basant Agarwal - Hands-On Data Structures and Algorithms with Python_ Store, manipulate, and access data effectively, 3rd Edition-Packt (2022).pdf’ saved [12604910/12604910]\n",
            "\n"
          ]
        }
      ]
    },
    {
      "cell_type": "code",
      "source": [
        "from functools import reduce\n",
        "import numpy as np\n",
        "\n",
        "# Đầu vào là một texts bao gồm 3 câu văn:\n",
        "texts = [['i', 'have', 'a', 'cat'], \n",
        "        ['he', 'has', 'a', 'dog'], \n",
        "        ['he', 'has', 'a', 'dog', 'and', 'i', 'have', 'a', 'cat']]"
      ],
      "metadata": {
        "id": "glMZkX8SjI3U"
      },
      "execution_count": null,
      "outputs": []
    },
    {
      "cell_type": "code",
      "source": [
        "# dictionary = list(enumerate(set(reduce(lambda x, y: x + y, texts))))\n",
        "dictionary = []\n",
        "for x in texts:\n",
        "  [dictionary.append(w) for w in x]"
      ],
      "metadata": {
        "id": "vCsboyvGmkSV"
      },
      "execution_count": null,
      "outputs": []
    },
    {
      "cell_type": "code",
      "source": [
        "dictionary"
      ],
      "metadata": {
        "colab": {
          "base_uri": "https://localhost:8080/"
        },
        "id": "EaOEj8RcnSI0",
        "outputId": "f76dac9e-b136-4a32-cffa-e1c941df910a"
      },
      "execution_count": null,
      "outputs": [
        {
          "output_type": "execute_result",
          "data": {
            "text/plain": [
              "['i',\n",
              " 'have',\n",
              " 'a',\n",
              " 'cat',\n",
              " 'he',\n",
              " 'has',\n",
              " 'a',\n",
              " 'dog',\n",
              " 'he',\n",
              " 'has',\n",
              " 'a',\n",
              " 'dog',\n",
              " 'and',\n",
              " 'i',\n",
              " 'have',\n",
              " 'a',\n",
              " 'cat']"
            ]
          },
          "metadata": {},
          "execution_count": 19
        }
      ]
    },
    {
      "cell_type": "code",
      "source": [
        "final = []"
      ],
      "metadata": {
        "id": "J9LRnTvxoMJo"
      },
      "execution_count": null,
      "outputs": []
    },
    {
      "cell_type": "code",
      "source": [
        "for sentence in texts:\n",
        "  r_sentence = []\n",
        "  for word in sentence:\n",
        "    count = dictionary.count(word)\n",
        "    r_sentence.append(count)\n",
        "  final.append(r_sentence)"
      ],
      "metadata": {
        "id": "eYLiIlAvncaN"
      },
      "execution_count": null,
      "outputs": []
    },
    {
      "cell_type": "code",
      "source": [
        "set(texts)"
      ],
      "metadata": {
        "colab": {
          "base_uri": "https://localhost:8080/",
          "height": 171
        },
        "id": "yNuBJiC2ocJm",
        "outputId": "2c1174a5-fbfb-4d9d-a255-c993960128ee"
      },
      "execution_count": null,
      "outputs": [
        {
          "output_type": "error",
          "ename": "TypeError",
          "evalue": "ignored",
          "traceback": [
            "\u001b[0;31m---------------------------------------------------------------------------\u001b[0m",
            "\u001b[0;31mTypeError\u001b[0m                                 Traceback (most recent call last)",
            "\u001b[0;32m<ipython-input-26-4ed50c510130>\u001b[0m in \u001b[0;36m<module>\u001b[0;34m\u001b[0m\n\u001b[0;32m----> 1\u001b[0;31m \u001b[0mset\u001b[0m\u001b[0;34m(\u001b[0m\u001b[0mtexts\u001b[0m\u001b[0;34m)\u001b[0m\u001b[0;34m\u001b[0m\u001b[0;34m\u001b[0m\u001b[0m\n\u001b[0m",
            "\u001b[0;31mTypeError\u001b[0m: unhashable type: 'list'"
          ]
        }
      ]
    },
    {
      "cell_type": "code",
      "source": [
        "def bag_of_word(sentence):\n",
        "    # Khởi tạo một vector có độ dài bằng với từ điển.\n",
        "    vector = np.zeros(len(dictionary))\n",
        "    # Đếm các từ trong một câu xuất hiện trong từ điển.\n",
        "    for i, word in dictionary:\n",
        "        count = 0\n",
        "        # Đếm số từ xuất hiện trong một câu.\n",
        "        for w in sentence:\n",
        "            if w == word:\n",
        "                count += 1\n",
        "        vector[i] = count\n",
        "    return vector\n",
        "            \n",
        "for i in texts:\n",
        "    print(bag_of_word(i))"
      ],
      "metadata": {
        "colab": {
          "base_uri": "https://localhost:8080/"
        },
        "id": "OnZzDlS7miSX",
        "outputId": "999b5caa-8c7e-47e3-f0f9-891350b2d332"
      },
      "execution_count": null,
      "outputs": [
        {
          "output_type": "stream",
          "name": "stdout",
          "text": [
            "[1. 1. 1. 0. 0. 0. 0. 1.]\n",
            "[0. 0. 0. 1. 1. 0. 1. 1.]\n",
            "[1. 1. 1. 1. 1. 1. 1. 2.]\n"
          ]
        }
      ]
    },
    {
      "cell_type": "code",
      "source": [],
      "metadata": {
        "id": "e-0thIg1pG2f"
      },
      "execution_count": null,
      "outputs": []
    }
  ]
}