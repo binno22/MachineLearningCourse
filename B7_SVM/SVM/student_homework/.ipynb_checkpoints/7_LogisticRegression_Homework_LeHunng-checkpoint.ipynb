{
 "cells": [
  {
   "cell_type": "markdown",
   "metadata": {
    "id": "_NWsO-83PoU9"
   },
   "source": [
    "# I. Lý thuyết"
   ]
  },
  {
   "cell_type": "markdown",
   "metadata": {
    "id": "5SBg7TzVPrFY"
   },
   "source": [
    "1) Xác suất dự báo của mô hình hồi qui Logistic được xây dựng dựa trên hàm Sigmoid có công thức như thế nào ?\n",
    "\n",
    "A. $\\sigma(x) = \\frac{1}{1+e^{-x}}$\n",
    "\n",
    "B. $\\sigma(x) = \\frac{e^{x}}{1+e^{x}}$\n",
    "\n",
    "C. $\\sigma(x) = \\frac{e^x - e^{-x}}{e^x + e^{-x}}$\n",
    "\n",
    "(D). Cả A và B"
   ]
  },
  {
   "cell_type": "markdown",
   "metadata": {
    "id": "ktUs4NoqQWju"
   },
   "source": [
    "2) Phát biểu nào sau đây là chính xác về hàm Sigmoid\n",
    "\n",
    "A. Hàm Sigmoid là hàm số đồng biến.\n",
    "\n",
    "B. Hàm Sigmoid là hàm lồi.\n",
    "\n",
    "C. Hàm Sigmoid có giá trị nằm trong khoảng (0, 1).\n",
    "\n",
    "(D). Cả ba đáp án trên."
   ]
  },
  {
   "cell_type": "markdown",
   "metadata": {
    "id": "PNueGbpqRL3F"
   },
   "source": [
    "3) Lý do Linear Regression thường không được sử dụng trong bài toán phân loại là gì ?\n",
    "\n",
    "A. Vì các giá trị dự báo có thể nằm ngoài khoảng (0, 1).\n",
    "\n",
    "B. Hồi qui Linear Regression không có đường biên phân chia.\n",
    "\n",
    "C. Mô hình dễ nhạy cảm với outliers khiến các dự báo bị sai.\n",
    "\n",
    "(D). Đáp án A và C"
   ]
  },
  {
   "cell_type": "markdown",
   "metadata": {
    "id": "qf8IYbE6c-3Q"
   },
   "source": [
    "4) Nếu chọn ngưỡng xác suất là 0.5 để quyết định nhãn dự báo thì đường biên phân chia của hồi qui Logistic là gì ?\n",
    "\n",
    "A. Một đường thẳng có phương trình $y=ax+b$\n",
    "\n",
    "(B). Một siêu phẳng có phương trình $\\mathbf{w}^{\\intercal}\\mathbf{x} = 0$\n",
    "\n",
    "C. Một hình cầu. \n",
    "\n",
    "D. Một đường biên có quĩ đạo ellipse."
   ]
  },
  {
   "cell_type": "markdown",
   "metadata": {
    "id": "JKw5fHsHezA5"
   },
   "source": [
    "5) Trong hồi qui Logistic tỷ lệ Odd Ratio được xác định như sau:\n",
    "\n",
    "$$\\text{Odd Ratio} = \\frac{P(y=1|\\mathbf{x}; \\mathbf{w})}{P(y=0|\\mathbf{x}; \\mathbf{w})} = \\frac{P(y=1|\\mathbf{x}, \\mathbf{w})}{1-P(y=1|\\mathbf{x}, \\mathbf{w})} = e^{\\mathbf{w}^{\\intercal}\\mathbf{x}}$$\n",
    "\n",
    "Tỷ lệ này có ý nghĩa như thế nào?\n",
    "\n",
    "A. Odd ratio là 1 chỉ số đo lường tỷ lệ xác suất giữa trường hợp _tích cực_ và _tiêu cực_ được dự báo từ mô hình hồi quy logistic.\n",
    "\n",
    "B. Căn cứ vào Odd Ratio, ta nhận biết được xác suất _tích cực_ hay _tiêu cực_ lớn hơn. \n",
    "\n",
    "C. Odd ratio càng lớn thì khả năng dự đoán có nhãn tích cực (positive) càng cao. Ngược lại, Odd ratio càng nhỏ thì khả năng dự đoán có nhãn tiêu cực (negative) càng cao.\n",
    "\n",
    "(D). Cả ba đáp án trên."
   ]
  },
  {
   "cell_type": "markdown",
   "metadata": {
    "id": "1jx0Qu6ehir7"
   },
   "source": [
    "6) Tại sao chúng ta không sử dụng hàm loss function là MSE (Mean Square Error) cho hồi qui Logistic?\n",
    "\n",
    "A. Vì hàm Loss Function MSE có chi phí tính toán lớn.\n",
    "\n",
    "(B)Vì hàm Loss Function MSE không phải là một hàm lồi nên quá trình hội tụ tới nghiệm là global optimum khó khăn.\n",
    "\n",
    "C. Vì hàm Loss Function MSE không thể tính được đạo hàm bậc nhất.\n",
    "\n",
    "D. Vì hàm Loss Function MSE không thể đo được sai số giữa xác suất dự báo với nhãn 0, 1."
   ]
  },
  {
   "cell_type": "markdown",
   "metadata": {
    "id": "fAzkcPjnhWv2"
   },
   "source": [
    "7) Đạo hàm của hàm Sigmoid có giá trị như thế nào ?\n",
    "\n",
    "A. $\\sigma(x)' = \\tanh(x)(1-\\sigma(x))$\n",
    "\n",
    "(B). $\\sigma(x)' = \\sigma(x)(1-\\sigma(x))$\n",
    "\n",
    "C. $\\sigma(x)' = \\sigma(x)^2(1-\\sigma(x))$\n",
    "\n",
    "D. $\\sigma(x)' = \\sigma(x)(1-\\sigma(x))^2$"
   ]
  },
  {
   "cell_type": "markdown",
   "metadata": {
    "id": "F1RdfbbwjnSp"
   },
   "source": [
    "8) Phương pháp nào thường được sử dụng để tìm nghiệm cho hồi qui Logistic?\n",
    "\n",
    "(A). Sử dụng phương pháp _hạ dốc_ (_gradient descent_).\n",
    "\n",
    "B. Đạo hàm bậc nhất.\n",
    "\n",
    "C. Sử dụng công thức Newton để tìm nghiệm.\n",
    "\n",
    "D. Sử dụng khai triển Taylor."
   ]
  },
  {
   "cell_type": "markdown",
   "metadata": {
    "id": "BlyiewhomCXv"
   },
   "source": [
    "9) Hàm loss function Cross Entropy có dạng như thế nào ? Biết rằng trong công thức bên dưới thì $y_i$ là nhãn và $\\hat{y_i} = p(y=1|\\mathbf{x}_i; \\mathbf{w})$:\n",
    "\n",
    "A. $\\mathcal{L}(\\mathbf{w}) = \\sum_{i=1}^n [y_i\\log(\\hat{y_i}) + (1-y_i)\\log{(1-\\hat{y_i})}]$\n",
    "\n",
    "(B). $\\mathcal{L}(\\mathbf{w}) = -\\sum_{i=1}^n [y_i\\log(\\hat{y_i}) + (1-y_i)\\log{(1-\\hat{y_i})}]$\n",
    "\n",
    "C. $\\mathcal{L}(\\mathbf{w}) = \\sum_{i=1}^n y_i\\log(\\frac{y_i}{\\hat{y_i}})$\n",
    "\n",
    "D. $\\mathcal{L}(\\mathbf{w}) = \\sum_{i=1}^n -(1-\\hat{y_i})^{\\gamma}\\log(\\hat{y_i})$"
   ]
  },
  {
   "cell_type": "markdown",
   "metadata": {
    "id": "tKVDn_s9owz5"
   },
   "source": [
    "10) Phát biểu nào sau đây là đúng về hàm mất mát Cross Entropy?\n",
    "\n",
    "A. Đo lường khoảng cách giữa phân phối xác suất thực tế và phân phối xác suất dự báo.\n",
    "\n",
    "B. Đo lường độ chính xác của mô hình.\n",
    "\n",
    "C. Đo lường sai số của mô hình.\n",
    "\n",
    "(D). Đo lường mức độ giống nhau giữa phân phối xác suất thực tế và phân phối xác suất dự báo."
   ]
  },
  {
   "cell_type": "markdown",
   "metadata": {
    "id": "-qSljebopi1s"
   },
   "source": [
    "# II. Thực hành"
   ]
  },
  {
   "cell_type": "markdown",
   "metadata": {
    "id": "bYEbW95SpnGi"
   },
   "source": [
    "Từ bộ dữ liệu iris về thông tin kích thước của các loài hoa với:\n",
    "\n",
    "- X là dữ liệu đầu vào gồm 4 biến: `'sepal length (cm)',\n",
    "  'sepal width (cm)',\n",
    "  'petal length (cm)',\n",
    "  'petal width (cm)'`\n",
    "- y các nhãn tương ứng với: `{0: 'setosa', 1: 'versicolor', 2: 'virginica'}`"
   ]
  },
  {
   "cell_type": "code",
   "execution_count": null,
   "metadata": {
    "colab": {
     "base_uri": "https://localhost:8080/"
    },
    "id": "Ps2-4-AXp31N",
    "outputId": "14550855-0bf4-447f-b9ab-687f498d43c2"
   },
   "outputs": [
    {
     "name": "stdout",
     "output_type": "stream",
     "text": [
      "(150, 4) (150,)\n"
     ]
    }
   ],
   "source": [
    "from sklearn.datasets import load_iris\n",
    "data = load_iris()\n",
    "\n",
    "X = data['data']\n",
    "y = data['target']\n",
    "print(X.shape, y.shape)"
   ]
  },
  {
   "cell_type": "markdown",
   "metadata": {
    "id": "gg419ojerx43"
   },
   "source": [
    "1) Thực hiện phân chia tập train/test theo tỷ lệ 80:20."
   ]
  },
  {
   "cell_type": "code",
   "execution_count": null,
   "metadata": {
    "id": "ENTCrv-Or4ca"
   },
   "outputs": [],
   "source": [
    "from sklearn.model_selection import train_test_split\n",
    "X_train, X_test, y_train, y_test = train_test_split(X,y ,\n",
    "                                   random_state=104, \n",
    "                                   test_size=0.2, \n",
    "                                   shuffle=True)"
   ]
  },
  {
   "cell_type": "markdown",
   "metadata": {
    "id": "C-5sguyNpwgU"
   },
   "source": [
    "2) Hãy viết hàm Cross Entropy tính toán loss function với đầu vào là nhãn $y$ và dự báo xác suất $\\hat{y}$."
   ]
  },
  {
   "cell_type": "code",
   "execution_count": null,
   "metadata": {
    "id": "SxCvzGdhrAsr"
   },
   "outputs": [],
   "source": [
    "import numpy as np\n",
    "import matplotlib.pyplot as plt \n",
    "\n",
    "\n",
    "def sigmoid(z):\n",
    "    return 1/(1+np.exp(-z))\n",
    "\n",
    "def _cross_entropy(yhat, y):\n",
    "  return -(y*np.log(yhat)+(1-y)*np.log((1-yhat)))"
   ]
  },
  {
   "cell_type": "markdown",
   "metadata": {
    "id": "QtkbxrUSq9qQ"
   },
   "source": [
    "3) Hãy viết hàm tính toán giá trị gradient của hàm loss function theo $\\mathbf{w}$"
   ]
  },
  {
   "cell_type": "code",
   "execution_count": null,
   "metadata": {
    "id": "Ov9qyYL5rKT4"
   },
   "outputs": [],
   "source": []
  },
  {
   "cell_type": "markdown",
   "metadata": {
    "id": "mf9EqLDwrLOQ"
   },
   "source": [
    "4) Khởi tạo giá trị ban đầu của véc tơ trọng số $\\mathbf{w}$ và thực hiện huấn luyện mô hình trên tập train theo phương pháp cập nhật gradient descent với learning rate là $0.001$ với 200 vòng lặp."
   ]
  },
  {
   "cell_type": "code",
   "execution_count": null,
   "metadata": {
    "id": "AiUrPIFIrlWS"
   },
   "outputs": [],
   "source": []
  },
  {
   "cell_type": "markdown",
   "metadata": {
    "id": "j3wvtppxrkc0"
   },
   "source": [
    "5) Dự báo mô hình cho tập test."
   ]
  },
  {
   "cell_type": "code",
   "execution_count": null,
   "metadata": {
    "id": "UrKYQqVMr8_D"
   },
   "outputs": [],
   "source": []
  }
 ],
 "metadata": {
  "colab": {
   "provenance": [],
   "toc_visible": true
  },
  "kernelspec": {
   "display_name": "Python 3",
   "language": "python",
   "name": "python3"
  },
  "language_info": {
   "codemirror_mode": {
    "name": "ipython",
    "version": 3
   },
   "file_extension": ".py",
   "mimetype": "text/x-python",
   "name": "python",
   "nbconvert_exporter": "python",
   "pygments_lexer": "ipython3",
   "version": "3.8.10"
  },
  "latex_envs": {
   "LaTeX_envs_menu_present": true,
   "autoclose": false,
   "autocomplete": true,
   "bibliofile": "biblio.bib",
   "cite_by": "apalike",
   "current_citInitial": 1,
   "eqLabelWithNumbers": true,
   "eqNumInitial": 1,
   "hotkeys": {
    "equation": "Ctrl-E",
    "itemize": "Ctrl-I"
   },
   "labels_anchors": false,
   "latex_user_defs": false,
   "report_style_numbering": false,
   "user_envs_cfg": false
  },
  "vscode": {
   "interpreter": {
    "hash": "916dbcbb3f70747c44a77c7bcd40155683ae19c65e1c03b4aa3499c5328201f1"
   }
  }
 },
 "nbformat": 4,
 "nbformat_minor": 1
}
