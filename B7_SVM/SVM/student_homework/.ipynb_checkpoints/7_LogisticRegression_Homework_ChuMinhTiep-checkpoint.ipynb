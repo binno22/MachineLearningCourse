{
 "cells": [
  {
   "cell_type": "markdown",
   "metadata": {
    "id": "_NWsO-83PoU9"
   },
   "source": [
    "# I. Lý thuyết"
   ]
  },
  {
   "cell_type": "markdown",
   "metadata": {
    "id": "5SBg7TzVPrFY"
   },
   "source": [
    "1) Xác suất dự báo của mô hình hồi qui Logistic được xây dựng dựa trên hàm Sigmoid có công thức như thế nào ?\n",
    "\n",
    "A. $\\sigma(x) = \\frac{1}{1+e^{-x}}$\n",
    "\n",
    "B. $\\sigma(x) = \\frac{e^{x}}{1+e^{x}}$\n",
    "\n",
    "C. $\\sigma(x) = \\frac{e^x - e^{-x}}{e^x + e^{-x}}$\n",
    "\n",
    "D. Cả A và B"
   ]
  },
  {
   "cell_type": "markdown",
   "metadata": {
    "id": "_KZRklqrCXRo"
   },
   "source": [
    "1-D"
   ]
  },
  {
   "cell_type": "markdown",
   "metadata": {
    "id": "ktUs4NoqQWju"
   },
   "source": [
    "2) Phát biểu nào sau đây là chính xác về hàm Sigmoid\n",
    "\n",
    "A. Hàm Sigmoid là hàm số đồng biến.\n",
    "\n",
    "B. Hàm Sigmoid là hàm lồi.\n",
    "\n",
    "C. Hàm Sigmoid có giá trị nằm trong khoảng (0, 1).\n",
    "\n",
    "D. Cả ba đáp án trên."
   ]
  },
  {
   "cell_type": "markdown",
   "metadata": {
    "id": "YmJzY12KDZ9-"
   },
   "source": [
    "2-C (**Sai**)"
   ]
  },
  {
   "cell_type": "markdown",
   "metadata": {
    "id": "eonzh0WrDZ8s"
   },
   "source": []
  },
  {
   "cell_type": "markdown",
   "metadata": {
    "id": "PNueGbpqRL3F"
   },
   "source": [
    "3) Lý do Linear Regression thường không được sử dụng trong bài toán phân loại là gì ?\n",
    "\n",
    "A. Vì các giá trị dự báo có thể nằm ngoài khoảng (0, 1).\n",
    "\n",
    "B. Hồi qui Linear Regression không có đường biên phân chia.\n",
    "\n",
    "C. Mô hình dễ nhạy cảm với outliers khiến các dự báo bị sai.\n",
    "\n",
    "D. Đáp án A và C"
   ]
  },
  {
   "cell_type": "markdown",
   "metadata": {
    "id": "OdP5akUADbPH"
   },
   "source": [
    "3-D"
   ]
  },
  {
   "cell_type": "markdown",
   "metadata": {
    "id": "qf8IYbE6c-3Q"
   },
   "source": [
    "4) Nếu chọn ngưỡng xác suất là 0.5 để quyết định nhãn dự báo thì đường biên phân chia của hồi qui Logistic là gì ?\n",
    "\n",
    "A. Một đường thẳng có phương trình $y=ax+b$\n",
    "\n",
    "B. Một siêu phẳng có phương trình $\\mathbf{w}^{\\intercal}\\mathbf{x} = 0$\n",
    "\n",
    "C. Một hình cầu. \n",
    "\n",
    "D. Một đường biên có quĩ đạo ellipse."
   ]
  },
  {
   "cell_type": "markdown",
   "metadata": {
    "id": "E8CQ2b4mEyBK"
   },
   "source": [
    "4-B"
   ]
  },
  {
   "cell_type": "markdown",
   "metadata": {
    "id": "JKw5fHsHezA5"
   },
   "source": [
    "5) Trong hồi qui Logistic tỷ lệ Odd Ratio được xác định như sau:\n",
    "\n",
    "$$\\text{Odd Ratio} = \\frac{P(y=1|\\mathbf{x}; \\mathbf{w})}{P(y=0|\\mathbf{x}; \\mathbf{w})} = \\frac{P(y=1|\\mathbf{x}, \\mathbf{w})}{1-P(y=1|\\mathbf{x}, \\mathbf{w})} = e^{\\mathbf{w}^{\\intercal}\\mathbf{x}}$$\n",
    "\n",
    "Tỷ lệ này có ý nghĩa như thế nào?\n",
    "\n",
    "A. Odd ratio là 1 chỉ số đo lường tỷ lệ xác suất giữa trường hợp _tích cực_ và _tiêu cực_ được dự báo từ mô hình hồi quy logistic.\n",
    "\n",
    "B. Căn cứ vào Odd Ratio, ta nhận biết được xác suất _tích cực_ hay _tiêu cực_ lớn hơn. \n",
    "\n",
    "C. Odd ratio càng lớn thì khả năng dự đoán có nhãn tích cực (positive) càng cao. Ngược lại, Odd ratio càng nhỏ thì khả năng dự đoán có nhãn tiêu cực (negative) càng cao.\n",
    "\n",
    "D. Cả ba đáp án trên."
   ]
  },
  {
   "cell_type": "markdown",
   "metadata": {
    "id": "jHB7zutTPjVj"
   },
   "source": [
    "5-D"
   ]
  },
  {
   "cell_type": "markdown",
   "metadata": {
    "id": "1jx0Qu6ehir7"
   },
   "source": [
    "6) Tại sao chúng ta không sử dụng hàm loss function là MSE (Mean Square Error) cho hồi qui Logistic?\n",
    "\n",
    "A. Vì hàm Loss Function MSE có chi phí tính toán lớn.\n",
    "\n",
    "B. Vì hàm Loss Function MSE không phải là một hàm lồi nên quá trình hội tụ tới nghiệm là global optimum khó khăn.\n",
    "\n",
    "C. Vì hàm Loss Function MSE không thể tính được đạo hàm bậc nhất.\n",
    "\n",
    "D. Vì hàm Loss Function MSE không thể đo được sai số giữa xác suất dự báo với nhãn 0, 1."
   ]
  },
  {
   "cell_type": "markdown",
   "metadata": {
    "id": "rkpX0diXR4cU"
   },
   "source": [
    "6-B"
   ]
  },
  {
   "cell_type": "markdown",
   "metadata": {
    "id": "fAzkcPjnhWv2"
   },
   "source": [
    "7) Đạo hàm của hàm Sigmoid có giá trị như thế nào ?\n",
    "\n",
    "A. $\\sigma(x)' = \\tanh(x)(1-\\sigma(x))$\n",
    "\n",
    "B. $\\sigma(x)' = \\sigma(x)(1-\\sigma(x))$\n",
    "\n",
    "C. $\\sigma(x)' = \\sigma(x)^2(1-\\sigma(x))$\n",
    "\n",
    "D. $\\sigma(x)' = \\sigma(x)(1-\\sigma(x))^2$"
   ]
  },
  {
   "cell_type": "markdown",
   "metadata": {
    "id": "dM5JOWY5EyWf"
   },
   "source": [
    "7-B"
   ]
  },
  {
   "cell_type": "markdown",
   "metadata": {
    "id": "F1RdfbbwjnSp"
   },
   "source": [
    "8) Phương pháp nào thường được sử dụng để tìm nghiệm cho hồi qui Logistic?\n",
    "\n",
    "A. Sử dụng phương pháp _hạ dốc_ (_gradient descent_).\n",
    "\n",
    "B. Đạo hàm bậc nhất.\n",
    "\n",
    "C. Sử dụng công thức Newton để tìm nghiệm.\n",
    "\n",
    "D. Sử dụng khai triển Taylor."
   ]
  },
  {
   "cell_type": "markdown",
   "metadata": {
    "id": "ROV0cTAc7n64"
   },
   "source": [
    "8-A"
   ]
  },
  {
   "cell_type": "markdown",
   "metadata": {
    "id": "AKczP8HP7n5i"
   },
   "source": []
  },
  {
   "cell_type": "markdown",
   "metadata": {
    "id": "BlyiewhomCXv"
   },
   "source": [
    "9) Hàm loss function Cross Entropy có dạng như thế nào ? Biết rằng trong công thức bên dưới thì $y_i$ là nhãn và $\\hat{y_i} = p(y=1|\\mathbf{x}_i; \\mathbf{w})$:\n",
    "\n",
    "A. $\\mathcal{L}(\\mathbf{w}) = \\sum_{i=1}^n [y_i\\log(\\hat{y_i}) + (1-y_i)\\log{(1-\\hat{y_i})}]$\n",
    "\n",
    "B. $\\mathcal{L}(\\mathbf{w}) = -\\sum_{i=1}^n [y_i\\log(\\hat{y_i}) + (1-y_i)\\log{(1-\\hat{y_i})}]$\n",
    "\n",
    "C. $\\mathcal{L}(\\mathbf{w}) = \\sum_{i=1}^n y_i\\log(\\frac{y_i}{\\hat{y_i}})$\n",
    "\n",
    "D. $\\mathcal{L}(\\mathbf{w}) = \\sum_{i=1}^n -(1-\\hat{y_i})^{\\gamma}\\log(\\hat{y_i})$"
   ]
  },
  {
   "cell_type": "markdown",
   "metadata": {
    "id": "s_W78v51C2gZ"
   },
   "source": [
    "9-B"
   ]
  },
  {
   "cell_type": "markdown",
   "metadata": {
    "id": "tKVDn_s9owz5"
   },
   "source": [
    "10) Phát biểu nào sau đây là đúng về hàm mất mát Cross Entropy?\n",
    "\n",
    "A. Đo lường khoảng cách giữa phân phối xác suất thực tế và phân phối xác suất dự báo.\n",
    "\n",
    "B. Đo lường độ chính xác của mô hình.\n",
    "\n",
    "C. Đo lường sai số của mô hình.\n",
    "\n",
    "D. Đo lường mức độ giống nhau giữa phân phối xác suất thực tế và phân phối xác suất dự báo."
   ]
  },
  {
   "cell_type": "markdown",
   "metadata": {
    "id": "Ism2PK03Dy8Y"
   },
   "source": [
    "10 - D"
   ]
  },
  {
   "cell_type": "markdown",
   "metadata": {
    "id": "-qSljebopi1s"
   },
   "source": [
    "# II. Thực hành"
   ]
  },
  {
   "cell_type": "markdown",
   "metadata": {
    "id": "bYEbW95SpnGi"
   },
   "source": [
    "Từ bộ dữ liệu iris về thông tin kích thước của các loài hoa với:\n",
    "\n",
    "- X là dữ liệu đầu vào gồm 4 biến: `'sepal length (cm)',\n",
    "  'sepal width (cm)',\n",
    "  'petal length (cm)',\n",
    "  'petal width (cm)'`\n",
    "- y các nhãn tương ứng với: `{0: 'setosa', 1: 'versicolor', 2: 'virginica'}`"
   ]
  },
  {
   "cell_type": "code",
   "execution_count": null,
   "metadata": {
    "colab": {
     "base_uri": "https://localhost:8080/"
    },
    "id": "Ps2-4-AXp31N",
    "outputId": "5b362c13-c1a4-42ff-9af4-c1044065c496"
   },
   "outputs": [
    {
     "name": "stdout",
     "output_type": "stream",
     "text": [
      "(150, 4) (150,)\n"
     ]
    }
   ],
   "source": [
    "from sklearn.datasets import load_iris\n",
    "data = load_iris()\n",
    "\n",
    "X = data['data']\n",
    "y = data['target']\n",
    "print(X.shape, y.shape)"
   ]
  },
  {
   "cell_type": "code",
   "execution_count": null,
   "metadata": {
    "id": "1CeHjCqACBcE"
   },
   "outputs": [],
   "source": [
    "import numpy as np\n",
    "import matplotlib.pyplot as plt\n",
    "import pandas as pd"
   ]
  },
  {
   "cell_type": "markdown",
   "metadata": {
    "id": "gg419ojerx43"
   },
   "source": [
    "1) Thực hiện phân chia tập train/test theo tỷ lệ 80:20."
   ]
  },
  {
   "cell_type": "code",
   "execution_count": null,
   "metadata": {
    "id": "ENTCrv-Or4ca"
   },
   "outputs": [],
   "source": [
    "from sklearn.model_selection import train_test_split\n",
    "X_train, X_test, y_train, y_test = train_test_split(X, y, test_size = 0.2, random_state = 0)"
   ]
  },
  {
   "cell_type": "markdown",
   "metadata": {
    "id": "C-5sguyNpwgU"
   },
   "source": [
    "2) Hãy viết hàm Cross Entropy tính toán loss function với đầu vào là nhãn $y$ và dự báo xác suất $\\hat{y}$."
   ]
  },
  {
   "cell_type": "code",
   "execution_count": null,
   "metadata": {
    "id": "SxCvzGdhrAsr"
   },
   "outputs": [],
   "source": [
    "def sigmoid(z):\n",
    "    return 1.0 / (1.0 + np.exp(-z))\n",
    "\n",
    "# SAI \n",
    "def cross_entropy_loss(yHat, y):\n",
    "    if y == 1:\n",
    "      return -np.log(yHat)\n",
    "    else:\n",
    "      return -np.log(1 - yHat)"
   ]
  },
  {
   "cell_type": "markdown",
   "metadata": {
    "id": "QtkbxrUSq9qQ"
   },
   "source": [
    "3) Hãy viết hàm tính toán giá trị gradient của hàm loss function theo $\\mathbf{w}$"
   ]
  },
  {
   "cell_type": "code",
   "execution_count": null,
   "metadata": {
    "id": "P8PHfUZ-nvx-"
   },
   "outputs": [],
   "source": [
    "import math\n",
    "import random\n",
    "from sklearn import datasets\n",
    "from sklearn.metrics import accuracy_score\n"
   ]
  },
  {
   "cell_type": "code",
   "execution_count": null,
   "metadata": {
    "id": "Ov9qyYL5rKT4"
   },
   "outputs": [],
   "source": [
    "def sgd(dataset, w):\n",
    "    index = random.randint(0, len(dataset) - 1)\n",
    "    x, y = dataset[index]\n",
    "    x = np.array(x)\n",
    "    error = sigmoid(w.T.dot(x))\n",
    "    g = (error - y) * x\n",
    "    return g"
   ]
  },
  {
   "cell_type": "markdown",
   "metadata": {
    "id": "mf9EqLDwrLOQ"
   },
   "source": [
    "4) Khởi tạo giá trị ban đầu của véc tơ trọng số $\\mathbf{w}$ và thực hiện huấn luyện mô hình trên tập train theo phương pháp cập nhật gradient descent với learning rate là $0.001$ với 200 vòng lặp."
   ]
  },
  {
   "cell_type": "code",
   "execution_count": null,
   "metadata": {
    "id": "zy3iGke6ove1"
   },
   "outputs": [],
   "source": [
    "def cost(dataset, w):\n",
    "    total_cost = 0\n",
    "    for x,y in dataset:\n",
    "        x = np.array(x)\n",
    "        error = sigmoid(w.T.dot(x))\n",
    "        total_cost += abs(y - error)\n",
    "    return total_cost\n"
   ]
  },
  {
   "cell_type": "code",
   "execution_count": null,
   "metadata": {
    "colab": {
     "base_uri": "https://localhost:8080/"
    },
    "id": "c66EVdmIoH2a",
    "outputId": "2e7e40c2-27a4-423d-a622-07f0ebf54dd2"
   },
   "outputs": [
    {
     "name": "stderr",
     "output_type": "stream",
     "text": [
      "<ipython-input-12-375ec1e49a9b>:13: VisibleDeprecationWarning: Creating an ndarray from ragged nested sequences (which is a list-or-tuple of lists-or-tuples-or ndarrays with different lengths or shapes) is deprecated. If you meant to do this, you must specify 'dtype=object' when creating the ndarray.\n",
      "  dataset = np.array(dataset)\n"
     ]
    }
   ],
   "source": [
    "dataset = []\n",
    "\n",
    "target_label = 0\n",
    "for index, x in enumerate(X):\n",
    "    transform_label = None\n",
    "    if y[index] == target_label:\n",
    "        transform_label = 1\n",
    "    else:\n",
    "        transform_label = 0 \n",
    "    x = [x[0], x[2]]\n",
    "    dataset.append((x,transform_label))\n",
    "    \n",
    "dataset = np.array(dataset)"
   ]
  },
  {
   "cell_type": "code",
   "execution_count": null,
   "metadata": {
    "id": "AiUrPIFIrlWS"
   },
   "outputs": [],
   "source": [
    "def logistic_regression(dataset):\n",
    "    w = np.zeros(2)\n",
    "    limit = 200\n",
    "    eta = 0.001\n",
    "    costs = []\n",
    "    for i in range(limit):\n",
    "        current_cost = cost(dataset, w)\n",
    "        if i % 100 == 0:\n",
    "            print (\"epoch = \" + str(i/100 + 1) + \": current_cost = \", current_cost)\n",
    "        costs.append(current_cost)\n",
    "        w = w - eta * sgd(dataset, w)\n",
    "        eta = eta * 0.98 \n",
    "    plt.plot(range(limit), costs)\n",
    "    plt.show()\n",
    "    return w,(limit, costs)"
   ]
  },
  {
   "cell_type": "markdown",
   "metadata": {
    "id": "j3wvtppxrkc0"
   },
   "source": [
    "5) Dự báo mô hình cho tập test."
   ]
  },
  {
   "cell_type": "code",
   "execution_count": null,
   "metadata": {
    "id": "UrKYQqVMr8_D"
   },
   "outputs": [],
   "source": [
    "def main():\n",
    "    #execute\n",
    "    w = logistic_regression(dataset)\n",
    "    #draw \n",
    "    ps = [v[0] for v in dataset]\n",
    "    label = [v[1] for v in dataset]\n",
    "    fig = plt.figure()\n",
    "    ax1 = fig.add_subplot(111)\n",
    "    #plot via label\n",
    "    tpx=[]\n",
    "    for index, label_value in enumerate(label):\n",
    "        px=ps[index][0]\n",
    "        py=ps[index][1]\n",
    "        tpx.append(px)\n",
    "        if label_value == 1:\n",
    "            ax1.scatter(px, py, c='b', marker=\"o\", label='O')\n",
    "        else:\n",
    "            ax1.scatter(px, py, c='r', marker=\"x\", label='X')\n",
    "\n",
    "    l = np.linspace(min(tpx),max(tpx))\n",
    "    a,b = (-w[0][0]/w[0][1], w[0][0])\n",
    "    ax1.plot(l, a*l + b, 'g-')\n",
    "    #plt.legend(loc='upper left');\n",
    "    plt.show()\n",
    "\n",
    "    limit = w[1][0]\n",
    "    costs = w[1][1]\n",
    "    w = w[0]\n",
    "\n",
    "    # calculate score\n",
    "    predicted_Y=[]\n",
    "    answer_Y=[]\n",
    "    for X,Y in dataset:\n",
    "        answer_Y.append(Y)\n",
    "        predicted_Y.append(sigmoid(w.T.dot(X)))\n",
    "    predicted_Y = np.asarray(predicted_Y)\n",
    "    predicted_Y = predicted_Y > 0.5\n",
    "    print(answer_Y)\n",
    "    print(predicted_Y)\n",
    "    print (\"Accuracy: \",str(accuracy_score(answer_Y, predicted_Y)*100)[:5],\"%\")\n"
   ]
  },
  {
   "cell_type": "code",
   "execution_count": null,
   "metadata": {
    "colab": {
     "base_uri": "https://localhost:8080/",
     "height": 828
    },
    "id": "PU2874vgpOkQ",
    "outputId": "4d0c7708-bd75-4285-e891-be7fbe6d1aa2"
   },
   "outputs": [
    {
     "name": "stdout",
     "output_type": "stream",
     "text": [
      "epoch = 1.0: current_cost =  75.0\n",
      "epoch = 2.0: current_cost =  65.83157953909773\n"
     ]
    },
    {
     "data": {
      "image/png": "[encoded data removed]",
      "text/plain": [
       "<Figure size 432x288 with 1 Axes>"
      ]
     },
     "metadata": {
      "needs_background": "light"
     },
     "output_type": "display_data"
    },
    {
     "data": {
      "image/png": "[encoded data removed]",
      "text/plain": [
       "<Figure size 432x288 with 1 Axes>"
      ]
     },
     "metadata": {
      "needs_background": "light"
     },
     "output_type": "display_data"
    },
    {
     "name": "stdout",
     "output_type": "stream",
     "text": [
      "[1, 1, 1, 1, 1, 1, 1, 1, 1, 1, 1, 1, 1, 1, 1, 1, 1, 1, 1, 1, 1, 1, 1, 1, 1, 1, 1, 1, 1, 1, 1, 1, 1, 1, 1, 1, 1, 1, 1, 1, 1, 1, 1, 1, 1, 1, 1, 1, 1, 1, 0, 0, 0, 0, 0, 0, 0, 0, 0, 0, 0, 0, 0, 0, 0, 0, 0, 0, 0, 0, 0, 0, 0, 0, 0, 0, 0, 0, 0, 0, 0, 0, 0, 0, 0, 0, 0, 0, 0, 0, 0, 0, 0, 0, 0, 0, 0, 0, 0, 0, 0, 0, 0, 0, 0, 0, 0, 0, 0, 0, 0, 0, 0, 0, 0, 0, 0, 0, 0, 0, 0, 0, 0, 0, 0, 0, 0, 0, 0, 0, 0, 0, 0, 0, 0, 0, 0, 0, 0, 0, 0, 0, 0, 0, 0, 0, 0, 0, 0, 0]\n",
      "[False False False False False False False False False False False False\n",
      " False False False False False False False False False False False False\n",
      " False False False False False False False False False False False False\n",
      " False False False False False False False False False False False False\n",
      " False False False False False False False False False False False False\n",
      " False False False False False False False False False False False False\n",
      " False False False False False False False False False False False False\n",
      " False False False False False False False False False False False False\n",
      " False False False False False False False False False False False False\n",
      " False False False False False False False False False False False False\n",
      " False False False False False False False False False False False False\n",
      " False False False False False False False False False False False False\n",
      " False False False False False False]\n",
      "Accuracy:  66.66 %\n"
     ]
    }
   ],
   "source": [
    "if __name__ == '__main__':\n",
    "    main()"
   ]
  },
  {
   "cell_type": "markdown",
   "metadata": {
    "id": "2ioJOUmfpoFv"
   },
   "source": [
    "Huấn Luyện mô hình với Logistic Regression có sẵn trong sklearn"
   ]
  },
  {
   "cell_type": "code",
   "execution_count": null,
   "metadata": {
    "id": "5pHEdAAQqZcq"
   },
   "outputs": [],
   "source": [
    "from sklearn.linear_model import LogisticRegression\n",
    "model = LogisticRegression()"
   ]
  },
  {
   "cell_type": "code",
   "execution_count": null,
   "metadata": {
    "colab": {
     "base_uri": "https://localhost:8080/"
    },
    "id": "SSdhK8CcqQYp",
    "outputId": "07f017f1-db12-4c53-df49-b1ecbccf4c42"
   },
   "outputs": [
    {
     "name": "stderr",
     "output_type": "stream",
     "text": [
      "/usr/local/lib/python3.8/dist-packages/sklearn/linear_model/_logistic.py:814: ConvergenceWarning: lbfgs failed to converge (status=1):\n",
      "STOP: TOTAL NO. of ITERATIONS REACHED LIMIT.\n",
      "\n",
      "Increase the number of iterations (max_iter) or scale the data as shown in:\n",
      "    https://scikit-learn.org/stable/modules/preprocessing.html\n",
      "Please also refer to the documentation for alternative solver options:\n",
      "    https://scikit-learn.org/stable/modules/linear_model.html#logistic-regression\n",
      "  n_iter_i = _check_optimize_result(\n"
     ]
    },
    {
     "data": {
      "text/plain": [
       "LogisticRegression()"
      ]
     },
     "execution_count": 23,
     "metadata": {},
     "output_type": "execute_result"
    }
   ],
   "source": [
    "model.fit(X_train, y_train)"
   ]
  },
  {
   "cell_type": "code",
   "execution_count": null,
   "metadata": {
    "colab": {
     "base_uri": "https://localhost:8080/"
    },
    "id": "FU8idp3MqdUR",
    "outputId": "113afa5c-7cde-47f8-9e92-55bb897d9980"
   },
   "outputs": [
    {
     "name": "stdout",
     "output_type": "stream",
     "text": [
      "Accuracy:  100.0\n"
     ]
    }
   ],
   "source": [
    "print(\"Accuracy: \", model.score(X_test, y_test) * 100)\n"
   ]
  }
 ],
 "metadata": {
  "colab": {
   "provenance": []
  },
  "kernelspec": {
   "display_name": "Python 3",
   "language": "python",
   "name": "python3"
  },
  "language_info": {
   "codemirror_mode": {
    "name": "ipython",
    "version": 3
   },
   "file_extension": ".py",
   "mimetype": "text/x-python",
   "name": "python",
   "nbconvert_exporter": "python",
   "pygments_lexer": "ipython3",
   "version": "3.8.10"
  },
  "latex_envs": {
   "LaTeX_envs_menu_present": true,
   "autoclose": false,
   "autocomplete": true,
   "bibliofile": "biblio.bib",
   "cite_by": "apalike",
   "current_citInitial": 1,
   "eqLabelWithNumbers": true,
   "eqNumInitial": 1,
   "hotkeys": {
    "equation": "Ctrl-E",
    "itemize": "Ctrl-I"
   },
   "labels_anchors": false,
   "latex_user_defs": false,
   "report_style_numbering": false,
   "user_envs_cfg": false
  }
 },
 "nbformat": 4,
 "nbformat_minor": 1
}
