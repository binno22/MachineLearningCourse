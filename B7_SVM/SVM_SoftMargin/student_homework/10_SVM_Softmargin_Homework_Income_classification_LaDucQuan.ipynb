{
  "cells": [
    {
      "cell_type": "markdown",
      "metadata": {
        "id": "KFUypJ-c-cED"
      },
      "source": [
        "# I. Lý thuyết (5 điểm)"
      ]
    },
    {
      "cell_type": "markdown",
      "metadata": {
        "id": "hkDGhWEj-lGA"
      },
      "source": [
        "1) Điểm khác biệt chính giữa mô hình `SVM hard margin` và `SVM soft margin` là gì ?\n",
        "\n",
        "A. SVM hard margin không chấp nhận các điểm dữ liệu nằm trong vùng margin. SVM soft margin chấp nhận một số điểm được phép nằm trong vùng margin.\n",
        "\n",
        "B. SVM soft margin không chấp nhận các điểm dữ liệu nằm trong vùng margin. SVM hard margin chấp nhận một số điểm được phép nằm trong vùng margin.\n",
        "\n",
        "C. SVM hard margin có độ rộng đường biên rộng hơn SVM soft margin \n",
        "\n",
        "D. SVM soft margin có độ rộng đường biên rộng hơn SVM hard margin"
      ]
    },
    {
      "cell_type": "markdown",
      "metadata": {
        "id": "wCEly_cuqhaO"
      },
      "source": [
        "Chọn đáp án A"
      ]
    },
    {
      "cell_type": "markdown",
      "metadata": {
        "id": "U8qf_ZwU_W6i"
      },
      "source": [
        "2) Trong thuật toán `SVM soft margin` thì khoảng cách mà một điểm được phép lấn chiếm vào trong vùng margin bằng bao nhiêu?\n",
        "\n",
        "A. $\\xi_i = |b+\\mathbf{w}^{\\intercal}\\mathbf{x}_i-y_i|$\n",
        "\n",
        "B. $\\xi_i = b+\\mathbf{w}^{\\intercal}\\mathbf{x}_i-y_i$\n",
        "\n",
        "C. $\\xi_i = y_i(b+\\mathbf{w}^{\\intercal}\\mathbf{x}_i)-1$\n",
        "\n",
        "D. $\\xi_i = 1-y_i(b+\\mathbf{w}^{\\intercal}\\mathbf{x}_i)$"
      ]
    },
    {
      "cell_type": "markdown",
      "metadata": {
        "id": "V78AYio-sq-p"
      },
      "source": [
        "Chọn đáp án A"
      ]
    },
    {
      "cell_type": "markdown",
      "metadata": {
        "id": "ofrfo1mjCtVK"
      },
      "source": [
        "3) Hàm mất mát của `SVM soft margin` có đặc điểm như thế nào ?\n",
        "\n",
        "A. Là hàm mất mát nhằm tối ưu độ rộng đường biên.\n",
        "\n",
        "B. Là hàm mất mát nhằm tối ưu mức độ lấn chiếm của các điểm dữ liệu vào vùng margin.\n",
        "\n",
        "C. Là hàm mất mát nhằm tối ưu hai thành phần: Độ rộng đường biên và mức độ lấn chiếm của các điểm dữ liệu vào vùng margin.\n",
        "\n",
        "D. Cả ba phương án trên."
      ]
    },
    {
      "cell_type": "markdown",
      "metadata": {
        "id": "NetJw147s0U7"
      },
      "source": [
        "Chọn đáp án C"
      ]
    },
    {
      "cell_type": "markdown",
      "metadata": {
        "id": "S7ac7BsWChTi"
      },
      "source": [
        "4) Ý nghĩa của hàm feature mapping trong SVM là gì ?\n",
        "\n",
        "A. Là hàm biến đổi dữ liệu đầu vào $\\mathbf{x}$ sang không gian features mới thông qua một hàm $f(\\mathbf{x})$. Trong đó $f()$ có thể là `tractable` hoặc `intractable` form.\n",
        "\n",
        "B. Là hàm biến đổi dữ liệu đầu vào $\\mathbf{x}$ sang không gian features có số chiều nhỏ hơn.\n",
        "\n",
        "C. Là hàm biến đổi dữ liệu đầu vào $\\mathbf{x}$ sang không gian features có số chiều là vô hạn.\n",
        "\n",
        "D. Là hàm biến đổi dữ liệu đầu vào $\\mathbf{x}$ sang không gian features thông qua một hàm $f(\\mathbf{x})$ dạng đa thức."
      ]
    },
    {
      "cell_type": "markdown",
      "metadata": {
        "id": "xYkS0JPi_xgK"
      },
      "source": [
        "Chọn đáp án D"
      ]
    },
    {
      "cell_type": "markdown",
      "metadata": {
        "id": "hFd6HxLQD6St"
      },
      "source": [
        "5) Ý nghĩa của hàm kernel function trong SVM là gì ?\n",
        "\n",
        "A. Là hàm mapping từ không gian véc tơ sang không gian hàm số.\n",
        "\n",
        "B. Là hàm mapping từ không gian véc tơ sang không gian số thực.\n",
        "\n",
        "C. Là hàm mapping từ không gian véc tơ sang không gian số phức.\n",
        "\n",
        "D. Là hàm mapping từ không gian của hai véc tơ sang không gian tích vô hướng giữa hai véc tơ (còn được gọi là không gian Hilbert)."
      ]
    },
    {
      "cell_type": "markdown",
      "metadata": {
        "id": "yZGVKHYXAvhx"
      },
      "source": [
        "Chọn đáp án D"
      ]
    },
    {
      "cell_type": "markdown",
      "metadata": {
        "id": "okMeR3KfDS62"
      },
      "source": [
        "6) Tại sao chúng ta có thể xác định được nhãn của một điểm ngay cả khi không thể xác định được phương trình của hàm feature mapping.\n",
        "\n",
        "A. Vì nhãn của một điểm dữ liệu có thể được xác định thông qua hàm loss function.\n",
        "\n",
        "B. Vì nhãn của một điểm dữ liệu có thể được xác định thông qua hàm kernel function giữa điểm đó với các điểm thuộc tập support vectors.\n",
        "\n",
        "C. Vì nhãn của một điểm dữ liệu có thể được xác định thông qua phương trình đường biên.\n",
        "\n",
        "D. Cả ba đáp án trên."
      ]
    },
    {
      "cell_type": "markdown",
      "metadata": {
        "id": "gM4ayOCoA7va"
      },
      "source": [
        "Chọn đáp án B"
      ]
    },
    {
      "cell_type": "markdown",
      "metadata": {
        "id": "bL3GSNvTD-5a"
      },
      "source": [
        "7) Hàm kernel function dạng `linear` function có dạng như thế nào ?\n",
        "\n",
        "A. $K(\\mathbf{x}_1, \\mathbf{x}_2) = \\text{tanh}(\\gamma \\mathbf{x}_1^{\\intercal}\\mathbf{x}_2+r)$\n",
        "\n",
        "B. $K(\\mathbf{x}_1, \\mathbf{x}_2) = \\mathbf{x}_1^{\\intercal}\\mathbf{x}_2$\n",
        "\n",
        "C. $K(\\mathbf{x}_1, \\mathbf{x}_2) = \\exp({-\\gamma||\\mathbf{x}_1}-\\mathbf{x}_2||_2^2)$\n",
        "\n",
        "D. $K(\\mathbf{x}_1, \\mathbf{x}_2) = (\\gamma \\mathbf{x}_1^{\\intercal}\\mathbf{x}_2+r)^d$\n"
      ]
    },
    {
      "cell_type": "markdown",
      "metadata": {
        "id": "X0rVbSSyA5m8"
      },
      "source": [
        "Chọn đáp án B"
      ]
    },
    {
      "cell_type": "markdown",
      "metadata": {
        "id": "FRqijemVEWCG"
      },
      "source": [
        "8) Hàm kernel function dạng `poly` function có dạng như thế nào ?\n",
        "\n",
        "A. $K(\\mathbf{x}_1, \\mathbf{x}_2) = \\text{tanh}(\\gamma \\mathbf{x}_1^{\\intercal}\\mathbf{x}_2+r)$\n",
        "\n",
        "B. $K(\\mathbf{x}_1, \\mathbf{x}_2) = \\mathbf{x}_1^{\\intercal}\\mathbf{x}_2$\n",
        "\n",
        "C. $K(\\mathbf{x}_1, \\mathbf{x}_2) = \\exp({-\\gamma||\\mathbf{x}_1}-\\mathbf{x}_2||_2^2)$\n",
        "\n",
        "D. $K(\\mathbf{x}_1, \\mathbf{x}_2) = (\\gamma \\mathbf{x}_1^{\\intercal}\\mathbf{x}_2+r)^d$\n",
        "\n"
      ]
    },
    {
      "cell_type": "markdown",
      "metadata": {
        "id": "GXPkBRULBFLh"
      },
      "source": [
        "Chọn đáp án D"
      ]
    },
    {
      "cell_type": "markdown",
      "metadata": {
        "id": "NJrtylrhEqzj"
      },
      "source": [
        "9) Hàm kernel function dạng `Gaussian rbf` function có dạng như thế nào ?\n",
        "\n",
        "A. $K(\\mathbf{x}_1, \\mathbf{x}_2) = \\text{tanh}(\\gamma \\mathbf{x}_1^{\\intercal}\\mathbf{x}_2+r)$\n",
        "\n",
        "B. $K(\\mathbf{x}_1, \\mathbf{x}_2) = \\mathbf{x}_1^{\\intercal}\\mathbf{x}_2$\n",
        "\n",
        "C. $K(\\mathbf{x}_1, \\mathbf{x}_2) = \\exp({-\\gamma||\\mathbf{x}_1}-\\mathbf{x}_2||_2^2)$\n",
        "\n",
        "D. $K(\\mathbf{x}_1, \\mathbf{x}_2) = (\\gamma \\mathbf{x}_1^{\\intercal}\\mathbf{x}_2+r)^d$\n",
        "\n"
      ]
    },
    {
      "cell_type": "markdown",
      "metadata": {
        "id": "VB1BKzcmBG-u"
      },
      "source": [
        "Chọn đáp án C"
      ]
    },
    {
      "cell_type": "markdown",
      "metadata": {
        "id": "LXIKISsLFTHm"
      },
      "source": [
        "10) Hàm kernel function nào sẽ tương ứng với hàm feature mapping là một đa thức có bậc là vô hạn ?\n",
        "\n",
        "A. Gaussian RBF\n",
        "\n",
        "B. Poly function\n",
        "\n",
        "C. Linear function\n",
        "\n",
        "D. Sigmoid function\n"
      ]
    },
    {
      "cell_type": "markdown",
      "metadata": {
        "id": "Vg85y1qXBTN6"
      },
      "source": [
        "Chọn đáp án D"
      ]
    },
    {
      "cell_type": "markdown",
      "metadata": {
        "id": "3x3IsOdF-gwN"
      },
      "source": [
        "# II. Thực hành (5 điểm)\n",
        "\n",
        "Từ bộ dữ liệu [income_classification](https://drive.google.com/drive/folders/13STuE4IF_gukgw57El-jfjIKg8uM6L7O?usp=sharing) hãy thực hiện huấn luyện và grid search mô hình trên tập train và đánh giá mô hình trên tập validation dựa trên thuật toán SVM. Biết rằng thông tin về bộ dữ liệu tham khảo [Income classification](https://www.kaggle.com/competitions/ml-hands-on-python-kaggle-01/data)."
      ]
    },
    {
      "cell_type": "code",
      "execution_count": null,
      "metadata": {
        "colab": {
          "base_uri": "https://localhost:8080/"
        },
        "id": "i_VXFfPj-kmf",
        "outputId": "aff3d4fb-abe7-43e8-e1fc-a7bf9bbcb7c1"
      },
      "outputs": [
        {
          "output_type": "stream",
          "name": "stdout",
          "text": [
            "Mounted at /content/drive\n",
            "sample_submission.csv  test.csv  train.csv\n"
          ]
        }
      ],
      "source": [
        "from google.colab import drive\n",
        "import os\n",
        "\n",
        "drive.mount('/content/drive')\n",
        "os.chdir('drive/My Drive/Colab Notebooks/Buổi 10')\n",
        "!ls income_classification"
      ]
    },
    {
      "cell_type": "code",
      "execution_count": null,
      "metadata": {
        "id": "Atj9wFxZFGEO"
      },
      "outputs": [],
      "source": [
        "import pandas as pd\n",
        "from IPython.display import Markdown, display\n",
        "from sklearn.model_selection import train_test_split\n",
        "import matplotlib.pyplot as plt\n",
        "from sklearn.metrics import roc_curve, auc\n",
        "import numpy as np\n",
        "from sklearn import metrics\n",
        "import seaborn as sns\n",
        "from sklearn import svm\n",
        "from sklearn import tree\n",
        "from sklearn.model_selection import cross_val_score\n",
        "\n",
        "from sklearn.metrics import accuracy_score\n",
        "from sklearn.metrics import roc_curve, auc\n",
        "from sklearn.preprocessing import label_binarize\n",
        "\n",
        "from sklearn.model_selection import GridSearchCV"
      ]
    },
    {
      "cell_type": "code",
      "execution_count": null,
      "metadata": {
        "id": "5dkDwe1ORlci"
      },
      "outputs": [],
      "source": [
        "df = pd.read_csv('income_classification/train.csv')\n",
        "test = pd.read_csv('income_classification/test.csv')"
      ]
    },
    {
      "cell_type": "code",
      "execution_count": null,
      "metadata": {
        "colab": {
          "base_uri": "https://localhost:8080/",
          "height": 320
        },
        "id": "imaMEdUBScx0",
        "outputId": "b31f635e-6981-44f6-c2fe-7990071ddee1"
      },
      "outputs": [
        {
          "output_type": "execute_result",
          "data": {
            "text/plain": [
              "   ID  age work_type  final_weight     education  total_education_yrs  \\\n",
              "0   0   45   Private        175925       HS-grad                    9   \n",
              "1   1   23   Private        113601  Some-college                   10   \n",
              "2   2   22   Private        112137  Some-college                   10   \n",
              "3   3   27   Private        153078   Prof-school                   15   \n",
              "4   4   18   Private        375515          11th                    7   \n",
              "\n",
              "        marital_state                job          status           ethnicity  \\\n",
              "0  Married-civ-spouse       Craft-repair         Husband               White   \n",
              "1       Never-married  Handlers-cleaners       Own-child               White   \n",
              "2       Never-married     Prof-specialty  Other-relative  Asian-Pac-Islander   \n",
              "3       Never-married     Prof-specialty       Own-child  Asian-Pac-Islander   \n",
              "4       Never-married              Sales       Own-child               White   \n",
              "\n",
              "  sex  capital_gain  capital_loss  hrs_per_week nationality  target_income  \n",
              "0   M             0             0            40          US              0  \n",
              "1   M             0             0            30          US              0  \n",
              "2   F             0             0            20       South              0  \n",
              "3   M             0             0            40          US              0  \n",
              "4   F             0             0            20          US              0  "
            ],
            "text/html": [
              "\n",
              "  <div id=\"df-f7216da4-85ac-4712-b7d0-36cd4454990a\">\n",
              "    <div class=\"colab-df-container\">\n",
              "      <div>\n",
              "<style scoped>\n",
              "    .dataframe tbody tr th:only-of-type {\n",
              "        vertical-align: middle;\n",
              "    }\n",
              "\n",
              "    .dataframe tbody tr th {\n",
              "        vertical-align: top;\n",
              "    }\n",
              "\n",
              "    .dataframe thead th {\n",
              "        text-align: right;\n",
              "    }\n",
              "</style>\n",
              "<table border=\"1\" class=\"dataframe\">\n",
              "  <thead>\n",
              "    <tr style=\"text-align: right;\">\n",
              "      <th></th>\n",
              "      <th>ID</th>\n",
              "      <th>age</th>\n",
              "      <th>work_type</th>\n",
              "      <th>final_weight</th>\n",
              "      <th>education</th>\n",
              "      <th>total_education_yrs</th>\n",
              "      <th>marital_state</th>\n",
              "      <th>job</th>\n",
              "      <th>status</th>\n",
              "      <th>ethnicity</th>\n",
              "      <th>sex</th>\n",
              "      <th>capital_gain</th>\n",
              "      <th>capital_loss</th>\n",
              "      <th>hrs_per_week</th>\n",
              "      <th>nationality</th>\n",
              "      <th>target_income</th>\n",
              "    </tr>\n",
              "  </thead>\n",
              "  <tbody>\n",
              "    <tr>\n",
              "      <th>0</th>\n",
              "      <td>0</td>\n",
              "      <td>45</td>\n",
              "      <td>Private</td>\n",
              "      <td>175925</td>\n",
              "      <td>HS-grad</td>\n",
              "      <td>9</td>\n",
              "      <td>Married-civ-spouse</td>\n",
              "      <td>Craft-repair</td>\n",
              "      <td>Husband</td>\n",
              "      <td>White</td>\n",
              "      <td>M</td>\n",
              "      <td>0</td>\n",
              "      <td>0</td>\n",
              "      <td>40</td>\n",
              "      <td>US</td>\n",
              "      <td>0</td>\n",
              "    </tr>\n",
              "    <tr>\n",
              "      <th>1</th>\n",
              "      <td>1</td>\n",
              "      <td>23</td>\n",
              "      <td>Private</td>\n",
              "      <td>113601</td>\n",
              "      <td>Some-college</td>\n",
              "      <td>10</td>\n",
              "      <td>Never-married</td>\n",
              "      <td>Handlers-cleaners</td>\n",
              "      <td>Own-child</td>\n",
              "      <td>White</td>\n",
              "      <td>M</td>\n",
              "      <td>0</td>\n",
              "      <td>0</td>\n",
              "      <td>30</td>\n",
              "      <td>US</td>\n",
              "      <td>0</td>\n",
              "    </tr>\n",
              "    <tr>\n",
              "      <th>2</th>\n",
              "      <td>2</td>\n",
              "      <td>22</td>\n",
              "      <td>Private</td>\n",
              "      <td>112137</td>\n",
              "      <td>Some-college</td>\n",
              "      <td>10</td>\n",
              "      <td>Never-married</td>\n",
              "      <td>Prof-specialty</td>\n",
              "      <td>Other-relative</td>\n",
              "      <td>Asian-Pac-Islander</td>\n",
              "      <td>F</td>\n",
              "      <td>0</td>\n",
              "      <td>0</td>\n",
              "      <td>20</td>\n",
              "      <td>South</td>\n",
              "      <td>0</td>\n",
              "    </tr>\n",
              "    <tr>\n",
              "      <th>3</th>\n",
              "      <td>3</td>\n",
              "      <td>27</td>\n",
              "      <td>Private</td>\n",
              "      <td>153078</td>\n",
              "      <td>Prof-school</td>\n",
              "      <td>15</td>\n",
              "      <td>Never-married</td>\n",
              "      <td>Prof-specialty</td>\n",
              "      <td>Own-child</td>\n",
              "      <td>Asian-Pac-Islander</td>\n",
              "      <td>M</td>\n",
              "      <td>0</td>\n",
              "      <td>0</td>\n",
              "      <td>40</td>\n",
              "      <td>US</td>\n",
              "      <td>0</td>\n",
              "    </tr>\n",
              "    <tr>\n",
              "      <th>4</th>\n",
              "      <td>4</td>\n",
              "      <td>18</td>\n",
              "      <td>Private</td>\n",
              "      <td>375515</td>\n",
              "      <td>11th</td>\n",
              "      <td>7</td>\n",
              "      <td>Never-married</td>\n",
              "      <td>Sales</td>\n",
              "      <td>Own-child</td>\n",
              "      <td>White</td>\n",
              "      <td>F</td>\n",
              "      <td>0</td>\n",
              "      <td>0</td>\n",
              "      <td>20</td>\n",
              "      <td>US</td>\n",
              "      <td>0</td>\n",
              "    </tr>\n",
              "  </tbody>\n",
              "</table>\n",
              "</div>\n",
              "      <button class=\"colab-df-convert\" onclick=\"convertToInteractive('df-f7216da4-85ac-4712-b7d0-36cd4454990a')\"\n",
              "              title=\"Convert this dataframe to an interactive table.\"\n",
              "              style=\"display:none;\">\n",
              "        \n",
              "  <svg xmlns=\"http://www.w3.org/2000/svg\" height=\"24px\"viewBox=\"0 0 24 24\"\n",
              "       width=\"24px\">\n",
              "    <path d=\"M0 0h24v24H0V0z\" fill=\"none\"/>\n",
              "    <path d=\"M18.56 5.44l.94 2.06.94-2.06 2.06-.94-2.06-.94-.94-2.06-.94 2.06-2.06.94zm-11 1L8.5 8.5l.94-2.06 2.06-.94-2.06-.94L8.5 2.5l-.94 2.06-2.06.94zm10 10l.94 2.06.94-2.06 2.06-.94-2.06-.94-.94-2.06-.94 2.06-2.06.94z\"/><path d=\"M17.41 7.96l-1.37-1.37c-.4-.4-.92-.59-1.43-.59-.52 0-1.04.2-1.43.59L10.3 9.45l-7.72 7.72c-.78.78-.78 2.05 0 2.83L4 21.41c.39.39.9.59 1.41.59.51 0 1.02-.2 1.41-.59l7.78-7.78 2.81-2.81c.8-.78.8-2.07 0-2.86zM5.41 20L4 18.59l7.72-7.72 1.47 1.35L5.41 20z\"/>\n",
              "  </svg>\n",
              "      </button>\n",
              "      \n",
              "  <style>\n",
              "    .colab-df-container {\n",
              "      display:flex;\n",
              "      flex-wrap:wrap;\n",
              "      gap: 12px;\n",
              "    }\n",
              "\n",
              "    .colab-df-convert {\n",
              "      background-color: #E8F0FE;\n",
              "      border: none;\n",
              "      border-radius: 50%;\n",
              "      cursor: pointer;\n",
              "      display: none;\n",
              "      fill: #1967D2;\n",
              "      height: 32px;\n",
              "      padding: 0 0 0 0;\n",
              "      width: 32px;\n",
              "    }\n",
              "\n",
              "    .colab-df-convert:hover {\n",
              "      background-color: #E2EBFA;\n",
              "      box-shadow: 0px 1px 2px rgba(60, 64, 67, 0.3), 0px 1px 3px 1px rgba(60, 64, 67, 0.15);\n",
              "      fill: #174EA6;\n",
              "    }\n",
              "\n",
              "    [theme=dark] .colab-df-convert {\n",
              "      background-color: #3B4455;\n",
              "      fill: #D2E3FC;\n",
              "    }\n",
              "\n",
              "    [theme=dark] .colab-df-convert:hover {\n",
              "      background-color: #434B5C;\n",
              "      box-shadow: 0px 1px 3px 1px rgba(0, 0, 0, 0.15);\n",
              "      filter: drop-shadow(0px 1px 2px rgba(0, 0, 0, 0.3));\n",
              "      fill: #FFFFFF;\n",
              "    }\n",
              "  </style>\n",
              "\n",
              "      <script>\n",
              "        const buttonEl =\n",
              "          document.querySelector('#df-f7216da4-85ac-4712-b7d0-36cd4454990a button.colab-df-convert');\n",
              "        buttonEl.style.display =\n",
              "          google.colab.kernel.accessAllowed ? 'block' : 'none';\n",
              "\n",
              "        async function convertToInteractive(key) {\n",
              "          const element = document.querySelector('#df-f7216da4-85ac-4712-b7d0-36cd4454990a');\n",
              "          const dataTable =\n",
              "            await google.colab.kernel.invokeFunction('convertToInteractive',\n",
              "                                                     [key], {});\n",
              "          if (!dataTable) return;\n",
              "\n",
              "          const docLinkHtml = 'Like what you see? Visit the ' +\n",
              "            '<a target=\"_blank\" href=https://colab.research.google.com/notebooks/data_table.ipynb>data table notebook</a>'\n",
              "            + ' to learn more about interactive tables.';\n",
              "          element.innerHTML = '';\n",
              "          dataTable['output_type'] = 'display_data';\n",
              "          await google.colab.output.renderOutput(dataTable, element);\n",
              "          const docLink = document.createElement('div');\n",
              "          docLink.innerHTML = docLinkHtml;\n",
              "          element.appendChild(docLink);\n",
              "        }\n",
              "      </script>\n",
              "    </div>\n",
              "  </div>\n",
              "  "
            ]
          },
          "metadata": {},
          "execution_count": 4
        }
      ],
      "source": [
        "df.head()"
      ]
    },
    {
      "cell_type": "markdown",
      "metadata": {
        "id": "iPGEirt7TOH5"
      },
      "source": [
        "Nhận xét: cột target_income sẽ là cột phân loại income của đối tượng đang khảo sát. Ở trong train set, cột này gồm có các nhóm là:"
      ]
    },
    {
      "cell_type": "code",
      "execution_count": null,
      "metadata": {
        "colab": {
          "base_uri": "https://localhost:8080/"
        },
        "id": "nDmjsJZFSiAy",
        "outputId": "372d3228-25ac-42f9-eb1c-c77ac5d5ca32"
      },
      "outputs": [
        {
          "output_type": "execute_result",
          "data": {
            "text/plain": [
              "array([0, 1])"
            ]
          },
          "metadata": {},
          "execution_count": 5
        }
      ],
      "source": [
        "df['target_income'].unique()"
      ]
    },
    {
      "cell_type": "code",
      "execution_count": null,
      "metadata": {
        "colab": {
          "base_uri": "https://localhost:8080/"
        },
        "id": "523Z5Vd9eY1W",
        "outputId": "6b187b1c-f4ea-47f5-c089-d19bab55e94f"
      },
      "outputs": [
        {
          "output_type": "execute_result",
          "data": {
            "text/plain": [
              "Index(['ID', 'age', 'work_type', 'final_weight', 'education',\n",
              "       'total_education_yrs', 'marital_state', 'job', 'status', 'ethnicity',\n",
              "       'sex', 'capital_gain', 'capital_loss', 'hrs_per_week', 'nationality',\n",
              "       'target_income'],\n",
              "      dtype='object')"
            ]
          },
          "metadata": {},
          "execution_count": 6
        }
      ],
      "source": [
        "df.columns"
      ]
    },
    {
      "cell_type": "code",
      "execution_count": null,
      "metadata": {
        "id": "bS3RXYqFfIlj"
      },
      "outputs": [],
      "source": [
        "from sklearn.preprocessing import  OneHotEncoder"
      ]
    },
    {
      "cell_type": "code",
      "execution_count": null,
      "metadata": {
        "id": "UOnvP5zRS6yw"
      },
      "outputs": [],
      "source": [
        "# Lấy giá trị X và Y \n",
        "X = df[['age', 'work_type', 'final_weight', 'education',\n",
        "       'total_education_yrs', 'marital_state', 'job', 'status', 'ethnicity',\n",
        "       'sex', 'capital_gain', 'capital_loss', 'hrs_per_week', 'nationality']]\n",
        "y = df['target_income']"
      ]
    },
    {
      "cell_type": "code",
      "execution_count": null,
      "metadata": {
        "id": "GtioYL6kS_pj"
      },
      "outputs": [],
      "source": [
        "#OneHotEncoding các cột trong X\n",
        "cat_cols = ['work_type', 'education', 'marital_state', 'job', 'status', 'ethnicity',\n",
        "       'sex', 'nationality']\n",
        "num_cols = ['age', 'final_weight', 'total_education_yrs', 'capital_gain', 'capital_loss', 'hrs_per_week']\n",
        "\n",
        "ohc = OneHotEncoder(sparse = False)\n",
        "ohc.fit(X[cat_cols])\n",
        "X_encoded = pd.DataFrame(ohc.transform(X[cat_cols]), columns = ohc.get_feature_names_out())\n",
        "X_encoded = pd.concat([X_encoded, X[num_cols]], axis = 1)"
      ]
    },
    {
      "cell_type": "code",
      "execution_count": null,
      "metadata": {
        "colab": {
          "base_uri": "https://localhost:8080/"
        },
        "id": "bAA4UpbuhZ9v",
        "outputId": "33de76e8-b46d-40f1-aba6-465367538742"
      },
      "outputs": [
        {
          "output_type": "stream",
          "name": "stdout",
          "text": [
            "Fitting 4 folds for each of 24 candidates, totalling 96 fits\n"
          ]
        },
        {
          "output_type": "execute_result",
          "data": {
            "text/plain": [
              "GridSearchCV(cv=4, error_score=0, estimator=Pipeline(steps=[('clf', SVC())]),\n",
              "             n_jobs=4,\n",
              "             param_grid={'clf__C': [0.01, 1, 100], 'clf__coef0': [2, 4],\n",
              "                         'clf__degree': [1, 2],\n",
              "                         'clf__kernel': ['rbf', 'sigmoid']},\n",
              "             return_train_score=True, scoring='accuracy', verbose=3)"
            ]
          },
          "metadata": {},
          "execution_count": 10
        }
      ],
      "source": [
        "#Pipeline cho gridsearch cv\n",
        "from sklearn.svm import SVC\n",
        "from sklearn.model_selection import GridSearchCV\n",
        "from sklearn.pipeline import Pipeline\n",
        "\n",
        "parameters = {\n",
        "    'clf__kernel':['rbf', 'sigmoid'],                     # Các dạng hàm kernel, không dùng poly và linear để giảm thời gian chạy\n",
        "    'clf__C':[0.01, 1, 100],                              # Trọng số của phạt phân loại sai\n",
        "    'clf__coef0': [2, 4],                                 # Tương ứng với tham số gamma của đa thức\n",
        "    'clf__degree': [1, 2]                                 # Bậc d của đa thức, chỉ chọn 2 để đảm bảo thời gian chạy\n",
        "}\n",
        "\n",
        "pipeline = Pipeline(\n",
        "    steps=[(\"clf\", SVC())]\n",
        ")\n",
        "\n",
        "gscv = GridSearchCV(pipeline, parameters, cv=4, n_jobs=4, scoring='accuracy', return_train_score=True, error_score=0, verbose=3) #gimar n_jobs = 5 để giảm thời gian chạy\n",
        "gscv.fit(X_encoded, y)"
      ]
    },
    {
      "cell_type": "markdown",
      "source": [
        "Sử dụng GridSearch CV tốn thời gian."
      ],
      "metadata": {
        "id": "J0vW5AZq2i9E"
      }
    },
    {
      "cell_type": "code",
      "execution_count": null,
      "metadata": {
        "colab": {
          "base_uri": "https://localhost:8080/"
        },
        "id": "5qi78M7Ohjos",
        "outputId": "56ed172d-92cb-4769-d476-9562c70ca749"
      },
      "outputs": [
        {
          "output_type": "stream",
          "name": "stdout",
          "text": [
            "Best parameters:  {'clf__C': 100, 'clf__coef0': 2, 'clf__degree': 1, 'clf__kernel': 'rbf'}\n",
            "Best score achieved:  0.79792\n"
          ]
        }
      ],
      "source": [
        "print('Best parameters: ',gscv.best_params_)\n",
        "print('Best score achieved: ',gscv.best_score_)"
      ]
    },
    {
      "cell_type": "code",
      "source": [
        "gscv.best_score_"
      ],
      "metadata": {
        "id": "8zoyYpQBIsSi"
      },
      "execution_count": null,
      "outputs": []
    },
    {
      "cell_type": "code",
      "execution_count": null,
      "metadata": {
        "id": "PtjQ55q2kw-O"
      },
      "outputs": [],
      "source": [
        "X_test = test[['age', 'work_type', 'final_weight', 'education',\n",
        "       'total_education_yrs', 'marital_state', 'job', 'status', 'ethnicity',\n",
        "       'sex', 'capital_gain', 'capital_loss', 'hrs_per_week', 'nationality']]\n",
        "X_test_encoded = pd.DataFrame(ohc.transform(X_test[cat_cols]), columns = ohc.get_feature_names_out())\n",
        "X_test_encoded = pd.concat([X_test_encoded, X_test[num_cols]], axis = 1)\n",
        "y_hat = pd.DataFrame(gscv.predict(X_test_encoded), columns = ['target_income_prediction'])\n"
      ]
    },
    {
      "cell_type": "code",
      "execution_count": null,
      "metadata": {
        "id": "p_T-xO_RrI-x"
      },
      "outputs": [],
      "source": [
        "sub = pd.concat([test['ID'],y_hat], axis=1)"
      ]
    },
    {
      "cell_type": "code",
      "source": [
        "sub.head()"
      ],
      "metadata": {
        "colab": {
          "base_uri": "https://localhost:8080/",
          "height": 206
        },
        "id": "z5JAAafRJObh",
        "outputId": "33d01f47-667a-46f6-c123-cc9afe15a475"
      },
      "execution_count": null,
      "outputs": [
        {
          "output_type": "execute_result",
          "data": {
            "text/plain": [
              "      ID  target_income_prediction\n",
              "0  25000                         0\n",
              "1  25001                         0\n",
              "2  25002                         0\n",
              "3  25003                         0\n",
              "4  25004                         0"
            ],
            "text/html": [
              "\n",
              "  <div id=\"df-ab9a472a-6bda-4a23-81c0-2b054a84b9ee\">\n",
              "    <div class=\"colab-df-container\">\n",
              "      <div>\n",
              "<style scoped>\n",
              "    .dataframe tbody tr th:only-of-type {\n",
              "        vertical-align: middle;\n",
              "    }\n",
              "\n",
              "    .dataframe tbody tr th {\n",
              "        vertical-align: top;\n",
              "    }\n",
              "\n",
              "    .dataframe thead th {\n",
              "        text-align: right;\n",
              "    }\n",
              "</style>\n",
              "<table border=\"1\" class=\"dataframe\">\n",
              "  <thead>\n",
              "    <tr style=\"text-align: right;\">\n",
              "      <th></th>\n",
              "      <th>ID</th>\n",
              "      <th>target_income_prediction</th>\n",
              "    </tr>\n",
              "  </thead>\n",
              "  <tbody>\n",
              "    <tr>\n",
              "      <th>0</th>\n",
              "      <td>25000</td>\n",
              "      <td>0</td>\n",
              "    </tr>\n",
              "    <tr>\n",
              "      <th>1</th>\n",
              "      <td>25001</td>\n",
              "      <td>0</td>\n",
              "    </tr>\n",
              "    <tr>\n",
              "      <th>2</th>\n",
              "      <td>25002</td>\n",
              "      <td>0</td>\n",
              "    </tr>\n",
              "    <tr>\n",
              "      <th>3</th>\n",
              "      <td>25003</td>\n",
              "      <td>0</td>\n",
              "    </tr>\n",
              "    <tr>\n",
              "      <th>4</th>\n",
              "      <td>25004</td>\n",
              "      <td>0</td>\n",
              "    </tr>\n",
              "  </tbody>\n",
              "</table>\n",
              "</div>\n",
              "      <button class=\"colab-df-convert\" onclick=\"convertToInteractive('df-ab9a472a-6bda-4a23-81c0-2b054a84b9ee')\"\n",
              "              title=\"Convert this dataframe to an interactive table.\"\n",
              "              style=\"display:none;\">\n",
              "        \n",
              "  <svg xmlns=\"http://www.w3.org/2000/svg\" height=\"24px\"viewBox=\"0 0 24 24\"\n",
              "       width=\"24px\">\n",
              "    <path d=\"M0 0h24v24H0V0z\" fill=\"none\"/>\n",
              "    <path d=\"M18.56 5.44l.94 2.06.94-2.06 2.06-.94-2.06-.94-.94-2.06-.94 2.06-2.06.94zm-11 1L8.5 8.5l.94-2.06 2.06-.94-2.06-.94L8.5 2.5l-.94 2.06-2.06.94zm10 10l.94 2.06.94-2.06 2.06-.94-2.06-.94-.94-2.06-.94 2.06-2.06.94z\"/><path d=\"M17.41 7.96l-1.37-1.37c-.4-.4-.92-.59-1.43-.59-.52 0-1.04.2-1.43.59L10.3 9.45l-7.72 7.72c-.78.78-.78 2.05 0 2.83L4 21.41c.39.39.9.59 1.41.59.51 0 1.02-.2 1.41-.59l7.78-7.78 2.81-2.81c.8-.78.8-2.07 0-2.86zM5.41 20L4 18.59l7.72-7.72 1.47 1.35L5.41 20z\"/>\n",
              "  </svg>\n",
              "      </button>\n",
              "      \n",
              "  <style>\n",
              "    .colab-df-container {\n",
              "      display:flex;\n",
              "      flex-wrap:wrap;\n",
              "      gap: 12px;\n",
              "    }\n",
              "\n",
              "    .colab-df-convert {\n",
              "      background-color: #E8F0FE;\n",
              "      border: none;\n",
              "      border-radius: 50%;\n",
              "      cursor: pointer;\n",
              "      display: none;\n",
              "      fill: #1967D2;\n",
              "      height: 32px;\n",
              "      padding: 0 0 0 0;\n",
              "      width: 32px;\n",
              "    }\n",
              "\n",
              "    .colab-df-convert:hover {\n",
              "      background-color: #E2EBFA;\n",
              "      box-shadow: 0px 1px 2px rgba(60, 64, 67, 0.3), 0px 1px 3px 1px rgba(60, 64, 67, 0.15);\n",
              "      fill: #174EA6;\n",
              "    }\n",
              "\n",
              "    [theme=dark] .colab-df-convert {\n",
              "      background-color: #3B4455;\n",
              "      fill: #D2E3FC;\n",
              "    }\n",
              "\n",
              "    [theme=dark] .colab-df-convert:hover {\n",
              "      background-color: #434B5C;\n",
              "      box-shadow: 0px 1px 3px 1px rgba(0, 0, 0, 0.15);\n",
              "      filter: drop-shadow(0px 1px 2px rgba(0, 0, 0, 0.3));\n",
              "      fill: #FFFFFF;\n",
              "    }\n",
              "  </style>\n",
              "\n",
              "      <script>\n",
              "        const buttonEl =\n",
              "          document.querySelector('#df-ab9a472a-6bda-4a23-81c0-2b054a84b9ee button.colab-df-convert');\n",
              "        buttonEl.style.display =\n",
              "          google.colab.kernel.accessAllowed ? 'block' : 'none';\n",
              "\n",
              "        async function convertToInteractive(key) {\n",
              "          const element = document.querySelector('#df-ab9a472a-6bda-4a23-81c0-2b054a84b9ee');\n",
              "          const dataTable =\n",
              "            await google.colab.kernel.invokeFunction('convertToInteractive',\n",
              "                                                     [key], {});\n",
              "          if (!dataTable) return;\n",
              "\n",
              "          const docLinkHtml = 'Like what you see? Visit the ' +\n",
              "            '<a target=\"_blank\" href=https://colab.research.google.com/notebooks/data_table.ipynb>data table notebook</a>'\n",
              "            + ' to learn more about interactive tables.';\n",
              "          element.innerHTML = '';\n",
              "          dataTable['output_type'] = 'display_data';\n",
              "          await google.colab.output.renderOutput(dataTable, element);\n",
              "          const docLink = document.createElement('div');\n",
              "          docLink.innerHTML = docLinkHtml;\n",
              "          element.appendChild(docLink);\n",
              "        }\n",
              "      </script>\n",
              "    </div>\n",
              "  </div>\n",
              "  "
            ]
          },
          "metadata": {},
          "execution_count": 19
        }
      ]
    }
  ],
  "metadata": {
    "colab": {
      "provenance": [],
      "toc_visible": true
    },
    "kernelspec": {
      "display_name": "Python 3",
      "name": "python3"
    },
    "language_info": {
      "name": "python"
    }
  },
  "nbformat": 4,
  "nbformat_minor": 0
}