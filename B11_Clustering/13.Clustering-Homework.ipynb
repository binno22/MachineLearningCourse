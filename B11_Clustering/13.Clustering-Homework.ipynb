{
  "nbformat": 4,
  "nbformat_minor": 0,
  "metadata": {
    "colab": {
      "provenance": [],
      "toc_visible": true
    },
    "kernelspec": {
      "name": "python3",
      "display_name": "Python 3"
    },
    "language_info": {
      "name": "python"
    }
  },
  "cells": [
    {
      "cell_type": "code",
      "execution_count": null,
      "metadata": {
        "id": "xy4tCwGzXJi8"
      },
      "outputs": [],
      "source": []
    },
    {
      "cell_type": "markdown",
      "source": [
        "# I. Lý thuyết (5 điểm - 10 câu, mỗi câu 0.5 điểm)"
      ],
      "metadata": {
        "id": "AIWVhN6YXOcN"
      }
    },
    {
      "cell_type": "markdown",
      "source": [
        "Câu 1: Thuật toán K-means thuộc lớp bài toán nào?\n",
        "\n",
        "A. Supervised Learning \n",
        "\n",
        "B. Unsupervised Learning \n",
        "\n",
        "C. Semi-Supervised Learning \n",
        "\n",
        "D. Reinforcement Learning"
      ],
      "metadata": {
        "id": "Y6r17g4AXW3s"
      }
    },
    {
      "cell_type": "markdown",
      "source": [
        "Câu 2: Thuật toán K-means thuộc kiểu phân cụm nào?\n",
        "\n",
        "A. Partition Clustering \n",
        "\n",
        "B. Hierarchical Clustering \n",
        "\n",
        "C. Density-based Clustering\n",
        "\n",
        "D. All of the mentioned"
      ],
      "metadata": {
        "id": "1bu-4Ex3XXHE"
      }
    },
    {
      "cell_type": "markdown",
      "source": [
        "Câu 3: Ý nghĩa của biểu đồ dendrogram của thuật toán Hierarchical Clustering là gì?\n",
        "\n",
        "A. Thể hiện khoảng cách giữa các cụm.\n",
        "\n",
        "B. Thể hiện mối liên hệ phân cụm giữa các điểm dữ liệu trong tập huấn luyện.\n",
        "\n",
        "C. Là biểu đồ trực quan để lựa chọn số cụm dựa trên ngưỡng threshold về khoảng cách giữa các cụm.\n",
        "\n",
        "D. Cả 3 đáp án trên"
      ],
      "metadata": {
        "id": "swg6ekctXXJ8"
      }
    },
    {
      "cell_type": "markdown",
      "source": [
        "Câu 4: Điều nào sau đây được yêu cầu bởi thuật toán phân cụm K-means? \n",
        "\n",
        "A. Metric khoảng cách cần được xác định \n",
        "\n",
        "B. Số cụm \n",
        "\n",
        "C. Giá trị khởi tạo của tọa độ mỗi tâm cụm\n",
        "\n",
        "D. Cả 3 đáp án trên"
      ],
      "metadata": {
        "id": "AdihPGVZXXMk"
      }
    },
    {
      "cell_type": "markdown",
      "source": [
        "Câu 5: Đâu là khẳng định sai \n",
        "\n",
        "A. Thuật toán K-means sử dụng kỹ thuật Partitioning Clustering \n",
        "\n",
        "B. Thuật toán K-means phân bổ $n$ quan sát ban đầu về $k$ tâm cụm.\n",
        "\n",
        "C. Thuật oán K-means giống với thuật toán K-nearest neighbor vì chúng đều thuộc lớp bài toán học có giám sát.\n",
        "\n",
        "D. Cả 3 đáp án trên"
      ],
      "metadata": {
        "id": "tOsX8HouXXPE"
      }
    },
    {
      "cell_type": "markdown",
      "source": [
        "Câu 6: Theo chiến lược hợp nhất (`Agglomerative Hierarchical Clustering`), ở thời điểm ban đầu chúng ta có tổng cộng bao nhiêu cụm?\n",
        "\n",
        "A. 1 \n",
        "\n",
        "B. $n$ (với $n$ là tổng số quan sát)\n",
        "\n",
        "C. $k$ bất kỳ được xác định trước \n",
        "\n",
        "D. Không có đáp án nào trong các đáp án trên"
      ],
      "metadata": {
        "id": "ELbkTFu5XXRd"
      }
    },
    {
      "cell_type": "markdown",
      "source": [
        "Câu 7: Đâu là phương pháp được dùng để tìm ra số cụm tối ưu của thuật toán K-means\n",
        "\n",
        "A. Elbow Method \n",
        "\n",
        "B. Manhattan method\n",
        "\n",
        "C. Ecludian method\n",
        "\n",
        "D. All of the above"
      ],
      "metadata": {
        "id": "rFyPAFXAXXT8"
      }
    },
    {
      "cell_type": "markdown",
      "source": [
        "Câu 8: Thuật toán DBSCAN thuộc kiểu phân cụm nào?\n",
        "\n",
        "A. Partition Clustering \n",
        "\n",
        "B. Hierarchical Clustering \n",
        "\n",
        "C. Density-based Clustering\n",
        "\n",
        "D. All of the aformentioned"
      ],
      "metadata": {
        "id": "NOLPp6PTXXWk"
      }
    },
    {
      "cell_type": "markdown",
      "source": [
        "Câu 9: Đâu là nhược điểm của thuật toán K-means\n",
        "\n",
        "A. Chúng ta cần xác định số cụm trước cho thuật toán\n",
        "\n",
        "B. Kết quả phân cụm sẽ bị phụ thuộc vào điểm khởi tạo ban đầu của chúng.\n",
        "\n",
        "C. Thuật toán rất nhạy cảm với outliers\n",
        "\n",
        "D. All of the aformentioned"
      ],
      "metadata": {
        "id": "xM6L5NiZXXbH"
      }
    },
    {
      "cell_type": "markdown",
      "source": [
        "Câu 10: Thuật toán phân cụm phân cấp gồm những chiến lược nào?\n",
        "\n",
        "A. Chiến lược hợp nhất (agglomerative)\n",
        "\n",
        "B. Chiến lược phân chia (divisive)\n",
        "\n",
        "C. Cả hai đáp án trên \n",
        "\n",
        "D. Không có đáp án nào đúng. "
      ],
      "metadata": {
        "id": "rI94zS39XXg3"
      }
    },
    {
      "cell_type": "code",
      "source": [],
      "metadata": {
        "id": "-2nmZMKvXWHG"
      },
      "execution_count": null,
      "outputs": []
    },
    {
      "cell_type": "markdown",
      "source": [
        "# II. Thực hành (3 câu - 1đ - 2đ - 2đ)\n",
        "\n",
        "Câu 1: Sử dụng bộ dữ liệu [wine](https://scikit-learn.org/stable/modules/generated/sklearn.datasets.load_wine.html#sklearn.datasets.load_wine) từ `scikit-learn` thực hiện EDA. "
      ],
      "metadata": {
        "id": "Ffs3Sp1ifuYU"
      }
    },
    {
      "cell_type": "code",
      "source": [],
      "metadata": {
        "id": "ln-6T0i1fxST"
      },
      "execution_count": null,
      "outputs": []
    },
    {
      "cell_type": "markdown",
      "source": [
        "Câu 2: Huấn luyện thuật toán K-means để phân loại các loại rượu phù hợp. Sử dụng phương pháp Elbow để đưa ra số cụm phù hợp cho mô hình"
      ],
      "metadata": {
        "id": "Zo15oL9jf6_7"
      }
    },
    {
      "cell_type": "code",
      "source": [],
      "metadata": {
        "id": "e749ozYcf8nz"
      },
      "execution_count": null,
      "outputs": []
    },
    {
      "cell_type": "markdown",
      "source": [
        "Câu 3: Giảm chiều dữ liệu ở câu 1. Sử dụng một thuật toán thuộc Phân cụm phân cấp để phân loại các loại rượu. Sau đó visualize kết quả."
      ],
      "metadata": {
        "id": "yz7CtoNn1fTe"
      }
    },
    {
      "cell_type": "code",
      "source": [],
      "metadata": {
        "id": "2wZy4mA22Egq"
      },
      "execution_count": null,
      "outputs": []
    }
  ]
}