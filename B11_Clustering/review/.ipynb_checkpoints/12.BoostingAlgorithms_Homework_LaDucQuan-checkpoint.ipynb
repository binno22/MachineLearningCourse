{
 "cells": [
  {
   "cell_type": "markdown",
   "metadata": {
    "id": "mLSqb0RmCoxQ"
   },
   "source": [
    "# 1. Lý thuyết (5đ - 10 câu, mỗi câu 0.5đ)"
   ]
  },
  {
   "cell_type": "markdown",
   "metadata": {
    "id": "LDWwtPpaCqk-"
   },
   "source": [
    "Câu 1: Kỹ thuật Boosting là gì?\n",
    "\n",
    "A. Là kỹ thuật sử dụng kết hợp huấn luyện nhiều mô hình yếu một cách tuần tự\n",
    "\n",
    "B. Là kỹ thuật sử dụng kết hợp huấn luyện nhiều mô hình mạnh một cách tuần tự\n",
    "\n",
    "C. Là kỹ thuật sử dụng kết hợp huấn luyện nhiều mô hình yếu một cách độc lập\n",
    "\n",
    "D. Là kỹ thuật sử dụng kết hợp huấn luyện nhiều mô hình yếu một cách độc lập"
   ]
  },
  {
   "cell_type": "markdown",
   "metadata": {
    "id": "VAVGumcDuotk"
   },
   "source": [
    "Chọn đáp án A"
   ]
  },
  {
   "cell_type": "markdown",
   "metadata": {
    "id": "Rl94F-PCCqsB"
   },
   "source": [
    "Câu 2: Đâu là thuật toán sử dụng kỹ thuật `Boosting`?\n",
    "\n",
    "A. Random Forest \n",
    "\n",
    "B. AdaBoost (Adaptive Boosting)\n",
    "\n",
    "C. Gradient Boosting \n",
    "\n",
    "D. Cả B và C"
   ]
  },
  {
   "cell_type": "markdown",
   "metadata": {
    "id": "4NnQj-UXurl6"
   },
   "source": [
    "Chọn đáp án D"
   ]
  },
  {
   "cell_type": "markdown",
   "metadata": {
    "id": "xVyYj3gCCq1X"
   },
   "source": [
    "Câu 3: Ý nghĩa của _trọng số quyết định_ (_amount of say_):\n",
    "$\\alpha = \\log(\\frac{(1-r)}{r})$ ($r$ là phần trăm sai số mô hình) của mỗi mô hình weak learner trong thuật toán AdaBoost có ý nghĩa gì?\n",
    "\n",
    "A. Thể hiện mức độ đóng góp vào dự báo của mô hình weak learner. Tầm quan trọng của mô hình càng cao nếu sai số của mô hình càng lớn. \n",
    "\n",
    "B. Thể hiện mức độ đóng góp vào dự báo của mô hình weak learner. Tầm quan trọng của mô hình càng thấp nếu sai số của mô hình càng lớn.\n",
    "\n",
    "C. Là trọng số gán cho mỗi quan sát của tập huấn luyện. Trọng số này càng lớn đối với các quan sát mà mô hình dự báo sai.\n",
    "\n",
    "D. Cả B và C"
   ]
  },
  {
   "cell_type": "markdown",
   "metadata": {
    "id": "n0QwFb4SvOaG"
   },
   "source": [
    "Chọn đáp án A (**Sai - Đáp án B**)"
   ]
  },
  {
   "cell_type": "markdown",
   "metadata": {
    "id": "6ZgQrIokNCV8"
   },
   "source": [
    "Câu 4: Trong thuật toán AdaBoost, ý nghĩa của trọng số $w_i := w_i \\exp[\\alpha_k \\mathbf{1}(y_i \\neq \\hat{f}^{k}(\\mathbf{x}_i))]$ được gán cho một quan sát $(\\mathbf{x}_i, y_i)$ tại mô hình weak learner $\\hat{f}^{k}$ ở bước thứ $k$ là gì?\n",
    "\n",
    "A. Đánh giá mức độ quan trọng cho một quan sát cần được dự báo đúng tại bước tiếp theo. Trọng số này càng cao nếu quan sát đã bị dự báo sai tại mô hình $\\hat{f}^{k}$.\n",
    "\n",
    "B. Đánh giá mức độ quan trọng cho một quan sát cần được dự báo đúng tại bước tiếp theo. Trọng số này càng thấp nếu quan sát đã bị dự báo sai tại mô hình $\\hat{f}^{k}$.\n",
    "\n",
    "C. Đánh giá mức độ quan trọng cho một quan sát cần được dự báo đúng tại bước tiếp theo. Trọng số này không thay đổi nếu quan sát đã dự báo đúng tại mô hình $\\hat{f}^{k}$.\n",
    "\n",
    "D. A và C"
   ]
  },
  {
   "cell_type": "markdown",
   "metadata": {
    "id": "pEFjUOWGx-Zc"
   },
   "source": [
    "Chọn đáp án D"
   ]
  },
  {
   "cell_type": "markdown",
   "metadata": {
    "id": "d07YhPgYVD-r"
   },
   "source": [
    "Câu 5: Thuật toán Gradient Boosting có ý tưởng hoạt động chính là gì?\n",
    "\n",
    "A. Sử dụng một chuỗi các mô hình weak learners (thường là cây quyết định dạng gốc cây) để lấp đầy dần dần khoảng trống giữa sai số giá trị thực tế và dự báo.\n",
    "\n",
    "B. Sử dụng một chuỗi các mô hình weak learners (thường là cây quyết định dạng gốc cây) để _ensemble learning_ giá trị phần dư.\n",
    "\n",
    "C. Sử dụng một chuỗi các mô hình weak learners (thường là cây quyết định dạng gốc cây) để _ensemble learning_ giá trị biến mục tiêu.\n",
    "\n",
    "D. Sử dụng một tập hợp các mô hình weak learners (thường là cây quyết định dạng gốc cây) để phân loại biến mục tiêu."
   ]
  },
  {
   "cell_type": "markdown",
   "metadata": {
    "id": "bcbLHkbsyOZM"
   },
   "source": [
    "Chọn đáp án A"
   ]
  },
  {
   "cell_type": "markdown",
   "metadata": {
    "id": "j0FBKnFACrEQ"
   },
   "source": [
    "Câu 6: Trong quá trình dự báo của thuật toán Gradient Boosting, tại bước thứ $k$ thì sai số $r_k$ của mô hình được dự báo theo cách như thế nào?\n",
    "\n",
    "A. Step 1: Xây dựng phương trình hồi qui dự báo phần dư dựa vào đầu vào là output của bước trước đó: $\\hat{\\mathbf{r}}_{k-1} = \\hat{f}^{k}(\\mathbf{X}, \\mathbf{r}_{k-1})$, Step 2: Tính giá trị phần dư ở hiện tại: $\\mathbf{r}_k = \\mathbf{r}_{k-1} - \\lambda \\hat{\\mathbf{r}}_{k-1}$  ($\\lambda$ là learning rate).\n",
    "\n",
    "B. Step 1: Xây dựng phương trình hồi qui dự báo phần dư dựa vào đầu vào là output của bước trước đó: $\\hat{\\mathbf{r}}_{k-1} = \\hat{f}^{k}(\\mathbf{X}, \\mathbf{r}_{k-1})$, Step 2: Tính giá trị phần dư ở hiện tại: $\\mathbf{r}_k = \\mathbf{r}_{k-1} - \\hat{\\mathbf{r}}_{k-1}$.\n",
    "\n",
    "C. Step 1: Xây dựng phương trình hồi qui dự báo phần dư dựa vào đầu vào là output của bước trước đó: $\\hat{\\mathbf{r}}_{k-1} = \\hat{f}^{k}(\\mathbf{X}, \\mathbf{r}_{k-1})$, Step 2: Tính giá trị phần dư ở hiện tại: $\\mathbf{r}_k = \\lambda\\mathbf{r}_{k-1} - \\hat{\\mathbf{r}}_{k-1}$ ($\\lambda$ là learning rate).\n",
    "\n",
    "D. Step 1: Xây dựng phương trình hồi qui dự báo phần dư dựa vào đầu vào là output của bước trước đó: $\\hat{\\mathbf{r}}_{k-1} = \\hat{f}^{k}(\\mathbf{X}, \\mathbf{r}_{k-1})$, Step 2: Tính giá trị phần dư ở hiện tại: $\\mathbf{r}_k = \\log(\\frac{\\mathbf{r}_{k-1}}{\\hat{\\mathbf{r}}_{k-1}})$\n"
   ]
  },
  {
   "cell_type": "markdown",
   "metadata": {
    "id": "zera1zWG0RbT"
   },
   "source": [
    "CHọn đáp án A"
   ]
  },
  {
   "cell_type": "markdown",
   "metadata": {
    "id": "DbPTzcj9CrKh"
   },
   "source": [
    "Câu 7: Đâu là thuật toán được sử dụng để cập nhật phần dư cho mô hình Gradient Boosting?\n",
    "\n",
    "A. Gradient Descent \n",
    "\n",
    "B. Momentum \n",
    "\n",
    "C. Adam\n",
    "\n",
    "D. Cả 3 phương án trên"
   ]
  },
  {
   "cell_type": "markdown",
   "metadata": {
    "id": "fDseQgpQMELd"
   },
   "source": [
    "Chọn đáp án B (**Sai - Đáp án A**)"
   ]
  },
  {
   "cell_type": "markdown",
   "metadata": {
    "id": "545IqTG_Cymb"
   },
   "source": [
    "Câu 8: Thuật toán Gradient Boosting có thể sử dụng cho các lớp thuật toán nào?\n",
    "\n",
    "A. Regression \n",
    "\n",
    "B. Clasification\n",
    "\n",
    "C. Clustering\n",
    "\n",
    "D. Cả ba phương án trên"
   ]
  },
  {
   "cell_type": "markdown",
   "metadata": {
    "id": "1gfc6YJg1eDz"
   },
   "source": [
    "Chọn đáp án A (**Sai - Đáp án A vs B**)"
   ]
  },
  {
   "cell_type": "markdown",
   "metadata": {
    "id": "Q8GVy-8qCysK"
   },
   "source": [
    "Câu 9: Đâu là khẳng định đúng \n",
    "\n",
    "A. Trong phương pháp Ensemble Learning, các mô hình yếu được học một cách song song. Còn trong phương pháp Boosting, các mô hình yếu được học một cách tuần tự. \n",
    "\n",
    "B. Trong phương pháp Ensemble Learning, các mô hình yếu được học một cách tuần tự. Còn trong phương pháp Boosting, các mô hình yếu được học một cách song song. \n",
    "\n",
    "C. Trong phương pháp Ensemble Learning và Boosting, các mô hình yếu được học một cách song song.\n",
    "\n",
    "D. Trong phương pháp Ensemble Learning và Boosting, các mô hình yếu được học một cách tuần tự. "
   ]
  },
  {
   "cell_type": "markdown",
   "metadata": {
    "id": "wpyMe9-g2HGB"
   },
   "source": [
    "Chọn đáp án A"
   ]
  },
  {
   "cell_type": "markdown",
   "metadata": {
    "id": "vFqgen4HC8p_"
   },
   "source": [
    "Câu 10: Trong phương pháp Boosting thì thứ tự sắp xếp các mô hình weak learners sẽ như thế nào?\n",
    "\n",
    "A. Ưu tiên các mô hình có độ chính xác cao lên trước các mô hình có độ chính xác thấp.\n",
    "\n",
    "B. Ưu tiên các mô hình có độ chính xác thấp lên trước các mô hình có độ chính xác cao.\n",
    "\n",
    "C. Thứ tự các mô hình được sắp xếp là ngẫu nhiên.\n",
    "\n",
    "D. Ưu tiên các mô hình có độ chính xác trung bình lên trước mô hình có độ chính xác cao. Sau cùng là mô hình có độ chính xác thấp."
   ]
  },
  {
   "cell_type": "markdown",
   "metadata": {
    "id": "ykn0C0lv2dm4"
   },
   "source": [
    "Chọn đáp án A"
   ]
  },
  {
   "cell_type": "markdown",
   "metadata": {
    "id": "PyVcloUdWlTS"
   },
   "source": [
    "# 2. Thực hành (5đ - 2 câu, mỗi câu 2.5đ)"
   ]
  },
  {
   "cell_type": "markdown",
   "metadata": {
    "id": "SSAmUc7OW1um"
   },
   "source": [
    "Câu 1: Sử dụng một thuật toán hồi quy với kỹ thuật boosting để đưa ra dự đoán giá nhà trên bộ dữ liệu [California housing](https://scikit-learn.org/stable/modules/generated/sklearn.datasets.fetch_california_housing.html) từ `scikit-learn` với các bước \n",
    "\n",
    "- EDA \n",
    "- Huấn luyện và đánh giá mô hình trên tập train/test\n",
    "- Tìm các tham số tối ưu cho mô hình đã chọn"
   ]
  },
  {
   "cell_type": "markdown",
   "metadata": {
    "id": "fqW9ZaHtMI3C"
   },
   "source": [
    "### 0. Import Libararies and get data"
   ]
  },
  {
   "cell_type": "code",
   "execution_count": 5,
   "metadata": {
    "executionInfo": {
     "elapsed": 9,
     "status": "ok",
     "timestamp": 1678519527253,
     "user": {
      "displayName": "Quan La",
      "userId": "00157356232467016447"
     },
     "user_tz": -420
    },
    "id": "5HS4lOOoC3QN"
   },
   "outputs": [],
   "source": [
    "import pandas as pd \n",
    "import numpy as np \n",
    "from geopy.distance import geodesic\n",
    "from sklearn.datasets import fetch_california_housing\n",
    "from sklearn.model_selection import train_test_split\n",
    "from sklearn.model_selection import GridSearchCV \n",
    "from sklearn.preprocessing import MinMaxScaler\n",
    "from sklearn.pipeline import Pipeline\n",
    "from sklearn.pipeline import make_pipeline\n",
    "from sklearn.ensemble import GradientBoostingRegressor\n",
    "from sklearn.ensemble import AdaBoostClassifier\n",
    "from sklearn.metrics import mean_squared_error"
   ]
  },
  {
   "cell_type": "code",
   "execution_count": 3,
   "metadata": {
    "colab": {
     "base_uri": "https://localhost:8080/"
    },
    "executionInfo": {
     "elapsed": 1779,
     "status": "ok",
     "timestamp": 1678519441423,
     "user": {
      "displayName": "Quan La",
      "userId": "00157356232467016447"
     },
     "user_tz": -420
    },
    "id": "n37fSo4BNk9e",
    "outputId": "262df92d-7668-420e-bbe5-dad4ca47b713"
   },
   "outputs": [
    {
     "name": "stdout",
     "output_type": "stream",
     "text": [
      "frame shape (20640, 9)\n"
     ]
    }
   ],
   "source": [
    "df = fetch_california_housing(as_frame = True).frame\n",
    "print('frame shape {}'.format(df.shape))"
   ]
  },
  {
   "cell_type": "code",
   "execution_count": 17,
   "metadata": {
    "colab": {
     "base_uri": "https://localhost:8080/",
     "height": 206
    },
    "executionInfo": {
     "elapsed": 344,
     "status": "ok",
     "timestamp": 1678519870526,
     "user": {
      "displayName": "Quan La",
      "userId": "00157356232467016447"
     },
     "user_tz": -420
    },
    "id": "dUWOe-cUQxuZ",
    "outputId": "715c09e1-bac0-4a9b-a750-6cedc7175355"
   },
   "outputs": [
    {
     "data": {
      "text/html": [
       "\n",
       "  <div id=\"df-08317ac7-76da-4cc7-9c98-85ca7a6cb9dc\">\n",
       "    <div class=\"colab-df-container\">\n",
       "      <div>\n",
       "<style scoped>\n",
       "    .dataframe tbody tr th:only-of-type {\n",
       "        vertical-align: middle;\n",
       "    }\n",
       "\n",
       "    .dataframe tbody tr th {\n",
       "        vertical-align: top;\n",
       "    }\n",
       "\n",
       "    .dataframe thead th {\n",
       "        text-align: right;\n",
       "    }\n",
       "</style>\n",
       "<table border=\"1\" class=\"dataframe\">\n",
       "  <thead>\n",
       "    <tr style=\"text-align: right;\">\n",
       "      <th></th>\n",
       "      <th>MedInc</th>\n",
       "      <th>HouseAge</th>\n",
       "      <th>AveRooms</th>\n",
       "      <th>AveBedrms</th>\n",
       "      <th>Population</th>\n",
       "      <th>AveOccup</th>\n",
       "      <th>Latitude</th>\n",
       "      <th>Longitude</th>\n",
       "      <th>MedHouseVal</th>\n",
       "      <th>Prox to center</th>\n",
       "    </tr>\n",
       "  </thead>\n",
       "  <tbody>\n",
       "    <tr>\n",
       "      <th>0</th>\n",
       "      <td>8.3252</td>\n",
       "      <td>41.0</td>\n",
       "      <td>6.984127</td>\n",
       "      <td>1.023810</td>\n",
       "      <td>322.0</td>\n",
       "      <td>2.555556</td>\n",
       "      <td>37.88</td>\n",
       "      <td>-122.23</td>\n",
       "      <td>4.526</td>\n",
       "      <td>487.728358</td>\n",
       "    </tr>\n",
       "    <tr>\n",
       "      <th>1</th>\n",
       "      <td>8.3014</td>\n",
       "      <td>21.0</td>\n",
       "      <td>6.238137</td>\n",
       "      <td>0.971880</td>\n",
       "      <td>2401.0</td>\n",
       "      <td>2.109842</td>\n",
       "      <td>37.86</td>\n",
       "      <td>-122.22</td>\n",
       "      <td>3.585</td>\n",
       "      <td>485.680094</td>\n",
       "    </tr>\n",
       "    <tr>\n",
       "      <th>2</th>\n",
       "      <td>7.2574</td>\n",
       "      <td>52.0</td>\n",
       "      <td>8.288136</td>\n",
       "      <td>1.073446</td>\n",
       "      <td>496.0</td>\n",
       "      <td>2.802260</td>\n",
       "      <td>37.85</td>\n",
       "      <td>-122.24</td>\n",
       "      <td>3.521</td>\n",
       "      <td>486.409107</td>\n",
       "    </tr>\n",
       "    <tr>\n",
       "      <th>3</th>\n",
       "      <td>5.6431</td>\n",
       "      <td>52.0</td>\n",
       "      <td>5.817352</td>\n",
       "      <td>1.073059</td>\n",
       "      <td>558.0</td>\n",
       "      <td>2.547945</td>\n",
       "      <td>37.85</td>\n",
       "      <td>-122.25</td>\n",
       "      <td>3.413</td>\n",
       "      <td>487.111063</td>\n",
       "    </tr>\n",
       "    <tr>\n",
       "      <th>4</th>\n",
       "      <td>3.8462</td>\n",
       "      <td>52.0</td>\n",
       "      <td>6.281853</td>\n",
       "      <td>1.081081</td>\n",
       "      <td>565.0</td>\n",
       "      <td>2.181467</td>\n",
       "      <td>37.85</td>\n",
       "      <td>-122.25</td>\n",
       "      <td>3.422</td>\n",
       "      <td>487.111063</td>\n",
       "    </tr>\n",
       "  </tbody>\n",
       "</table>\n",
       "</div>\n",
       "      <button class=\"colab-df-convert\" onclick=\"convertToInteractive('df-08317ac7-76da-4cc7-9c98-85ca7a6cb9dc')\"\n",
       "              title=\"Convert this dataframe to an interactive table.\"\n",
       "              style=\"display:none;\">\n",
       "        \n",
       "  <svg xmlns=\"http://www.w3.org/2000/svg\" height=\"24px\"viewBox=\"0 0 24 24\"\n",
       "       width=\"24px\">\n",
       "    <path d=\"M0 0h24v24H0V0z\" fill=\"none\"/>\n",
       "    <path d=\"M18.56 5.44l.94 2.06.94-2.06 2.06-.94-2.06-.94-.94-2.06-.94 2.06-2.06.94zm-11 1L8.5 8.5l.94-2.06 2.06-.94-2.06-.94L8.5 2.5l-.94 2.06-2.06.94zm10 10l.94 2.06.94-2.06 2.06-.94-2.06-.94-.94-2.06-.94 2.06-2.06.94z\"/><path d=\"M17.41 7.96l-1.37-1.37c-.4-.4-.92-.59-1.43-.59-.52 0-1.04.2-1.43.59L10.3 9.45l-7.72 7.72c-.78.78-.78 2.05 0 2.83L4 21.41c.39.39.9.59 1.41.59.51 0 1.02-.2 1.41-.59l7.78-7.78 2.81-2.81c.8-.78.8-2.07 0-2.86zM5.41 20L4 18.59l7.72-7.72 1.47 1.35L5.41 20z\"/>\n",
       "  </svg>\n",
       "      </button>\n",
       "      \n",
       "  <style>\n",
       "    .colab-df-container {\n",
       "      display:flex;\n",
       "      flex-wrap:wrap;\n",
       "      gap: 12px;\n",
       "    }\n",
       "\n",
       "    .colab-df-convert {\n",
       "      background-color: #E8F0FE;\n",
       "      border: none;\n",
       "      border-radius: 50%;\n",
       "      cursor: pointer;\n",
       "      display: none;\n",
       "      fill: #1967D2;\n",
       "      height: 32px;\n",
       "      padding: 0 0 0 0;\n",
       "      width: 32px;\n",
       "    }\n",
       "\n",
       "    .colab-df-convert:hover {\n",
       "      background-color: #E2EBFA;\n",
       "      box-shadow: 0px 1px 2px rgba(60, 64, 67, 0.3), 0px 1px 3px 1px rgba(60, 64, 67, 0.15);\n",
       "      fill: #174EA6;\n",
       "    }\n",
       "\n",
       "    [theme=dark] .colab-df-convert {\n",
       "      background-color: #3B4455;\n",
       "      fill: #D2E3FC;\n",
       "    }\n",
       "\n",
       "    [theme=dark] .colab-df-convert:hover {\n",
       "      background-color: #434B5C;\n",
       "      box-shadow: 0px 1px 3px 1px rgba(0, 0, 0, 0.15);\n",
       "      filter: drop-shadow(0px 1px 2px rgba(0, 0, 0, 0.3));\n",
       "      fill: #FFFFFF;\n",
       "    }\n",
       "  </style>\n",
       "\n",
       "      <script>\n",
       "        const buttonEl =\n",
       "          document.querySelector('#df-08317ac7-76da-4cc7-9c98-85ca7a6cb9dc button.colab-df-convert');\n",
       "        buttonEl.style.display =\n",
       "          google.colab.kernel.accessAllowed ? 'block' : 'none';\n",
       "\n",
       "        async function convertToInteractive(key) {\n",
       "          const element = document.querySelector('#df-08317ac7-76da-4cc7-9c98-85ca7a6cb9dc');\n",
       "          const dataTable =\n",
       "            await google.colab.kernel.invokeFunction('convertToInteractive',\n",
       "                                                     [key], {});\n",
       "          if (!dataTable) return;\n",
       "\n",
       "          const docLinkHtml = 'Like what you see? Visit the ' +\n",
       "            '<a target=\"_blank\" href=https://colab.research.google.com/notebooks/data_table.ipynb>data table notebook</a>'\n",
       "            + ' to learn more about interactive tables.';\n",
       "          element.innerHTML = '';\n",
       "          dataTable['output_type'] = 'display_data';\n",
       "          await google.colab.output.renderOutput(dataTable, element);\n",
       "          const docLink = document.createElement('div');\n",
       "          docLink.innerHTML = docLinkHtml;\n",
       "          element.appendChild(docLink);\n",
       "        }\n",
       "      </script>\n",
       "    </div>\n",
       "  </div>\n",
       "  "
      ],
      "text/plain": [
       "   MedInc  HouseAge  AveRooms  AveBedrms  Population  AveOccup  Latitude  \\\n",
       "0  8.3252      41.0  6.984127   1.023810       322.0  2.555556     37.88   \n",
       "1  8.3014      21.0  6.238137   0.971880      2401.0  2.109842     37.86   \n",
       "2  7.2574      52.0  8.288136   1.073446       496.0  2.802260     37.85   \n",
       "3  5.6431      52.0  5.817352   1.073059       558.0  2.547945     37.85   \n",
       "4  3.8462      52.0  6.281853   1.081081       565.0  2.181467     37.85   \n",
       "\n",
       "   Longitude  MedHouseVal  Prox to center  \n",
       "0    -122.23        4.526      487.728358  \n",
       "1    -122.22        3.585      485.680094  \n",
       "2    -122.24        3.521      486.409107  \n",
       "3    -122.25        3.413      487.111063  \n",
       "4    -122.25        3.422      487.111063  "
      ]
     },
     "execution_count": 17,
     "metadata": {},
     "output_type": "execute_result"
    }
   ],
   "source": [
    "df.head()"
   ]
  },
  {
   "cell_type": "markdown",
   "metadata": {
    "id": "aPgSgAZpRBVl"
   },
   "source": [
    "### 1.EDA"
   ]
  },
  {
   "cell_type": "code",
   "execution_count": 16,
   "metadata": {
    "executionInfo": {
     "elapsed": 4497,
     "status": "ok",
     "timestamp": 1678519864169,
     "user": {
      "displayName": "Quan La",
      "userId": "00157356232467016447"
     },
     "user_tz": -420
    },
    "id": "s0wDnT9fjdlx"
   },
   "outputs": [],
   "source": [
    "center = (35.1258, -117.9859)\n",
    "prox = []\n",
    "for i in range(len(df)):\n",
    "  prox.append(geodesic(center, (df['Latitude'][i],df['Longitude'][i])).km)\n",
    "df['Prox to center'] = prox"
   ]
  },
  {
   "cell_type": "code",
   "execution_count": 19,
   "metadata": {
    "colab": {
     "base_uri": "https://localhost:8080/",
     "height": 363
    },
    "executionInfo": {
     "elapsed": 18,
     "status": "ok",
     "timestamp": 1678519892127,
     "user": {
      "displayName": "Quan La",
      "userId": "00157356232467016447"
     },
     "user_tz": -420
    },
    "id": "uGj4pKg0lObs",
    "outputId": "fa9b0f25-36f8-46c0-b5d5-0a5fc6db463b"
   },
   "outputs": [
    {
     "data": {
      "text/html": [
       "\n",
       "  <div id=\"df-9302a496-ef78-4105-906b-ed2f320bc4c0\">\n",
       "    <div class=\"colab-df-container\">\n",
       "      <div>\n",
       "<style scoped>\n",
       "    .dataframe tbody tr th:only-of-type {\n",
       "        vertical-align: middle;\n",
       "    }\n",
       "\n",
       "    .dataframe tbody tr th {\n",
       "        vertical-align: top;\n",
       "    }\n",
       "\n",
       "    .dataframe thead th {\n",
       "        text-align: right;\n",
       "    }\n",
       "</style>\n",
       "<table border=\"1\" class=\"dataframe\">\n",
       "  <thead>\n",
       "    <tr style=\"text-align: right;\">\n",
       "      <th></th>\n",
       "      <th>MedInc</th>\n",
       "      <th>HouseAge</th>\n",
       "      <th>AveRooms</th>\n",
       "      <th>AveBedrms</th>\n",
       "      <th>Population</th>\n",
       "      <th>AveOccup</th>\n",
       "      <th>Latitude</th>\n",
       "      <th>Longitude</th>\n",
       "      <th>MedHouseVal</th>\n",
       "      <th>Prox to center</th>\n",
       "    </tr>\n",
       "  </thead>\n",
       "  <tbody>\n",
       "    <tr>\n",
       "      <th>MedInc</th>\n",
       "      <td>1.000000</td>\n",
       "      <td>-0.119034</td>\n",
       "      <td>0.326895</td>\n",
       "      <td>-0.062040</td>\n",
       "      <td>0.004834</td>\n",
       "      <td>0.018766</td>\n",
       "      <td>-0.079809</td>\n",
       "      <td>-0.015176</td>\n",
       "      <td>0.688075</td>\n",
       "      <td>-0.046993</td>\n",
       "    </tr>\n",
       "    <tr>\n",
       "      <th>HouseAge</th>\n",
       "      <td>-0.119034</td>\n",
       "      <td>1.000000</td>\n",
       "      <td>-0.153277</td>\n",
       "      <td>-0.077747</td>\n",
       "      <td>-0.296244</td>\n",
       "      <td>0.013191</td>\n",
       "      <td>0.011173</td>\n",
       "      <td>-0.108197</td>\n",
       "      <td>0.105623</td>\n",
       "      <td>-0.004197</td>\n",
       "    </tr>\n",
       "    <tr>\n",
       "      <th>AveRooms</th>\n",
       "      <td>0.326895</td>\n",
       "      <td>-0.153277</td>\n",
       "      <td>1.000000</td>\n",
       "      <td>0.847621</td>\n",
       "      <td>-0.072213</td>\n",
       "      <td>-0.004852</td>\n",
       "      <td>0.106389</td>\n",
       "      <td>-0.027540</td>\n",
       "      <td>0.151948</td>\n",
       "      <td>0.087878</td>\n",
       "    </tr>\n",
       "    <tr>\n",
       "      <th>AveBedrms</th>\n",
       "      <td>-0.062040</td>\n",
       "      <td>-0.077747</td>\n",
       "      <td>0.847621</td>\n",
       "      <td>1.000000</td>\n",
       "      <td>-0.066197</td>\n",
       "      <td>-0.006181</td>\n",
       "      <td>0.069721</td>\n",
       "      <td>0.013344</td>\n",
       "      <td>-0.046701</td>\n",
       "      <td>0.050322</td>\n",
       "    </tr>\n",
       "    <tr>\n",
       "      <th>Population</th>\n",
       "      <td>0.004834</td>\n",
       "      <td>-0.296244</td>\n",
       "      <td>-0.072213</td>\n",
       "      <td>-0.066197</td>\n",
       "      <td>1.000000</td>\n",
       "      <td>0.069863</td>\n",
       "      <td>-0.108785</td>\n",
       "      <td>0.099773</td>\n",
       "      <td>-0.024650</td>\n",
       "      <td>-0.112069</td>\n",
       "    </tr>\n",
       "    <tr>\n",
       "      <th>AveOccup</th>\n",
       "      <td>0.018766</td>\n",
       "      <td>0.013191</td>\n",
       "      <td>-0.004852</td>\n",
       "      <td>-0.006181</td>\n",
       "      <td>0.069863</td>\n",
       "      <td>1.000000</td>\n",
       "      <td>0.002366</td>\n",
       "      <td>0.002476</td>\n",
       "      <td>-0.023737</td>\n",
       "      <td>-0.002712</td>\n",
       "    </tr>\n",
       "    <tr>\n",
       "      <th>Latitude</th>\n",
       "      <td>-0.079809</td>\n",
       "      <td>0.011173</td>\n",
       "      <td>0.106389</td>\n",
       "      <td>0.069721</td>\n",
       "      <td>-0.108785</td>\n",
       "      <td>0.002366</td>\n",
       "      <td>1.000000</td>\n",
       "      <td>-0.924664</td>\n",
       "      <td>-0.144160</td>\n",
       "      <td>0.886633</td>\n",
       "    </tr>\n",
       "    <tr>\n",
       "      <th>Longitude</th>\n",
       "      <td>-0.015176</td>\n",
       "      <td>-0.108197</td>\n",
       "      <td>-0.027540</td>\n",
       "      <td>0.013344</td>\n",
       "      <td>0.099773</td>\n",
       "      <td>0.002476</td>\n",
       "      <td>-0.924664</td>\n",
       "      <td>1.000000</td>\n",
       "      <td>-0.045967</td>\n",
       "      <td>-0.859473</td>\n",
       "    </tr>\n",
       "    <tr>\n",
       "      <th>MedHouseVal</th>\n",
       "      <td>0.688075</td>\n",
       "      <td>0.105623</td>\n",
       "      <td>0.151948</td>\n",
       "      <td>-0.046701</td>\n",
       "      <td>-0.024650</td>\n",
       "      <td>-0.023737</td>\n",
       "      <td>-0.144160</td>\n",
       "      <td>-0.045967</td>\n",
       "      <td>1.000000</td>\n",
       "      <td>-0.078310</td>\n",
       "    </tr>\n",
       "    <tr>\n",
       "      <th>Prox to center</th>\n",
       "      <td>-0.046993</td>\n",
       "      <td>-0.004197</td>\n",
       "      <td>0.087878</td>\n",
       "      <td>0.050322</td>\n",
       "      <td>-0.112069</td>\n",
       "      <td>-0.002712</td>\n",
       "      <td>0.886633</td>\n",
       "      <td>-0.859473</td>\n",
       "      <td>-0.078310</td>\n",
       "      <td>1.000000</td>\n",
       "    </tr>\n",
       "  </tbody>\n",
       "</table>\n",
       "</div>\n",
       "      <button class=\"colab-df-convert\" onclick=\"convertToInteractive('df-9302a496-ef78-4105-906b-ed2f320bc4c0')\"\n",
       "              title=\"Convert this dataframe to an interactive table.\"\n",
       "              style=\"display:none;\">\n",
       "        \n",
       "  <svg xmlns=\"http://www.w3.org/2000/svg\" height=\"24px\"viewBox=\"0 0 24 24\"\n",
       "       width=\"24px\">\n",
       "    <path d=\"M0 0h24v24H0V0z\" fill=\"none\"/>\n",
       "    <path d=\"M18.56 5.44l.94 2.06.94-2.06 2.06-.94-2.06-.94-.94-2.06-.94 2.06-2.06.94zm-11 1L8.5 8.5l.94-2.06 2.06-.94-2.06-.94L8.5 2.5l-.94 2.06-2.06.94zm10 10l.94 2.06.94-2.06 2.06-.94-2.06-.94-.94-2.06-.94 2.06-2.06.94z\"/><path d=\"M17.41 7.96l-1.37-1.37c-.4-.4-.92-.59-1.43-.59-.52 0-1.04.2-1.43.59L10.3 9.45l-7.72 7.72c-.78.78-.78 2.05 0 2.83L4 21.41c.39.39.9.59 1.41.59.51 0 1.02-.2 1.41-.59l7.78-7.78 2.81-2.81c.8-.78.8-2.07 0-2.86zM5.41 20L4 18.59l7.72-7.72 1.47 1.35L5.41 20z\"/>\n",
       "  </svg>\n",
       "      </button>\n",
       "      \n",
       "  <style>\n",
       "    .colab-df-container {\n",
       "      display:flex;\n",
       "      flex-wrap:wrap;\n",
       "      gap: 12px;\n",
       "    }\n",
       "\n",
       "    .colab-df-convert {\n",
       "      background-color: #E8F0FE;\n",
       "      border: none;\n",
       "      border-radius: 50%;\n",
       "      cursor: pointer;\n",
       "      display: none;\n",
       "      fill: #1967D2;\n",
       "      height: 32px;\n",
       "      padding: 0 0 0 0;\n",
       "      width: 32px;\n",
       "    }\n",
       "\n",
       "    .colab-df-convert:hover {\n",
       "      background-color: #E2EBFA;\n",
       "      box-shadow: 0px 1px 2px rgba(60, 64, 67, 0.3), 0px 1px 3px 1px rgba(60, 64, 67, 0.15);\n",
       "      fill: #174EA6;\n",
       "    }\n",
       "\n",
       "    [theme=dark] .colab-df-convert {\n",
       "      background-color: #3B4455;\n",
       "      fill: #D2E3FC;\n",
       "    }\n",
       "\n",
       "    [theme=dark] .colab-df-convert:hover {\n",
       "      background-color: #434B5C;\n",
       "      box-shadow: 0px 1px 3px 1px rgba(0, 0, 0, 0.15);\n",
       "      filter: drop-shadow(0px 1px 2px rgba(0, 0, 0, 0.3));\n",
       "      fill: #FFFFFF;\n",
       "    }\n",
       "  </style>\n",
       "\n",
       "      <script>\n",
       "        const buttonEl =\n",
       "          document.querySelector('#df-9302a496-ef78-4105-906b-ed2f320bc4c0 button.colab-df-convert');\n",
       "        buttonEl.style.display =\n",
       "          google.colab.kernel.accessAllowed ? 'block' : 'none';\n",
       "\n",
       "        async function convertToInteractive(key) {\n",
       "          const element = document.querySelector('#df-9302a496-ef78-4105-906b-ed2f320bc4c0');\n",
       "          const dataTable =\n",
       "            await google.colab.kernel.invokeFunction('convertToInteractive',\n",
       "                                                     [key], {});\n",
       "          if (!dataTable) return;\n",
       "\n",
       "          const docLinkHtml = 'Like what you see? Visit the ' +\n",
       "            '<a target=\"_blank\" href=https://colab.research.google.com/notebooks/data_table.ipynb>data table notebook</a>'\n",
       "            + ' to learn more about interactive tables.';\n",
       "          element.innerHTML = '';\n",
       "          dataTable['output_type'] = 'display_data';\n",
       "          await google.colab.output.renderOutput(dataTable, element);\n",
       "          const docLink = document.createElement('div');\n",
       "          docLink.innerHTML = docLinkHtml;\n",
       "          element.appendChild(docLink);\n",
       "        }\n",
       "      </script>\n",
       "    </div>\n",
       "  </div>\n",
       "  "
      ],
      "text/plain": [
       "                  MedInc  HouseAge  AveRooms  AveBedrms  Population  AveOccup  \\\n",
       "MedInc          1.000000 -0.119034  0.326895  -0.062040    0.004834  0.018766   \n",
       "HouseAge       -0.119034  1.000000 -0.153277  -0.077747   -0.296244  0.013191   \n",
       "AveRooms        0.326895 -0.153277  1.000000   0.847621   -0.072213 -0.004852   \n",
       "AveBedrms      -0.062040 -0.077747  0.847621   1.000000   -0.066197 -0.006181   \n",
       "Population      0.004834 -0.296244 -0.072213  -0.066197    1.000000  0.069863   \n",
       "AveOccup        0.018766  0.013191 -0.004852  -0.006181    0.069863  1.000000   \n",
       "Latitude       -0.079809  0.011173  0.106389   0.069721   -0.108785  0.002366   \n",
       "Longitude      -0.015176 -0.108197 -0.027540   0.013344    0.099773  0.002476   \n",
       "MedHouseVal     0.688075  0.105623  0.151948  -0.046701   -0.024650 -0.023737   \n",
       "Prox to center -0.046993 -0.004197  0.087878   0.050322   -0.112069 -0.002712   \n",
       "\n",
       "                Latitude  Longitude  MedHouseVal  Prox to center  \n",
       "MedInc         -0.079809  -0.015176     0.688075       -0.046993  \n",
       "HouseAge        0.011173  -0.108197     0.105623       -0.004197  \n",
       "AveRooms        0.106389  -0.027540     0.151948        0.087878  \n",
       "AveBedrms       0.069721   0.013344    -0.046701        0.050322  \n",
       "Population     -0.108785   0.099773    -0.024650       -0.112069  \n",
       "AveOccup        0.002366   0.002476    -0.023737       -0.002712  \n",
       "Latitude        1.000000  -0.924664    -0.144160        0.886633  \n",
       "Longitude      -0.924664   1.000000    -0.045967       -0.859473  \n",
       "MedHouseVal    -0.144160  -0.045967     1.000000       -0.078310  \n",
       "Prox to center  0.886633  -0.859473    -0.078310        1.000000  "
      ]
     },
     "execution_count": 19,
     "metadata": {},
     "output_type": "execute_result"
    }
   ],
   "source": [
    "df.corr()"
   ]
  },
  {
   "cell_type": "code",
   "execution_count": 34,
   "metadata": {
    "executionInfo": {
     "elapsed": 401,
     "status": "ok",
     "timestamp": 1678520650732,
     "user": {
      "displayName": "Quan La",
      "userId": "00157356232467016447"
     },
     "user_tz": -420
    },
    "id": "xL4mqflARIMp"
   },
   "outputs": [],
   "source": [
    "X = df.loc[:,['MedInc','AveRooms','HouseAge','AveBedrms','Population','AveOccup','Prox to center','Latitude','Longitude']]\n",
    "y = df.loc[:,'MedHouseVal']"
   ]
  },
  {
   "cell_type": "code",
   "execution_count": 21,
   "metadata": {
    "colab": {
     "base_uri": "https://localhost:8080/",
     "height": 300
    },
    "executionInfo": {
     "elapsed": 26,
     "status": "ok",
     "timestamp": 1678520158308,
     "user": {
      "displayName": "Quan La",
      "userId": "00157356232467016447"
     },
     "user_tz": -420
    },
    "id": "vB0srS3HQ_b7",
    "outputId": "41f685cc-819e-4677-d017-1d1cb021b09d"
   },
   "outputs": [
    {
     "data": {
      "text/html": [
       "\n",
       "  <div id=\"df-07eadfa9-4ca4-4f68-afe0-9dba2881966c\">\n",
       "    <div class=\"colab-df-container\">\n",
       "      <div>\n",
       "<style scoped>\n",
       "    .dataframe tbody tr th:only-of-type {\n",
       "        vertical-align: middle;\n",
       "    }\n",
       "\n",
       "    .dataframe tbody tr th {\n",
       "        vertical-align: top;\n",
       "    }\n",
       "\n",
       "    .dataframe thead th {\n",
       "        text-align: right;\n",
       "    }\n",
       "</style>\n",
       "<table border=\"1\" class=\"dataframe\">\n",
       "  <thead>\n",
       "    <tr style=\"text-align: right;\">\n",
       "      <th></th>\n",
       "      <th>MedInc</th>\n",
       "      <th>HouseAge</th>\n",
       "      <th>AveRooms</th>\n",
       "      <th>AveBedrms</th>\n",
       "      <th>Population</th>\n",
       "      <th>AveOccup</th>\n",
       "      <th>Prox to center</th>\n",
       "    </tr>\n",
       "  </thead>\n",
       "  <tbody>\n",
       "    <tr>\n",
       "      <th>count</th>\n",
       "      <td>20640.000000</td>\n",
       "      <td>20640.000000</td>\n",
       "      <td>20640.000000</td>\n",
       "      <td>20640.000000</td>\n",
       "      <td>20640.000000</td>\n",
       "      <td>20640.000000</td>\n",
       "      <td>20640.000000</td>\n",
       "    </tr>\n",
       "    <tr>\n",
       "      <th>mean</th>\n",
       "      <td>3.870671</td>\n",
       "      <td>28.639486</td>\n",
       "      <td>5.429000</td>\n",
       "      <td>1.096675</td>\n",
       "      <td>1425.476744</td>\n",
       "      <td>3.070655</td>\n",
       "      <td>285.122763</td>\n",
       "    </tr>\n",
       "    <tr>\n",
       "      <th>std</th>\n",
       "      <td>1.899822</td>\n",
       "      <td>12.585558</td>\n",
       "      <td>2.474173</td>\n",
       "      <td>0.473911</td>\n",
       "      <td>1132.462122</td>\n",
       "      <td>10.386050</td>\n",
       "      <td>174.090038</td>\n",
       "    </tr>\n",
       "    <tr>\n",
       "      <th>min</th>\n",
       "      <td>0.499900</td>\n",
       "      <td>1.000000</td>\n",
       "      <td>0.846154</td>\n",
       "      <td>0.333333</td>\n",
       "      <td>3.000000</td>\n",
       "      <td>0.692308</td>\n",
       "      <td>0.711552</td>\n",
       "    </tr>\n",
       "    <tr>\n",
       "      <th>25%</th>\n",
       "      <td>2.563400</td>\n",
       "      <td>18.000000</td>\n",
       "      <td>4.440716</td>\n",
       "      <td>1.006079</td>\n",
       "      <td>787.000000</td>\n",
       "      <td>2.429741</td>\n",
       "      <td>131.885184</td>\n",
       "    </tr>\n",
       "    <tr>\n",
       "      <th>50%</th>\n",
       "      <td>3.534800</td>\n",
       "      <td>29.000000</td>\n",
       "      <td>5.229129</td>\n",
       "      <td>1.048780</td>\n",
       "      <td>1166.000000</td>\n",
       "      <td>2.818116</td>\n",
       "      <td>223.934229</td>\n",
       "    </tr>\n",
       "    <tr>\n",
       "      <th>75%</th>\n",
       "      <td>4.743250</td>\n",
       "      <td>37.000000</td>\n",
       "      <td>6.052381</td>\n",
       "      <td>1.099526</td>\n",
       "      <td>1725.000000</td>\n",
       "      <td>3.282261</td>\n",
       "      <td>457.342468</td>\n",
       "    </tr>\n",
       "    <tr>\n",
       "      <th>max</th>\n",
       "      <td>15.000100</td>\n",
       "      <td>52.000000</td>\n",
       "      <td>141.909091</td>\n",
       "      <td>34.066667</td>\n",
       "      <td>35682.000000</td>\n",
       "      <td>1243.333333</td>\n",
       "      <td>927.714412</td>\n",
       "    </tr>\n",
       "  </tbody>\n",
       "</table>\n",
       "</div>\n",
       "      <button class=\"colab-df-convert\" onclick=\"convertToInteractive('df-07eadfa9-4ca4-4f68-afe0-9dba2881966c')\"\n",
       "              title=\"Convert this dataframe to an interactive table.\"\n",
       "              style=\"display:none;\">\n",
       "        \n",
       "  <svg xmlns=\"http://www.w3.org/2000/svg\" height=\"24px\"viewBox=\"0 0 24 24\"\n",
       "       width=\"24px\">\n",
       "    <path d=\"M0 0h24v24H0V0z\" fill=\"none\"/>\n",
       "    <path d=\"M18.56 5.44l.94 2.06.94-2.06 2.06-.94-2.06-.94-.94-2.06-.94 2.06-2.06.94zm-11 1L8.5 8.5l.94-2.06 2.06-.94-2.06-.94L8.5 2.5l-.94 2.06-2.06.94zm10 10l.94 2.06.94-2.06 2.06-.94-2.06-.94-.94-2.06-.94 2.06-2.06.94z\"/><path d=\"M17.41 7.96l-1.37-1.37c-.4-.4-.92-.59-1.43-.59-.52 0-1.04.2-1.43.59L10.3 9.45l-7.72 7.72c-.78.78-.78 2.05 0 2.83L4 21.41c.39.39.9.59 1.41.59.51 0 1.02-.2 1.41-.59l7.78-7.78 2.81-2.81c.8-.78.8-2.07 0-2.86zM5.41 20L4 18.59l7.72-7.72 1.47 1.35L5.41 20z\"/>\n",
       "  </svg>\n",
       "      </button>\n",
       "      \n",
       "  <style>\n",
       "    .colab-df-container {\n",
       "      display:flex;\n",
       "      flex-wrap:wrap;\n",
       "      gap: 12px;\n",
       "    }\n",
       "\n",
       "    .colab-df-convert {\n",
       "      background-color: #E8F0FE;\n",
       "      border: none;\n",
       "      border-radius: 50%;\n",
       "      cursor: pointer;\n",
       "      display: none;\n",
       "      fill: #1967D2;\n",
       "      height: 32px;\n",
       "      padding: 0 0 0 0;\n",
       "      width: 32px;\n",
       "    }\n",
       "\n",
       "    .colab-df-convert:hover {\n",
       "      background-color: #E2EBFA;\n",
       "      box-shadow: 0px 1px 2px rgba(60, 64, 67, 0.3), 0px 1px 3px 1px rgba(60, 64, 67, 0.15);\n",
       "      fill: #174EA6;\n",
       "    }\n",
       "\n",
       "    [theme=dark] .colab-df-convert {\n",
       "      background-color: #3B4455;\n",
       "      fill: #D2E3FC;\n",
       "    }\n",
       "\n",
       "    [theme=dark] .colab-df-convert:hover {\n",
       "      background-color: #434B5C;\n",
       "      box-shadow: 0px 1px 3px 1px rgba(0, 0, 0, 0.15);\n",
       "      filter: drop-shadow(0px 1px 2px rgba(0, 0, 0, 0.3));\n",
       "      fill: #FFFFFF;\n",
       "    }\n",
       "  </style>\n",
       "\n",
       "      <script>\n",
       "        const buttonEl =\n",
       "          document.querySelector('#df-07eadfa9-4ca4-4f68-afe0-9dba2881966c button.colab-df-convert');\n",
       "        buttonEl.style.display =\n",
       "          google.colab.kernel.accessAllowed ? 'block' : 'none';\n",
       "\n",
       "        async function convertToInteractive(key) {\n",
       "          const element = document.querySelector('#df-07eadfa9-4ca4-4f68-afe0-9dba2881966c');\n",
       "          const dataTable =\n",
       "            await google.colab.kernel.invokeFunction('convertToInteractive',\n",
       "                                                     [key], {});\n",
       "          if (!dataTable) return;\n",
       "\n",
       "          const docLinkHtml = 'Like what you see? Visit the ' +\n",
       "            '<a target=\"_blank\" href=https://colab.research.google.com/notebooks/data_table.ipynb>data table notebook</a>'\n",
       "            + ' to learn more about interactive tables.';\n",
       "          element.innerHTML = '';\n",
       "          dataTable['output_type'] = 'display_data';\n",
       "          await google.colab.output.renderOutput(dataTable, element);\n",
       "          const docLink = document.createElement('div');\n",
       "          docLink.innerHTML = docLinkHtml;\n",
       "          element.appendChild(docLink);\n",
       "        }\n",
       "      </script>\n",
       "    </div>\n",
       "  </div>\n",
       "  "
      ],
      "text/plain": [
       "             MedInc      HouseAge      AveRooms     AveBedrms    Population  \\\n",
       "count  20640.000000  20640.000000  20640.000000  20640.000000  20640.000000   \n",
       "mean       3.870671     28.639486      5.429000      1.096675   1425.476744   \n",
       "std        1.899822     12.585558      2.474173      0.473911   1132.462122   \n",
       "min        0.499900      1.000000      0.846154      0.333333      3.000000   \n",
       "25%        2.563400     18.000000      4.440716      1.006079    787.000000   \n",
       "50%        3.534800     29.000000      5.229129      1.048780   1166.000000   \n",
       "75%        4.743250     37.000000      6.052381      1.099526   1725.000000   \n",
       "max       15.000100     52.000000    141.909091     34.066667  35682.000000   \n",
       "\n",
       "           AveOccup  Prox to center  \n",
       "count  20640.000000    20640.000000  \n",
       "mean       3.070655      285.122763  \n",
       "std       10.386050      174.090038  \n",
       "min        0.692308        0.711552  \n",
       "25%        2.429741      131.885184  \n",
       "50%        2.818116      223.934229  \n",
       "75%        3.282261      457.342468  \n",
       "max     1243.333333      927.714412  "
      ]
     },
     "execution_count": 21,
     "metadata": {},
     "output_type": "execute_result"
    }
   ],
   "source": [
    "X.describe()"
   ]
  },
  {
   "cell_type": "code",
   "execution_count": 22,
   "metadata": {
    "colab": {
     "base_uri": "https://localhost:8080/"
    },
    "executionInfo": {
     "elapsed": 345,
     "status": "ok",
     "timestamp": 1678520167355,
     "user": {
      "displayName": "Quan La",
      "userId": "00157356232467016447"
     },
     "user_tz": -420
    },
    "id": "RkCsuIB_TL79",
    "outputId": "02c23410-d48d-460c-dc5a-2bc2c1b0cfeb"
   },
   "outputs": [
    {
     "data": {
      "text/plain": [
       "count    20640.000000\n",
       "mean         2.068558\n",
       "std          1.153956\n",
       "min          0.149990\n",
       "25%          1.196000\n",
       "50%          1.797000\n",
       "75%          2.647250\n",
       "max          5.000010\n",
       "Name: MedHouseVal, dtype: float64"
      ]
     },
     "execution_count": 22,
     "metadata": {},
     "output_type": "execute_result"
    }
   ],
   "source": [
    "y.describe()"
   ]
  },
  {
   "cell_type": "markdown",
   "metadata": {
    "id": "Wqj2Hp-2TQ4Y"
   },
   "source": [
    "### 2. Train and use model"
   ]
  },
  {
   "cell_type": "code",
   "execution_count": 35,
   "metadata": {
    "colab": {
     "base_uri": "https://localhost:8080/"
    },
    "executionInfo": {
     "elapsed": 4485,
     "status": "ok",
     "timestamp": 1678520661256,
     "user": {
      "displayName": "Quan La",
      "userId": "00157356232467016447"
     },
     "user_tz": -420
    },
    "id": "A02aKopnT7Nc",
    "outputId": "ce495e5c-3288-44ff-ce3b-1e3694bf12fe"
   },
   "outputs": [
    {
     "name": "stdout",
     "output_type": "stream",
     "text": [
      "RMSE value: 0.5404981092718946\n"
     ]
    }
   ],
   "source": [
    "X_train, X_test, y_train, y_test = train_test_split (X, y, test_size = 0.2)\n",
    "pipe = Pipeline(steps = [('scale',MinMaxScaler()), \\\n",
    "                         ('boost',GradientBoostingRegressor())])\n",
    "pipe.fit(X_train, y_train)\n",
    "y_hat = pipe.predict(X_test)\n",
    "print('RMSE value: {}'.format(np.sqrt(mean_squared_error(y_hat, y_test))))"
   ]
  },
  {
   "cell_type": "markdown",
   "metadata": {
    "id": "XpEvpfgsfhVz"
   },
   "source": [
    "### 3. Choose hyperparameters"
   ]
  },
  {
   "cell_type": "code",
   "execution_count": 24,
   "metadata": {
    "executionInfo": {
     "elapsed": 424,
     "status": "ok",
     "timestamp": 1678520190247,
     "user": {
      "displayName": "Quan La",
      "userId": "00157356232467016447"
     },
     "user_tz": -420
    },
    "id": "8begaGc2nJxL"
   },
   "outputs": [],
   "source": [
    "params = {'learning_rate':[0.1, 0.5, 1],\n",
    "          'n_estimators' :[60, 100, 200]}\n",
    "gscv = GridSearchCV(GradientBoostingRegressor(), param_grid = params, scoring = 'neg_mean_squared_error')\n"
   ]
  },
  {
   "cell_type": "code",
   "execution_count": 36,
   "metadata": {
    "colab": {
     "base_uri": "https://localhost:8080/"
    },
    "executionInfo": {
     "elapsed": 196890,
     "status": "ok",
     "timestamp": 1678520894383,
     "user": {
      "displayName": "Quan La",
      "userId": "00157356232467016447"
     },
     "user_tz": -420
    },
    "id": "yEkhc9KTjuOe",
    "outputId": "73b72c32-0d36-47b5-a1e9-8d707a4371c4"
   },
   "outputs": [
    {
     "name": "stdout",
     "output_type": "stream",
     "text": [
      "RMSE value: 0.5003007355185096\n"
     ]
    }
   ],
   "source": [
    "pipe2 = Pipeline(steps = [('scale',MinMaxScaler()), \\\n",
    "                          ('grid',GridSearchCV(GradientBoostingRegressor(), param_grid = params, scoring = 'neg_mean_squared_error'))])\n",
    "pipe2.fit(X_train, y_train)\n",
    "y_hat = pipe2.predict(X_test)\n",
    "print('RMSE value: {}'.format(np.sqrt(mean_squared_error(y_hat, y_test))))"
   ]
  },
  {
   "cell_type": "markdown",
   "metadata": {
    "id": "3_OgQevsW3z2"
   },
   "source": [
    "Câu 2: Sử dụng một thuật toán phân loại với kỹ thuật boosting để đưa ra dự đoán loại rượu trên bộ dữ liệu [wine](https://scikit-learn.org/stable/modules/generated/sklearn.datasets.load_wine.html#sklearn.datasets.load_wine) từ `scikit-learn` với các bước \n",
    "\n",
    "- EDA \n",
    "- Huấn luyện và đánh giá mô hình trên tập train/test\n",
    "- Tìm các tham số tối ưu cho mô hình đã chọn"
   ]
  },
  {
   "cell_type": "markdown",
   "metadata": {
    "id": "cJiSujGeuhDk"
   },
   "source": [
    "### 0. Load dataset"
   ]
  },
  {
   "cell_type": "code",
   "execution_count": 54,
   "metadata": {
    "executionInfo": {
     "elapsed": 11,
     "status": "ok",
     "timestamp": 1678522244316,
     "user": {
      "displayName": "Quan La",
      "userId": "00157356232467016447"
     },
     "user_tz": -420
    },
    "id": "2QpDCdrVu9_i"
   },
   "outputs": [],
   "source": [
    "from sklearn.datasets import load_wine\n",
    "from sklearn.ensemble import AdaBoostClassifier\n",
    "from sklearn.tree import DecisionTreeClassifier\n",
    "from sklearn.metrics import classification_report\n",
    "from matplotlib import pyplot as plt \n",
    "import seaborn as sns"
   ]
  },
  {
   "cell_type": "code",
   "execution_count": 39,
   "metadata": {
    "colab": {
     "base_uri": "https://localhost:8080/"
    },
    "executionInfo": {
     "elapsed": 15,
     "status": "ok",
     "timestamp": 1678521060950,
     "user": {
      "displayName": "Quan La",
      "userId": "00157356232467016447"
     },
     "user_tz": -420
    },
    "id": "1s8dD_p3C3TZ",
    "outputId": "780917cf-941c-407b-cf74-16ce5f4457b2"
   },
   "outputs": [
    {
     "name": "stdout",
     "output_type": "stream",
     "text": [
      "(178, 13)\n",
      "(178,)\n",
      "['alcohol', 'malic_acid', 'ash', 'alcalinity_of_ash', 'magnesium', 'total_phenols', 'flavanoids', 'nonflavanoid_phenols', 'proanthocyanins', 'color_intensity', 'hue', 'od280/od315_of_diluted_wines', 'proline']\n"
     ]
    }
   ],
   "source": [
    "X, y = load_wine(return_X_y = True)\n",
    "f_names = load_wine().feature_names\n",
    "\n",
    "print(X.shape)\n",
    "print(y.shape)\n",
    "print(f_names)"
   ]
  },
  {
   "cell_type": "code",
   "execution_count": null,
   "metadata": {
    "colab": {
     "base_uri": "https://localhost:8080/"
    },
    "executionInfo": {
     "elapsed": 2107,
     "status": "ok",
     "timestamp": 1678455297032,
     "user": {
      "displayName": "Quan La",
      "userId": "00157356232467016447"
     },
     "user_tz": -420
    },
    "id": "X7HjYxOUue1e",
    "outputId": "5c204f4f-3fee-4a1f-cb63-affb6981c5c6"
   },
   "outputs": [
    {
     "data": {
      "text/plain": [
       "array([[1.423e+01, 1.710e+00, 2.430e+00, 1.560e+01, 1.270e+02, 2.800e+00,\n",
       "        3.060e+00, 2.800e-01, 2.290e+00, 5.640e+00, 1.040e+00, 3.920e+00,\n",
       "        1.065e+03],\n",
       "       [1.320e+01, 1.780e+00, 2.140e+00, 1.120e+01, 1.000e+02, 2.650e+00,\n",
       "        2.760e+00, 2.600e-01, 1.280e+00, 4.380e+00, 1.050e+00, 3.400e+00,\n",
       "        1.050e+03],\n",
       "       [1.316e+01, 2.360e+00, 2.670e+00, 1.860e+01, 1.010e+02, 2.800e+00,\n",
       "        3.240e+00, 3.000e-01, 2.810e+00, 5.680e+00, 1.030e+00, 3.170e+00,\n",
       "        1.185e+03],\n",
       "       [1.437e+01, 1.950e+00, 2.500e+00, 1.680e+01, 1.130e+02, 3.850e+00,\n",
       "        3.490e+00, 2.400e-01, 2.180e+00, 7.800e+00, 8.600e-01, 3.450e+00,\n",
       "        1.480e+03],\n",
       "       [1.324e+01, 2.590e+00, 2.870e+00, 2.100e+01, 1.180e+02, 2.800e+00,\n",
       "        2.690e+00, 3.900e-01, 1.820e+00, 4.320e+00, 1.040e+00, 2.930e+00,\n",
       "        7.350e+02]])"
      ]
     },
     "execution_count": 28,
     "metadata": {},
     "output_type": "execute_result"
    }
   ],
   "source": [
    "X[:5]"
   ]
  },
  {
   "cell_type": "code",
   "execution_count": null,
   "metadata": {
    "colab": {
     "base_uri": "https://localhost:8080/"
    },
    "executionInfo": {
     "elapsed": 7,
     "status": "ok",
     "timestamp": 1678455323173,
     "user": {
      "displayName": "Quan La",
      "userId": "00157356232467016447"
     },
     "user_tz": -420
    },
    "id": "SlF2GcN2u0X_",
    "outputId": "c332c349-961e-497e-bf13-241e9318ab36"
   },
   "outputs": [
    {
     "data": {
      "text/plain": [
       "array([0, 0, 0, 0, 0])"
      ]
     },
     "execution_count": 29,
     "metadata": {},
     "output_type": "execute_result"
    }
   ],
   "source": [
    "y[:5]"
   ]
  },
  {
   "cell_type": "code",
   "execution_count": 49,
   "metadata": {
    "colab": {
     "base_uri": "https://localhost:8080/"
    },
    "executionInfo": {
     "elapsed": 378,
     "status": "ok",
     "timestamp": 1678521537522,
     "user": {
      "displayName": "Quan La",
      "userId": "00157356232467016447"
     },
     "user_tz": -420
    },
    "id": "f6mkPylRrTeU",
    "outputId": "6660acf2-3c53-4117-9049-71c5609f6ae1"
   },
   "outputs": [
    {
     "data": {
      "text/plain": [
       "(array([0, 1, 2]), array([59, 71, 48]))"
      ]
     },
     "execution_count": 49,
     "metadata": {},
     "output_type": "execute_result"
    }
   ],
   "source": [
    "np.unique(y, return_counts = True)"
   ]
  },
  {
   "cell_type": "markdown",
   "metadata": {
    "id": "eGUAMcqevV3h"
   },
   "source": [
    "### 1. EDA"
   ]
  },
  {
   "cell_type": "markdown",
   "metadata": {
    "id": "hYmA0EK2p74w"
   },
   "source": [
    "xác định phân phối của mỗi feature theo 2 class 1 và 0, thực hiện bằng biểu đồ boxplot"
   ]
  },
  {
   "cell_type": "code",
   "execution_count": 53,
   "metadata": {
    "colab": {
     "base_uri": "https://localhost:8080/",
     "height": 557
    },
    "executionInfo": {
     "elapsed": 2935,
     "status": "ok",
     "timestamp": 1678521989060,
     "user": {
      "displayName": "Quan La",
      "userId": "00157356232467016447"
     },
     "user_tz": -420
    },
    "id": "ZFW4Fy7UqTtB",
    "outputId": "f08ab6cd-43cd-4a46-97b5-d51ac4b12a51"
   },
   "outputs": [
    {
     "data": {
      "text/plain": [
       "<function matplotlib.pyplot.show(close=None, block=None)>"
      ]
     },
     "execution_count": 53,
     "metadata": {},
     "output_type": "execute_result"
    },
    {
     "data": {
      "image/png": "[encoded data removed]",
      "text/plain": [
       "<Figure size 1080x648 with 15 Axes>"
      ]
     },
     "metadata": {
      "needs_background": "light"
     },
     "output_type": "display_data"
    }
   ],
   "source": [
    "fig, ax = plt.subplots(3, 5, figsize = (15, 9))\n",
    "for i in range(13):\n",
    "  i_row = i // 5\n",
    "  i_col = i % 5\n",
    "  sns.boxplot(x = y, y = X[:,i], ax = ax[i_row, i_col])\n",
    "plt.show"
   ]
  },
  {
   "cell_type": "markdown",
   "metadata": {
    "id": "WW7JE4NIvfzD"
   },
   "source": [
    "### 2.Train and use model"
   ]
  },
  {
   "cell_type": "code",
   "execution_count": 58,
   "metadata": {
    "colab": {
     "base_uri": "https://localhost:8080/"
    },
    "executionInfo": {
     "elapsed": 315,
     "status": "ok",
     "timestamp": 1678522896419,
     "user": {
      "displayName": "Quan La",
      "userId": "00157356232467016447"
     },
     "user_tz": -420
    },
    "id": "eS0IfS7Uvenn",
    "outputId": "a908b86f-309e-4045-9816-af0e42410bc4"
   },
   "outputs": [
    {
     "data": {
      "text/plain": [
       "3"
      ]
     },
     "execution_count": 58,
     "metadata": {},
     "output_type": "execute_result"
    }
   ],
   "source": [
    "boost.n_classes_"
   ]
  },
  {
   "cell_type": "code",
   "execution_count": 57,
   "metadata": {
    "colab": {
     "base_uri": "https://localhost:8080/"
    },
    "executionInfo": {
     "elapsed": 12,
     "status": "ok",
     "timestamp": 1678522880820,
     "user": {
      "displayName": "Quan La",
      "userId": "00157356232467016447"
     },
     "user_tz": -420
    },
    "id": "GwDAECh2u62W",
    "outputId": "c1b4b0f2-ddb5-435a-e676-6a14338db8d4"
   },
   "outputs": [
    {
     "name": "stdout",
     "output_type": "stream",
     "text": [
      "Tỷ lệ phân loại đúng trên tập test:  92.59%\n"
     ]
    }
   ],
   "source": [
    "X_train, X_test, y_train, y_test = train_test_split (X, y, test_size = 0.15)\n",
    "boost = AdaBoostClassifier()\n",
    "boost.fit(X_train, y_train)\n",
    "y_hat = boost.predict(X_test)\n",
    "\n",
    "cnt = sum(y_hat == y_test)\n",
    "pct = \"{:.2%}\".format(cnt / len(y_test))\n",
    "print('Tỷ lệ phân loại đúng trên tập test: ', pct)"
   ]
  },
  {
   "cell_type": "markdown",
   "metadata": {
    "id": "Yhyv6_pBwdQ8"
   },
   "source": [
    "### 3. Choose hyperparameter"
   ]
  },
  {
   "cell_type": "code",
   "execution_count": 59,
   "metadata": {
    "colab": {
     "base_uri": "https://localhost:8080/"
    },
    "executionInfo": {
     "elapsed": 4126,
     "status": "ok",
     "timestamp": 1678522904587,
     "user": {
      "displayName": "Quan La",
      "userId": "00157356232467016447"
     },
     "user_tz": -420
    },
    "id": "p-0VulliwcVs",
    "outputId": "b58f64ef-0b6a-4936-dd9d-a4df283f5f70"
   },
   "outputs": [
    {
     "name": "stdout",
     "output_type": "stream",
     "text": [
      "              precision    recall  f1-score   support\n",
      "\n",
      "           0       0.90      1.00      0.95         9\n",
      "           1       1.00      0.82      0.90        11\n",
      "           2       0.88      1.00      0.93         7\n",
      "\n",
      "    accuracy                           0.93        27\n",
      "   macro avg       0.92      0.94      0.93        27\n",
      "weighted avg       0.93      0.93      0.92        27\n",
      "\n"
     ]
    }
   ],
   "source": [
    "params = {'learning_rate':[0.1, 1, 10],\n",
    "          'n_estimators' :[25, 50, 100]}\n",
    "gscv = GridSearchCV(AdaBoostClassifier(), param_grid = params, scoring = 'f1_macro')\n",
    "gscv.fit(X_train, y_train)\n",
    "y_hat = gscv.predict(X_test)\n",
    "print(classification_report(y_hat, y_test))"
   ]
  }
 ],
 "metadata": {
  "colab": {
   "provenance": [
    {
     "file_id": "1m0DB2oq0xFiyStFjtb0HRwKIkBzHN_PI",
     "timestamp": 1678203551683
    }
   ]
  },
  "kernelspec": {
   "display_name": "Python 3",
   "language": "python",
   "name": "python3"
  },
  "language_info": {
   "codemirror_mode": {
    "name": "ipython",
    "version": 3
   },
   "file_extension": ".py",
   "mimetype": "text/x-python",
   "name": "python",
   "nbconvert_exporter": "python",
   "pygments_lexer": "ipython3",
   "version": "3.8.10"
  },
  "latex_envs": {
   "LaTeX_envs_menu_present": true,
   "autoclose": false,
   "autocomplete": true,
   "bibliofile": "biblio.bib",
   "cite_by": "apalike",
   "current_citInitial": 1,
   "eqLabelWithNumbers": true,
   "eqNumInitial": 1,
   "hotkeys": {
    "equation": "Ctrl-E",
    "itemize": "Ctrl-I"
   },
   "labels_anchors": false,
   "latex_user_defs": false,
   "report_style_numbering": false,
   "user_envs_cfg": false
  }
 },
 "nbformat": 4,
 "nbformat_minor": 1
}
