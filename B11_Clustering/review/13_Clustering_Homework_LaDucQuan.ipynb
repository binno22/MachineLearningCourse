{
 "cells": [
  {
   "cell_type": "markdown",
   "metadata": {
    "id": "AIWVhN6YXOcN"
   },
   "source": [
    "# I. Lý thuyết (5 điểm - 10 câu, mỗi câu 0.5 điểm)"
   ]
  },
  {
   "cell_type": "markdown",
   "metadata": {
    "id": "Y6r17g4AXW3s"
   },
   "source": [
    "Câu 1: Thuật toán K-means thuộc lớp bài toán nào?\n",
    "\n",
    "A. Supervised Learning \n",
    "\n",
    "B. Unsupervised Learning \n",
    "\n",
    "C. Semi-Supervised Learning \n",
    "\n",
    "D. Reinforcement Learning"
   ]
  },
  {
   "cell_type": "markdown",
   "metadata": {
    "id": "8veSwnMr5dta"
   },
   "source": [
    "Chọn đáp án B"
   ]
  },
  {
   "cell_type": "markdown",
   "metadata": {
    "id": "1bu-4Ex3XXHE"
   },
   "source": [
    "Câu 2: Thuật toán K-means thuộc kiểu phân cụm nào?\n",
    "\n",
    "A. Partition Clustering \n",
    "\n",
    "B. Hierarchical Clustering \n",
    "\n",
    "C. Density-based Clustering\n",
    "\n",
    "D. All of the mentioned"
   ]
  },
  {
   "cell_type": "markdown",
   "metadata": {
    "id": "j_0wZVJM5qze"
   },
   "source": [
    "Chọn đáp án A"
   ]
  },
  {
   "cell_type": "markdown",
   "metadata": {
    "id": "swg6ekctXXJ8"
   },
   "source": [
    "Câu 3: Ý nghĩa của biểu đồ dendrogram của thuật toán Hierarchical Clustering là gì?\n",
    "\n",
    "A. Thể hiện khoảng cách giữa các cụm.\n",
    "\n",
    "B. Thể hiện mối liên hệ phân cụm giữa các điểm dữ liệu trong tập huấn luyện.\n",
    "\n",
    "C. Là biểu đồ trực quan để lựa chọn số cụm dựa trên ngưỡng threshold về khoảng cách giữa các cụm.\n",
    "\n",
    "D. Cả 3 đáp án trên"
   ]
  },
  {
   "cell_type": "markdown",
   "metadata": {
    "id": "4PXLhqmu6Qs3"
   },
   "source": [
    "Chọn đáp án D"
   ]
  },
  {
   "cell_type": "markdown",
   "metadata": {
    "id": "AdihPGVZXXMk"
   },
   "source": [
    "Câu 4: Điều nào sau đây được yêu cầu bởi thuật toán phân cụm K-means? \n",
    "\n",
    "A. Metric khoảng cách cần được xác định \n",
    "\n",
    "B. Số cụm \n",
    "\n",
    "C. Giá trị khởi tạo của tọa độ mỗi tâm cụm\n",
    "\n",
    "D. Cả 3 đáp án trên"
   ]
  },
  {
   "cell_type": "markdown",
   "metadata": {
    "id": "i7AKj5lm6WBB"
   },
   "source": [
    "Chọn đáp án D"
   ]
  },
  {
   "cell_type": "markdown",
   "metadata": {
    "id": "tOsX8HouXXPE"
   },
   "source": [
    "Câu 5: Đâu là khẳng định sai \n",
    "\n",
    "A. Thuật toán K-means sử dụng kỹ thuật Partitioning Clustering \n",
    "\n",
    "B. Thuật toán K-means phân bổ $n$ quan sát ban đầu về $k$ tâm cụm.\n",
    "\n",
    "C. Thuật oán K-means giống với thuật toán K-nearest neighbor vì chúng đều thuộc lớp bài toán học có giám sát.\n",
    "\n",
    "D. Cả 3 đáp án trên"
   ]
  },
  {
   "cell_type": "markdown",
   "metadata": {
    "id": "QX8vMXkd6eC7"
   },
   "source": [
    "Chọn đáp án C"
   ]
  },
  {
   "cell_type": "markdown",
   "metadata": {
    "id": "ELbkTFu5XXRd"
   },
   "source": [
    "Câu 6: Theo chiến lược hợp nhất (`Agglomerative Hierarchical Clustering`), ở thời điểm ban đầu chúng ta có tổng cộng bao nhiêu cụm?\n",
    "\n",
    "A. 1 \n",
    "\n",
    "B. $n$ (với $n$ là tổng số quan sát)\n",
    "\n",
    "C. $k$ bất kỳ được xác định trước \n",
    "\n",
    "D. Không có đáp án nào trong các đáp án trên"
   ]
  },
  {
   "cell_type": "markdown",
   "metadata": {
    "id": "t_eroUW56kX2"
   },
   "source": [
    "Chọn đáp án B"
   ]
  },
  {
   "cell_type": "markdown",
   "metadata": {
    "id": "rFyPAFXAXXT8"
   },
   "source": [
    "Câu 7: Đâu là phương pháp được dùng để tìm ra số cụm tối ưu của thuật toán K-means\n",
    "\n",
    "A. Elbow Method \n",
    "\n",
    "B. Manhattan method\n",
    "\n",
    "C. Ecludian method\n",
    "\n",
    "D. All of the above"
   ]
  },
  {
   "cell_type": "markdown",
   "metadata": {
    "id": "dT1YDfOg-Cm8"
   },
   "source": [
    "Chọn đáp án A"
   ]
  },
  {
   "cell_type": "markdown",
   "metadata": {
    "id": "NOLPp6PTXXWk"
   },
   "source": [
    "Câu 8: Thuật toán DBSCAN thuộc kiểu phân cụm nào?\n",
    "\n",
    "A. Partition Clustering \n",
    "\n",
    "B. Hierarchical Clustering \n",
    "\n",
    "C. Density-based Clustering\n",
    "\n",
    "D. All of the aformentioned"
   ]
  },
  {
   "cell_type": "markdown",
   "metadata": {
    "id": "yhUcvd98FDjn"
   },
   "source": [
    "Chọn đáp án B - **Sai - Đáp án C**"
   ]
  },
  {
   "cell_type": "markdown",
   "metadata": {
    "id": "xM6L5NiZXXbH"
   },
   "source": [
    "Câu 9: Đâu là nhược điểm của thuật toán K-means\n",
    "\n",
    "A. Chúng ta cần xác định số cụm trước cho thuật toán\n",
    "\n",
    "B. Kết quả phân cụm sẽ bị phụ thuộc vào điểm khởi tạo ban đầu của chúng.\n",
    "\n",
    "C. Thuật toán rất nhạy cảm với outliers\n",
    "\n",
    "D. All of the aformentioned"
   ]
  },
  {
   "cell_type": "markdown",
   "metadata": {
    "id": "NAaMYH0D-mCn"
   },
   "source": [
    "Chọn đáp án C **Sai - Đáp án D**"
   ]
  },
  {
   "cell_type": "markdown",
   "metadata": {
    "id": "rI94zS39XXg3"
   },
   "source": [
    "Câu 10: Thuật toán phân cụm phân cấp gồm những chiến lược nào?\n",
    "\n",
    "A. Chiến lược hợp nhất (agglomerative)\n",
    "\n",
    "B. Chiến lược phân chia (divisive)\n",
    "\n",
    "C. Cả hai đáp án trên \n",
    "\n",
    "D. Không có đáp án nào đúng. "
   ]
  },
  {
   "cell_type": "markdown",
   "metadata": {
    "id": "rJesSVsjFGJb"
   },
   "source": [
    "Chọn đáp án C"
   ]
  },
  {
   "cell_type": "markdown",
   "metadata": {
    "id": "Ffs3Sp1ifuYU"
   },
   "source": [
    "# II. Thực hành (3 câu - 1đ - 2đ - 2đ)\n",
    "\n",
    "Câu 1: Sử dụng bộ dữ liệu [wine](https://scikit-learn.org/stable/modules/generated/sklearn.datasets.load_wine.html#sklearn.datasets.load_wine) từ `scikit-learn` thực hiện EDA. "
   ]
  },
  {
   "cell_type": "code",
   "execution_count": null,
   "metadata": {
    "id": "ln-6T0i1fxST"
   },
   "outputs": [],
   "source": [
    "from sklearn.datasets import load_wine\n",
    "import pandas as pd\n",
    "df = load_wine(as_frame = True).data"
   ]
  },
  {
   "cell_type": "code",
   "execution_count": null,
   "metadata": {
    "colab": {
     "base_uri": "https://localhost:8080/",
     "height": 364
    },
    "id": "RYSyDxsMXhkk",
    "outputId": "ac3f389a-0c8c-485c-a23e-3e65fd4d2b7c"
   },
   "outputs": [
    {
     "data": {
      "text/html": [
       "\n",
       "  <div id=\"df-7cf7de79-1a88-45e7-9053-9ea125b53244\">\n",
       "    <div class=\"colab-df-container\">\n",
       "      <div>\n",
       "<style scoped>\n",
       "    .dataframe tbody tr th:only-of-type {\n",
       "        vertical-align: middle;\n",
       "    }\n",
       "\n",
       "    .dataframe tbody tr th {\n",
       "        vertical-align: top;\n",
       "    }\n",
       "\n",
       "    .dataframe thead th {\n",
       "        text-align: right;\n",
       "    }\n",
       "</style>\n",
       "<table border=\"1\" class=\"dataframe\">\n",
       "  <thead>\n",
       "    <tr style=\"text-align: right;\">\n",
       "      <th></th>\n",
       "      <th>alcohol</th>\n",
       "      <th>malic_acid</th>\n",
       "      <th>ash</th>\n",
       "      <th>alcalinity_of_ash</th>\n",
       "      <th>magnesium</th>\n",
       "      <th>total_phenols</th>\n",
       "      <th>flavanoids</th>\n",
       "      <th>nonflavanoid_phenols</th>\n",
       "      <th>proanthocyanins</th>\n",
       "      <th>color_intensity</th>\n",
       "      <th>hue</th>\n",
       "      <th>od280/od315_of_diluted_wines</th>\n",
       "      <th>proline</th>\n",
       "    </tr>\n",
       "  </thead>\n",
       "  <tbody>\n",
       "    <tr>\n",
       "      <th>count</th>\n",
       "      <td>178.000000</td>\n",
       "      <td>178.000000</td>\n",
       "      <td>178.000000</td>\n",
       "      <td>178.000000</td>\n",
       "      <td>178.000000</td>\n",
       "      <td>178.000000</td>\n",
       "      <td>178.000000</td>\n",
       "      <td>178.000000</td>\n",
       "      <td>178.000000</td>\n",
       "      <td>178.000000</td>\n",
       "      <td>178.000000</td>\n",
       "      <td>178.000000</td>\n",
       "      <td>178.000000</td>\n",
       "    </tr>\n",
       "    <tr>\n",
       "      <th>mean</th>\n",
       "      <td>13.000618</td>\n",
       "      <td>2.336348</td>\n",
       "      <td>2.366517</td>\n",
       "      <td>19.494944</td>\n",
       "      <td>99.741573</td>\n",
       "      <td>2.295112</td>\n",
       "      <td>2.029270</td>\n",
       "      <td>0.361854</td>\n",
       "      <td>1.590899</td>\n",
       "      <td>5.058090</td>\n",
       "      <td>0.957449</td>\n",
       "      <td>2.611685</td>\n",
       "      <td>746.893258</td>\n",
       "    </tr>\n",
       "    <tr>\n",
       "      <th>std</th>\n",
       "      <td>0.811827</td>\n",
       "      <td>1.117146</td>\n",
       "      <td>0.274344</td>\n",
       "      <td>3.339564</td>\n",
       "      <td>14.282484</td>\n",
       "      <td>0.625851</td>\n",
       "      <td>0.998859</td>\n",
       "      <td>0.124453</td>\n",
       "      <td>0.572359</td>\n",
       "      <td>2.318286</td>\n",
       "      <td>0.228572</td>\n",
       "      <td>0.709990</td>\n",
       "      <td>314.907474</td>\n",
       "    </tr>\n",
       "    <tr>\n",
       "      <th>min</th>\n",
       "      <td>11.030000</td>\n",
       "      <td>0.740000</td>\n",
       "      <td>1.360000</td>\n",
       "      <td>10.600000</td>\n",
       "      <td>70.000000</td>\n",
       "      <td>0.980000</td>\n",
       "      <td>0.340000</td>\n",
       "      <td>0.130000</td>\n",
       "      <td>0.410000</td>\n",
       "      <td>1.280000</td>\n",
       "      <td>0.480000</td>\n",
       "      <td>1.270000</td>\n",
       "      <td>278.000000</td>\n",
       "    </tr>\n",
       "    <tr>\n",
       "      <th>25%</th>\n",
       "      <td>12.362500</td>\n",
       "      <td>1.602500</td>\n",
       "      <td>2.210000</td>\n",
       "      <td>17.200000</td>\n",
       "      <td>88.000000</td>\n",
       "      <td>1.742500</td>\n",
       "      <td>1.205000</td>\n",
       "      <td>0.270000</td>\n",
       "      <td>1.250000</td>\n",
       "      <td>3.220000</td>\n",
       "      <td>0.782500</td>\n",
       "      <td>1.937500</td>\n",
       "      <td>500.500000</td>\n",
       "    </tr>\n",
       "    <tr>\n",
       "      <th>50%</th>\n",
       "      <td>13.050000</td>\n",
       "      <td>1.865000</td>\n",
       "      <td>2.360000</td>\n",
       "      <td>19.500000</td>\n",
       "      <td>98.000000</td>\n",
       "      <td>2.355000</td>\n",
       "      <td>2.135000</td>\n",
       "      <td>0.340000</td>\n",
       "      <td>1.555000</td>\n",
       "      <td>4.690000</td>\n",
       "      <td>0.965000</td>\n",
       "      <td>2.780000</td>\n",
       "      <td>673.500000</td>\n",
       "    </tr>\n",
       "    <tr>\n",
       "      <th>75%</th>\n",
       "      <td>13.677500</td>\n",
       "      <td>3.082500</td>\n",
       "      <td>2.557500</td>\n",
       "      <td>21.500000</td>\n",
       "      <td>107.000000</td>\n",
       "      <td>2.800000</td>\n",
       "      <td>2.875000</td>\n",
       "      <td>0.437500</td>\n",
       "      <td>1.950000</td>\n",
       "      <td>6.200000</td>\n",
       "      <td>1.120000</td>\n",
       "      <td>3.170000</td>\n",
       "      <td>985.000000</td>\n",
       "    </tr>\n",
       "    <tr>\n",
       "      <th>max</th>\n",
       "      <td>14.830000</td>\n",
       "      <td>5.800000</td>\n",
       "      <td>3.230000</td>\n",
       "      <td>30.000000</td>\n",
       "      <td>162.000000</td>\n",
       "      <td>3.880000</td>\n",
       "      <td>5.080000</td>\n",
       "      <td>0.660000</td>\n",
       "      <td>3.580000</td>\n",
       "      <td>13.000000</td>\n",
       "      <td>1.710000</td>\n",
       "      <td>4.000000</td>\n",
       "      <td>1680.000000</td>\n",
       "    </tr>\n",
       "  </tbody>\n",
       "</table>\n",
       "</div>\n",
       "      <button class=\"colab-df-convert\" onclick=\"convertToInteractive('df-7cf7de79-1a88-45e7-9053-9ea125b53244')\"\n",
       "              title=\"Convert this dataframe to an interactive table.\"\n",
       "              style=\"display:none;\">\n",
       "        \n",
       "  <svg xmlns=\"http://www.w3.org/2000/svg\" height=\"24px\"viewBox=\"0 0 24 24\"\n",
       "       width=\"24px\">\n",
       "    <path d=\"M0 0h24v24H0V0z\" fill=\"none\"/>\n",
       "    <path d=\"M18.56 5.44l.94 2.06.94-2.06 2.06-.94-2.06-.94-.94-2.06-.94 2.06-2.06.94zm-11 1L8.5 8.5l.94-2.06 2.06-.94-2.06-.94L8.5 2.5l-.94 2.06-2.06.94zm10 10l.94 2.06.94-2.06 2.06-.94-2.06-.94-.94-2.06-.94 2.06-2.06.94z\"/><path d=\"M17.41 7.96l-1.37-1.37c-.4-.4-.92-.59-1.43-.59-.52 0-1.04.2-1.43.59L10.3 9.45l-7.72 7.72c-.78.78-.78 2.05 0 2.83L4 21.41c.39.39.9.59 1.41.59.51 0 1.02-.2 1.41-.59l7.78-7.78 2.81-2.81c.8-.78.8-2.07 0-2.86zM5.41 20L4 18.59l7.72-7.72 1.47 1.35L5.41 20z\"/>\n",
       "  </svg>\n",
       "      </button>\n",
       "      \n",
       "  <style>\n",
       "    .colab-df-container {\n",
       "      display:flex;\n",
       "      flex-wrap:wrap;\n",
       "      gap: 12px;\n",
       "    }\n",
       "\n",
       "    .colab-df-convert {\n",
       "      background-color: #E8F0FE;\n",
       "      border: none;\n",
       "      border-radius: 50%;\n",
       "      cursor: pointer;\n",
       "      display: none;\n",
       "      fill: #1967D2;\n",
       "      height: 32px;\n",
       "      padding: 0 0 0 0;\n",
       "      width: 32px;\n",
       "    }\n",
       "\n",
       "    .colab-df-convert:hover {\n",
       "      background-color: #E2EBFA;\n",
       "      box-shadow: 0px 1px 2px rgba(60, 64, 67, 0.3), 0px 1px 3px 1px rgba(60, 64, 67, 0.15);\n",
       "      fill: #174EA6;\n",
       "    }\n",
       "\n",
       "    [theme=dark] .colab-df-convert {\n",
       "      background-color: #3B4455;\n",
       "      fill: #D2E3FC;\n",
       "    }\n",
       "\n",
       "    [theme=dark] .colab-df-convert:hover {\n",
       "      background-color: #434B5C;\n",
       "      box-shadow: 0px 1px 3px 1px rgba(0, 0, 0, 0.15);\n",
       "      filter: drop-shadow(0px 1px 2px rgba(0, 0, 0, 0.3));\n",
       "      fill: #FFFFFF;\n",
       "    }\n",
       "  </style>\n",
       "\n",
       "      <script>\n",
       "        const buttonEl =\n",
       "          document.querySelector('#df-7cf7de79-1a88-45e7-9053-9ea125b53244 button.colab-df-convert');\n",
       "        buttonEl.style.display =\n",
       "          google.colab.kernel.accessAllowed ? 'block' : 'none';\n",
       "\n",
       "        async function convertToInteractive(key) {\n",
       "          const element = document.querySelector('#df-7cf7de79-1a88-45e7-9053-9ea125b53244');\n",
       "          const dataTable =\n",
       "            await google.colab.kernel.invokeFunction('convertToInteractive',\n",
       "                                                     [key], {});\n",
       "          if (!dataTable) return;\n",
       "\n",
       "          const docLinkHtml = 'Like what you see? Visit the ' +\n",
       "            '<a target=\"_blank\" href=https://colab.research.google.com/notebooks/data_table.ipynb>data table notebook</a>'\n",
       "            + ' to learn more about interactive tables.';\n",
       "          element.innerHTML = '';\n",
       "          dataTable['output_type'] = 'display_data';\n",
       "          await google.colab.output.renderOutput(dataTable, element);\n",
       "          const docLink = document.createElement('div');\n",
       "          docLink.innerHTML = docLinkHtml;\n",
       "          element.appendChild(docLink);\n",
       "        }\n",
       "      </script>\n",
       "    </div>\n",
       "  </div>\n",
       "  "
      ],
      "text/plain": [
       "          alcohol  malic_acid         ash  alcalinity_of_ash   magnesium  \\\n",
       "count  178.000000  178.000000  178.000000         178.000000  178.000000   \n",
       "mean    13.000618    2.336348    2.366517          19.494944   99.741573   \n",
       "std      0.811827    1.117146    0.274344           3.339564   14.282484   \n",
       "min     11.030000    0.740000    1.360000          10.600000   70.000000   \n",
       "25%     12.362500    1.602500    2.210000          17.200000   88.000000   \n",
       "50%     13.050000    1.865000    2.360000          19.500000   98.000000   \n",
       "75%     13.677500    3.082500    2.557500          21.500000  107.000000   \n",
       "max     14.830000    5.800000    3.230000          30.000000  162.000000   \n",
       "\n",
       "       total_phenols  flavanoids  nonflavanoid_phenols  proanthocyanins  \\\n",
       "count     178.000000  178.000000            178.000000       178.000000   \n",
       "mean        2.295112    2.029270              0.361854         1.590899   \n",
       "std         0.625851    0.998859              0.124453         0.572359   \n",
       "min         0.980000    0.340000              0.130000         0.410000   \n",
       "25%         1.742500    1.205000              0.270000         1.250000   \n",
       "50%         2.355000    2.135000              0.340000         1.555000   \n",
       "75%         2.800000    2.875000              0.437500         1.950000   \n",
       "max         3.880000    5.080000              0.660000         3.580000   \n",
       "\n",
       "       color_intensity         hue  od280/od315_of_diluted_wines      proline  \n",
       "count       178.000000  178.000000                    178.000000   178.000000  \n",
       "mean          5.058090    0.957449                      2.611685   746.893258  \n",
       "std           2.318286    0.228572                      0.709990   314.907474  \n",
       "min           1.280000    0.480000                      1.270000   278.000000  \n",
       "25%           3.220000    0.782500                      1.937500   500.500000  \n",
       "50%           4.690000    0.965000                      2.780000   673.500000  \n",
       "75%           6.200000    1.120000                      3.170000   985.000000  \n",
       "max          13.000000    1.710000                      4.000000  1680.000000  "
      ]
     },
     "execution_count": 2,
     "metadata": {},
     "output_type": "execute_result"
    }
   ],
   "source": [
    "df.describe()"
   ]
  },
  {
   "cell_type": "markdown",
   "metadata": {
    "id": "Zo15oL9jf6_7"
   },
   "source": [
    "Câu 2: Huấn luyện thuật toán K-means để phân loại các loại rượu phù hợp. Sử dụng phương pháp Elbow để đưa ra số cụm phù hợp cho mô hình"
   ]
  },
  {
   "cell_type": "code",
   "execution_count": null,
   "metadata": {
    "id": "1-Bz1_gcbEJW"
   },
   "outputs": [],
   "source": [
    "from matplotlib import pyplot as plt\n",
    "from sklearn.cluster import KMeans"
   ]
  },
  {
   "cell_type": "code",
   "execution_count": null,
   "metadata": {
    "colab": {
     "base_uri": "https://localhost:8080/",
     "height": 293
    },
    "id": "e749ozYcf8nz",
    "outputId": "2b6ef902-3543-4bbd-b7e0-15b048c386e8"
   },
   "outputs": [
    {
     "data": {
      "text/plain": [
       "[<matplotlib.lines.Line2D at 0x7fe5233c5af0>]"
      ]
     },
     "execution_count": 4,
     "metadata": {},
     "output_type": "execute_result"
    },
    {
     "data": {
      "image/png": "[encoded data removed]",
      "text/plain": [
       "<Figure size 432x288 with 1 Axes>"
      ]
     },
     "metadata": {},
     "output_type": "display_data"
    }
   ],
   "source": [
    "k_options = range(1,10)\n",
    "\n",
    "y = []\n",
    "for k in k_options:\n",
    "  clusters = KMeans(n_clusters = k, n_init = 10)\n",
    "  clusters.fit(df)\n",
    "  y.append(clusters.inertia_)\n",
    "\n",
    "plt.plot(k_options, y, 'b-o')"
   ]
  },
  {
   "cell_type": "markdown",
   "metadata": {
    "id": "yz7CtoNn1fTe"
   },
   "source": [
    "Câu 3: Giảm chiều dữ liệu ở câu 1. Sử dụng một thuật toán thuộc Phân cụm phân cấp để phân loại các loại rượu. Sau đó visualize kết quả."
   ]
  },
  {
   "cell_type": "markdown",
   "metadata": {
    "id": "OdwwSmWhbUMV"
   },
   "source": [
    "Ma trận hiện tại có kích thước (n, 13) với n là số điểm, 13 chiều, giảm xuống còn 2 chiều để dễ visualize"
   ]
  },
  {
   "cell_type": "code",
   "execution_count": null,
   "metadata": {
    "id": "2wZy4mA22Egq"
   },
   "outputs": [],
   "source": [
    "from keras.layers import Input, Dense\n",
    "from keras.models import Model"
   ]
  },
  {
   "cell_type": "code",
   "execution_count": null,
   "metadata": {
    "colab": {
     "base_uri": "https://localhost:8080/"
    },
    "id": "vJdDbOmBbWq6",
    "outputId": "e879dfea-0083-4d21-fdcd-5256b200e721"
   },
   "outputs": [
    {
     "name": "stdout",
     "output_type": "stream",
     "text": [
      "6/6 [==============================] - 0s 3ms/step\n"
     ]
    },
    {
     "data": {
      "text/plain": [
       "(178, 2)"
      ]
     },
     "execution_count": 11,
     "metadata": {},
     "output_type": "execute_result"
    }
   ],
   "source": [
    "n_features = df.shape[1] #original number of features = 13\n",
    "encoded_features = 2\n",
    "input_dim = Input(shape = (n_features, ))\n",
    "\n",
    "# Encoder Layers: 2 layers, from 13 to 8 and from 8 to 2\n",
    "encoded1 = Dense(8, activation = 'relu')(input_dim)\n",
    "encoded2 = Dense(encoded_features, activation = 'relu')(encoded1)\n",
    "\n",
    "# Decoder Layers\n",
    "decoded1 = Dense(8, activation = 'relu')(encoded2)\n",
    "decoded2 = Dense(n_features, activation = 'relu')(decoded1)\n",
    "\n",
    "# Combine Encoder and Decoder Layers\n",
    "autoencoder = Model(inputs = input_dim, outputs = decoded2)\n",
    "\n",
    "# Compile the Model\n",
    "autoencoder.compile(optimizer = 'adadelta', loss = 'binary_crossentropy')\n",
    "\n",
    "encoder = Model(inputs = input_dim, outputs = encoded2)\n",
    "encoded_input = Input(shape = (encoded_features, ))\n",
    "\n",
    "encoded_X = encoder.predict(df)\n",
    "\n",
    "encoded_X.shape"
   ]
  },
  {
   "cell_type": "code",
   "execution_count": null,
   "metadata": {
    "id": "QuwfwJWsd9qR"
   },
   "outputs": [],
   "source": [
    "from sklearn.cluster import AgglomerativeClustering\n",
    "from matplotlib import pyplot as plt\n",
    "import scipy.cluster.hierarchy as shc"
   ]
  },
  {
   "cell_type": "code",
   "execution_count": null,
   "metadata": {
    "colab": {
     "base_uri": "https://localhost:8080/",
     "height": 283
    },
    "id": "qKBDe3fsf-uF",
    "outputId": "cf591d55-5c5c-408f-ec25-87a82b3bb9aa"
   },
   "outputs": [
    {
     "data": {
      "text/plain": [
       "<matplotlib.collections.PathCollection at 0x7fe4c35d5ca0>"
      ]
     },
     "execution_count": 14,
     "metadata": {},
     "output_type": "execute_result"
    },
    {
     "data": {
      "image/png": "[encoded data removed]",
      "text/plain": [
       "<Figure size 432x288 with 1 Axes>"
      ]
     },
     "metadata": {},
     "output_type": "display_data"
    }
   ],
   "source": [
    "plt.scatter(encoded_X[:,0], encoded_X[:,1])"
   ]
  },
  {
   "cell_type": "markdown",
   "metadata": {
    "id": "O0zI39sRgTCv"
   },
   "source": [
    "Nhìn hình có thể thấy chia tập dữ liệu thành 3, 4 hoặc 5 cụm đều được kết quả tốt."
   ]
  },
  {
   "cell_type": "code",
   "execution_count": null,
   "metadata": {
    "colab": {
     "base_uri": "https://localhost:8080/",
     "height": 459
    },
    "id": "oTo0jYzFgGes",
    "outputId": "5ac3e784-4ee1-4bfc-db74-7169b91e2a86"
   },
   "outputs": [
    {
     "data": {
      "text/plain": [
       "Text(0, 0.5, 'dissimilarity metric cluster')"
      ]
     },
     "execution_count": 17,
     "metadata": {},
     "output_type": "execute_result"
    },
    {
     "data": {
      "image/png": "[encoded data removed]",
      "text/plain": [
       "<Figure size 1440x504 with 1 Axes>"
      ]
     },
     "metadata": {},
     "output_type": "display_data"
    }
   ],
   "source": [
    "plt.figure(figsize=(20, 7))\n",
    "dend = shc.dendrogram(shc.linkage(encoded_X, method='ward'))\n",
    "plt.axhline(200, linestyle='--')\n",
    "plt.xlabel('sample indice')\n",
    "plt.ylabel('dissimilarity metric cluster')"
   ]
  },
  {
   "cell_type": "code",
   "execution_count": null,
   "metadata": {
    "id": "UbF1KsGagrMF"
   },
   "outputs": [],
   "source": [
    "cluster = AgglomerativeClustering(n_clusters=5, metric='euclidean', linkage='ward')\n",
    "labels = cluster.fit_predict(encoded_X)"
   ]
  },
  {
   "cell_type": "code",
   "execution_count": null,
   "metadata": {
    "colab": {
     "background_save": true
    },
    "id": "Mq6kuCaxhINj",
    "outputId": "96ee8c3e-76c3-4c97-8ecd-277d4b9060c9"
   },
   "outputs": [
    {
     "ename": "NameError",
     "evalue": "ignored",
     "output_type": "error",
     "traceback": [
      "\u001b[0;31m---------------------------------------------------------------------------\u001b[0m",
      "\u001b[0;31mNameError\u001b[0m                                 Traceback (most recent call last)",
      "\u001b[0;32m<ipython-input-20-b9f5b1db7da3>\u001b[0m in \u001b[0;36m<module>\u001b[0;34m\u001b[0m\n\u001b[1;32m     26\u001b[0m     \u001b[0mplt\u001b[0m\u001b[0;34m.\u001b[0m\u001b[0mtitle\u001b[0m\u001b[0;34m(\u001b[0m\u001b[0;34m't-sne visualization'\u001b[0m\u001b[0;34m)\u001b[0m\u001b[0;34m\u001b[0m\u001b[0;34m\u001b[0m\u001b[0m\n\u001b[1;32m     27\u001b[0m \u001b[0;34m\u001b[0m\u001b[0m\n\u001b[0;32m---> 28\u001b[0;31m \u001b[0m_plot_kmean_scatter\u001b[0m\u001b[0;34m(\u001b[0m\u001b[0mencoded_X\u001b[0m\u001b[0;34m,\u001b[0m \u001b[0mlabels\u001b[0m\u001b[0;34m)\u001b[0m\u001b[0;34m\u001b[0m\u001b[0;34m\u001b[0m\u001b[0m\n\u001b[0m",
      "\u001b[0;32m<ipython-input-20-b9f5b1db7da3>\u001b[0m in \u001b[0;36m_plot_kmean_scatter\u001b[0;34m(X, labels)\u001b[0m\n\u001b[1;32m      5\u001b[0m     '''\n\u001b[1;32m      6\u001b[0m     \u001b[0;31m# lựa chọn màu sắc\u001b[0m\u001b[0;34m\u001b[0m\u001b[0;34m\u001b[0m\u001b[0m\n\u001b[0;32m----> 7\u001b[0;31m     \u001b[0mnum_classes\u001b[0m \u001b[0;34m=\u001b[0m \u001b[0mlen\u001b[0m\u001b[0;34m(\u001b[0m\u001b[0mnp\u001b[0m\u001b[0;34m.\u001b[0m\u001b[0munique\u001b[0m\u001b[0;34m(\u001b[0m\u001b[0mlabels\u001b[0m\u001b[0;34m)\u001b[0m\u001b[0;34m)\u001b[0m\u001b[0;34m\u001b[0m\u001b[0;34m\u001b[0m\u001b[0m\n\u001b[0m\u001b[1;32m      8\u001b[0m     \u001b[0mpalette\u001b[0m \u001b[0;34m=\u001b[0m \u001b[0mnp\u001b[0m\u001b[0;34m.\u001b[0m\u001b[0marray\u001b[0m\u001b[0;34m(\u001b[0m\u001b[0msns\u001b[0m\u001b[0;34m.\u001b[0m\u001b[0mcolor_palette\u001b[0m\u001b[0;34m(\u001b[0m\u001b[0;34m\"hls\"\u001b[0m\u001b[0;34m,\u001b[0m \u001b[0mnum_classes\u001b[0m\u001b[0;34m)\u001b[0m\u001b[0;34m)\u001b[0m\u001b[0;34m\u001b[0m\u001b[0;34m\u001b[0m\u001b[0m\n\u001b[1;32m      9\u001b[0m \u001b[0;34m\u001b[0m\u001b[0m\n",
      "\u001b[0;31mNameError\u001b[0m: name 'np' is not defined"
     ]
    }
   ],
   "source": [
    "def _plot_kmean_scatter(X, labels):\n",
    "    '''\n",
    "    X: dữ liệu đầu vào\n",
    "    labels: nhãn dự báo\n",
    "    '''\n",
    "    # lựa chọn màu sắc\n",
    "    num_classes = len(np.unique(labels))\n",
    "    palette = np.array(sns.color_palette(\"hls\", num_classes))\n",
    "\n",
    "    # vẽ biểu đồ scatter\n",
    "    fig = plt.figure(figsize=(12, 8))\n",
    "    ax = plt.subplot()\n",
    "    sc = ax.scatter(X[:,0], X[:,1], lw=0, s=40, c=palette[labels.astype(np.int)])\n",
    "\n",
    "    # thêm nhãn cho mỗi cluster\n",
    "    txts = []\n",
    "\n",
    "    for i in range(num_classes):\n",
    "        # Vẽ text tên cụm tại trung vị của mỗi cụm\n",
    "        xtext, ytext = np.median(X[labels == i, :], axis=0)\n",
    "        txt = ax.text(xtext, ytext, str(i), fontsize=24)\n",
    "        txt.set_path_effects([\n",
    "            PathEffects.Stroke(linewidth=5, foreground=\"w\"),\n",
    "            PathEffects.Normal()])\n",
    "        txts.append(txt)\n",
    "    plt.title('t-sne visualization')\n",
    "\n",
    "_plot_kmean_scatter(X_s, labels)"
   ]
  }
 ],
 "metadata": {
  "colab": {
   "provenance": [],
   "toc_visible": true
  },
  "kernelspec": {
   "display_name": "Python 3",
   "language": "python",
   "name": "python3"
  },
  "language_info": {
   "codemirror_mode": {
    "name": "ipython",
    "version": 3
   },
   "file_extension": ".py",
   "mimetype": "text/x-python",
   "name": "python",
   "nbconvert_exporter": "python",
   "pygments_lexer": "ipython3",
   "version": "3.8.10"
  },
  "latex_envs": {
   "LaTeX_envs_menu_present": true,
   "autoclose": false,
   "autocomplete": true,
   "bibliofile": "biblio.bib",
   "cite_by": "apalike",
   "current_citInitial": 1,
   "eqLabelWithNumbers": true,
   "eqNumInitial": 1,
   "hotkeys": {
    "equation": "Ctrl-E",
    "itemize": "Ctrl-I"
   },
   "labels_anchors": false,
   "latex_user_defs": false,
   "report_style_numbering": false,
   "user_envs_cfg": false
  }
 },
 "nbformat": 4,
 "nbformat_minor": 1
}
