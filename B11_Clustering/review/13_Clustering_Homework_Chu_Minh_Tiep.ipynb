{
  "nbformat": 4,
  "nbformat_minor": 0,
  "metadata": {
    "colab": {
      "provenance": [],
      "toc_visible": true
    },
    "kernelspec": {
      "name": "python3",
      "display_name": "Python 3"
    },
    "language_info": {
      "name": "python"
    }
  },
  "cells": [
    {
      "cell_type": "code",
      "execution_count": null,
      "metadata": {
        "id": "xy4tCwGzXJi8"
      },
      "outputs": [],
      "source": []
    },
    {
      "cell_type": "markdown",
      "source": [
        "# I. Lý thuyết (5 điểm - 10 câu, mỗi câu 0.5 điểm)"
      ],
      "metadata": {
        "id": "AIWVhN6YXOcN"
      }
    },
    {
      "cell_type": "markdown",
      "source": [
        "Câu 1: Thuật toán K-means thuộc lớp bài toán nào?\n",
        "\n",
        "A. Supervised Learning \n",
        "\n",
        "B. Unsupervised Learning \n",
        "\n",
        "C. Semi-Supervised Learning \n",
        "\n",
        "D. Reinforcement Learning"
      ],
      "metadata": {
        "id": "Y6r17g4AXW3s"
      }
    },
    {
      "cell_type": "markdown",
      "source": [
        "Câu 2: Thuật toán K-means thuộc kiểu phân cụm nào?\n",
        "\n",
        "A. Partition Clustering \n",
        "\n",
        "B. Hierarchical Clustering \n",
        "\n",
        "C. Density-based Clustering\n",
        "\n",
        "D. All of the mentioned"
      ],
      "metadata": {
        "id": "1bu-4Ex3XXHE"
      }
    },
    {
      "cell_type": "markdown",
      "source": [
        "Câu 3: Ý nghĩa của biểu đồ dendrogram của thuật toán Hierarchical Clustering là gì?\n",
        "\n",
        "A. Thể hiện khoảng cách giữa các cụm.\n",
        "\n",
        "B. Thể hiện mối liên hệ phân cụm giữa các điểm dữ liệu trong tập huấn luyện.\n",
        "\n",
        "C. Là biểu đồ trực quan để lựa chọn số cụm dựa trên ngưỡng threshold về khoảng cách giữa các cụm.\n",
        "\n",
        "D. Cả 3 đáp án trên"
      ],
      "metadata": {
        "id": "swg6ekctXXJ8"
      }
    },
    {
      "cell_type": "markdown",
      "source": [
        "Câu 4: Điều nào sau đây được yêu cầu bởi thuật toán phân cụm K-means? \n",
        "\n",
        "A. Metric khoảng cách cần được xác định \n",
        "\n",
        "B. Số cụm \n",
        "\n",
        "C. Giá trị khởi tạo của tọa độ mỗi tâm cụm\n",
        "\n",
        "D. Cả 3 đáp án trên"
      ],
      "metadata": {
        "id": "AdihPGVZXXMk"
      }
    },
    {
      "cell_type": "markdown",
      "source": [
        "Câu 5: Đâu là khẳng định sai \n",
        "\n",
        "A. Thuật toán K-means sử dụng kỹ thuật Partitioning Clustering \n",
        "\n",
        "B. Thuật toán K-means phân bổ $n$ quan sát ban đầu về $k$ tâm cụm.\n",
        "\n",
        "C. Thuật oán K-means giống với thuật toán K-nearest neighbor vì chúng đều thuộc lớp bài toán học có giám sát.\n",
        "\n",
        "D. Cả 3 đáp án trên"
      ],
      "metadata": {
        "id": "tOsX8HouXXPE"
      }
    },
    {
      "cell_type": "markdown",
      "source": [
        "Câu 6: Theo chiến lược hợp nhất (`Agglomerative Hierarchical Clustering`), ở thời điểm ban đầu chúng ta có tổng cộng bao nhiêu cụm?\n",
        "\n",
        "A. 1 \n",
        "\n",
        "B. $n$ (với $n$ là tổng số quan sát)\n",
        "\n",
        "C. $k$ bất kỳ được xác định trước \n",
        "\n",
        "D. Không có đáp án nào trong các đáp án trên"
      ],
      "metadata": {
        "id": "ELbkTFu5XXRd"
      }
    },
    {
      "cell_type": "markdown",
      "source": [
        "Câu 7: Đâu là phương pháp được dùng để tìm ra số cụm tối ưu của thuật toán K-means\n",
        "\n",
        "A. Elbow Method \n",
        "\n",
        "B. Manhattan method\n",
        "\n",
        "C. Ecludian method\n",
        "\n",
        "D. All of the above"
      ],
      "metadata": {
        "id": "rFyPAFXAXXT8"
      }
    },
    {
      "cell_type": "markdown",
      "source": [
        "Câu 8: Thuật toán DBSCAN thuộc kiểu phân cụm nào?\n",
        "\n",
        "A. Partition Clustering \n",
        "\n",
        "B. Hierarchical Clustering \n",
        "\n",
        "C. Density-based Clustering\n",
        "\n",
        "D. All of the aformentioned"
      ],
      "metadata": {
        "id": "NOLPp6PTXXWk"
      }
    },
    {
      "cell_type": "markdown",
      "source": [
        "Câu 9: Đâu là nhược điểm của thuật toán K-means\n",
        "\n",
        "A. Chúng ta cần xác định số cụm trước cho thuật toán\n",
        "\n",
        "B. Kết quả phân cụm sẽ bị phụ thuộc vào điểm khởi tạo ban đầu của chúng.\n",
        "\n",
        "C. Thuật toán rất nhạy cảm với outliers\n",
        "\n",
        "D. All of the aformentioned"
      ],
      "metadata": {
        "id": "xM6L5NiZXXbH"
      }
    },
    {
      "cell_type": "markdown",
      "source": [
        "Câu 10: Thuật toán phân cụm phân cấp gồm những chiến lược nào?\n",
        "\n",
        "A. Chiến lược hợp nhất (agglomerative)\n",
        "\n",
        "B. Chiến lược phân chia (divisive)\n",
        "\n",
        "C. Cả hai đáp án trên \n",
        "\n",
        "D. Không có đáp án nào đúng. "
      ],
      "metadata": {
        "id": "rI94zS39XXg3"
      }
    },
    {
      "cell_type": "code",
      "source": [],
      "metadata": {
        "id": "-2nmZMKvXWHG"
      },
      "execution_count": null,
      "outputs": []
    },
    {
      "cell_type": "markdown",
      "source": [
        "# II. Thực hành (3 câu - 1đ - 2đ - 2đ)\n",
        "\n",
        "Câu 1: Sử dụng bộ dữ liệu [wine](https://scikit-learn.org/stable/modules/generated/sklearn.datasets.load_wine.html#sklearn.datasets.load_wine) từ `scikit-learn` thực hiện EDA. "
      ],
      "metadata": {
        "id": "Ffs3Sp1ifuYU"
      }
    },
    {
      "cell_type": "code",
      "source": [
        "from sklearn.datasets import load_wine\n",
        "data = load_wine()\n"
      ],
      "metadata": {
        "id": "ln-6T0i1fxST"
      },
      "execution_count": null,
      "outputs": []
    },
    {
      "cell_type": "code",
      "source": [
        "print(data.data.shape) \n",
        "print(data.feature_names) \n",
        "print(data.target_names) \n",
        "print(data.DESCR) \n"
      ],
      "metadata": {
        "colab": {
          "base_uri": "https://localhost:8080/"
        },
        "id": "w0gFNfFhkL_E",
        "outputId": "db2be6ad-57a2-493d-d554-3ab1c304c358"
      },
      "execution_count": null,
      "outputs": [
        {
          "output_type": "stream",
          "name": "stdout",
          "text": [
            "(178, 13)\n",
            "['alcohol', 'malic_acid', 'ash', 'alcalinity_of_ash', 'magnesium', 'total_phenols', 'flavanoids', 'nonflavanoid_phenols', 'proanthocyanins', 'color_intensity', 'hue', 'od280/od315_of_diluted_wines', 'proline']\n",
            "['class_0' 'class_1' 'class_2']\n",
            ".. _wine_dataset:\n",
            "\n",
            "Wine recognition dataset\n",
            "------------------------\n",
            "\n",
            "**Data Set Characteristics:**\n",
            "\n",
            "    :Number of Instances: 178\n",
            "    :Number of Attributes: 13 numeric, predictive attributes and the class\n",
            "    :Attribute Information:\n",
            " \t\t- Alcohol\n",
            " \t\t- Malic acid\n",
            " \t\t- Ash\n",
            "\t\t- Alcalinity of ash  \n",
            " \t\t- Magnesium\n",
            "\t\t- Total phenols\n",
            " \t\t- Flavanoids\n",
            " \t\t- Nonflavanoid phenols\n",
            " \t\t- Proanthocyanins\n",
            "\t\t- Color intensity\n",
            " \t\t- Hue\n",
            " \t\t- OD280/OD315 of diluted wines\n",
            " \t\t- Proline\n",
            "\n",
            "    - class:\n",
            "            - class_0\n",
            "            - class_1\n",
            "            - class_2\n",
            "\t\t\n",
            "    :Summary Statistics:\n",
            "    \n",
            "    ============================= ==== ===== ======= =====\n",
            "                                   Min   Max   Mean     SD\n",
            "    ============================= ==== ===== ======= =====\n",
            "    Alcohol:                      11.0  14.8    13.0   0.8\n",
            "    Malic Acid:                   0.74  5.80    2.34  1.12\n",
            "    Ash:                          1.36  3.23    2.36  0.27\n",
            "    Alcalinity of Ash:            10.6  30.0    19.5   3.3\n",
            "    Magnesium:                    70.0 162.0    99.7  14.3\n",
            "    Total Phenols:                0.98  3.88    2.29  0.63\n",
            "    Flavanoids:                   0.34  5.08    2.03  1.00\n",
            "    Nonflavanoid Phenols:         0.13  0.66    0.36  0.12\n",
            "    Proanthocyanins:              0.41  3.58    1.59  0.57\n",
            "    Colour Intensity:              1.3  13.0     5.1   2.3\n",
            "    Hue:                          0.48  1.71    0.96  0.23\n",
            "    OD280/OD315 of diluted wines: 1.27  4.00    2.61  0.71\n",
            "    Proline:                       278  1680     746   315\n",
            "    ============================= ==== ===== ======= =====\n",
            "\n",
            "    :Missing Attribute Values: None\n",
            "    :Class Distribution: class_0 (59), class_1 (71), class_2 (48)\n",
            "    :Creator: R.A. Fisher\n",
            "    :Donor: Michael Marshall (MARSHALL%PLU@io.arc.nasa.gov)\n",
            "    :Date: July, 1988\n",
            "\n",
            "This is a copy of UCI ML Wine recognition datasets.\n",
            "https://archive.ics.uci.edu/ml/machine-learning-databases/wine/wine.data\n",
            "\n",
            "The data is the results of a chemical analysis of wines grown in the same\n",
            "region in Italy by three different cultivators. There are thirteen different\n",
            "measurements taken for different constituents found in the three types of\n",
            "wine.\n",
            "\n",
            "Original Owners: \n",
            "\n",
            "Forina, M. et al, PARVUS - \n",
            "An Extendible Package for Data Exploration, Classification and Correlation. \n",
            "Institute of Pharmaceutical and Food Analysis and Technologies,\n",
            "Via Brigata Salerno, 16147 Genoa, Italy.\n",
            "\n",
            "Citation:\n",
            "\n",
            "Lichman, M. (2013). UCI Machine Learning Repository\n",
            "[https://archive.ics.uci.edu/ml]. Irvine, CA: University of California,\n",
            "School of Information and Computer Science. \n",
            "\n",
            ".. topic:: References\n",
            "\n",
            "  (1) S. Aeberhard, D. Coomans and O. de Vel, \n",
            "  Comparison of Classifiers in High Dimensional Settings, \n",
            "  Tech. Rep. no. 92-02, (1992), Dept. of Computer Science and Dept. of  \n",
            "  Mathematics and Statistics, James Cook University of North Queensland. \n",
            "  (Also submitted to Technometrics). \n",
            "\n",
            "  The data was used with many others for comparing various \n",
            "  classifiers. The classes are separable, though only RDA \n",
            "  has achieved 100% correct classification. \n",
            "  (RDA : 100%, QDA 99.4%, LDA 98.9%, 1NN 96.1% (z-transformed data)) \n",
            "  (All results using the leave-one-out technique) \n",
            "\n",
            "  (2) S. Aeberhard, D. Coomans and O. de Vel, \n",
            "  \"THE CLASSIFICATION PERFORMANCE OF RDA\" \n",
            "  Tech. Rep. no. 92-01, (1992), Dept. of Computer Science and Dept. of \n",
            "  Mathematics and Statistics, James Cook University of North Queensland. \n",
            "  (Also submitted to Journal of Chemometrics).\n",
            "\n"
          ]
        }
      ]
    },
    {
      "cell_type": "code",
      "source": [
        "import matplotlib.pyplot as plt\n",
        "\n",
        "plt.scatter(data.data[:,0], data.data[:,9], c=data.target)\n",
        "plt.xlabel('Alcohol')\n",
        "plt.ylabel('Color Intensity')\n",
        "plt.show()\n"
      ],
      "metadata": {
        "colab": {
          "base_uri": "https://localhost:8080/",
          "height": 279
        },
        "id": "-i2ScEWZkSga",
        "outputId": "98d6da1f-650f-4c30-ea80-c69603b0ceeb"
      },
      "execution_count": null,
      "outputs": [
        {
          "output_type": "display_data",
          "data": {
            "text/plain": [
              "<Figure size 432x288 with 1 Axes>"
            ],
            "image/png": "[encoded data removed]"
          },
          "metadata": {
            "needs_background": "light"
          }
        }
      ]
    },
    {
      "cell_type": "code",
      "source": [
        "import numpy as np\n",
        "\n",
        "print(\"Mean: \", np.mean(data.data, axis=0))\n",
        "print(\"Standard Deviation: \", np.std(data.data, axis=0))\n",
        "print(\"Minimum: \", np.min(data.data, axis=0))\n",
        "print(\"Maximum: \", np.max(data.data, axis=0))\n"
      ],
      "metadata": {
        "colab": {
          "base_uri": "https://localhost:8080/"
        },
        "id": "lDjARPRxkVDT",
        "outputId": "6a01b5df-b5bc-40c1-daf3-982cce8eae87"
      },
      "execution_count": null,
      "outputs": [
        {
          "output_type": "stream",
          "name": "stdout",
          "text": [
            "Mean:  [1.30006180e+01 2.33634831e+00 2.36651685e+00 1.94949438e+01\n",
            " 9.97415730e+01 2.29511236e+00 2.02926966e+00 3.61853933e-01\n",
            " 1.59089888e+00 5.05808988e+00 9.57449438e-01 2.61168539e+00\n",
            " 7.46893258e+02]\n",
            "Standard Deviation:  [8.09542915e-01 1.11400363e+00 2.73572294e-01 3.33016976e+00\n",
            " 1.42423077e+01 6.24090564e-01 9.96048950e-01 1.24103260e-01\n",
            " 5.70748849e-01 2.31176466e+00 2.27928607e-01 7.07993265e-01\n",
            " 3.14021657e+02]\n",
            "Minimum:  [1.103e+01 7.400e-01 1.360e+00 1.060e+01 7.000e+01 9.800e-01 3.400e-01\n",
            " 1.300e-01 4.100e-01 1.280e+00 4.800e-01 1.270e+00 2.780e+02]\n",
            "Maximum:  [1.483e+01 5.800e+00 3.230e+00 3.000e+01 1.620e+02 3.880e+00 5.080e+00\n",
            " 6.600e-01 3.580e+00 1.300e+01 1.710e+00 4.000e+00 1.680e+03]\n"
          ]
        }
      ]
    },
    {
      "cell_type": "markdown",
      "source": [
        "Câu 2: Huấn luyện thuật toán K-means để phân loại các loại rượu phù hợp. Sử dụng phương pháp Elbow để đưa ra số cụm phù hợp cho mô hình"
      ],
      "metadata": {
        "id": "Zo15oL9jf6_7"
      }
    },
    {
      "cell_type": "code",
      "source": [
        "from sklearn.cluster import KMeans\n",
        "model = KMeans()\n",
        "inertia_values = []"
      ],
      "metadata": {
        "id": "e749ozYcf8nz"
      },
      "execution_count": null,
      "outputs": []
    },
    {
      "cell_type": "code",
      "source": [
        "for k in range(1, 11):\n",
        "    model.set_params(n_clusters=k)\n",
        "    model.fit(data.data)\n",
        "    inertia_values.append(model.inertia_)"
      ],
      "metadata": {
        "colab": {
          "base_uri": "https://localhost:8080/"
        },
        "id": "zMHfDMMVktnR",
        "outputId": "86b53850-72d9-42be-b19b-aa4be8c06925"
      },
      "execution_count": null,
      "outputs": [
        {
          "output_type": "stream",
          "name": "stderr",
          "text": [
            "/usr/local/lib/python3.9/dist-packages/sklearn/cluster/_kmeans.py:870: FutureWarning: The default value of `n_init` will change from 10 to 'auto' in 1.4. Set the value of `n_init` explicitly to suppress the warning\n",
            "  warnings.warn(\n",
            "/usr/local/lib/python3.9/dist-packages/sklearn/cluster/_kmeans.py:870: FutureWarning: The default value of `n_init` will change from 10 to 'auto' in 1.4. Set the value of `n_init` explicitly to suppress the warning\n",
            "  warnings.warn(\n",
            "/usr/local/lib/python3.9/dist-packages/sklearn/cluster/_kmeans.py:870: FutureWarning: The default value of `n_init` will change from 10 to 'auto' in 1.4. Set the value of `n_init` explicitly to suppress the warning\n",
            "  warnings.warn(\n",
            "/usr/local/lib/python3.9/dist-packages/sklearn/cluster/_kmeans.py:870: FutureWarning: The default value of `n_init` will change from 10 to 'auto' in 1.4. Set the value of `n_init` explicitly to suppress the warning\n",
            "  warnings.warn(\n",
            "/usr/local/lib/python3.9/dist-packages/sklearn/cluster/_kmeans.py:870: FutureWarning: The default value of `n_init` will change from 10 to 'auto' in 1.4. Set the value of `n_init` explicitly to suppress the warning\n",
            "  warnings.warn(\n",
            "/usr/local/lib/python3.9/dist-packages/sklearn/cluster/_kmeans.py:870: FutureWarning: The default value of `n_init` will change from 10 to 'auto' in 1.4. Set the value of `n_init` explicitly to suppress the warning\n",
            "  warnings.warn(\n",
            "/usr/local/lib/python3.9/dist-packages/sklearn/cluster/_kmeans.py:870: FutureWarning: The default value of `n_init` will change from 10 to 'auto' in 1.4. Set the value of `n_init` explicitly to suppress the warning\n",
            "  warnings.warn(\n",
            "/usr/local/lib/python3.9/dist-packages/sklearn/cluster/_kmeans.py:870: FutureWarning: The default value of `n_init` will change from 10 to 'auto' in 1.4. Set the value of `n_init` explicitly to suppress the warning\n",
            "  warnings.warn(\n",
            "/usr/local/lib/python3.9/dist-packages/sklearn/cluster/_kmeans.py:870: FutureWarning: The default value of `n_init` will change from 10 to 'auto' in 1.4. Set the value of `n_init` explicitly to suppress the warning\n",
            "  warnings.warn(\n",
            "/usr/local/lib/python3.9/dist-packages/sklearn/cluster/_kmeans.py:870: FutureWarning: The default value of `n_init` will change from 10 to 'auto' in 1.4. Set the value of `n_init` explicitly to suppress the warning\n",
            "  warnings.warn(\n"
          ]
        }
      ]
    },
    {
      "cell_type": "code",
      "source": [
        "plt.plot(range(1, 11), inertia_values, marker='o')\n",
        "plt.xlabel('Number of clusters')\n",
        "plt.ylabel('Inertia')\n",
        "plt.title('Elbow Curve')\n",
        "plt.show()"
      ],
      "metadata": {
        "colab": {
          "base_uri": "https://localhost:8080/",
          "height": 295
        },
        "id": "n8B5zf5lk9vk",
        "outputId": "e317bef2-3560-4f76-af09-e95547dca3da"
      },
      "execution_count": null,
      "outputs": [
        {
          "output_type": "display_data",
          "data": {
            "text/plain": [
              "<Figure size 432x288 with 1 Axes>"
            ],
            "image/png": "[encoded data removed]"
          },
          "metadata": {
            "needs_background": "light"
          }
        }
      ]
    },
    {
      "cell_type": "markdown",
      "source": [
        "Câu 3: Giảm chiều dữ liệu ở câu 1. Sử dụng một thuật toán thuộc Phân cụm phân cấp để phân loại các loại rượu. Sau đó visualize kết quả."
      ],
      "metadata": {
        "id": "yz7CtoNn1fTe"
      }
    },
    {
      "cell_type": "code",
      "source": [
        "from sklearn.decomposition import PCA\n",
        "from sklearn.cluster import AgglomerativeClustering\n",
        "pca = PCA(n_components=2)\n",
        "data_reduced = pca.fit_transform(data.data)\n"
      ],
      "metadata": {
        "id": "2wZy4mA22Egq"
      },
      "execution_count": null,
      "outputs": []
    },
    {
      "cell_type": "code",
      "source": [
        "model = AgglomerativeClustering(n_clusters=3)"
      ],
      "metadata": {
        "id": "Si78S4M5nHZc"
      },
      "execution_count": null,
      "outputs": []
    },
    {
      "cell_type": "code",
      "source": [
        "model.fit(data_reduced)"
      ],
      "metadata": {
        "colab": {
          "base_uri": "https://localhost:8080/",
          "height": 75
        },
        "id": "HQummAu-nNm3",
        "outputId": "e9edefad-75bc-42f4-ccc7-048766b8b039"
      },
      "execution_count": null,
      "outputs": [
        {
          "output_type": "execute_result",
          "data": {
            "text/plain": [
              "AgglomerativeClustering(n_clusters=3)"
            ],
            "text/html": [
              "<style>#sk-container-id-1 {color: black;background-color: white;}#sk-container-id-1 pre{padding: 0;}#sk-container-id-1 div.sk-toggleable {background-color: white;}#sk-container-id-1 label.sk-toggleable__label {cursor: pointer;display: block;width: 100%;margin-bottom: 0;padding: 0.3em;box-sizing: border-box;text-align: center;}#sk-container-id-1 label.sk-toggleable__label-arrow:before {content: \"▸\";float: left;margin-right: 0.25em;color: #696969;}#sk-container-id-1 label.sk-toggleable__label-arrow:hover:before {color: black;}#sk-container-id-1 div.sk-estimator:hover label.sk-toggleable__label-arrow:before {color: black;}#sk-container-id-1 div.sk-toggleable__content {max-height: 0;max-width: 0;overflow: hidden;text-align: left;background-color: #f0f8ff;}#sk-container-id-1 div.sk-toggleable__content pre {margin: 0.2em;color: black;border-radius: 0.25em;background-color: #f0f8ff;}#sk-container-id-1 input.sk-toggleable__control:checked~div.sk-toggleable__content {max-height: 200px;max-width: 100%;overflow: auto;}#sk-container-id-1 input.sk-toggleable__control:checked~label.sk-toggleable__label-arrow:before {content: \"▾\";}#sk-container-id-1 div.sk-estimator input.sk-toggleable__control:checked~label.sk-toggleable__label {background-color: #d4ebff;}#sk-container-id-1 div.sk-label input.sk-toggleable__control:checked~label.sk-toggleable__label {background-color: #d4ebff;}#sk-container-id-1 input.sk-hidden--visually {border: 0;clip: rect(1px 1px 1px 1px);clip: rect(1px, 1px, 1px, 1px);height: 1px;margin: -1px;overflow: hidden;padding: 0;position: absolute;width: 1px;}#sk-container-id-1 div.sk-estimator {font-family: monospace;background-color: #f0f8ff;border: 1px dotted black;border-radius: 0.25em;box-sizing: border-box;margin-bottom: 0.5em;}#sk-container-id-1 div.sk-estimator:hover {background-color: #d4ebff;}#sk-container-id-1 div.sk-parallel-item::after {content: \"\";width: 100%;border-bottom: 1px solid gray;flex-grow: 1;}#sk-container-id-1 div.sk-label:hover label.sk-toggleable__label {background-color: #d4ebff;}#sk-container-id-1 div.sk-serial::before {content: \"\";position: absolute;border-left: 1px solid gray;box-sizing: border-box;top: 0;bottom: 0;left: 50%;z-index: 0;}#sk-container-id-1 div.sk-serial {display: flex;flex-direction: column;align-items: center;background-color: white;padding-right: 0.2em;padding-left: 0.2em;position: relative;}#sk-container-id-1 div.sk-item {position: relative;z-index: 1;}#sk-container-id-1 div.sk-parallel {display: flex;align-items: stretch;justify-content: center;background-color: white;position: relative;}#sk-container-id-1 div.sk-item::before, #sk-container-id-1 div.sk-parallel-item::before {content: \"\";position: absolute;border-left: 1px solid gray;box-sizing: border-box;top: 0;bottom: 0;left: 50%;z-index: -1;}#sk-container-id-1 div.sk-parallel-item {display: flex;flex-direction: column;z-index: 1;position: relative;background-color: white;}#sk-container-id-1 div.sk-parallel-item:first-child::after {align-self: flex-end;width: 50%;}#sk-container-id-1 div.sk-parallel-item:last-child::after {align-self: flex-start;width: 50%;}#sk-container-id-1 div.sk-parallel-item:only-child::after {width: 0;}#sk-container-id-1 div.sk-dashed-wrapped {border: 1px dashed gray;margin: 0 0.4em 0.5em 0.4em;box-sizing: border-box;padding-bottom: 0.4em;background-color: white;}#sk-container-id-1 div.sk-label label {font-family: monospace;font-weight: bold;display: inline-block;line-height: 1.2em;}#sk-container-id-1 div.sk-label-container {text-align: center;}#sk-container-id-1 div.sk-container {/* jupyter's `normalize.less` sets `[hidden] { display: none; }` but bootstrap.min.css set `[hidden] { display: none !important; }` so we also need the `!important` here to be able to override the default hidden behavior on the sphinx rendered scikit-learn.org. See: https://github.com/scikit-learn/scikit-learn/issues/21755 */display: inline-block !important;position: relative;}#sk-container-id-1 div.sk-text-repr-fallback {display: none;}</style><div id=\"sk-container-id-1\" class=\"sk-top-container\"><div class=\"sk-text-repr-fallback\"><pre>AgglomerativeClustering(n_clusters=3)</pre><b>In a Jupyter environment, please rerun this cell to show the HTML representation or trust the notebook. <br />On GitHub, the HTML representation is unable to render, please try loading this page with nbviewer.org.</b></div><div class=\"sk-container\" hidden><div class=\"sk-item\"><div class=\"sk-estimator sk-toggleable\"><input class=\"sk-toggleable__control sk-hidden--visually\" id=\"sk-estimator-id-1\" type=\"checkbox\" checked><label for=\"sk-estimator-id-1\" class=\"sk-toggleable__label sk-toggleable__label-arrow\">AgglomerativeClustering</label><div class=\"sk-toggleable__content\"><pre>AgglomerativeClustering(n_clusters=3)</pre></div></div></div></div></div>"
            ]
          },
          "metadata": {},
          "execution_count": 13
        }
      ]
    },
    {
      "cell_type": "code",
      "source": [
        "plt.scatter(data_reduced[:, 0], data_reduced[:, 1], c=model.labels_)\n",
        "plt.xlabel('PCA Component 1')\n",
        "plt.ylabel('PCA Component 2')\n",
        "plt.title('Hierarchical Clustering')\n",
        "plt.show()"
      ],
      "metadata": {
        "colab": {
          "base_uri": "https://localhost:8080/",
          "height": 295
        },
        "id": "T9Rxm9p3nOmI",
        "outputId": "e3b56da0-635b-473c-aab8-e8ecd738cdcd"
      },
      "execution_count": null,
      "outputs": [
        {
          "output_type": "display_data",
          "data": {
            "text/plain": [
              "<Figure size 432x288 with 1 Axes>"
            ],
            "image/png": "[encoded data removed]"
          },
          "metadata": {
            "needs_background": "light"
          }
        }
      ]
    }
  ]
}