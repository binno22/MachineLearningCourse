{
 "cells": [
  {
   "cell_type": "markdown",
   "metadata": {
    "id": "KFUypJ-c-cED"
   },
   "source": [
    "# I. Lý thuyết (5 điểm)"
   ]
  },
  {
   "cell_type": "markdown",
   "metadata": {
    "id": "hkDGhWEj-lGA"
   },
   "source": [
    "1) Điểm khác biệt chính giữa mô hình `SVM hard margin` và `SVM soft margin` là gì ?\n",
    "\n",
    "(A). SVM hard margin không chấp nhận các điểm dữ liệu nằm trong vùng margin. SVM soft margin chấp nhận một số điểm được phép nằm trong vùng margin.\n",
    "\n",
    "B. SVM soft margin không chấp nhận các điểm dữ liệu nằm trong vùng margin. SVM hard margin chấp nhận một số điểm được phép nằm trong vùng margin.\n",
    "\n",
    "C. SVM hard margin có độ rộng đường biên rộng hơn SVM soft margin \n",
    "\n",
    "D. SVM soft margin có độ rộng đường biên rộng hơn SVM hard margin"
   ]
  },
  {
   "cell_type": "markdown",
   "metadata": {
    "id": "U8qf_ZwU_W6i"
   },
   "source": [
    "2) Trong thuật toán `SVM soft margin` thì khoảng cách mà một điểm được phép lấn chiếm vào trong vùng margin bằng bao nhiêu?\n",
    "\n",
    "(A). $\\xi_i = |b+\\mathbf{w}^{\\intercal}\\mathbf{x}_i-y_i|$\n",
    "\n",
    "B. $\\xi_i = b+\\mathbf{w}^{\\intercal}\\mathbf{x}_i-y_i$\n",
    "\n",
    "C. $\\xi_i = y_i(b+\\mathbf{w}^{\\intercal}\\mathbf{x}_i)-1$\n",
    "\n",
    "D. $\\xi_i = 1-y_i(b+\\mathbf{w}^{\\intercal}\\mathbf{x}_i)$"
   ]
  },
  {
   "cell_type": "markdown",
   "metadata": {
    "id": "ofrfo1mjCtVK"
   },
   "source": [
    "3) Hàm mất mát của `SVM soft margin` có đặc điểm như thế nào ?\n",
    "\n",
    "A. Là hàm mất mát nhằm tối ưu độ rộng đường biên.\n",
    "\n",
    "B. Là hàm mất mát nhằm tối ưu mức độ lấn chiếm của các điểm dữ liệu vào vùng margin.\n",
    "\n",
    "C. Là hàm mất mát nhằm tối ưu hai thành phần: Độ rộng đường biên và mức độ lấn chiếm của các điểm dữ liệu vào vùng margin.\n",
    "\n",
    "(D). Cả ba phương án trên. **Sai**"
   ]
  },
  {
   "cell_type": "markdown",
   "metadata": {
    "id": "S7ac7BsWChTi"
   },
   "source": [
    "4) Ý nghĩa của hàm feature mapping trong SVM là gì ?\n",
    "\n",
    "A. Là hàm biến đổi dữ liệu đầu vào $\\mathbf{x}$ sang không gian features mới thông qua một hàm $f(\\mathbf{x})$. Trong đó $f()$ có thể là `tractable` hoặc `intractable` form.\n",
    "\n",
    "B. Là hàm biến đổi dữ liệu đầu vào $\\mathbf{x}$ sang không gian features có số chiều nhỏ hơn.\n",
    "\n",
    "C. Là hàm biến đổi dữ liệu đầu vào $\\mathbf{x}$ sang không gian features có số chiều là vô hạn.\n",
    "\n",
    "(D). Là hàm biến đổi dữ liệu đầu vào $\\mathbf{x}$ sang không gian features thông qua một hàm $f(\\mathbf{x})$ dạng đa thức. **Sai**"
   ]
  },
  {
   "cell_type": "markdown",
   "metadata": {
    "id": "hFd6HxLQD6St"
   },
   "source": [
    "5) Ý nghĩa của hàm kernel function trong SVM là gì ?\n",
    "\n",
    "A. Là hàm mapping từ không gian véc tơ sang không gian hàm số.\n",
    "\n",
    "B. Là hàm mapping từ không gian véc tơ sang không gian số thực.\n",
    "\n",
    "C. Là hàm mapping từ không gian véc tơ sang không gian số phức.\n",
    "\n",
    "(D.) Là hàm mapping từ không gian của hai véc tơ sang không gian tích vô hướng giữa hai véc tơ (còn được gọi là không gian Hilbert)."
   ]
  },
  {
   "cell_type": "markdown",
   "metadata": {
    "id": "okMeR3KfDS62"
   },
   "source": [
    "6) Tại sao chúng ta có thể xác định được nhãn của một điểm ngay cả khi không thể xác định được phương trình của hàm feature mapping.\n",
    "\n",
    "A. Vì nhãn của một điểm dữ liệu có thể được xác định thông qua hàm loss function.\n",
    "\n",
    "(B) Vì nhãn của một điểm dữ liệu có thể được xác định thông qua hàm kernel function giữa điểm đó với các điểm thuộc tập support vectors.\n",
    "\n",
    "C. Vì nhãn của một điểm dữ liệu có thể được xác định thông qua phương trình đường biên.\n",
    "\n",
    "D. Cả ba đáp án trên."
   ]
  },
  {
   "cell_type": "markdown",
   "metadata": {
    "id": "bL3GSNvTD-5a"
   },
   "source": [
    "7) Hàm kernel function dạng `linear` function có dạng như thế nào ?\n",
    "\n",
    "A. $K(\\mathbf{x}_1, \\mathbf{x}_2) = \\text{tanh}(\\gamma \\mathbf{x}_1^{\\intercal}\\mathbf{x}_2+r)$\n",
    "\n",
    "(B). $K(\\mathbf{x}_1, \\mathbf{x}_2) = \\mathbf{x}_1^{\\intercal}\\mathbf{x}_2$\n",
    "\n",
    "C. $K(\\mathbf{x}_1, \\mathbf{x}_2) = \\exp({-\\gamma||\\mathbf{x}_1}-\\mathbf{x}_2||_2^2)$\n",
    "\n",
    "D. $K(\\mathbf{x}_1, \\mathbf{x}_2) = (\\gamma \\mathbf{x}_1^{\\intercal}\\mathbf{x}_2+r)^d$\n"
   ]
  },
  {
   "cell_type": "markdown",
   "metadata": {
    "id": "FRqijemVEWCG"
   },
   "source": [
    "8) Hàm kernel function dạng `poly` function có dạng như thế nào ?\n",
    "\n",
    "A. $K(\\mathbf{x}_1, \\mathbf{x}_2) = \\text{tanh}(\\gamma \\mathbf{x}_1^{\\intercal}\\mathbf{x}_2+r)$\n",
    "\n",
    "B. $K(\\mathbf{x}_1, \\mathbf{x}_2) = \\mathbf{x}_1^{\\intercal}\\mathbf{x}_2$\n",
    "\n",
    "C. $K(\\mathbf{x}_1, \\mathbf{x}_2) = \\exp({-\\gamma||\\mathbf{x}_1}-\\mathbf{x}_2||_2^2)$\n",
    "\n",
    "(D). $K(\\mathbf{x}_1, \\mathbf{x}_2) = (\\gamma \\mathbf{x}_1^{\\intercal}\\mathbf{x}_2+r)^d$\n",
    "\n"
   ]
  },
  {
   "cell_type": "markdown",
   "metadata": {
    "id": "NJrtylrhEqzj"
   },
   "source": [
    "9) Hàm kernel function dạng `Gaussian rbf` function có dạng như thế nào ?\n",
    "\n",
    "A. $K(\\mathbf{x}_1, \\mathbf{x}_2) = \\text{tanh}(\\gamma \\mathbf{x}_1^{\\intercal}\\mathbf{x}_2+r)$\n",
    "\n",
    "B. $K(\\mathbf{x}_1, \\mathbf{x}_2) = \\mathbf{x}_1^{\\intercal}\\mathbf{x}_2$\n",
    "\n",
    "(C). $K(\\mathbf{x}_1, \\mathbf{x}_2) = \\exp({-\\gamma||\\mathbf{x}_1}-\\mathbf{x}_2||_2^2)$\n",
    "\n",
    "D. $K(\\mathbf{x}_1, \\mathbf{x}_2) = (\\gamma \\mathbf{x}_1^{\\intercal}\\mathbf{x}_2+r)^d$\n",
    "\n"
   ]
  },
  {
   "cell_type": "markdown",
   "metadata": {
    "id": "LXIKISsLFTHm"
   },
   "source": [
    "10) Hàm kernel function nào sẽ tương ứng với hàm feature mapping là một đa thức có bậc là vô hạn ?\n",
    "\n",
    "(A). Gaussian RBF\n",
    "\n",
    "B. Poly function\n",
    "\n",
    "C. Linear function\n",
    "\n",
    "D. Sigmoid function\n"
   ]
  },
  {
   "cell_type": "markdown",
   "metadata": {
    "id": "3x3IsOdF-gwN"
   },
   "source": [
    "# II. Thực hành (5 điểm)\n",
    "\n",
    "Từ bộ dữ liệu [income_classification](https://drive.google.com/drive/folders/13STuE4IF_gukgw57El-jfjIKg8uM6L7O?usp=sharing) hãy thực hiện huấn luyện và grid search mô hình trên tập train và đánh giá mô hình trên tập validation dựa trên thuật toán SVM. Biết rằng thông tin về bộ dữ liệu tham khảo [Income classification](https://www.kaggle.com/competitions/ml-hands-on-python-kaggle-01/data)."
   ]
  },
  {
   "cell_type": "code",
   "execution_count": null,
   "metadata": {
    "id": "vrw6OJ7aTugO"
   },
   "outputs": [],
   "source": [
    "from google.colab import drive\n",
    "import os\n",
    "\n",
    "drive.mount('/content/drive')"
   ]
  },
  {
   "cell_type": "code",
   "execution_count": null,
   "metadata": {
    "id": "Atj9wFxZFGEO"
   },
   "outputs": [],
   "source": [
    "import pandas as pd\n",
    "from IPython.display import Markdown, display\n",
    "from sklearn.model_selection import train_test_split\n",
    "import matplotlib.pyplot as plt\n",
    "from sklearn.metrics import roc_curve, auc\n",
    "import numpy as np\n",
    "from sklearn import metrics\n",
    "import seaborn as sns\n",
    "from sklearn import svm\n",
    "from sklearn import tree\n",
    "from sklearn.model_selection import cross_val_score\n",
    "\n",
    "from sklearn.metrics import accuracy_score\n",
    "from sklearn.metrics import roc_curve, auc\n",
    "from sklearn.preprocessing import label_binarize\n",
    "\n",
    "\n",
    "from sklearn.model_selection import GridSearchCV"
   ]
  },
  {
   "cell_type": "code",
   "execution_count": null,
   "metadata": {
    "id": "dxUrM4R0Fx2r"
   },
   "outputs": [],
   "source": [
    "df_train=pd.read_csv('/content/drive/MyDrive/Colab Notebooks/income_classification/train.csv')\n",
    "df_test= pd.read_csv('/content/drive/MyDrive/Colab Notebooks/income_classification/test.csv')"
   ]
  },
  {
   "cell_type": "code",
   "execution_count": null,
   "metadata": {
    "id": "39AJ0w4bGXk7"
   },
   "outputs": [],
   "source": [
    "df_train.shape"
   ]
  },
  {
   "cell_type": "code",
   "execution_count": null,
   "metadata": {
    "id": "wleoRiQEGcVe"
   },
   "outputs": [],
   "source": [
    "df_train.head()"
   ]
  },
  {
   "cell_type": "code",
   "execution_count": null,
   "metadata": {
    "id": "4NbysOiCGiVR"
   },
   "outputs": [],
   "source": [
    "col_names = df_train.columns\n",
    "\n",
    "col_names"
   ]
  },
  {
   "cell_type": "code",
   "execution_count": null,
   "metadata": {
    "id": "OebaDeDuGqHW"
   },
   "outputs": [],
   "source": [
    "df_train.columns = df_train.columns.str.strip()"
   ]
  },
  {
   "cell_type": "code",
   "execution_count": null,
   "metadata": {
    "id": "eNpqEBGAGxN2"
   },
   "outputs": [],
   "source": [
    "df_train.columns"
   ]
  },
  {
   "cell_type": "code",
   "execution_count": null,
   "metadata": {
    "id": "6zcjxKwgHI5t"
   },
   "outputs": [],
   "source": [
    "df_train.info()"
   ]
  },
  {
   "cell_type": "code",
   "execution_count": null,
   "metadata": {
    "id": "AdiEvc_nHTiO"
   },
   "outputs": [],
   "source": [
    "df_train.replace({'?' : np.nan}, inplace=True)"
   ]
  },
  {
   "cell_type": "code",
   "execution_count": null,
   "metadata": {
    "id": "vU1GjSgGHs38"
   },
   "outputs": [],
   "source": [
    "df_train.isna().sum()"
   ]
  },
  {
   "cell_type": "code",
   "execution_count": null,
   "metadata": {
    "id": "i-FukBjGH_nF"
   },
   "outputs": [],
   "source": [
    "df_train[df_train['job'].isna()]"
   ]
  },
  {
   "cell_type": "code",
   "execution_count": null,
   "metadata": {
    "id": "dTs5KZWjIGU1"
   },
   "outputs": [],
   "source": [
    "df_train['job'].dropna().unique()"
   ]
  },
  {
   "cell_type": "code",
   "execution_count": null,
   "metadata": {
    "id": "CTvhPQJNIStN"
   },
   "outputs": [],
   "source": [
    "import random\n",
    "df_train['job'] = df_train['job'].apply(lambda x: random.choice(df_train['job'].dropna().unique()) if pd.isna(x) else x)\n",
    "df_train['work_type'] = df_train['work_type'].apply(lambda x: random.choice(df_train['work_type'].dropna().unique()) if pd.isna(x) else x)"
   ]
  },
  {
   "cell_type": "code",
   "execution_count": null,
   "metadata": {
    "id": "tnzyLQOdIdjK"
   },
   "outputs": [],
   "source": [
    "df_train['job'].value_counts()"
   ]
  },
  {
   "cell_type": "markdown",
   "metadata": {
    "id": "vr5Do0N2IqCY"
   },
   "source": [
    "df_train[['ethnicity', 'nationality']].value_counts().head(10)"
   ]
  },
  {
   "cell_type": "code",
   "execution_count": null,
   "metadata": {
    "id": "M0EJa8utLr1x"
   },
   "outputs": [],
   "source": [
    "df_train['nationality'].fillna('US', inplace= True)"
   ]
  },
  {
   "cell_type": "code",
   "execution_count": null,
   "metadata": {
    "id": "bTuWfEB9LvvP"
   },
   "outputs": [],
   "source": [
    "df_train.isna().sum()"
   ]
  },
  {
   "cell_type": "markdown",
   "metadata": {
    "id": "ftF0TuzSL2XY"
   },
   "source": [
    "file test\n"
   ]
  },
  {
   "cell_type": "code",
   "execution_count": null,
   "metadata": {
    "id": "-jlSvc7KL2GI"
   },
   "outputs": [],
   "source": [
    "df_test.replace({'?': np.nan}, inplace=True)"
   ]
  },
  {
   "cell_type": "code",
   "execution_count": null,
   "metadata": {
    "id": "f4eltt-dL9SO"
   },
   "outputs": [],
   "source": [
    "df_test['job'] = df_test['job'].apply(lambda x: random.choice(df_test['job'].dropna().unique()) if pd.isna(x) else x)\n",
    "df_test['work_type'] = df_test['work_type'].apply(lambda x: random.choice(df_test['work_type'].dropna().unique()) if pd.isna(x) else x)\n",
    "df_test['nationality'].fillna('US', inplace= True)"
   ]
  },
  {
   "cell_type": "code",
   "execution_count": null,
   "metadata": {
    "id": "yB50WPrhMFai"
   },
   "outputs": [],
   "source": [
    "df_test.isna().sum()"
   ]
  },
  {
   "cell_type": "code",
   "execution_count": null,
   "metadata": {
    "id": "b3L1IMCDMN2V"
   },
   "outputs": [],
   "source": [
    "target = df_train['target_income']\n",
    "data = df_train.drop(columns='target_income')"
   ]
  },
  {
   "cell_type": "code",
   "execution_count": null,
   "metadata": {
    "id": "hJ84FafYOPZd"
   },
   "outputs": [],
   "source": [
    "data.describe(include=[object])"
   ]
  },
  {
   "cell_type": "code",
   "execution_count": null,
   "metadata": {
    "id": "vHNdDHY4OXXD"
   },
   "outputs": [],
   "source": [
    "data[['total_education_yrs', 'education']].value_counts()"
   ]
  },
  {
   "cell_type": "code",
   "execution_count": null,
   "metadata": {
    "id": "AsBrQPc1OZZK"
   },
   "outputs": [],
   "source": [
    "data[['marital_state', 'status']].value_counts()"
   ]
  },
  {
   "cell_type": "code",
   "execution_count": null,
   "metadata": {
    "id": "ce38NkJEObux"
   },
   "outputs": [],
   "source": [
    "data.drop(columns=['education', 'marital_state', 'ethnicity'], inplace= True)\n",
    "df_test.drop(columns=['education', 'marital_state', 'ethnicity'], inplace= True)"
   ]
  },
  {
   "cell_type": "code",
   "execution_count": null,
   "metadata": {
    "id": "8oPtIgqBOvlk"
   },
   "outputs": [],
   "source": [
    "cate_cols = data.select_dtypes(include='object')\n",
    "name_cate_cols = cate_cols.columns\n",
    "name_cate_cols"
   ]
  },
  {
   "cell_type": "code",
   "execution_count": null,
   "metadata": {
    "id": "wR1LuFA8MwY9"
   },
   "outputs": [],
   "source": [
    "from sklearn.preprocessing import StandardScaler, OrdinalEncoder\n",
    "from sklearn.compose import ColumnTransformer\n",
    "from sklearn.model_selection import GridSearchCV\n",
    "#from sklearn.experimental import enable_hist_gradient_boosting\n",
    "from sklearn.svm import SVC\n",
    "from sklearn.pipeline import Pipeline"
   ]
  },
  {
   "cell_type": "code",
   "execution_count": null,
   "metadata": {
    "id": "4JBDqJqXMzrT"
   },
   "outputs": [],
   "source": [
    "from sklearn import set_config\n",
    "set_config(display=\"diagram\")"
   ]
  },
  {
   "cell_type": "markdown",
   "metadata": {
    "id": "f-21QrbNNEIo"
   },
   "source": [
    "pipeline"
   ]
  },
  {
   "cell_type": "code",
   "execution_count": null,
   "metadata": {
    "id": "EVBA-Op5M1dK"
   },
   "outputs": [],
   "source": [
    "preprocessor = ColumnTransformer([('cat_preprocess', OrdinalEncoder(), name_cate_cols)],\n",
    "                                remainder='passthrough', sparse_threshold=0)"
   ]
  },
  {
   "cell_type": "code",
   "execution_count": null,
   "metadata": {
    "id": "snEf31uDM8Z3"
   },
   "outputs": [],
   "source": [
    "data_encoded = preprocessor.fit_transform(data)"
   ]
  },
  {
   "cell_type": "code",
   "execution_count": null,
   "metadata": {
    "id": "wJZ4-pKuPPrs"
   },
   "outputs": [],
   "source": [
    "df_corr = pd.DataFrame(data_encoded, columns= data.columns)\n",
    "df_corr['target'] = target\n",
    "corr = df_corr.corr()\n",
    "corr.style.background_gradient(cmap='coolwarm')"
   ]
  },
  {
   "cell_type": "markdown",
   "metadata": {
    "id": "nMGXoELDPYvj"
   },
   "source": [
    "model\n"
   ]
  },
  {
   "cell_type": "code",
   "execution_count": null,
   "metadata": {
    "id": "ZgsbRHWvPRCz"
   },
   "outputs": [],
   "source": [
    "model = svm.SVC()\n",
    "model"
   ]
  },
  {
   "cell_type": "code",
   "execution_count": null,
   "metadata": {
    "id": "bQxjeIX3Pdkw"
   },
   "outputs": [],
   "source": [
    "for parameter in model.get_params():\n",
    "    print(parameter)"
   ]
  },
  {
   "cell_type": "code",
   "execution_count": null,
   "metadata": {
    "id": "19EXcRy3cJOk"
   },
   "outputs": [],
   "source": [
    "parameters = {\n",
    "            'kernel':['rbf', 'sigmoid'],\n",
    "            'C':[0.01, 1, 100],\n",
    "\n",
    "}\n",
    "\n",
    "result =GridSearchCV(model, parameters, cv= 2, n_jobs =2, scoring='accuracy',return_train_score=True)\n",
    "result.fit(data_encoded,target)"
   ]
  },
  {
   "cell_type": "code",
   "execution_count": null,
   "metadata": {
    "id": "elMpcPp9gCDW"
   },
   "outputs": [],
   "source": [
    "result.best_params_"
   ]
  },
  {
   "cell_type": "code",
   "execution_count": null,
   "metadata": {
    "id": "WsIOKMIlgOTg"
   },
   "outputs": [],
   "source": [
    "cv_results=pd.DataFrame(result.cv_results_)"
   ]
  },
  {
   "cell_type": "code",
   "execution_count": null,
   "metadata": {
    "id": "NHqvO7V5gVWu"
   },
   "outputs": [],
   "source": [
    "cv_results[['params', 'mean_test_score']]"
   ]
  }
 ],
 "metadata": {
  "accelerator": "GPU",
  "colab": {
   "private_outputs": true,
   "provenance": []
  },
  "gpuClass": "standard",
  "kernelspec": {
   "display_name": "Python 3",
   "language": "python",
   "name": "python3"
  },
  "language_info": {
   "codemirror_mode": {
    "name": "ipython",
    "version": 3
   },
   "file_extension": ".py",
   "mimetype": "text/x-python",
   "name": "python",
   "nbconvert_exporter": "python",
   "pygments_lexer": "ipython3",
   "version": "3.8.10"
  },
  "latex_envs": {
   "LaTeX_envs_menu_present": true,
   "autoclose": false,
   "autocomplete": true,
   "bibliofile": "biblio.bib",
   "cite_by": "apalike",
   "current_citInitial": 1,
   "eqLabelWithNumbers": true,
   "eqNumInitial": 1,
   "hotkeys": {
    "equation": "Ctrl-E",
    "itemize": "Ctrl-I"
   },
   "labels_anchors": false,
   "latex_user_defs": false,
   "report_style_numbering": false,
   "user_envs_cfg": false
  }
 },
 "nbformat": 4,
 "nbformat_minor": 1
}
