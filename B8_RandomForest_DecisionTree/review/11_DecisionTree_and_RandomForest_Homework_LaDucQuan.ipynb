{
 "cells": [
  {
   "cell_type": "markdown",
   "metadata": {
    "id": "fLg0oNYR78oz"
   },
   "source": [
    "# I. Lý thuyết (5đ - 10 câu, mỗi câu 0.5đ)"
   ]
  },
  {
   "cell_type": "markdown",
   "metadata": {
    "id": "b9SmBkpI8E8u"
   },
   "source": [
    "1) Thuật toán Decision Tree được sử dụng cho những lớp bài toán nào?\n",
    "\n",
    "A. Bài toán phân lớp (Classification)\n",
    "\n",
    "B. Bài toán hồi quy (Regression)\n",
    "\n",
    "C. Bài toán phân cụm (Clustering)\n",
    "\n",
    "D. A và B"
   ]
  },
  {
   "cell_type": "markdown",
   "metadata": {
    "id": "NQj9MzV1pMgI"
   },
   "source": [
    "Chọn đáp án D"
   ]
  },
  {
   "cell_type": "markdown",
   "metadata": {
    "id": "Zhgo5VEn8Fd2"
   },
   "source": [
    "2) Độ đo nào sau đây được dùng để so sánh về mức độ entropy trước và sau khi chia nhánh tại một node bởi một thuộc tính\n",
    "\n",
    "A. Information Gain \n",
    "\n",
    "B. Gini Index \n",
    "\n",
    "C. Entropy\n",
    "\n",
    "D. Cả 3 phương án trên"
   ]
  },
  {
   "cell_type": "markdown",
   "metadata": {
    "id": "ypNDObzrpVi7"
   },
   "source": [
    "Chọn đáp án D"
   ]
  },
  {
   "cell_type": "markdown",
   "metadata": {
    "id": "ixVn848X8Fum"
   },
   "source": [
    "3) Thuật toán Decision Tree có thể  sử dụng các độ đo nào sau đây để đánh giá chất lượng phân loại tại một node lá.\n",
    "\n",
    "A. Information Gain \n",
    "\n",
    "B. Gini Index \n",
    "\n",
    "C. Entropy\n",
    "\n",
    "D. B và C"
   ]
  },
  {
   "cell_type": "markdown",
   "metadata": {
    "id": "1ywe44K_qw1G"
   },
   "source": [
    "Chọn đáp án D"
   ]
  },
  {
   "cell_type": "markdown",
   "metadata": {
    "id": "K65vUrAF8F_v"
   },
   "source": [
    "4) Một bài toán phân loại với $C$ lớp có phân phối xác suất tại đầu ra là một véc tơ $\\mathbf{p} = [p_1, p_2, \\dots, p_C]$. Chỉ số Gini được sử dụng để đo lường chất lượng phân loại tại node lá:\n",
    "\n",
    "$$\\text{Gini} = 1-\\sum_{i=1}^{C} p_i^2$$\n",
    "\n",
    "Gía trị lớn nhất của chỉ số Gini có thể là bao nhiêu?\n",
    "\n",
    "A. 0.1 \n",
    "\n",
    "B. $1 - \\frac{1}{C}$ với C là số nhãn (label) của bài toán \n",
    "\n",
    "C. 0.5\n",
    "\n",
    "D. Không xác định được"
   ]
  },
  {
   "cell_type": "markdown",
   "metadata": {
    "id": "prrSgZRyq9V1"
   },
   "source": [
    "Chọn đáp án B"
   ]
  },
  {
   "cell_type": "markdown",
   "metadata": {
    "id": "6YvgNiMm8YMa"
   },
   "source": [
    "5) Chọn khẳng định đúng trong các khẳng định sau đây\n",
    "\n",
    "A. Thuật toán ID3 dùng cho các features có tính categorical. Thuật toán C4.5 dùng cho các feature có cả tính categorical và numeric.\n",
    "\n",
    "B. Cây quyết định trong thuật toán CART là cây nhị phân. \n",
    "\n",
    "C. Các thuật toán Decision Tree thường có xu hướng high variance và low bias. Do đó thường xảy ra hiện tượng overfitting.\n",
    "\n",
    "D. Tất cả các phương án trên."
   ]
  },
  {
   "cell_type": "markdown",
   "metadata": {
    "id": "xRZTVnQSyft2"
   },
   "source": [
    "Chọn đáp án D"
   ]
  },
  {
   "cell_type": "markdown",
   "metadata": {
    "id": "ClaVO85A8YPS"
   },
   "source": [
    "6) Phương pháp Ensemble Learning có nghĩa là gì?\n",
    "\n",
    "A. Sử dụng kết hợp kết quả dự báo từ nhiều models thành phần để dự báo cho một quan sát.\n",
    "\n",
    "B. Là phương pháp tạo tập dữ liệu con thông qua lấy mẫu lặp lại các quan sát thuộc tập mẫu tổng thể.\n",
    "\n",
    "C. Là phương pháp phân chia tập dữ liệu thành $k$ phần. Huấn luyện mô hình trên $k-1$ phần và đánh giá sai số trên phần còn lại.  \n",
    "\n",
    "D. Tất cả các phương án trên"
   ]
  },
  {
   "cell_type": "markdown",
   "metadata": {
    "id": "6DW91RygzYpX"
   },
   "source": [
    "Chọn đáp án A"
   ]
  },
  {
   "cell_type": "markdown",
   "metadata": {
    "id": "8aRIXiqc8YSK"
   },
   "source": [
    "7) Thuật toán Random Forest sử dụng những kỹ thuật nào?\n",
    "\n",
    "A. Ensemble Learning. \n",
    "\n",
    "B. Boostrapping.\n",
    "\n",
    "C. Bagging \n",
    "\n",
    "D. Tất cả các phương án trên"
   ]
  },
  {
   "cell_type": "markdown",
   "metadata": {
    "id": "ItejEhgszfwu"
   },
   "source": [
    "Chọn đáp án D"
   ]
  },
  {
   "cell_type": "markdown",
   "metadata": {
    "id": "pabOnZcg8YVH"
   },
   "source": [
    "8) Trong các khẳng định sau, khẳng định nào là sai?\n",
    "\n",
    "- 1. Random Forest là mô hình kết hợp từ nhiều mô hình Decision Tree. \n",
    "- 2. Đánh giá mô hình `Random Forest` theo `phương pháp Bagging` sẽ lựa chọn các mẫu nằm ngoài các tập huấn luyện con để thực hiện đánh giá.\n",
    "- 3. Một cây quyêt định (Decision Tree) trong Random Forest được huấn luyện trên toàn bộ các mẫu của tập training.\n",
    "- 4. Trong package scikit-learn, một cây quyêt định (Decision Tree) trong thuật toán `Random Forest` có thể giới hạn số lượng features đầu vào thông qua `max_features`\n",
    "- 5. Mức độ quan trọng của một biến đầu vào có thể được đánh giá thông qua mô hình `Random Forest` nhờ độ sâu trung bình trên toàn bộ cây quyết định con.\n",
    "\n",
    "A. 1 \n",
    "\n",
    "B. 2\n",
    "\n",
    "C. 3\n",
    "\n",
    "D. 4 và 5"
   ]
  },
  {
   "cell_type": "markdown",
   "metadata": {
    "id": "KHyZhMUWzr3Q"
   },
   "source": [
    "Chọn đáp án C"
   ]
  },
  {
   "cell_type": "markdown",
   "metadata": {
    "id": "-xfw_WIx8YXr"
   },
   "source": [
    "9) Đâu là khẳng định đúng?\n",
    "\n",
    "A. Kết quả dự báo từ phương pháp Ensemble Learning thường có tính chất `low variance` và `low bias`.\n",
    "\n",
    "B. Điểm khác biệt giữa mô hình Random Forest và mô hình Decision Tree đó chính là Ensemble Learning và và Boostrapping.  \n",
    "\n",
    "C. Trong class RandomForestClassifier của package scikit-learn thì chi phí huấn luyện của mô hình Random Forest càng lớn nếu như số lượng `n_estimators` càng lớn.\n",
    "\n",
    "D. Cả ba đáp án trên."
   ]
  },
  {
   "cell_type": "markdown",
   "metadata": {
    "id": "HZ1CLFtmzw_D"
   },
   "source": [
    "Chọn đáp án D"
   ]
  },
  {
   "cell_type": "markdown",
   "metadata": {
    "id": "ALxl5SGX8Yaz"
   },
   "source": [
    "10. Tại một node của cây quyết định (Decision Tree) trong bài toán phân loại nhị phân có số lượng các quan sát nhãn 0 và 1 lần lượt là 4 và 6. Giá trị entropy tại node đó là \n",
    "\n",
    "A. $- 0.6 \\log(0.6) - 0.4 \\log(0.4)$\n",
    "\n",
    "B. $0.6 \\log(0.6) + 0.4 \\log(0.4)$\n",
    "\n",
    "C. $- 0.6 \\log(0.6) - (1 - 0.4) \\log(1 - 0.4)$\n",
    "\n",
    "D. $0.6 \\log(0.6) + (1 - 0.4) \\log(1 - 0.4)$"
   ]
  },
  {
   "cell_type": "markdown",
   "metadata": {
    "id": "XWgMDcIUz1uX"
   },
   "source": [
    "Chọn đáp án A"
   ]
  },
  {
   "cell_type": "markdown",
   "metadata": {
    "id": "xtMLDxGw8iq5"
   },
   "source": [
    "# II. Thực hành (5 câu, mỗi câu 1đ)"
   ]
  },
  {
   "cell_type": "markdown",
   "metadata": {
    "id": "97J6_hntV9i-"
   },
   "source": [
    "Cho bộ dữ liệu \n",
    "\n",
    "\n",
    "| Cap Color | Stalk Shape | Solitary | Edible |\n",
    "|:---------:|:-----------:|:--------:|:------:|\n",
    "|   Brown   |   Tapering  |    Yes   |    1   |\n",
    "|   Brown   |  Enlarging  |    Yes   |    1   |\n",
    "|   Brown   |  Enlarging  |    No    |    0   |\n",
    "|   Brown   |  Enlarging  |    No    |    0   |\n",
    "|   Brown   |   Tapering  |    Yes   |    1   |\n",
    "|    Red    |   Tapering  |    Yes   |    0   |\n",
    "|    Red    |  Enlarging  |    No    |    0   |\n",
    "|   Brown   |  Enlarging  |    Yes   |    1   |\n",
    "|    Red    |   Tapering  |    No    |    1   |\n",
    "|   Brown   |  Enlarging  |    No    |    0   |\n",
    "\n",
    "\n",
    "-  Có 10 quan sát về các loại nấm. Với mỗi loại \n",
    "    - Có 3 features\n",
    "        - Cap Color (`Brown` or `Red`) - Màu nắp nấm \n",
    "        - Stalk Shape (`Tapering` or `Enlarging`) - Hình dạng cây nhấm (thuôn gọn - Tapering hoặc mở rộng - Enlarging)\n",
    "        - Solitary (`Yes` or `No`) - Sinh sô đơn lẻ hay theo cụm\n",
    "    - Label\n",
    "        - Edible (`1` indicating yes or `0` indicating poisonous) - Dự đoán ăn được hay không?\n",
    "\n",
    "Một cách đơn giản, ta có thể dùng one-hot encoding để biểu diễn dữ liệu trên dưới dạng vector \n",
    "\n",
    "| Brown Cap | Tapering Stalk Shape | Solitary | Edible |\n",
    "|:---------:|:--------------------:|:--------:|:------:|\n",
    "|     1     |           1          |     1    |    1   |\n",
    "|     1     |           0          |     1    |    1   |\n",
    "|     1     |           0          |     0    |    0   |\n",
    "|     1     |           0          |     0    |    0   |\n",
    "|     1     |           1          |     1    |    1   |\n",
    "|     0     |           1          |     1    |    0   |\n",
    "|     0     |           0          |     0    |    0   |\n",
    "|     1     |           0          |     1    |    1   |\n",
    "|     0     |           1          |     0    |    1   |\n",
    "|     1     |           0          |     0    |    0   |\n",
    "\n",
    "\n",
    "Trong đó, \n",
    "- `X_train` contains three features for each example \n",
    "    - Brown Color (A value of `1` indicates \"Brown\" cap color and `0` indicates \"Red\" cap color)\n",
    "    - Tapering Shape (A value of `1` indicates \"Tapering Stalk Shape\" and `0` indicates \"Enlarging\" stalk shape)\n",
    "    - Solitary  (A value of `1` indicates \"Yes\" and `0` indicates \"No\")\n",
    "\n",
    "- `y_train` is whether the mushroom is edible \n",
    "    - `y = 1` indicates edible\n",
    "    - `y = 0` indicates poisonous\n",
    "\n"
   ]
  },
  {
   "cell_type": "code",
   "execution_count": 1,
   "metadata": {
    "id": "kd5BbT_M8nNY"
   },
   "outputs": [],
   "source": [
    "import numpy as np\n",
    "\n",
    "X_train = np.array(\n",
    "    [[1,1,1],\n",
    "     [1,0,1],\n",
    "     [1,0,0],\n",
    "     [1,0,0],\n",
    "     [1,1,1],\n",
    "     [0,1,1],\n",
    "     [0,0,0],\n",
    "     [1,0,1],\n",
    "     [0,1,0],\n",
    "     [1,0,0]]\n",
    ")\n",
    "\n",
    "y_train = np.array([1,1,0,0,1,0,0,1,1,0])"
   ]
  },
  {
   "cell_type": "markdown",
   "metadata": {
    "id": "npVngvOJazC5"
   },
   "source": [
    "1) Viết hàm tính entropy trong đó \n",
    "- Input: `y` là một `array` dạng véc tơ tần suất các nhãn 0, 1 tại node hiện tại.\n",
    "- Output: Giá trị entropy tương ứng với `y`"
   ]
  },
  {
   "cell_type": "code",
   "execution_count": 2,
   "metadata": {
    "id": "jCbac7jMazMl"
   },
   "outputs": [],
   "source": [
    "def compute_entropy(y):\n",
    "    \"\"\"\n",
    "    Computes the entropy for \n",
    "    \n",
    "    Args:\n",
    "       y (ndarray): Numpy array indicating whether each example at a node is\n",
    "           edible (`1`) or poisonous (`0`)\n",
    "       \n",
    "    Returns:\n",
    "        entropy (float): Entropy at that node\n",
    "        \n",
    "    \"\"\"\n",
    "    # You need to return the following variables correctly\n",
    "    entropy = 0.\n",
    "    num = len(y)\n",
    "    ### START CODE HERE ###\n",
    "    for p in np.unique(y):\n",
    "      cnt = len(y[y == p])/len(y)\n",
    "      element = cnt*np.log2(cnt)\n",
    "      entropy -= element\n",
    "    \n",
    "    ### END CODE HERE ###        \n",
    "    \n",
    "    return entropy"
   ]
  },
  {
   "cell_type": "code",
   "execution_count": 3,
   "metadata": {
    "colab": {
     "base_uri": "https://localhost:8080/"
    },
    "id": "RsfC8CT8buv-",
    "outputId": "a4d0dc4d-b10a-4bf1-a3d9-68fd6340fc30"
   },
   "outputs": [
    {
     "name": "stdout",
     "output_type": "stream",
     "text": [
      "Entropy at root node:  1.0\n"
     ]
    }
   ],
   "source": [
    "# Test \n",
    "# Compute entropy at the root node (i.e. with all examples)\n",
    "# Since we have 5 edible and 5 non-edible mushrooms, the entropy should be 1\"\n",
    "\n",
    "print(\"Entropy at root node: \", compute_entropy(y_train))"
   ]
  },
  {
   "cell_type": "markdown",
   "metadata": {
    "id": "xHLiExoITZS4"
   },
   "source": [
    "2) Tại một node chúng ta cần lựa chọn một feature để quyết định quan sát sẽ rơi vào nhánh True hoặc False. Giả sử nhánh True ở bên trái nhận giá trị 1 và nhánh False ở bên phải nhận giá trị 0. Viết hàm chia nhánh tại một node tương ứng với `feature` xác định trước.\n",
    "\n",
    "Trong đó:\n",
    "\n",
    "- Input:\n",
    "  - X: Ma trận đầu vào\n",
    "  - node_indices: list indices của các quan sát trước khi chia nhánh.\n",
    "  - feature: indice column của feature được lựa chọn để chia nhánh.\n",
    "- Output:\n",
    "  - left_indices: list indices của nhánh bên trái.\n",
    "  - right_indices: list indices của nhánh bên phải.\n"
   ]
  },
  {
   "cell_type": "code",
   "execution_count": 8,
   "metadata": {
    "id": "VQ5WmAiRTZax"
   },
   "outputs": [],
   "source": [
    "def split_dataset(X, node_indices, feature):\n",
    "    \"\"\"\n",
    "    Splits the data at the given node into\n",
    "    left and right branches\n",
    "    \n",
    "    Args:\n",
    "        X (ndarray):             Data matrix of shape(n_samples, n_features)\n",
    "        node_indices (list):     List containing the active indices. I.e, the samples being considered at this step.\n",
    "        feature (int):           Column Index of feature to split on\n",
    "    \n",
    "    Returns:\n",
    "        left_indices (list):     Indices with feature value == 1\n",
    "        right_indices (list):    Indices with feature value == 0\n",
    "    \"\"\"\n",
    "    \n",
    "    # You need to return the following variables correctly\n",
    "    left_indices = []\n",
    "    right_indices = []\n",
    "    \n",
    "    ### START CODE HERE ###\n",
    "    for i in node_indices:   \n",
    "        # write your code here\n",
    "        if (X[i][feature] == 1): \n",
    "          left_indices.append(i)\n",
    "        else:\n",
    "          right_indices.append(i)\n",
    "\n",
    "    ### END CODE HERE ###\n",
    "        \n",
    "    return left_indices, right_indices"
   ]
  },
  {
   "cell_type": "code",
   "execution_count": 10,
   "metadata": {
    "colab": {
     "base_uri": "https://localhost:8080/"
    },
    "id": "QlDVoUm4dSdr",
    "outputId": "5b8350c1-a5de-4bff-9998-b485aee505ea"
   },
   "outputs": [
    {
     "name": "stdout",
     "output_type": "stream",
     "text": [
      "Left indices:  [0, 1, 2, 3, 4, 7, 9]\n",
      "Right indices:  [5, 6, 8]\n"
     ]
    }
   ],
   "source": [
    "# Test\n",
    "root_indices = [0, 1, 2, 3, 4, 5, 6, 7, 8, 9]\n",
    "\n",
    "# Feel free to play around with these variables\n",
    "# The dataset only has three features, so this value can be 0 (Brown Cap), 1 (Tapering Stalk Shape) or 2 (Solitary)\n",
    "feature = 2 # Đúng nhưng không nên thay đổi feature dùng để check nhé!\n",
    "\n",
    "left_indices, right_indices = split_dataset(X_train, root_indices, feature)\n",
    "\n",
    "print(\"Left indices: \", left_indices)\n",
    "print(\"Right indices: \", right_indices)"
   ]
  },
  {
   "cell_type": "markdown",
   "metadata": {
    "id": "aQk1afHldXgr"
   },
   "source": [
    "**Expected Output**:\n",
    "```\n",
    "Left indices:  [0, 1, 2, 3, 4, 7, 9]\n",
    "Right indices:  [5, 6, 8]\n",
    "```"
   ]
  },
  {
   "cell_type": "markdown",
   "metadata": {
    "id": "sH1YLyMUTZlR"
   },
   "source": [
    "3) Viết hàm tính toán Information Gain tại mỗi node lá.\n",
    "\n",
    "Trong đó:\n",
    "\n",
    "- Input:\n",
    "  - X: Ma trận đầu vào.\n",
    "  - y: Biến mục tiêu.\n",
    "  - node_indices: list indices của các quan sát thuộc node hiện tại.\n",
    "  - feature: Column indice của feature được lựa chọn để rẽ nhánh. \n",
    "- Output:\n",
    "  - Giá trị Information Gain.\n"
   ]
  },
  {
   "cell_type": "code",
   "execution_count": null,
   "metadata": {
    "id": "MckTRvZeTZy8"
   },
   "outputs": [],
   "source": [
    "def compute_information_gain(X, y, node_indices, feature):\n",
    "    \n",
    "    \"\"\"\n",
    "    Compute the information of splitting the node on a given feature\n",
    "    \n",
    "    Args:\n",
    "        X (ndarray):            Data matrix of shape(n_samples, n_features)\n",
    "        y (array like):         list or ndarray with n_samples containing the target variable\n",
    "        node_indices (ndarray): List containing the active indices. I.e, the samples being considered in this step.\n",
    "        feature (int):          Column Index of feature to split on\n",
    "    Returns:\n",
    "        cost (float):        Cost computed\n",
    "    \n",
    "    \"\"\"    \n",
    "    # Split dataset\n",
    "    left_indices, right_indices = split_dataset(X, node_indices, feature)\n",
    "    \n",
    "    # Some useful variables\n",
    "    X_node, y_node = X[node_indices], y[node_indices]\n",
    "    X_left, y_left = X[left_indices], y[left_indices]\n",
    "    X_right, y_right = X[right_indices], y[right_indices]\n",
    "    \n",
    "    # You need to return the following variables correctly\n",
    "    information_gain = 0\n",
    "    \n",
    "    ### START CODE HERE ###\n",
    "    before_split = compute_entropy(y_node)\n",
    "    after_split = (len(left_indices) * compute_entropy(y_left) + len(right_indices) * compute_entropy(y_right)) / len(node_indices)\n",
    "    information_gain = before_split - after_split\n",
    "\n",
    "    ### END CODE HERE ###  \n",
    "    \n",
    "    return information_gain"
   ]
  },
  {
   "cell_type": "code",
   "execution_count": null,
   "metadata": {
    "colab": {
     "base_uri": "https://localhost:8080/"
    },
    "id": "x3C6Am_nd3HW",
    "outputId": "737a2a9e-9458-4764-c678-0c3e0e24f76e"
   },
   "outputs": [
    {
     "name": "stdout",
     "output_type": "stream",
     "text": [
      "Information Gain from splitting the root on brown cap:  0.034851554559677034\n",
      "Information Gain from splitting the root on tapering stalk shape:  0.12451124978365313\n",
      "Information Gain from splitting the root on solitary:  0.2780719051126377\n"
     ]
    }
   ],
   "source": [
    "info_gain0 = compute_information_gain(X_train, y_train, root_indices, feature=0)\n",
    "print(\"Information Gain from splitting the root on brown cap: \", info_gain0)\n",
    "\n",
    "info_gain1 = compute_information_gain(X_train, y_train, root_indices, feature=1)\n",
    "print(\"Information Gain from splitting the root on tapering stalk shape: \", info_gain1)\n",
    "\n",
    "info_gain2 = compute_information_gain(X_train, y_train, root_indices, feature=2)\n",
    "print(\"Information Gain from splitting the root on solitary: \", info_gain2)"
   ]
  },
  {
   "cell_type": "markdown",
   "metadata": {
    "id": "u_vFRes6eTXr"
   },
   "source": [
    "**Expected Output**:\n",
    "```\n",
    "Information Gain from splitting the root on brown cap:  0.034851554559677034\n",
    "Information Gain from splitting the root on tapering stalk shape:  0.12451124978365313\n",
    "Information Gain from splitting the root on solitary:  0.2780719051126377\n",
    "```"
   ]
  },
  {
   "cell_type": "markdown",
   "metadata": {
    "id": "XaW60xPdEGsk"
   },
   "source": [
    "**Mở rộng**: Để tạo cây quyết định thì bạn có thể tham khảo code bên dưới thông qua việc áp dụng các hàm `split_dataset()` và `compute_information_gain()` ở trên. Phần này không chấm điểm.\n"
   ]
  },
  {
   "cell_type": "code",
   "execution_count": null,
   "metadata": {
    "colab": {
     "base_uri": "https://localhost:8080/"
    },
    "id": "LrjQZRM-e6It",
    "outputId": "aa482ac4-8bca-4026-b0c2-80ccbc6b0c20"
   },
   "outputs": [
    {
     "name": "stdout",
     "output_type": "stream",
     "text": [
      " Depth 0, Root: Split on feature: 2\n",
      "- Depth 1, Left: Split on feature: 0\n",
      "  -- Left leaf node with indices [0, 1, 4, 7]\n",
      "  -- Right leaf node with indices [5]\n",
      "- Depth 1, Right: Split on feature: 1\n",
      "  -- Left leaf node with indices [8]\n",
      "  -- Right leaf node with indices [2, 3, 6, 9]\n"
     ]
    }
   ],
   "source": [
    "def get_best_split(X, y, node_indices):   \n",
    "    \"\"\"\n",
    "    Returns the optimal feature and threshold value\n",
    "    to split the node data \n",
    "    \n",
    "    Args:\n",
    "        X (ndarray):            Data matrix of shape(n_samples, n_features)\n",
    "        y (array like):         list or ndarray with n_samples containing the target variable\n",
    "        node_indices (ndarray): List containing the active indices. I.e, the samples being considered in this step.\n",
    "\n",
    "    Returns:\n",
    "        best_feature (int):     The index of the best feature to split\n",
    "    \"\"\"    \n",
    "    \n",
    "    # Some useful variables\n",
    "    num_features = X.shape[1]\n",
    "    \n",
    "    # You need to return the following variables correctly\n",
    "    best_feature = -1\n",
    "    \n",
    "    max_info_gain = 0\n",
    "    # Iterate through all features\n",
    "    for feature in range(num_features): \n",
    "\n",
    "       # Your code here to compute the information gain from splitting on this feature\n",
    "       info_gain = compute_information_gain(X, y, node_indices, feature)\n",
    "\n",
    "       # If the information gain is larger than the max seen so far\n",
    "       if info_gain > max_info_gain:  \n",
    "            max_info_gain = info_gain\n",
    "            best_feature = feature  \n",
    "   \n",
    "    return best_feature\n",
    "\n",
    "tree = []\n",
    "def build_tree_recursive(X, y, node_indices, branch_name, max_depth, current_depth):\n",
    "    \"\"\"\n",
    "    Build a tree using the recursive algorithm that split the dataset into 2 subgroups at each node.\n",
    "    This function just prints the tree.\n",
    "    \n",
    "    Args:\n",
    "        X (ndarray):            Data matrix of shape(n_samples, n_features)\n",
    "        y (array like):         list or ndarray with n_samples containing the target variable\n",
    "        node_indices (ndarray): List containing the active indices. I.e, the samples being considered in this step.\n",
    "        branch_name (string):   Name of the branch. ['Root', 'Left', 'Right']\n",
    "        max_depth (int):        Max depth of the resulting tree. \n",
    "        current_depth (int):    Current depth. Parameter used during recursive call.\n",
    "   \n",
    "    \"\"\" \n",
    "\n",
    "    # Maximum depth reached - stop splitting\n",
    "    if current_depth == max_depth:\n",
    "        formatting = \" \"*current_depth + \"-\"*current_depth\n",
    "        print(formatting, \"%s leaf node with indices\" % branch_name, node_indices)\n",
    "        return\n",
    "   \n",
    "    # Otherwise, get best split and split the data\n",
    "    # Get the best feature and threshold at this node\n",
    "    best_feature = get_best_split(X, y, node_indices) \n",
    "    \n",
    "    formatting = \"-\"*current_depth\n",
    "    print(\"%s Depth %d, %s: Split on feature: %d\" % (formatting, current_depth, branch_name, best_feature))\n",
    "    \n",
    "    # Split the dataset at the best feature\n",
    "    left_indices, right_indices = split_dataset(X, node_indices, best_feature)\n",
    "    tree.append((left_indices, right_indices, best_feature))\n",
    "    \n",
    "    # continue splitting the left and the right child. Increment current depth\n",
    "    build_tree_recursive(X, y, left_indices, \"Left\", max_depth, current_depth+1)\n",
    "    build_tree_recursive(X, y, right_indices, \"Right\", max_depth, current_depth+1)\n",
    "\n",
    "\n",
    "# Test function \n",
    "build_tree_recursive(X_train, y_train, root_indices, \"Root\", max_depth=2, current_depth=0)"
   ]
  },
  {
   "cell_type": "markdown",
   "metadata": {
    "id": "OqclGZo0Ta-S"
   },
   "source": [
    "4) Sử dụng dữ bộ dữ liệu `breast cancer` có sẵn trên `scikit-learn` để dự đoán khả năng ung thư  vú của một người. Sử dụng mô hình Decision Tree với các bước \n",
    "- Chia dữ liệu thành 2 tập là train và test\n",
    "- EDA \n",
    "- Xây dựng pipeline huấn luyện mô hình \n",
    "- Đánh giá kết quả trên tập test"
   ]
  },
  {
   "cell_type": "code",
   "execution_count": null,
   "metadata": {
    "colab": {
     "base_uri": "https://localhost:8080/"
    },
    "id": "5rzMw63rTbJh",
    "outputId": "8e2a4a16-113a-48ae-e3d8-cd51826da8fe"
   },
   "outputs": [
    {
     "data": {
      "text/plain": [
       "(array([[1.799e+01, 1.038e+01, 1.228e+02, 1.001e+03, 1.184e-01, 2.776e-01,\n",
       "         3.001e-01, 1.471e-01, 2.419e-01, 7.871e-02, 1.095e+00, 9.053e-01,\n",
       "         8.589e+00, 1.534e+02, 6.399e-03, 4.904e-02, 5.373e-02, 1.587e-02,\n",
       "         3.003e-02, 6.193e-03, 2.538e+01, 1.733e+01, 1.846e+02, 2.019e+03,\n",
       "         1.622e-01, 6.656e-01, 7.119e-01, 2.654e-01, 4.601e-01, 1.189e-01],\n",
       "        [2.057e+01, 1.777e+01, 1.329e+02, 1.326e+03, 8.474e-02, 7.864e-02,\n",
       "         8.690e-02, 7.017e-02, 1.812e-01, 5.667e-02, 5.435e-01, 7.339e-01,\n",
       "         3.398e+00, 7.408e+01, 5.225e-03, 1.308e-02, 1.860e-02, 1.340e-02,\n",
       "         1.389e-02, 3.532e-03, 2.499e+01, 2.341e+01, 1.588e+02, 1.956e+03,\n",
       "         1.238e-01, 1.866e-01, 2.416e-01, 1.860e-01, 2.750e-01, 8.902e-02],\n",
       "        [1.969e+01, 2.125e+01, 1.300e+02, 1.203e+03, 1.096e-01, 1.599e-01,\n",
       "         1.974e-01, 1.279e-01, 2.069e-01, 5.999e-02, 7.456e-01, 7.869e-01,\n",
       "         4.585e+00, 9.403e+01, 6.150e-03, 4.006e-02, 3.832e-02, 2.058e-02,\n",
       "         2.250e-02, 4.571e-03, 2.357e+01, 2.553e+01, 1.525e+02, 1.709e+03,\n",
       "         1.444e-01, 4.245e-01, 4.504e-01, 2.430e-01, 3.613e-01, 8.758e-02],\n",
       "        [1.142e+01, 2.038e+01, 7.758e+01, 3.861e+02, 1.425e-01, 2.839e-01,\n",
       "         2.414e-01, 1.052e-01, 2.597e-01, 9.744e-02, 4.956e-01, 1.156e+00,\n",
       "         3.445e+00, 2.723e+01, 9.110e-03, 7.458e-02, 5.661e-02, 1.867e-02,\n",
       "         5.963e-02, 9.208e-03, 1.491e+01, 2.650e+01, 9.887e+01, 5.677e+02,\n",
       "         2.098e-01, 8.663e-01, 6.869e-01, 2.575e-01, 6.638e-01, 1.730e-01],\n",
       "        [2.029e+01, 1.434e+01, 1.351e+02, 1.297e+03, 1.003e-01, 1.328e-01,\n",
       "         1.980e-01, 1.043e-01, 1.809e-01, 5.883e-02, 7.572e-01, 7.813e-01,\n",
       "         5.438e+00, 9.444e+01, 1.149e-02, 2.461e-02, 5.688e-02, 1.885e-02,\n",
       "         1.756e-02, 5.115e-03, 2.254e+01, 1.667e+01, 1.522e+02, 1.575e+03,\n",
       "         1.374e-01, 2.050e-01, 4.000e-01, 1.625e-01, 2.364e-01, 7.678e-02]]),\n",
       " array([0, 0, 0, 0, 0]))"
      ]
     },
     "execution_count": 9,
     "metadata": {},
     "output_type": "execute_result"
    }
   ],
   "source": [
    "from sklearn import datasets\n",
    "\n",
    "X, y = datasets.load_breast_cancer(return_X_y=True)\n",
    "X[:5], y[:5]"
   ]
  },
  {
   "cell_type": "markdown",
   "metadata": {
    "id": "3gO0_jFR_0e1"
   },
   "source": [
    "## 0. Import libraries"
   ]
  },
  {
   "cell_type": "code",
   "execution_count": null,
   "metadata": {
    "id": "zbI6fkSzaFNR"
   },
   "outputs": [],
   "source": [
    "import pandas as pd\n",
    "from sklearn.model_selection import train_test_split\n",
    "from sklearn.tree import DecisionTreeClassifier\n",
    "from sklearn.pipeline import Pipeline\n",
    "from sklearn.preprocessing import MinMaxScaler\n",
    "from sklearn.metrics import classification_report\n",
    "from sklearn.ensemble import RandomForestClassifier"
   ]
  },
  {
   "cell_type": "markdown",
   "metadata": {
    "id": "Ws_2M44f_6qJ"
   },
   "source": [
    "## 1. Train, test split"
   ]
  },
  {
   "cell_type": "code",
   "execution_count": null,
   "metadata": {
    "colab": {
     "base_uri": "https://localhost:8080/"
    },
    "id": "F6ghdNdCb59A",
    "outputId": "db470dd6-bd69-4f9c-e7cb-d74225aacabf"
   },
   "outputs": [
    {
     "name": "stdout",
     "output_type": "stream",
     "text": [
      "Train size\" (483, 30)\n",
      "Test size: (86, 30)\n"
     ]
    }
   ],
   "source": [
    "X_train, X_test, y_train, y_test = train_test_split(X, y, test_size = 0.15)\n",
    "\n",
    "print('Train size\" {}'.format(X_train.shape))\n",
    "print('Test size: {}'.format(X_test.shape))"
   ]
  },
  {
   "cell_type": "markdown",
   "metadata": {
    "id": "JWKMMXqGABnI"
   },
   "source": [
    "## 2. Quick EDA on train set\n"
   ]
  },
  {
   "cell_type": "code",
   "execution_count": null,
   "metadata": {
    "colab": {
     "base_uri": "https://localhost:8080/"
    },
    "id": "OSGpXNRwcdbC",
    "outputId": "96c2cac3-f7b3-4bd7-dca9-d21d3f51d105"
   },
   "outputs": [
    {
     "name": "stdout",
     "output_type": "stream",
     "text": [
      "{0: 178, 1: 305}\n"
     ]
    }
   ],
   "source": [
    "#Target variable distribution\n",
    "p = list(np.unique(y_train, return_counts=True))\n",
    "value_counts = {p[0][i]:p[1][i] for i in range(len(p[0]))}\n",
    "print(value_counts)"
   ]
  },
  {
   "cell_type": "markdown",
   "metadata": {
    "id": "3XKo_8x38i1C"
   },
   "source": [
    "Dữ liệu bị lệch với tỷ lệ true cao gần gấp đôi tỷ lệ false"
   ]
  },
  {
   "cell_type": "code",
   "execution_count": null,
   "metadata": {
    "colab": {
     "base_uri": "https://localhost:8080/",
     "height": 348
    },
    "id": "m0VBxOV6BGjC",
    "outputId": "a77309ef-6475-4504-d173-f906eedf3828"
   },
   "outputs": [
    {
     "data": {
      "text/html": [
       "\n",
       "  <div id=\"df-e217952d-b85a-4562-8f20-f9bcfe9df37e\">\n",
       "    <div class=\"colab-df-container\">\n",
       "      <div>\n",
       "<style scoped>\n",
       "    .dataframe tbody tr th:only-of-type {\n",
       "        vertical-align: middle;\n",
       "    }\n",
       "\n",
       "    .dataframe tbody tr th {\n",
       "        vertical-align: top;\n",
       "    }\n",
       "\n",
       "    .dataframe thead th {\n",
       "        text-align: right;\n",
       "    }\n",
       "</style>\n",
       "<table border=\"1\" class=\"dataframe\">\n",
       "  <thead>\n",
       "    <tr style=\"text-align: right;\">\n",
       "      <th>name</th>\n",
       "      <th>feature 0</th>\n",
       "      <th>feature 1</th>\n",
       "      <th>feature 2</th>\n",
       "      <th>feature 3</th>\n",
       "      <th>feature 4</th>\n",
       "      <th>feature 5</th>\n",
       "      <th>feature 6</th>\n",
       "      <th>feature 7</th>\n",
       "      <th>feature 8</th>\n",
       "      <th>feature 9</th>\n",
       "      <th>...</th>\n",
       "      <th>feature 20</th>\n",
       "      <th>feature 21</th>\n",
       "      <th>feature 22</th>\n",
       "      <th>feature 23</th>\n",
       "      <th>feature 24</th>\n",
       "      <th>feature 25</th>\n",
       "      <th>feature 26</th>\n",
       "      <th>feature 27</th>\n",
       "      <th>feature 28</th>\n",
       "      <th>feature 29</th>\n",
       "    </tr>\n",
       "  </thead>\n",
       "  <tbody>\n",
       "    <tr>\n",
       "      <th>mean</th>\n",
       "      <td>14.127292</td>\n",
       "      <td>19.289649</td>\n",
       "      <td>91.969033</td>\n",
       "      <td>654.889104</td>\n",
       "      <td>0.09636</td>\n",
       "      <td>0.104341</td>\n",
       "      <td>0.088799</td>\n",
       "      <td>0.048919</td>\n",
       "      <td>0.181162</td>\n",
       "      <td>0.062798</td>\n",
       "      <td>...</td>\n",
       "      <td>16.26919</td>\n",
       "      <td>25.677223</td>\n",
       "      <td>107.261213</td>\n",
       "      <td>880.583128</td>\n",
       "      <td>0.132369</td>\n",
       "      <td>0.254265</td>\n",
       "      <td>0.272188</td>\n",
       "      <td>0.114606</td>\n",
       "      <td>0.290076</td>\n",
       "      <td>0.083946</td>\n",
       "    </tr>\n",
       "    <tr>\n",
       "      <th>min</th>\n",
       "      <td>6.981000</td>\n",
       "      <td>9.710000</td>\n",
       "      <td>43.790000</td>\n",
       "      <td>143.500000</td>\n",
       "      <td>0.05263</td>\n",
       "      <td>0.019380</td>\n",
       "      <td>0.000000</td>\n",
       "      <td>0.000000</td>\n",
       "      <td>0.106000</td>\n",
       "      <td>0.049960</td>\n",
       "      <td>...</td>\n",
       "      <td>7.93000</td>\n",
       "      <td>12.020000</td>\n",
       "      <td>50.410000</td>\n",
       "      <td>185.200000</td>\n",
       "      <td>0.071170</td>\n",
       "      <td>0.027290</td>\n",
       "      <td>0.000000</td>\n",
       "      <td>0.000000</td>\n",
       "      <td>0.156500</td>\n",
       "      <td>0.055040</td>\n",
       "    </tr>\n",
       "    <tr>\n",
       "      <th>max</th>\n",
       "      <td>28.110000</td>\n",
       "      <td>39.280000</td>\n",
       "      <td>188.500000</td>\n",
       "      <td>2501.000000</td>\n",
       "      <td>0.16340</td>\n",
       "      <td>0.345400</td>\n",
       "      <td>0.426800</td>\n",
       "      <td>0.201200</td>\n",
       "      <td>0.304000</td>\n",
       "      <td>0.097440</td>\n",
       "      <td>...</td>\n",
       "      <td>36.04000</td>\n",
       "      <td>49.540000</td>\n",
       "      <td>251.200000</td>\n",
       "      <td>4254.000000</td>\n",
       "      <td>0.222600</td>\n",
       "      <td>1.058000</td>\n",
       "      <td>1.252000</td>\n",
       "      <td>0.291000</td>\n",
       "      <td>0.663800</td>\n",
       "      <td>0.207500</td>\n",
       "    </tr>\n",
       "    <tr>\n",
       "      <th>1st Q</th>\n",
       "      <td>11.700000</td>\n",
       "      <td>16.170000</td>\n",
       "      <td>75.170000</td>\n",
       "      <td>420.300000</td>\n",
       "      <td>0.08637</td>\n",
       "      <td>0.064920</td>\n",
       "      <td>0.029560</td>\n",
       "      <td>0.020310</td>\n",
       "      <td>0.161900</td>\n",
       "      <td>0.057700</td>\n",
       "      <td>...</td>\n",
       "      <td>13.01000</td>\n",
       "      <td>21.080000</td>\n",
       "      <td>84.110000</td>\n",
       "      <td>515.300000</td>\n",
       "      <td>0.116600</td>\n",
       "      <td>0.147200</td>\n",
       "      <td>0.114500</td>\n",
       "      <td>0.064930</td>\n",
       "      <td>0.250400</td>\n",
       "      <td>0.071460</td>\n",
       "    </tr>\n",
       "    <tr>\n",
       "      <th>median</th>\n",
       "      <td>13.370000</td>\n",
       "      <td>18.840000</td>\n",
       "      <td>86.240000</td>\n",
       "      <td>551.100000</td>\n",
       "      <td>0.09587</td>\n",
       "      <td>0.092630</td>\n",
       "      <td>0.061540</td>\n",
       "      <td>0.033500</td>\n",
       "      <td>0.179200</td>\n",
       "      <td>0.061540</td>\n",
       "      <td>...</td>\n",
       "      <td>14.97000</td>\n",
       "      <td>25.410000</td>\n",
       "      <td>97.660000</td>\n",
       "      <td>686.500000</td>\n",
       "      <td>0.131300</td>\n",
       "      <td>0.211900</td>\n",
       "      <td>0.226700</td>\n",
       "      <td>0.099930</td>\n",
       "      <td>0.282200</td>\n",
       "      <td>0.080040</td>\n",
       "    </tr>\n",
       "    <tr>\n",
       "      <th>3rd Q</th>\n",
       "      <td>15.780000</td>\n",
       "      <td>21.800000</td>\n",
       "      <td>104.100000</td>\n",
       "      <td>782.700000</td>\n",
       "      <td>0.10530</td>\n",
       "      <td>0.130400</td>\n",
       "      <td>0.130700</td>\n",
       "      <td>0.074000</td>\n",
       "      <td>0.195700</td>\n",
       "      <td>0.066120</td>\n",
       "      <td>...</td>\n",
       "      <td>18.79000</td>\n",
       "      <td>29.720000</td>\n",
       "      <td>125.400000</td>\n",
       "      <td>1084.000000</td>\n",
       "      <td>0.146000</td>\n",
       "      <td>0.339100</td>\n",
       "      <td>0.382900</td>\n",
       "      <td>0.161400</td>\n",
       "      <td>0.317900</td>\n",
       "      <td>0.092080</td>\n",
       "    </tr>\n",
       "  </tbody>\n",
       "</table>\n",
       "<p>6 rows × 30 columns</p>\n",
       "</div>\n",
       "      <button class=\"colab-df-convert\" onclick=\"convertToInteractive('df-e217952d-b85a-4562-8f20-f9bcfe9df37e')\"\n",
       "              title=\"Convert this dataframe to an interactive table.\"\n",
       "              style=\"display:none;\">\n",
       "        \n",
       "  <svg xmlns=\"http://www.w3.org/2000/svg\" height=\"24px\"viewBox=\"0 0 24 24\"\n",
       "       width=\"24px\">\n",
       "    <path d=\"M0 0h24v24H0V0z\" fill=\"none\"/>\n",
       "    <path d=\"M18.56 5.44l.94 2.06.94-2.06 2.06-.94-2.06-.94-.94-2.06-.94 2.06-2.06.94zm-11 1L8.5 8.5l.94-2.06 2.06-.94-2.06-.94L8.5 2.5l-.94 2.06-2.06.94zm10 10l.94 2.06.94-2.06 2.06-.94-2.06-.94-.94-2.06-.94 2.06-2.06.94z\"/><path d=\"M17.41 7.96l-1.37-1.37c-.4-.4-.92-.59-1.43-.59-.52 0-1.04.2-1.43.59L10.3 9.45l-7.72 7.72c-.78.78-.78 2.05 0 2.83L4 21.41c.39.39.9.59 1.41.59.51 0 1.02-.2 1.41-.59l7.78-7.78 2.81-2.81c.8-.78.8-2.07 0-2.86zM5.41 20L4 18.59l7.72-7.72 1.47 1.35L5.41 20z\"/>\n",
       "  </svg>\n",
       "      </button>\n",
       "      \n",
       "  <style>\n",
       "    .colab-df-container {\n",
       "      display:flex;\n",
       "      flex-wrap:wrap;\n",
       "      gap: 12px;\n",
       "    }\n",
       "\n",
       "    .colab-df-convert {\n",
       "      background-color: #E8F0FE;\n",
       "      border: none;\n",
       "      border-radius: 50%;\n",
       "      cursor: pointer;\n",
       "      display: none;\n",
       "      fill: #1967D2;\n",
       "      height: 32px;\n",
       "      padding: 0 0 0 0;\n",
       "      width: 32px;\n",
       "    }\n",
       "\n",
       "    .colab-df-convert:hover {\n",
       "      background-color: #E2EBFA;\n",
       "      box-shadow: 0px 1px 2px rgba(60, 64, 67, 0.3), 0px 1px 3px 1px rgba(60, 64, 67, 0.15);\n",
       "      fill: #174EA6;\n",
       "    }\n",
       "\n",
       "    [theme=dark] .colab-df-convert {\n",
       "      background-color: #3B4455;\n",
       "      fill: #D2E3FC;\n",
       "    }\n",
       "\n",
       "    [theme=dark] .colab-df-convert:hover {\n",
       "      background-color: #434B5C;\n",
       "      box-shadow: 0px 1px 3px 1px rgba(0, 0, 0, 0.15);\n",
       "      filter: drop-shadow(0px 1px 2px rgba(0, 0, 0, 0.3));\n",
       "      fill: #FFFFFF;\n",
       "    }\n",
       "  </style>\n",
       "\n",
       "      <script>\n",
       "        const buttonEl =\n",
       "          document.querySelector('#df-e217952d-b85a-4562-8f20-f9bcfe9df37e button.colab-df-convert');\n",
       "        buttonEl.style.display =\n",
       "          google.colab.kernel.accessAllowed ? 'block' : 'none';\n",
       "\n",
       "        async function convertToInteractive(key) {\n",
       "          const element = document.querySelector('#df-e217952d-b85a-4562-8f20-f9bcfe9df37e');\n",
       "          const dataTable =\n",
       "            await google.colab.kernel.invokeFunction('convertToInteractive',\n",
       "                                                     [key], {});\n",
       "          if (!dataTable) return;\n",
       "\n",
       "          const docLinkHtml = 'Like what you see? Visit the ' +\n",
       "            '<a target=\"_blank\" href=https://colab.research.google.com/notebooks/data_table.ipynb>data table notebook</a>'\n",
       "            + ' to learn more about interactive tables.';\n",
       "          element.innerHTML = '';\n",
       "          dataTable['output_type'] = 'display_data';\n",
       "          await google.colab.output.renderOutput(dataTable, element);\n",
       "          const docLink = document.createElement('div');\n",
       "          docLink.innerHTML = docLinkHtml;\n",
       "          element.appendChild(docLink);\n",
       "        }\n",
       "      </script>\n",
       "    </div>\n",
       "  </div>\n",
       "  "
      ],
      "text/plain": [
       "name    feature 0  feature 1   feature 2    feature 3  feature 4  feature 5  \\\n",
       "mean    14.127292  19.289649   91.969033   654.889104    0.09636   0.104341   \n",
       "min      6.981000   9.710000   43.790000   143.500000    0.05263   0.019380   \n",
       "max     28.110000  39.280000  188.500000  2501.000000    0.16340   0.345400   \n",
       "1st Q   11.700000  16.170000   75.170000   420.300000    0.08637   0.064920   \n",
       "median  13.370000  18.840000   86.240000   551.100000    0.09587   0.092630   \n",
       "3rd Q   15.780000  21.800000  104.100000   782.700000    0.10530   0.130400   \n",
       "\n",
       "name    feature 6  feature 7  feature 8  feature 9  ...  feature 20  \\\n",
       "mean     0.088799   0.048919   0.181162   0.062798  ...    16.26919   \n",
       "min      0.000000   0.000000   0.106000   0.049960  ...     7.93000   \n",
       "max      0.426800   0.201200   0.304000   0.097440  ...    36.04000   \n",
       "1st Q    0.029560   0.020310   0.161900   0.057700  ...    13.01000   \n",
       "median   0.061540   0.033500   0.179200   0.061540  ...    14.97000   \n",
       "3rd Q    0.130700   0.074000   0.195700   0.066120  ...    18.79000   \n",
       "\n",
       "name    feature 21  feature 22   feature 23  feature 24  feature 25  \\\n",
       "mean     25.677223  107.261213   880.583128    0.132369    0.254265   \n",
       "min      12.020000   50.410000   185.200000    0.071170    0.027290   \n",
       "max      49.540000  251.200000  4254.000000    0.222600    1.058000   \n",
       "1st Q    21.080000   84.110000   515.300000    0.116600    0.147200   \n",
       "median   25.410000   97.660000   686.500000    0.131300    0.211900   \n",
       "3rd Q    29.720000  125.400000  1084.000000    0.146000    0.339100   \n",
       "\n",
       "name    feature 26  feature 27  feature 28  feature 29  \n",
       "mean      0.272188    0.114606    0.290076    0.083946  \n",
       "min       0.000000    0.000000    0.156500    0.055040  \n",
       "max       1.252000    0.291000    0.663800    0.207500  \n",
       "1st Q     0.114500    0.064930    0.250400    0.071460  \n",
       "median    0.226700    0.099930    0.282200    0.080040  \n",
       "3rd Q     0.382900    0.161400    0.317900    0.092080  \n",
       "\n",
       "[6 rows x 30 columns]"
      ]
     },
     "execution_count": 25,
     "metadata": {},
     "output_type": "execute_result"
    }
   ],
   "source": [
    "#Feature variables distribution \n",
    "desc = {'name':[],'mean':[],'min':[],'max':[],'1st Q':[],'median':[],'3rd Q':[],'max':[]}\n",
    "p = X.shape[0]\n",
    "for i in range(X.shape[1]):\n",
    "  desc['name'].append('feature ' + str(i))\n",
    "  arr = sorted(X[:,i])\n",
    "  desc['mean'].append(np.mean(arr))\n",
    "  desc['min'].append(arr[0])\n",
    "  desc['1st Q'].append(arr[int(p/4)])\n",
    "  desc['median'].append(arr[int(p/2)])\n",
    "  desc['3rd Q'].append(arr[int(3*p/4)]) \n",
    "  desc['max'].append(arr[p-1]) \n",
    "pd.DataFrame(desc).set_index('name').T"
   ]
  },
  {
   "cell_type": "markdown",
   "metadata": {
    "id": "rKJVxBALNF_X"
   },
   "source": [
    "## 3. Pipeline to train the model "
   ]
  },
  {
   "cell_type": "code",
   "execution_count": null,
   "metadata": {
    "colab": {
     "base_uri": "https://localhost:8080/",
     "height": 92
    },
    "id": "WCCgoctG8m_B",
    "outputId": "0b8aad77-6b22-49bb-ae84-8e8b30b8c004"
   },
   "outputs": [
    {
     "data": {
      "text/html": [
       "<style>#sk-container-id-1 {color: black;background-color: white;}#sk-container-id-1 pre{padding: 0;}#sk-container-id-1 div.sk-toggleable {background-color: white;}#sk-container-id-1 label.sk-toggleable__label {cursor: pointer;display: block;width: 100%;margin-bottom: 0;padding: 0.3em;box-sizing: border-box;text-align: center;}#sk-container-id-1 label.sk-toggleable__label-arrow:before {content: \"▸\";float: left;margin-right: 0.25em;color: #696969;}#sk-container-id-1 label.sk-toggleable__label-arrow:hover:before {color: black;}#sk-container-id-1 div.sk-estimator:hover label.sk-toggleable__label-arrow:before {color: black;}#sk-container-id-1 div.sk-toggleable__content {max-height: 0;max-width: 0;overflow: hidden;text-align: left;background-color: #f0f8ff;}#sk-container-id-1 div.sk-toggleable__content pre {margin: 0.2em;color: black;border-radius: 0.25em;background-color: #f0f8ff;}#sk-container-id-1 input.sk-toggleable__control:checked~div.sk-toggleable__content {max-height: 200px;max-width: 100%;overflow: auto;}#sk-container-id-1 input.sk-toggleable__control:checked~label.sk-toggleable__label-arrow:before {content: \"▾\";}#sk-container-id-1 div.sk-estimator input.sk-toggleable__control:checked~label.sk-toggleable__label {background-color: #d4ebff;}#sk-container-id-1 div.sk-label input.sk-toggleable__control:checked~label.sk-toggleable__label {background-color: #d4ebff;}#sk-container-id-1 input.sk-hidden--visually {border: 0;clip: rect(1px 1px 1px 1px);clip: rect(1px, 1px, 1px, 1px);height: 1px;margin: -1px;overflow: hidden;padding: 0;position: absolute;width: 1px;}#sk-container-id-1 div.sk-estimator {font-family: monospace;background-color: #f0f8ff;border: 1px dotted black;border-radius: 0.25em;box-sizing: border-box;margin-bottom: 0.5em;}#sk-container-id-1 div.sk-estimator:hover {background-color: #d4ebff;}#sk-container-id-1 div.sk-parallel-item::after {content: \"\";width: 100%;border-bottom: 1px solid gray;flex-grow: 1;}#sk-container-id-1 div.sk-label:hover label.sk-toggleable__label {background-color: #d4ebff;}#sk-container-id-1 div.sk-serial::before {content: \"\";position: absolute;border-left: 1px solid gray;box-sizing: border-box;top: 0;bottom: 0;left: 50%;z-index: 0;}#sk-container-id-1 div.sk-serial {display: flex;flex-direction: column;align-items: center;background-color: white;padding-right: 0.2em;padding-left: 0.2em;position: relative;}#sk-container-id-1 div.sk-item {position: relative;z-index: 1;}#sk-container-id-1 div.sk-parallel {display: flex;align-items: stretch;justify-content: center;background-color: white;position: relative;}#sk-container-id-1 div.sk-item::before, #sk-container-id-1 div.sk-parallel-item::before {content: \"\";position: absolute;border-left: 1px solid gray;box-sizing: border-box;top: 0;bottom: 0;left: 50%;z-index: -1;}#sk-container-id-1 div.sk-parallel-item {display: flex;flex-direction: column;z-index: 1;position: relative;background-color: white;}#sk-container-id-1 div.sk-parallel-item:first-child::after {align-self: flex-end;width: 50%;}#sk-container-id-1 div.sk-parallel-item:last-child::after {align-self: flex-start;width: 50%;}#sk-container-id-1 div.sk-parallel-item:only-child::after {width: 0;}#sk-container-id-1 div.sk-dashed-wrapped {border: 1px dashed gray;margin: 0 0.4em 0.5em 0.4em;box-sizing: border-box;padding-bottom: 0.4em;background-color: white;}#sk-container-id-1 div.sk-label label {font-family: monospace;font-weight: bold;display: inline-block;line-height: 1.2em;}#sk-container-id-1 div.sk-label-container {text-align: center;}#sk-container-id-1 div.sk-container {/* jupyter's `normalize.less` sets `[hidden] { display: none; }` but bootstrap.min.css set `[hidden] { display: none !important; }` so we also need the `!important` here to be able to override the default hidden behavior on the sphinx rendered scikit-learn.org. See: https://github.com/scikit-learn/scikit-learn/issues/21755 */display: inline-block !important;position: relative;}#sk-container-id-1 div.sk-text-repr-fallback {display: none;}</style><div id=\"sk-container-id-1\" class=\"sk-top-container\"><div class=\"sk-text-repr-fallback\"><pre>Pipeline(steps=[(&#x27;model&#x27;, DecisionTreeClassifier(max_depth=5))])</pre><b>In a Jupyter environment, please rerun this cell to show the HTML representation or trust the notebook. <br />On GitHub, the HTML representation is unable to render, please try loading this page with nbviewer.org.</b></div><div class=\"sk-container\" hidden><div class=\"sk-item sk-dashed-wrapped\"><div class=\"sk-label-container\"><div class=\"sk-label sk-toggleable\"><input class=\"sk-toggleable__control sk-hidden--visually\" id=\"sk-estimator-id-1\" type=\"checkbox\" ><label for=\"sk-estimator-id-1\" class=\"sk-toggleable__label sk-toggleable__label-arrow\">Pipeline</label><div class=\"sk-toggleable__content\"><pre>Pipeline(steps=[(&#x27;model&#x27;, DecisionTreeClassifier(max_depth=5))])</pre></div></div></div><div class=\"sk-serial\"><div class=\"sk-item\"><div class=\"sk-estimator sk-toggleable\"><input class=\"sk-toggleable__control sk-hidden--visually\" id=\"sk-estimator-id-2\" type=\"checkbox\" ><label for=\"sk-estimator-id-2\" class=\"sk-toggleable__label sk-toggleable__label-arrow\">DecisionTreeClassifier</label><div class=\"sk-toggleable__content\"><pre>DecisionTreeClassifier(max_depth=5)</pre></div></div></div></div></div></div></div>"
      ],
      "text/plain": [
       "Pipeline(steps=[('model', DecisionTreeClassifier(max_depth=5))])"
      ]
     },
     "execution_count": 26,
     "metadata": {},
     "output_type": "execute_result"
    }
   ],
   "source": [
    "pipe = Pipeline(steps = [('model',DecisionTreeClassifier(criterion = 'gini', max_depth = 5))])\n",
    "\n",
    "pipe.fit(X_train, y_train)"
   ]
  },
  {
   "cell_type": "markdown",
   "metadata": {
    "id": "xrTuQazEN5Qf"
   },
   "source": [
    "## 4. Predict on the Test set"
   ]
  },
  {
   "cell_type": "code",
   "execution_count": null,
   "metadata": {
    "colab": {
     "base_uri": "https://localhost:8080/"
    },
    "id": "Oho5azqUN4mo",
    "outputId": "6af6dae5-a65a-4c10-a208-8fedc4ca26bc"
   },
   "outputs": [
    {
     "name": "stdout",
     "output_type": "stream",
     "text": [
      "              precision    recall  f1-score   support\n",
      "\n",
      "           0       0.88      0.97      0.92        31\n",
      "           1       0.98      0.93      0.95        55\n",
      "\n",
      "    accuracy                           0.94        86\n",
      "   macro avg       0.93      0.95      0.94        86\n",
      "weighted avg       0.95      0.94      0.94        86\n",
      "\n"
     ]
    }
   ],
   "source": [
    "y_hat = pipe.predict(X_test) \n",
    "print(classification_report(y_hat, y_test))"
   ]
  },
  {
   "cell_type": "markdown",
   "metadata": {
    "id": "GH2bWYjsTbRp"
   },
   "source": [
    "5) Thực hiện huấn luyện mô hình theo các bước tương tự như câu 4 trên mô hình Random Forest. Có nhận xét gì về kết quả của 2 mô hình (Decision Tree vs Random Forest)?"
   ]
  },
  {
   "cell_type": "code",
   "execution_count": null,
   "metadata": {
    "colab": {
     "base_uri": "https://localhost:8080/"
    },
    "id": "cK2-BLL7Tjc2",
    "outputId": "37bd2054-a55f-4ddb-c328-9457a31c87eb"
   },
   "outputs": [
    {
     "name": "stdout",
     "output_type": "stream",
     "text": [
      "              precision    recall  f1-score   support\n",
      "\n",
      "           0       0.97      0.97      0.97        34\n",
      "           1       0.98      0.98      0.98        52\n",
      "\n",
      "    accuracy                           0.98        86\n",
      "   macro avg       0.98      0.98      0.98        86\n",
      "weighted avg       0.98      0.98      0.98        86\n",
      "\n"
     ]
    }
   ],
   "source": [
    "forest = RandomForestClassifier(n_estimators = 50, criterion = 'gini', max_depth = 5)\n",
    "forest.fit(X_train, y_train)\n",
    "y_hat2 = forest.predict(X_test) \n",
    "print(classification_report(y_hat2, y_test))"
   ]
  },
  {
   "cell_type": "markdown",
   "metadata": {
    "id": "TyvR2ilLQQ38"
   },
   "source": [
    "Nhận xét về kết quả dự đoán của Random Forest so với Decision Tree:\n",
    "- Bộ dữ liệu nhỏ (~570 quan sát), Decision Tree có kết quả dự đoán tốt trong cả hai class 0 và 1 với F1-score cao \n",
    "- Random Forest, với cùng parameters như Decision Tree, với số lượng n_estimators nhỏ (< 40) cho kết quả dự đoán giống với Decision Tree đối với bộ dữ liệu này. Khi tăng n_estimators cao hơn thì kết quả dự đoán tốt hơn."
   ]
  }
 ],
 "metadata": {
  "colab": {
   "provenance": []
  },
  "kernelspec": {
   "display_name": "Python 3",
   "language": "python",
   "name": "python3"
  },
  "language_info": {
   "codemirror_mode": {
    "name": "ipython",
    "version": 3
   },
   "file_extension": ".py",
   "mimetype": "text/x-python",
   "name": "python",
   "nbconvert_exporter": "python",
   "pygments_lexer": "ipython3",
   "version": "3.8.10"
  },
  "latex_envs": {
   "LaTeX_envs_menu_present": true,
   "autoclose": false,
   "autocomplete": true,
   "bibliofile": "biblio.bib",
   "cite_by": "apalike",
   "current_citInitial": 1,
   "eqLabelWithNumbers": true,
   "eqNumInitial": 1,
   "hotkeys": {
    "equation": "Ctrl-E",
    "itemize": "Ctrl-I"
   },
   "labels_anchors": false,
   "latex_user_defs": false,
   "report_style_numbering": false,
   "user_envs_cfg": false
  }
 },
 "nbformat": 4,
 "nbformat_minor": 1
}
